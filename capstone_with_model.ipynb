{
  "nbformat": 4,
  "nbformat_minor": 0,
  "metadata": {
    "colab": {
      "name": "capstone_with_model.ipynb",
      "provenance": [],
      "collapsed_sections": [],
      "toc_visible": true
    },
    "kernelspec": {
      "display_name": "Python 3",
      "language": "python",
      "name": "python3"
    },
    "language_info": {
      "codemirror_mode": {
        "name": "ipython",
        "version": 3
      },
      "file_extension": ".py",
      "mimetype": "text/x-python",
      "name": "python",
      "nbconvert_exporter": "python",
      "pygments_lexer": "ipython3",
      "version": "3.8.5"
    }
  },
  "cells": [
    {
      "cell_type": "markdown",
      "metadata": {
        "id": "PJKFqTSdPKy5"
      },
      "source": [
        "\r\n",
        "##Problem Definition\r\n",
        " When a person want to sell or buy a house , facing an issue like without knowing the worth of house, house may be sold or bought underestpimate price or over price, to overcome the issue we analyse with availble feature and predict price. \"\r\n",
        " ## Objective\",\r\n",
        "  \"Build model which will predict the house price when required features passed to the model. So we will\"\r\n",
        "\r\n",
        "Find out the significant features from the given features dataset which affects the house price the most\r\n",
        "There are certain set of feature values given in the problem statement. The feature values are given below\r\n",
        "1. cid: a notation for a house \r\n",
        "2. dayhours: Date house was sold \r\n",
        "3. price: Price is prediction target \r\n",
        "4. room_bed: Number of Bedrooms/House\r\n",
        "5. room_bath: Number of bathrooms/bedrooms\r\n",
        "6. living_measure: square footage of the home \r\n",
        "7. lot_measure: quare footage of the lot\r\n",
        "8. ceil: Total floors (levels) in house\r\n",
        "9. coast: House which has a view to a waterfront \r\n",
        "10. sight: Has been viewed \r\n",
        "11. condition: How good the condition is (Overall) \r\n",
        "12. quality: grade given to the housing unit, based on grading system \r\n",
        "13. ceil_measure: square footage of house apart from basement \r\n",
        "14. basement_measure: square footage of the basement \r\n",
        "15. yr_built: Built Year \r\n",
        "16. yr_renovated: Year when house was renovated \r\n",
        "17. zipcode: zip \r\n",
        "18. lat: Latitude coordinate \r\n",
        "19. long: Longitude coordinate \r\n",
        "20. living_measure15: Living room area in 2015(implies-- some renovations) This might or might not have affected the lotsize area \r\n",
        "21. lot_measure15: lotSize area in 2015(implies-- some renovations) \r\n",
        "22. furnished: Based on the quality of room \r\n",
        "23. Total_area: Measure of both living and lot \r\n",
        "\r\n",
        "\r\n",
        "*The model is useful for the users/owners who want to see the flat. So according to the data provided we have to build the model to give the seller fair idea(not much not less) of the price to sell the flat.*\r\n"
      ]
    },
    {
      "cell_type": "code",
      "metadata": {
        "id": "LE4CydEfOo-r"
      },
      "source": [
        "import pandas as pd\r\n",
        "import numpy as np\r\n",
        "import seaborn as sns\r\n",
        "import matplotlib.pyplot as plt"
      ],
      "execution_count": null,
      "outputs": []
    },
    {
      "cell_type": "code",
      "metadata": {
        "id": "XxO_jnNu9SkA"
      },
      "source": [
        "data=pd.read_csv('innercity.csv')"
      ],
      "execution_count": null,
      "outputs": []
    },
    {
      "cell_type": "code",
      "metadata": {
        "colab": {
          "base_uri": "https://localhost:8080/",
          "height": 224
        },
        "id": "cO_oV-HuE8Qe",
        "outputId": "1ca09f3a-f815-4792-b4b0-fb6cad300c74"
      },
      "source": [
        "data.head(5)"
      ],
      "execution_count": null,
      "outputs": [
        {
          "output_type": "execute_result",
          "data": {
            "text/html": [
              "<div>\n",
              "<style scoped>\n",
              "    .dataframe tbody tr th:only-of-type {\n",
              "        vertical-align: middle;\n",
              "    }\n",
              "\n",
              "    .dataframe tbody tr th {\n",
              "        vertical-align: top;\n",
              "    }\n",
              "\n",
              "    .dataframe thead th {\n",
              "        text-align: right;\n",
              "    }\n",
              "</style>\n",
              "<table border=\"1\" class=\"dataframe\">\n",
              "  <thead>\n",
              "    <tr style=\"text-align: right;\">\n",
              "      <th></th>\n",
              "      <th>cid</th>\n",
              "      <th>dayhours</th>\n",
              "      <th>price</th>\n",
              "      <th>room_bed</th>\n",
              "      <th>room_bath</th>\n",
              "      <th>living_measure</th>\n",
              "      <th>lot_measure</th>\n",
              "      <th>ceil</th>\n",
              "      <th>coast</th>\n",
              "      <th>sight</th>\n",
              "      <th>condition</th>\n",
              "      <th>quality</th>\n",
              "      <th>ceil_measure</th>\n",
              "      <th>basement</th>\n",
              "      <th>yr_built</th>\n",
              "      <th>yr_renovated</th>\n",
              "      <th>zipcode</th>\n",
              "      <th>lat</th>\n",
              "      <th>long</th>\n",
              "      <th>living_measure15</th>\n",
              "      <th>lot_measure15</th>\n",
              "      <th>furnished</th>\n",
              "      <th>total_area</th>\n",
              "    </tr>\n",
              "  </thead>\n",
              "  <tbody>\n",
              "    <tr>\n",
              "      <th>0</th>\n",
              "      <td>3034200666</td>\n",
              "      <td>20141107T000000</td>\n",
              "      <td>808100</td>\n",
              "      <td>4</td>\n",
              "      <td>3.25</td>\n",
              "      <td>3020</td>\n",
              "      <td>13457</td>\n",
              "      <td>1.0</td>\n",
              "      <td>0</td>\n",
              "      <td>0</td>\n",
              "      <td>5</td>\n",
              "      <td>9</td>\n",
              "      <td>3020</td>\n",
              "      <td>0</td>\n",
              "      <td>1956</td>\n",
              "      <td>0</td>\n",
              "      <td>98133</td>\n",
              "      <td>47.7174</td>\n",
              "      <td>-122.336</td>\n",
              "      <td>2120</td>\n",
              "      <td>7553</td>\n",
              "      <td>1</td>\n",
              "      <td>16477</td>\n",
              "    </tr>\n",
              "    <tr>\n",
              "      <th>1</th>\n",
              "      <td>8731981640</td>\n",
              "      <td>20141204T000000</td>\n",
              "      <td>277500</td>\n",
              "      <td>4</td>\n",
              "      <td>2.50</td>\n",
              "      <td>2550</td>\n",
              "      <td>7500</td>\n",
              "      <td>1.0</td>\n",
              "      <td>0</td>\n",
              "      <td>0</td>\n",
              "      <td>3</td>\n",
              "      <td>8</td>\n",
              "      <td>1750</td>\n",
              "      <td>800</td>\n",
              "      <td>1976</td>\n",
              "      <td>0</td>\n",
              "      <td>98023</td>\n",
              "      <td>47.3165</td>\n",
              "      <td>-122.386</td>\n",
              "      <td>2260</td>\n",
              "      <td>8800</td>\n",
              "      <td>0</td>\n",
              "      <td>10050</td>\n",
              "    </tr>\n",
              "    <tr>\n",
              "      <th>2</th>\n",
              "      <td>5104530220</td>\n",
              "      <td>20150420T000000</td>\n",
              "      <td>404000</td>\n",
              "      <td>3</td>\n",
              "      <td>2.50</td>\n",
              "      <td>2370</td>\n",
              "      <td>4324</td>\n",
              "      <td>2.0</td>\n",
              "      <td>0</td>\n",
              "      <td>0</td>\n",
              "      <td>3</td>\n",
              "      <td>8</td>\n",
              "      <td>2370</td>\n",
              "      <td>0</td>\n",
              "      <td>2006</td>\n",
              "      <td>0</td>\n",
              "      <td>98038</td>\n",
              "      <td>47.3515</td>\n",
              "      <td>-121.999</td>\n",
              "      <td>2370</td>\n",
              "      <td>4348</td>\n",
              "      <td>0</td>\n",
              "      <td>6694</td>\n",
              "    </tr>\n",
              "    <tr>\n",
              "      <th>3</th>\n",
              "      <td>6145600285</td>\n",
              "      <td>20140529T000000</td>\n",
              "      <td>300000</td>\n",
              "      <td>2</td>\n",
              "      <td>1.00</td>\n",
              "      <td>820</td>\n",
              "      <td>3844</td>\n",
              "      <td>1.0</td>\n",
              "      <td>0</td>\n",
              "      <td>0</td>\n",
              "      <td>4</td>\n",
              "      <td>6</td>\n",
              "      <td>820</td>\n",
              "      <td>0</td>\n",
              "      <td>1916</td>\n",
              "      <td>0</td>\n",
              "      <td>98133</td>\n",
              "      <td>47.7049</td>\n",
              "      <td>-122.349</td>\n",
              "      <td>1520</td>\n",
              "      <td>3844</td>\n",
              "      <td>0</td>\n",
              "      <td>4664</td>\n",
              "    </tr>\n",
              "    <tr>\n",
              "      <th>4</th>\n",
              "      <td>8924100111</td>\n",
              "      <td>20150424T000000</td>\n",
              "      <td>699000</td>\n",
              "      <td>2</td>\n",
              "      <td>1.50</td>\n",
              "      <td>1400</td>\n",
              "      <td>4050</td>\n",
              "      <td>1.0</td>\n",
              "      <td>0</td>\n",
              "      <td>0</td>\n",
              "      <td>4</td>\n",
              "      <td>8</td>\n",
              "      <td>1400</td>\n",
              "      <td>0</td>\n",
              "      <td>1954</td>\n",
              "      <td>0</td>\n",
              "      <td>98115</td>\n",
              "      <td>47.6768</td>\n",
              "      <td>-122.269</td>\n",
              "      <td>1900</td>\n",
              "      <td>5940</td>\n",
              "      <td>0</td>\n",
              "      <td>5450</td>\n",
              "    </tr>\n",
              "  </tbody>\n",
              "</table>\n",
              "</div>"
            ],
            "text/plain": [
              "          cid         dayhours   price  ...  lot_measure15  furnished  total_area\n",
              "0  3034200666  20141107T000000  808100  ...           7553          1       16477\n",
              "1  8731981640  20141204T000000  277500  ...           8800          0       10050\n",
              "2  5104530220  20150420T000000  404000  ...           4348          0        6694\n",
              "3  6145600285  20140529T000000  300000  ...           3844          0        4664\n",
              "4  8924100111  20150424T000000  699000  ...           5940          0        5450\n",
              "\n",
              "[5 rows x 23 columns]"
            ]
          },
          "metadata": {
            "tags": []
          },
          "execution_count": 10
        }
      ]
    },
    {
      "cell_type": "code",
      "metadata": {
        "colab": {
          "base_uri": "https://localhost:8080/"
        },
        "id": "y-xvGX6ycaiw",
        "outputId": "037432f4-9632-41a6-b5b4-d50353a0833a"
      },
      "source": [
        "# Size of the data set\r\n",
        "data.shape"
      ],
      "execution_count": null,
      "outputs": [
        {
          "output_type": "execute_result",
          "data": {
            "text/plain": [
              "(21613, 23)"
            ]
          },
          "metadata": {
            "tags": []
          },
          "execution_count": 11
        }
      ]
    },
    {
      "cell_type": "code",
      "metadata": {
        "colab": {
          "base_uri": "https://localhost:8080/"
        },
        "id": "QqmoaPDrIFSe",
        "outputId": "4885e156-dade-4ca2-a75c-ff8a3e144201"
      },
      "source": [
        "# let's check whether our dataset have any null/missing values\n",
        "data.isnull().sum()"
      ],
      "execution_count": null,
      "outputs": [
        {
          "output_type": "execute_result",
          "data": {
            "text/plain": [
              "cid                 0\n",
              "dayhours            0\n",
              "price               0\n",
              "room_bed            0\n",
              "room_bath           0\n",
              "living_measure      0\n",
              "lot_measure         0\n",
              "ceil                0\n",
              "coast               0\n",
              "sight               0\n",
              "condition           0\n",
              "quality             0\n",
              "ceil_measure        0\n",
              "basement            0\n",
              "yr_built            0\n",
              "yr_renovated        0\n",
              "zipcode             0\n",
              "lat                 0\n",
              "long                0\n",
              "living_measure15    0\n",
              "lot_measure15       0\n",
              "furnished           0\n",
              "total_area          0\n",
              "dtype: int64"
            ]
          },
          "metadata": {
            "tags": []
          },
          "execution_count": 12
        }
      ]
    },
    {
      "cell_type": "code",
      "metadata": {
        "colab": {
          "base_uri": "https://localhost:8080/"
        },
        "id": "8VsEDznLInxs",
        "outputId": "078fd23c-1852-4fd5-a631-6854fdcd9758"
      },
      "source": [
        "##  Know more about the data\r\n",
        "data.info()"
      ],
      "execution_count": null,
      "outputs": [
        {
          "output_type": "stream",
          "text": [
            "<class 'pandas.core.frame.DataFrame'>\n",
            "RangeIndex: 21613 entries, 0 to 21612\n",
            "Data columns (total 23 columns):\n",
            " #   Column            Non-Null Count  Dtype  \n",
            "---  ------            --------------  -----  \n",
            " 0   cid               21613 non-null  int64  \n",
            " 1   dayhours          21613 non-null  object \n",
            " 2   price             21613 non-null  int64  \n",
            " 3   room_bed          21613 non-null  int64  \n",
            " 4   room_bath         21613 non-null  float64\n",
            " 5   living_measure    21613 non-null  int64  \n",
            " 6   lot_measure       21613 non-null  int64  \n",
            " 7   ceil              21613 non-null  float64\n",
            " 8   coast             21613 non-null  int64  \n",
            " 9   sight             21613 non-null  int64  \n",
            " 10  condition         21613 non-null  int64  \n",
            " 11  quality           21613 non-null  int64  \n",
            " 12  ceil_measure      21613 non-null  int64  \n",
            " 13  basement          21613 non-null  int64  \n",
            " 14  yr_built          21613 non-null  int64  \n",
            " 15  yr_renovated      21613 non-null  int64  \n",
            " 16  zipcode           21613 non-null  int64  \n",
            " 17  lat               21613 non-null  float64\n",
            " 18  long              21613 non-null  float64\n",
            " 19  living_measure15  21613 non-null  int64  \n",
            " 20  lot_measure15     21613 non-null  int64  \n",
            " 21  furnished         21613 non-null  int64  \n",
            " 22  total_area        21613 non-null  int64  \n",
            "dtypes: float64(4), int64(18), object(1)\n",
            "memory usage: 3.8+ MB\n"
          ],
          "name": "stdout"
        }
      ]
    },
    {
      "cell_type": "code",
      "metadata": {
        "id": "A4E4wQSWaTAY"
      },
      "source": [
        "## Finding out the duplicates in the cid column\r\n",
        "dups= data.pivot_table(index=['cid'], aggfunc = 'size') # Checking the repition of elements"
      ],
      "execution_count": null,
      "outputs": []
    },
    {
      "cell_type": "code",
      "metadata": {
        "colab": {
          "base_uri": "https://localhost:8080/",
          "height": 162
        },
        "id": "rr-vSTfbpnxL",
        "outputId": "fcaa7f22-e17f-4abf-806e-90bb38c28c09"
      },
      "source": [
        "data[data['cid']==795000620]\r\n",
        "## before dropping duplicates the frequency of the cid=795000620"
      ],
      "execution_count": null,
      "outputs": [
        {
          "output_type": "execute_result",
          "data": {
            "text/html": [
              "<div>\n",
              "<style scoped>\n",
              "    .dataframe tbody tr th:only-of-type {\n",
              "        vertical-align: middle;\n",
              "    }\n",
              "\n",
              "    .dataframe tbody tr th {\n",
              "        vertical-align: top;\n",
              "    }\n",
              "\n",
              "    .dataframe thead th {\n",
              "        text-align: right;\n",
              "    }\n",
              "</style>\n",
              "<table border=\"1\" class=\"dataframe\">\n",
              "  <thead>\n",
              "    <tr style=\"text-align: right;\">\n",
              "      <th></th>\n",
              "      <th>cid</th>\n",
              "      <th>dayhours</th>\n",
              "      <th>price</th>\n",
              "      <th>room_bed</th>\n",
              "      <th>room_bath</th>\n",
              "      <th>living_measure</th>\n",
              "      <th>lot_measure</th>\n",
              "      <th>ceil</th>\n",
              "      <th>coast</th>\n",
              "      <th>sight</th>\n",
              "      <th>condition</th>\n",
              "      <th>quality</th>\n",
              "      <th>ceil_measure</th>\n",
              "      <th>basement</th>\n",
              "      <th>yr_built</th>\n",
              "      <th>yr_renovated</th>\n",
              "      <th>zipcode</th>\n",
              "      <th>lat</th>\n",
              "      <th>long</th>\n",
              "      <th>living_measure15</th>\n",
              "      <th>lot_measure15</th>\n",
              "      <th>furnished</th>\n",
              "      <th>total_area</th>\n",
              "    </tr>\n",
              "  </thead>\n",
              "  <tbody>\n",
              "    <tr>\n",
              "      <th>1634</th>\n",
              "      <td>795000620</td>\n",
              "      <td>20140924T000000</td>\n",
              "      <td>115000</td>\n",
              "      <td>3</td>\n",
              "      <td>1.0</td>\n",
              "      <td>1080</td>\n",
              "      <td>6250</td>\n",
              "      <td>1.0</td>\n",
              "      <td>0</td>\n",
              "      <td>0</td>\n",
              "      <td>2</td>\n",
              "      <td>5</td>\n",
              "      <td>1080</td>\n",
              "      <td>0</td>\n",
              "      <td>1950</td>\n",
              "      <td>0</td>\n",
              "      <td>98168</td>\n",
              "      <td>47.5045</td>\n",
              "      <td>-122.33</td>\n",
              "      <td>1070</td>\n",
              "      <td>6250</td>\n",
              "      <td>0</td>\n",
              "      <td>7330</td>\n",
              "    </tr>\n",
              "    <tr>\n",
              "      <th>15184</th>\n",
              "      <td>795000620</td>\n",
              "      <td>20141215T000000</td>\n",
              "      <td>124000</td>\n",
              "      <td>3</td>\n",
              "      <td>1.0</td>\n",
              "      <td>1080</td>\n",
              "      <td>6250</td>\n",
              "      <td>1.0</td>\n",
              "      <td>0</td>\n",
              "      <td>0</td>\n",
              "      <td>2</td>\n",
              "      <td>5</td>\n",
              "      <td>1080</td>\n",
              "      <td>0</td>\n",
              "      <td>1950</td>\n",
              "      <td>0</td>\n",
              "      <td>98168</td>\n",
              "      <td>47.5045</td>\n",
              "      <td>-122.33</td>\n",
              "      <td>1070</td>\n",
              "      <td>6250</td>\n",
              "      <td>0</td>\n",
              "      <td>7330</td>\n",
              "    </tr>\n",
              "    <tr>\n",
              "      <th>20544</th>\n",
              "      <td>795000620</td>\n",
              "      <td>20150311T000000</td>\n",
              "      <td>157000</td>\n",
              "      <td>3</td>\n",
              "      <td>1.0</td>\n",
              "      <td>1080</td>\n",
              "      <td>6250</td>\n",
              "      <td>1.0</td>\n",
              "      <td>0</td>\n",
              "      <td>0</td>\n",
              "      <td>2</td>\n",
              "      <td>5</td>\n",
              "      <td>1080</td>\n",
              "      <td>0</td>\n",
              "      <td>1950</td>\n",
              "      <td>0</td>\n",
              "      <td>98168</td>\n",
              "      <td>47.5045</td>\n",
              "      <td>-122.33</td>\n",
              "      <td>1070</td>\n",
              "      <td>6250</td>\n",
              "      <td>0</td>\n",
              "      <td>7330</td>\n",
              "    </tr>\n",
              "  </tbody>\n",
              "</table>\n",
              "</div>"
            ],
            "text/plain": [
              "             cid         dayhours   price  ...  lot_measure15  furnished  total_area\n",
              "1634   795000620  20140924T000000  115000  ...           6250          0        7330\n",
              "15184  795000620  20141215T000000  124000  ...           6250          0        7330\n",
              "20544  795000620  20150311T000000  157000  ...           6250          0        7330\n",
              "\n",
              "[3 rows x 23 columns]"
            ]
          },
          "metadata": {
            "tags": []
          },
          "execution_count": 15
        }
      ]
    },
    {
      "cell_type": "code",
      "metadata": {
        "colab": {
          "base_uri": "https://localhost:8080/"
        },
        "id": "E-EL3N5tIFS-",
        "outputId": "f68ed6b1-bd8f-4775-bb37-81e112674d5d"
      },
      "source": [
        "#cid - CID is appearing muliple times, it seems data contains house which is sold multiple times\n",
        "cid_count=data.cid.value_counts()\n",
        "cid_count[cid_count>1].shape"
      ],
      "execution_count": null,
      "outputs": [
        {
          "output_type": "execute_result",
          "data": {
            "text/plain": [
              "(176,)"
            ]
          },
          "metadata": {
            "tags": []
          },
          "execution_count": 16
        }
      ]
    },
    {
      "cell_type": "code",
      "metadata": {
        "id": "rh8hbxdluA19"
      },
      "source": [
        "data1= data.drop_duplicates(subset=['cid'])"
      ],
      "execution_count": null,
      "outputs": []
    },
    {
      "cell_type": "code",
      "metadata": {
        "colab": {
          "base_uri": "https://localhost:8080/",
          "height": 134
        },
        "id": "xwIjgIN2KRjG",
        "outputId": "ebce0a0c-fca2-4a26-85bf-d534772add8f"
      },
      "source": [
        "data1[data['cid']==795000620]\r\n",
        "## To check that it drops the elements in the cid columns, Hence it remove the botton two rows"
      ],
      "execution_count": null,
      "outputs": [
        {
          "output_type": "stream",
          "text": [
            "/usr/local/lib/python3.6/dist-packages/ipykernel_launcher.py:1: UserWarning: Boolean Series key will be reindexed to match DataFrame index.\n",
            "  \"\"\"Entry point for launching an IPython kernel.\n"
          ],
          "name": "stderr"
        },
        {
          "output_type": "execute_result",
          "data": {
            "text/html": [
              "<div>\n",
              "<style scoped>\n",
              "    .dataframe tbody tr th:only-of-type {\n",
              "        vertical-align: middle;\n",
              "    }\n",
              "\n",
              "    .dataframe tbody tr th {\n",
              "        vertical-align: top;\n",
              "    }\n",
              "\n",
              "    .dataframe thead th {\n",
              "        text-align: right;\n",
              "    }\n",
              "</style>\n",
              "<table border=\"1\" class=\"dataframe\">\n",
              "  <thead>\n",
              "    <tr style=\"text-align: right;\">\n",
              "      <th></th>\n",
              "      <th>cid</th>\n",
              "      <th>dayhours</th>\n",
              "      <th>price</th>\n",
              "      <th>room_bed</th>\n",
              "      <th>room_bath</th>\n",
              "      <th>living_measure</th>\n",
              "      <th>lot_measure</th>\n",
              "      <th>ceil</th>\n",
              "      <th>coast</th>\n",
              "      <th>sight</th>\n",
              "      <th>condition</th>\n",
              "      <th>quality</th>\n",
              "      <th>ceil_measure</th>\n",
              "      <th>basement</th>\n",
              "      <th>yr_built</th>\n",
              "      <th>yr_renovated</th>\n",
              "      <th>zipcode</th>\n",
              "      <th>lat</th>\n",
              "      <th>long</th>\n",
              "      <th>living_measure15</th>\n",
              "      <th>lot_measure15</th>\n",
              "      <th>furnished</th>\n",
              "      <th>total_area</th>\n",
              "    </tr>\n",
              "  </thead>\n",
              "  <tbody>\n",
              "    <tr>\n",
              "      <th>1634</th>\n",
              "      <td>795000620</td>\n",
              "      <td>20140924T000000</td>\n",
              "      <td>115000</td>\n",
              "      <td>3</td>\n",
              "      <td>1.0</td>\n",
              "      <td>1080</td>\n",
              "      <td>6250</td>\n",
              "      <td>1.0</td>\n",
              "      <td>0</td>\n",
              "      <td>0</td>\n",
              "      <td>2</td>\n",
              "      <td>5</td>\n",
              "      <td>1080</td>\n",
              "      <td>0</td>\n",
              "      <td>1950</td>\n",
              "      <td>0</td>\n",
              "      <td>98168</td>\n",
              "      <td>47.5045</td>\n",
              "      <td>-122.33</td>\n",
              "      <td>1070</td>\n",
              "      <td>6250</td>\n",
              "      <td>0</td>\n",
              "      <td>7330</td>\n",
              "    </tr>\n",
              "  </tbody>\n",
              "</table>\n",
              "</div>"
            ],
            "text/plain": [
              "            cid         dayhours   price  ...  lot_measure15  furnished  total_area\n",
              "1634  795000620  20140924T000000  115000  ...           6250          0        7330\n",
              "\n",
              "[1 rows x 23 columns]"
            ]
          },
          "metadata": {
            "tags": []
          },
          "execution_count": 18
        }
      ]
    },
    {
      "cell_type": "code",
      "metadata": {
        "colab": {
          "base_uri": "https://localhost:8080/"
        },
        "id": "_5ZU0I48uF-o",
        "outputId": "1f5cb256-43bf-4125-c184-3b9e79afd76f"
      },
      "source": [
        "data1.shape ## As you check that duplicates rows are removed"
      ],
      "execution_count": null,
      "outputs": [
        {
          "output_type": "execute_result",
          "data": {
            "text/plain": [
              "(21436, 23)"
            ]
          },
          "metadata": {
            "tags": []
          },
          "execution_count": 19
        }
      ]
    },
    {
      "cell_type": "code",
      "metadata": {
        "id": "GI3Fq8uVLcVX"
      },
      "source": [
        "## Univariate Analysis"
      ],
      "execution_count": null,
      "outputs": []
    },
    {
      "cell_type": "code",
      "metadata": {
        "colab": {
          "base_uri": "https://localhost:8080/"
        },
        "id": "YDCRxSNqMb7g",
        "outputId": "283b20ef-bfe8-42db-f089-50cc49af9157"
      },
      "source": [
        "data1.columns"
      ],
      "execution_count": null,
      "outputs": [
        {
          "output_type": "execute_result",
          "data": {
            "text/plain": [
              "Index(['cid', 'dayhours', 'price', 'room_bed', 'room_bath', 'living_measure',\n",
              "       'lot_measure', 'ceil', 'coast', 'sight', 'condition', 'quality',\n",
              "       'ceil_measure', 'basement', 'yr_built', 'yr_renovated', 'zipcode',\n",
              "       'lat', 'long', 'living_measure15', 'lot_measure15', 'furnished',\n",
              "       'total_area'],\n",
              "      dtype='object')"
            ]
          },
          "metadata": {
            "tags": []
          },
          "execution_count": 21
        }
      ]
    },
    {
      "cell_type": "code",
      "metadata": {
        "colab": {
          "base_uri": "https://localhost:8080/",
          "height": 1000
        },
        "id": "J6Oy4VVxMQzb",
        "outputId": "90ff115a-6e68-40a0-be28-162e8c7e2adc"
      },
      "source": [
        "## Just to have fast glimpse of min, max range we are having this quick look by using univariate box plot\r\n",
        "# size of plots to make it uniform throughout our analysis in the notebook\r\n",
        "# It will give clear picture of no of outliers in system and the limit range\r\n",
        "## Ceil, coast, sight,condition and funished are discrete variable\r\n",
        "columns=['price','living_measure','lot_measure','ceil_measure','basement','living_measure15','total_area']\r\n",
        "plotSizeX = 12\r\n",
        "plotSizeY = 6\r\n",
        "# let's boxplot all the numerical columns and see if there any outliers\r\n",
        "for i in columns:\r\n",
        "    data.iloc[:, 1:].boxplot(column=i)\r\n",
        "    plt.show()"
      ],
      "execution_count": null,
      "outputs": [
        {
          "output_type": "display_data",
          "data": {
            "image/png": "[encoded data removed]",
            "text/plain": [
              "<Figure size 432x288 with 1 Axes>"
            ]
          },
          "metadata": {
            "tags": [],
            "needs_background": "light"
          }
        },
        {
          "output_type": "display_data",
          "data": {
            "image/png": "[encoded data removed]",
            "text/plain": [
              "<Figure size 432x288 with 1 Axes>"
            ]
          },
          "metadata": {
            "tags": [],
            "needs_background": "light"
          }
        },
        {
          "output_type": "display_data",
          "data": {
            "image/png": "[encoded data removed]",
            "text/plain": [
              "<Figure size 432x288 with 1 Axes>"
            ]
          },
          "metadata": {
            "tags": [],
            "needs_background": "light"
          }
        },
        {
          "output_type": "display_data",
          "data": {
            "image/png": "[encoded data removed]",
            "text/plain": [
              "<Figure size 432x288 with 1 Axes>"
            ]
          },
          "metadata": {
            "tags": [],
            "needs_background": "light"
          }
        },
        {
          "output_type": "display_data",
          "data": {
            "image/png": "[encoded data removed]",
            "text/plain": [
              "<Figure size 432x288 with 1 Axes>"
            ]
          },
          "metadata": {
            "tags": [],
            "needs_background": "light"
          }
        },
        {
          "output_type": "display_data",
          "data": {
            "image/png": "[encoded data removed]",
            "text/plain": [
              "<Figure size 432x288 with 1 Axes>"
            ]
          },
          "metadata": {
            "tags": [],
            "needs_background": "light"
          }
        },
        {
          "output_type": "display_data",
          "data": {
            "image/png": "[encoded data removed]",
            "text/plain": [
              "<Figure size 432x288 with 1 Axes>"
            ]
          },
          "metadata": {
            "tags": [],
            "needs_background": "light"
          }
        }
      ]
    },
    {
      "cell_type": "code",
      "metadata": {
        "colab": {
          "base_uri": "https://localhost:8080/",
          "height": 1000
        },
        "id": "pP53YT__GxzH",
        "outputId": "eadfbb63-2d05-4804-b02b-fa723ebde070"
      },
      "source": [
        "## Have a look at the dist plot in the continous variables\r\n",
        "fig, ax= plt.subplots(5, 2, figsize=(25, 20))\r\n",
        "sns.distplot(data1['price'],ax=ax[0][0])\r\n",
        "sns.distplot(data1['living_measure'],ax=ax[0][1])\r\n",
        "sns.distplot(data1['lot_measure15'],ax=ax[1][0])\r\n",
        "sns.distplot(data1['ceil_measure'],ax=ax[1][1])\r\n",
        "sns.distplot(data1['basement'],ax=ax[2][0])\r\n",
        "sns.distplot(data1['living_measure15'],ax=ax[2][1])\r\n",
        "sns.distplot(data1['lot_measure15'],ax=ax[3][0])\r\n",
        "sns.distplot(data1['total_area'],ax=ax[3][1])"
      ],
      "execution_count": null,
      "outputs": [
        {
          "output_type": "stream",
          "text": [
            "/usr/local/lib/python3.6/dist-packages/seaborn/distributions.py:2557: FutureWarning: `distplot` is a deprecated function and will be removed in a future version. Please adapt your code to use either `displot` (a figure-level function with similar flexibility) or `histplot` (an axes-level function for histograms).\n",
            "  warnings.warn(msg, FutureWarning)\n",
            "/usr/local/lib/python3.6/dist-packages/seaborn/distributions.py:2557: FutureWarning: `distplot` is a deprecated function and will be removed in a future version. Please adapt your code to use either `displot` (a figure-level function with similar flexibility) or `histplot` (an axes-level function for histograms).\n",
            "  warnings.warn(msg, FutureWarning)\n",
            "/usr/local/lib/python3.6/dist-packages/seaborn/distributions.py:2557: FutureWarning: `distplot` is a deprecated function and will be removed in a future version. Please adapt your code to use either `displot` (a figure-level function with similar flexibility) or `histplot` (an axes-level function for histograms).\n",
            "  warnings.warn(msg, FutureWarning)\n",
            "/usr/local/lib/python3.6/dist-packages/seaborn/distributions.py:2557: FutureWarning: `distplot` is a deprecated function and will be removed in a future version. Please adapt your code to use either `displot` (a figure-level function with similar flexibility) or `histplot` (an axes-level function for histograms).\n",
            "  warnings.warn(msg, FutureWarning)\n",
            "/usr/local/lib/python3.6/dist-packages/seaborn/distributions.py:2557: FutureWarning: `distplot` is a deprecated function and will be removed in a future version. Please adapt your code to use either `displot` (a figure-level function with similar flexibility) or `histplot` (an axes-level function for histograms).\n",
            "  warnings.warn(msg, FutureWarning)\n",
            "/usr/local/lib/python3.6/dist-packages/seaborn/distributions.py:2557: FutureWarning: `distplot` is a deprecated function and will be removed in a future version. Please adapt your code to use either `displot` (a figure-level function with similar flexibility) or `histplot` (an axes-level function for histograms).\n",
            "  warnings.warn(msg, FutureWarning)\n",
            "/usr/local/lib/python3.6/dist-packages/seaborn/distributions.py:2557: FutureWarning: `distplot` is a deprecated function and will be removed in a future version. Please adapt your code to use either `displot` (a figure-level function with similar flexibility) or `histplot` (an axes-level function for histograms).\n",
            "  warnings.warn(msg, FutureWarning)\n",
            "/usr/local/lib/python3.6/dist-packages/seaborn/distributions.py:2557: FutureWarning: `distplot` is a deprecated function and will be removed in a future version. Please adapt your code to use either `displot` (a figure-level function with similar flexibility) or `histplot` (an axes-level function for histograms).\n",
            "  warnings.warn(msg, FutureWarning)\n"
          ],
          "name": "stderr"
        },
        {
          "output_type": "execute_result",
          "data": {
            "text/plain": [
              "<matplotlib.axes._subplots.AxesSubplot at 0x7f089b591da0>"
            ]
          },
          "metadata": {
            "tags": []
          },
          "execution_count": 23
        },
        {
          "output_type": "display_data",
          "data": {
            "image/png": "[encoded data removed]",
            "text/plain": [
              "<Figure size 1800x1440 with 10 Axes>"
            ]
          },
          "metadata": {
            "tags": [],
            "needs_background": "light"
          }
        }
      ]
    },
    {
      "cell_type": "code",
      "metadata": {
        "id": "Cvr3M-5LPcxu"
      },
      "source": [
        "## Price is left skewed\n",
        "##Room_bath has multiple gauusian peaks\n",
        "## Living measure also left skewed\n",
        "##lot_measure15 normally distributed\n",
        "## ceil_measure is left skewed\n",
        "## Basement is right skewed\n",
        "## living_measure15 is left skewed"
      ],
      "execution_count": null,
      "outputs": []
    },
    {
      "cell_type": "code",
      "metadata": {
        "colab": {
          "base_uri": "https://localhost:8080/"
        },
        "id": "ZLFiFYFe5OxS",
        "outputId": "e3746dc4-3d41-4dc2-b2f5-7563a21680b8"
      },
      "source": [
        "## Have a look at the discret variables\r\n",
        "data1['room_bed'].value_counts()"
      ],
      "execution_count": null,
      "outputs": [
        {
          "output_type": "execute_result",
          "data": {
            "text/plain": [
              "3     9731\n",
              "4     6849\n",
              "2     2736\n",
              "5     1586\n",
              "6      265\n",
              "1      194\n",
              "7       38\n",
              "8       13\n",
              "0       13\n",
              "9        6\n",
              "10       3\n",
              "11       1\n",
              "33       1\n",
              "Name: room_bed, dtype: int64"
            ]
          },
          "metadata": {
            "tags": []
          },
          "execution_count": 25
        }
      ]
    },
    {
      "cell_type": "code",
      "metadata": {
        "colab": {
          "base_uri": "https://localhost:8080/",
          "height": 100
        },
        "id": "297qsRudCqgl",
        "outputId": "abba8874-e9a3-403d-a566-1ba01408d5f3"
      },
      "source": [
        "data1[data1['room_bed']==33]"
      ],
      "execution_count": null,
      "outputs": [
        {
          "output_type": "execute_result",
          "data": {
            "text/html": [
              "<div>\n",
              "<style scoped>\n",
              "    .dataframe tbody tr th:only-of-type {\n",
              "        vertical-align: middle;\n",
              "    }\n",
              "\n",
              "    .dataframe tbody tr th {\n",
              "        vertical-align: top;\n",
              "    }\n",
              "\n",
              "    .dataframe thead th {\n",
              "        text-align: right;\n",
              "    }\n",
              "</style>\n",
              "<table border=\"1\" class=\"dataframe\">\n",
              "  <thead>\n",
              "    <tr style=\"text-align: right;\">\n",
              "      <th></th>\n",
              "      <th>cid</th>\n",
              "      <th>dayhours</th>\n",
              "      <th>price</th>\n",
              "      <th>room_bed</th>\n",
              "      <th>room_bath</th>\n",
              "      <th>living_measure</th>\n",
              "      <th>lot_measure</th>\n",
              "      <th>ceil</th>\n",
              "      <th>coast</th>\n",
              "      <th>sight</th>\n",
              "      <th>condition</th>\n",
              "      <th>quality</th>\n",
              "      <th>ceil_measure</th>\n",
              "      <th>basement</th>\n",
              "      <th>yr_built</th>\n",
              "      <th>yr_renovated</th>\n",
              "      <th>zipcode</th>\n",
              "      <th>lat</th>\n",
              "      <th>long</th>\n",
              "      <th>living_measure15</th>\n",
              "      <th>lot_measure15</th>\n",
              "      <th>furnished</th>\n",
              "      <th>total_area</th>\n",
              "    </tr>\n",
              "  </thead>\n",
              "  <tbody>\n",
              "    <tr>\n",
              "      <th>750</th>\n",
              "      <td>2402100895</td>\n",
              "      <td>20140625T000000</td>\n",
              "      <td>640000</td>\n",
              "      <td>33</td>\n",
              "      <td>1.75</td>\n",
              "      <td>1620</td>\n",
              "      <td>6000</td>\n",
              "      <td>1.0</td>\n",
              "      <td>0</td>\n",
              "      <td>0</td>\n",
              "      <td>5</td>\n",
              "      <td>7</td>\n",
              "      <td>1040</td>\n",
              "      <td>580</td>\n",
              "      <td>1947</td>\n",
              "      <td>0</td>\n",
              "      <td>98103</td>\n",
              "      <td>47.6878</td>\n",
              "      <td>-122.331</td>\n",
              "      <td>1330</td>\n",
              "      <td>4700</td>\n",
              "      <td>0</td>\n",
              "      <td>7620</td>\n",
              "    </tr>\n",
              "  </tbody>\n",
              "</table>\n",
              "</div>"
            ],
            "text/plain": [
              "            cid         dayhours   price  ...  lot_measure15  furnished  total_area\n",
              "750  2402100895  20140625T000000  640000  ...           4700          0        7620\n",
              "\n",
              "[1 rows x 23 columns]"
            ]
          },
          "metadata": {
            "tags": []
          },
          "execution_count": 26
        }
      ]
    },
    {
      "cell_type": "code",
      "metadata": {
        "colab": {
          "base_uri": "https://localhost:8080/",
          "height": 255
        },
        "id": "stH4Qq6tEsBz",
        "outputId": "0cd64928-8979-471b-d46d-ff6ffa82a02f"
      },
      "source": [
        "data1[data1['room_bed']==9]"
      ],
      "execution_count": null,
      "outputs": [
        {
          "output_type": "execute_result",
          "data": {
            "text/html": [
              "<div>\n",
              "<style scoped>\n",
              "    .dataframe tbody tr th:only-of-type {\n",
              "        vertical-align: middle;\n",
              "    }\n",
              "\n",
              "    .dataframe tbody tr th {\n",
              "        vertical-align: top;\n",
              "    }\n",
              "\n",
              "    .dataframe thead th {\n",
              "        text-align: right;\n",
              "    }\n",
              "</style>\n",
              "<table border=\"1\" class=\"dataframe\">\n",
              "  <thead>\n",
              "    <tr style=\"text-align: right;\">\n",
              "      <th></th>\n",
              "      <th>cid</th>\n",
              "      <th>dayhours</th>\n",
              "      <th>price</th>\n",
              "      <th>room_bed</th>\n",
              "      <th>room_bath</th>\n",
              "      <th>living_measure</th>\n",
              "      <th>lot_measure</th>\n",
              "      <th>ceil</th>\n",
              "      <th>coast</th>\n",
              "      <th>sight</th>\n",
              "      <th>condition</th>\n",
              "      <th>quality</th>\n",
              "      <th>ceil_measure</th>\n",
              "      <th>basement</th>\n",
              "      <th>yr_built</th>\n",
              "      <th>yr_renovated</th>\n",
              "      <th>zipcode</th>\n",
              "      <th>lat</th>\n",
              "      <th>long</th>\n",
              "      <th>living_measure15</th>\n",
              "      <th>lot_measure15</th>\n",
              "      <th>furnished</th>\n",
              "      <th>total_area</th>\n",
              "    </tr>\n",
              "  </thead>\n",
              "  <tbody>\n",
              "    <tr>\n",
              "      <th>1745</th>\n",
              "      <td>2902200015</td>\n",
              "      <td>20150106T000000</td>\n",
              "      <td>700000</td>\n",
              "      <td>9</td>\n",
              "      <td>3.0</td>\n",
              "      <td>3680</td>\n",
              "      <td>4400</td>\n",
              "      <td>2.0</td>\n",
              "      <td>0</td>\n",
              "      <td>0</td>\n",
              "      <td>3</td>\n",
              "      <td>7</td>\n",
              "      <td>2830</td>\n",
              "      <td>850</td>\n",
              "      <td>1908</td>\n",
              "      <td>0</td>\n",
              "      <td>98102</td>\n",
              "      <td>47.6374</td>\n",
              "      <td>-122.324</td>\n",
              "      <td>1960</td>\n",
              "      <td>2450</td>\n",
              "      <td>0</td>\n",
              "      <td>8080</td>\n",
              "    </tr>\n",
              "    <tr>\n",
              "      <th>7396</th>\n",
              "      <td>9822700190</td>\n",
              "      <td>20140808T000000</td>\n",
              "      <td>1280000</td>\n",
              "      <td>9</td>\n",
              "      <td>4.5</td>\n",
              "      <td>3650</td>\n",
              "      <td>5000</td>\n",
              "      <td>2.0</td>\n",
              "      <td>0</td>\n",
              "      <td>0</td>\n",
              "      <td>3</td>\n",
              "      <td>8</td>\n",
              "      <td>2530</td>\n",
              "      <td>1120</td>\n",
              "      <td>1915</td>\n",
              "      <td>2010</td>\n",
              "      <td>98105</td>\n",
              "      <td>47.6604</td>\n",
              "      <td>-122.289</td>\n",
              "      <td>2510</td>\n",
              "      <td>5000</td>\n",
              "      <td>0</td>\n",
              "      <td>8650</td>\n",
              "    </tr>\n",
              "    <tr>\n",
              "      <th>11950</th>\n",
              "      <td>8823901445</td>\n",
              "      <td>20150313T000000</td>\n",
              "      <td>934000</td>\n",
              "      <td>9</td>\n",
              "      <td>3.0</td>\n",
              "      <td>2820</td>\n",
              "      <td>4480</td>\n",
              "      <td>2.0</td>\n",
              "      <td>0</td>\n",
              "      <td>0</td>\n",
              "      <td>3</td>\n",
              "      <td>7</td>\n",
              "      <td>1880</td>\n",
              "      <td>940</td>\n",
              "      <td>1918</td>\n",
              "      <td>0</td>\n",
              "      <td>98105</td>\n",
              "      <td>47.6654</td>\n",
              "      <td>-122.307</td>\n",
              "      <td>2460</td>\n",
              "      <td>4400</td>\n",
              "      <td>0</td>\n",
              "      <td>7300</td>\n",
              "    </tr>\n",
              "    <tr>\n",
              "      <th>14687</th>\n",
              "      <td>424049043</td>\n",
              "      <td>20140811T000000</td>\n",
              "      <td>450000</td>\n",
              "      <td>9</td>\n",
              "      <td>7.5</td>\n",
              "      <td>4050</td>\n",
              "      <td>6504</td>\n",
              "      <td>2.0</td>\n",
              "      <td>0</td>\n",
              "      <td>0</td>\n",
              "      <td>3</td>\n",
              "      <td>7</td>\n",
              "      <td>4050</td>\n",
              "      <td>0</td>\n",
              "      <td>1996</td>\n",
              "      <td>0</td>\n",
              "      <td>98144</td>\n",
              "      <td>47.5923</td>\n",
              "      <td>-122.301</td>\n",
              "      <td>1448</td>\n",
              "      <td>3866</td>\n",
              "      <td>0</td>\n",
              "      <td>10554</td>\n",
              "    </tr>\n",
              "    <tr>\n",
              "      <th>20750</th>\n",
              "      <td>8823900290</td>\n",
              "      <td>20150317T000000</td>\n",
              "      <td>1400000</td>\n",
              "      <td>9</td>\n",
              "      <td>4.0</td>\n",
              "      <td>4620</td>\n",
              "      <td>5508</td>\n",
              "      <td>2.5</td>\n",
              "      <td>0</td>\n",
              "      <td>0</td>\n",
              "      <td>3</td>\n",
              "      <td>11</td>\n",
              "      <td>3870</td>\n",
              "      <td>750</td>\n",
              "      <td>1915</td>\n",
              "      <td>0</td>\n",
              "      <td>98105</td>\n",
              "      <td>47.6684</td>\n",
              "      <td>-122.309</td>\n",
              "      <td>2710</td>\n",
              "      <td>4320</td>\n",
              "      <td>1</td>\n",
              "      <td>10128</td>\n",
              "    </tr>\n",
              "    <tr>\n",
              "      <th>21036</th>\n",
              "      <td>1997200215</td>\n",
              "      <td>20140507T000000</td>\n",
              "      <td>599999</td>\n",
              "      <td>9</td>\n",
              "      <td>4.5</td>\n",
              "      <td>3830</td>\n",
              "      <td>6988</td>\n",
              "      <td>2.5</td>\n",
              "      <td>0</td>\n",
              "      <td>0</td>\n",
              "      <td>3</td>\n",
              "      <td>7</td>\n",
              "      <td>2450</td>\n",
              "      <td>1380</td>\n",
              "      <td>1938</td>\n",
              "      <td>0</td>\n",
              "      <td>98103</td>\n",
              "      <td>47.6927</td>\n",
              "      <td>-122.338</td>\n",
              "      <td>1460</td>\n",
              "      <td>6291</td>\n",
              "      <td>0</td>\n",
              "      <td>10818</td>\n",
              "    </tr>\n",
              "  </tbody>\n",
              "</table>\n",
              "</div>"
            ],
            "text/plain": [
              "              cid         dayhours  ...  furnished  total_area\n",
              "1745   2902200015  20150106T000000  ...          0        8080\n",
              "7396   9822700190  20140808T000000  ...          0        8650\n",
              "11950  8823901445  20150313T000000  ...          0        7300\n",
              "14687   424049043  20140811T000000  ...          0       10554\n",
              "20750  8823900290  20150317T000000  ...          1       10128\n",
              "21036  1997200215  20140507T000000  ...          0       10818\n",
              "\n",
              "[6 rows x 23 columns]"
            ]
          },
          "metadata": {
            "tags": []
          },
          "execution_count": 27
        }
      ]
    },
    {
      "cell_type": "code",
      "metadata": {
        "colab": {
          "base_uri": "https://localhost:8080/"
        },
        "id": "9sa2nVjcEYSk",
        "outputId": "bd20d49f-19d9-42de-bc5b-4ccff709582f"
      },
      "source": [
        "data1['room_bed'].describe()"
      ],
      "execution_count": null,
      "outputs": [
        {
          "output_type": "execute_result",
          "data": {
            "text/plain": [
              "count    21436.000000\n",
              "mean         3.371571\n",
              "std          0.929205\n",
              "min          0.000000\n",
              "25%          3.000000\n",
              "50%          3.000000\n",
              "75%          4.000000\n",
              "max         33.000000\n",
              "Name: room_bed, dtype: float64"
            ]
          },
          "metadata": {
            "tags": []
          },
          "execution_count": 28
        }
      ]
    },
    {
      "cell_type": "code",
      "metadata": {
        "colab": {
          "base_uri": "https://localhost:8080/"
        },
        "id": "0rC-OBlDEjCe",
        "outputId": "fa0b84d6-60ac-47fd-f1fe-f2df053f5bb2"
      },
      "source": [
        "data1['price'].describe()"
      ],
      "execution_count": null,
      "outputs": [
        {
          "output_type": "execute_result",
          "data": {
            "text/plain": [
              "count    2.143600e+04\n",
              "mean     5.411958e+05\n",
              "std      3.677302e+05\n",
              "min      7.500000e+04\n",
              "25%      3.230000e+05\n",
              "50%      4.500000e+05\n",
              "75%      6.450000e+05\n",
              "max      7.700000e+06\n",
              "Name: price, dtype: float64"
            ]
          },
          "metadata": {
            "tags": []
          },
          "execution_count": 29
        }
      ]
    },
    {
      "cell_type": "code",
      "metadata": {
        "id": "o7D4lbYyClXt"
      },
      "source": [
        "### There can't be any 33,11,10,9 rooms and also hence removing it"
      ],
      "execution_count": null,
      "outputs": []
    },
    {
      "cell_type": "code",
      "metadata": {
        "colab": {
          "base_uri": "https://localhost:8080/"
        },
        "id": "GOTgHV7wGc-R",
        "outputId": "7ee2eadb-c84b-4281-ba43-fe873d9667f7"
      },
      "source": [
        "data1.shape"
      ],
      "execution_count": null,
      "outputs": [
        {
          "output_type": "execute_result",
          "data": {
            "text/plain": [
              "(21436, 23)"
            ]
          },
          "metadata": {
            "tags": []
          },
          "execution_count": 31
        }
      ]
    },
    {
      "cell_type": "code",
      "metadata": {
        "colab": {
          "base_uri": "https://localhost:8080/"
        },
        "id": "n1V9dbqyGWkL",
        "outputId": "c84c0db8-cef8-4f6d-ad29-09ce8ff1e7c5"
      },
      "source": [
        "data1.drop(data1[ (data1.room_bed == 33)|((data1.room_bed == 11)|(data1.room_bed == 10)|(data1.room_bed ==9)) ].index, inplace=True)"
      ],
      "execution_count": null,
      "outputs": [
        {
          "output_type": "stream",
          "text": [
            "/usr/local/lib/python3.6/dist-packages/pandas/core/frame.py:4174: SettingWithCopyWarning: \n",
            "A value is trying to be set on a copy of a slice from a DataFrame\n",
            "\n",
            "See the caveats in the documentation: https://pandas.pydata.org/pandas-docs/stable/user_guide/indexing.html#returning-a-view-versus-a-copy\n",
            "  errors=errors,\n"
          ],
          "name": "stderr"
        }
      ]
    },
    {
      "cell_type": "code",
      "metadata": {
        "colab": {
          "base_uri": "https://localhost:8080/"
        },
        "id": "sp4zpqMAGoU-",
        "outputId": "42da6411-eb1b-45f4-9302-3255ca0b6f74"
      },
      "source": [
        "data1.shape"
      ],
      "execution_count": null,
      "outputs": [
        {
          "output_type": "execute_result",
          "data": {
            "text/plain": [
              "(21425, 23)"
            ]
          },
          "metadata": {
            "tags": []
          },
          "execution_count": 33
        }
      ]
    },
    {
      "cell_type": "code",
      "metadata": {
        "colab": {
          "base_uri": "https://localhost:8080/",
          "height": 436
        },
        "id": "Ka0t4R8IKIJ2",
        "outputId": "23e8a7b6-f420-4e2f-8b8c-257579787516"
      },
      "source": [
        "## As it is categorical value Let's look at the count plot to see the counts\r\n",
        "c=data1['sight'].value_counts().sort_values(ascending= False)\r\n",
        "sns.countplot(data1['sight'])\r\n",
        "c"
      ],
      "execution_count": null,
      "outputs": [
        {
          "output_type": "stream",
          "text": [
            "/usr/local/lib/python3.6/dist-packages/seaborn/_decorators.py:43: FutureWarning: Pass the following variable as a keyword arg: x. From version 0.12, the only valid positional argument will be `data`, and passing other arguments without an explicit keyword will result in an error or misinterpretation.\n",
            "  FutureWarning\n"
          ],
          "name": "stderr"
        },
        {
          "output_type": "execute_result",
          "data": {
            "text/plain": [
              "0    19310\n",
              "2      961\n",
              "3      507\n",
              "1      331\n",
              "4      316\n",
              "Name: sight, dtype: int64"
            ]
          },
          "metadata": {
            "tags": []
          },
          "execution_count": 34
        },
        {
          "output_type": "display_data",
          "data": {
            "image/png": "[encoded data removed]",
            "text/plain": [
              "<Figure size 432x288 with 1 Axes>"
            ]
          },
          "metadata": {
            "tags": [],
            "needs_background": "light"
          }
        }
      ]
    },
    {
      "cell_type": "code",
      "metadata": {
        "colab": {
          "base_uri": "https://localhost:8080/",
          "height": 384
        },
        "id": "fnTFQIHGKL_u",
        "outputId": "9a299363-6407-4c96-bab1-177aa9a2f64e"
      },
      "source": [
        "c=data1['coast'].value_counts().sort_values(ascending= False)\r\n",
        "sns.countplot(data1['coast']) ## As it is categorical value Let's look at the count plot to see the counts\r\n",
        "c"
      ],
      "execution_count": null,
      "outputs": [
        {
          "output_type": "stream",
          "text": [
            "/usr/local/lib/python3.6/dist-packages/seaborn/_decorators.py:43: FutureWarning: Pass the following variable as a keyword arg: x. From version 0.12, the only valid positional argument will be `data`, and passing other arguments without an explicit keyword will result in an error or misinterpretation.\n",
            "  FutureWarning\n"
          ],
          "name": "stderr"
        },
        {
          "output_type": "execute_result",
          "data": {
            "text/plain": [
              "0    21262\n",
              "1      163\n",
              "Name: coast, dtype: int64"
            ]
          },
          "metadata": {
            "tags": []
          },
          "execution_count": 35
        },
        {
          "output_type": "display_data",
          "data": {
            "image/png": "[encoded data removed]",
            "text/plain": [
              "<Figure size 432x288 with 1 Axes>"
            ]
          },
          "metadata": {
            "tags": [],
            "needs_background": "light"
          }
        }
      ]
    },
    {
      "cell_type": "code",
      "metadata": {
        "colab": {
          "base_uri": "https://localhost:8080/",
          "height": 350
        },
        "id": "zt4LlSdgKRSY",
        "outputId": "52401e61-8be8-494d-e81a-1f06f98c4037"
      },
      "source": [
        "c=sns.countplot(data1['condition'])\r\n",
        "## As it is categorical value Let's look at the count plot to see the counts\r\n",
        "data1['condition'].value_counts().sort_values(ascending= False)\r\n",
        "c"
      ],
      "execution_count": null,
      "outputs": [
        {
          "output_type": "stream",
          "text": [
            "/usr/local/lib/python3.6/dist-packages/seaborn/_decorators.py:43: FutureWarning: Pass the following variable as a keyword arg: x. From version 0.12, the only valid positional argument will be `data`, and passing other arguments without an explicit keyword will result in an error or misinterpretation.\n",
            "  FutureWarning\n"
          ],
          "name": "stderr"
        },
        {
          "output_type": "execute_result",
          "data": {
            "text/plain": [
              "<matplotlib.axes._subplots.AxesSubplot at 0x7f089b745a90>"
            ]
          },
          "metadata": {
            "tags": []
          },
          "execution_count": 36
        },
        {
          "output_type": "display_data",
          "data": {
            "image/png": "[encoded data removed]",
            "text/plain": [
              "<Figure size 432x288 with 1 Axes>"
            ]
          },
          "metadata": {
            "tags": [],
            "needs_background": "light"
          }
        }
      ]
    },
    {
      "cell_type": "code",
      "metadata": {
        "colab": {
          "base_uri": "https://localhost:8080/",
          "height": 384
        },
        "id": "UGJEblAiKbFO",
        "outputId": "6e7dc789-ea3f-4008-b71b-1ffad1fb88e7"
      },
      "source": [
        "sns.countplot(data1['furnished'])\r\n",
        "## As it is categorical value Let's look at the count plot to see the counts\r\n",
        "data1['furnished'].value_counts().sort_values(ascending= False)"
      ],
      "execution_count": null,
      "outputs": [
        {
          "output_type": "stream",
          "text": [
            "/usr/local/lib/python3.6/dist-packages/seaborn/_decorators.py:43: FutureWarning: Pass the following variable as a keyword arg: x. From version 0.12, the only valid positional argument will be `data`, and passing other arguments without an explicit keyword will result in an error or misinterpretation.\n",
            "  FutureWarning\n"
          ],
          "name": "stderr"
        },
        {
          "output_type": "execute_result",
          "data": {
            "text/plain": [
              "0    17193\n",
              "1     4232\n",
              "Name: furnished, dtype: int64"
            ]
          },
          "metadata": {
            "tags": []
          },
          "execution_count": 37
        },
        {
          "output_type": "display_data",
          "data": {
            "image/png": "[encoded data removed]",
            "text/plain": [
              "<Figure size 432x288 with 1 Axes>"
            ]
          },
          "metadata": {
            "tags": [],
            "needs_background": "light"
          }
        }
      ]
    },
    {
      "cell_type": "code",
      "metadata": {
        "id": "cKhFHru-XrYN"
      },
      "source": [
        "## Room_bed is discrete variable with few outliers ie. 33,11,10,9\r\n",
        "## Ceil, coast, sight,condition and funished are discrete variable\r\n",
        "## Iat(Latitude) and long(longitude) has no importance, & zipcode is sufficient\r\n",
        "## Yr reinovated and yr built has no significance until and unless its modified "
      ],
      "execution_count": null,
      "outputs": []
    },
    {
      "cell_type": "code",
      "metadata": {
        "id": "3L5RVd_xND_3",
        "colab": {
          "base_uri": "https://localhost:8080/"
        },
        "outputId": "757a724d-1cd9-4144-a699-d325ae1d1c59"
      },
      "source": [
        "## Let's modify the yr_built as the no of year of the construction of house till the final year\r\n",
        "data1['yr_built']= 2015 - data1['yr_built']"
      ],
      "execution_count": null,
      "outputs": [
        {
          "output_type": "stream",
          "text": [
            "/usr/local/lib/python3.6/dist-packages/ipykernel_launcher.py:2: SettingWithCopyWarning: \n",
            "A value is trying to be set on a copy of a slice from a DataFrame.\n",
            "Try using .loc[row_indexer,col_indexer] = value instead\n",
            "\n",
            "See the caveats in the documentation: https://pandas.pydata.org/pandas-docs/stable/user_guide/indexing.html#returning-a-view-versus-a-copy\n",
            "  \n"
          ],
          "name": "stderr"
        }
      ]
    },
    {
      "cell_type": "markdown",
      "metadata": {
        "id": "88_f3xkaHhrZ"
      },
      "source": [
        "## Bivariate Analysis"
      ]
    },
    {
      "cell_type": "code",
      "metadata": {
        "id": "ycY_Qw8K_6vX"
      },
      "source": [
        "## Bivariate analysis\r\n",
        "## Target is to find the relation of different variables on the price as well as among the different columns\r\n",
        "## For discrete data type we will see other types of plot to see the relation to infer the output pattern"
      ],
      "execution_count": null,
      "outputs": []
    },
    {
      "cell_type": "code",
      "metadata": {
        "colab": {
          "base_uri": "https://localhost:8080/",
          "height": 291
        },
        "id": "Gpgy5O_pC0pS",
        "outputId": "4f251b87-ef82-40f9-e317-1ba14c66e7c1"
      },
      "source": [
        "sns.boxplot(x='room_bed',y='price',data=data1)\r\n",
        "## 33 bed no is obviously outlier dropping that partcular row and we can also see there is no relation between no of room_bed and price\r\n",
        "data_new=data1[data1['room_bed'] != 33]\r\n",
        "## Plot indicates as room_bed increases the price also increases"
      ],
      "execution_count": null,
      "outputs": [
        {
          "output_type": "display_data",
          "data": {
            "image/png": "[encoded data removed]",
            "text/plain": [
              "<Figure size 432x288 with 1 Axes>"
            ]
          },
          "metadata": {
            "tags": [],
            "needs_background": "light"
          }
        }
      ]
    },
    {
      "cell_type": "code",
      "metadata": {
        "colab": {
          "base_uri": "https://localhost:8080/",
          "height": 308
        },
        "id": "xxxRnz7IGgxI",
        "outputId": "e3eae4e7-7955-490e-d487-cb6a670da047"
      },
      "source": [
        "sns.boxplot(x='room_bath',y='price',data=data_new)\r\n",
        "## The prices increases on increasing the no of room_bath"
      ],
      "execution_count": null,
      "outputs": [
        {
          "output_type": "execute_result",
          "data": {
            "text/plain": [
              "<matplotlib.axes._subplots.AxesSubplot at 0x7f0890c464a8>"
            ]
          },
          "metadata": {
            "tags": []
          },
          "execution_count": 42
        },
        {
          "output_type": "display_data",
          "data": {
            "image/png": "[encoded data removed]",
            "text/plain": [
              "<Figure size 432x288 with 1 Axes>"
            ]
          },
          "metadata": {
            "tags": [],
            "needs_background": "light"
          }
        }
      ]
    },
    {
      "cell_type": "code",
      "metadata": {
        "colab": {
          "base_uri": "https://localhost:8080/",
          "height": 308
        },
        "id": "DYAbAITXH-dS",
        "outputId": "29b74fcd-a1e1-4919-d638-39a7ef6033e4"
      },
      "source": [
        "#'living_measure' is a continous variable\r\n",
        "plt.scatter(data_new['living_measure'], data_new['price'])\r\n",
        "plt.xlabel('living_measure')\r\n",
        "plt.ylabel('price')\r\n",
        "## Hence it can be seen that as living measure increases the price also increases\r\n",
        "corr1=data_new['living_measure'].corr(data_new['price'])\r\n",
        "print(corr1)## Hence can be seen high correlation between living_measure and price\r\n",
        "####The point between 12000 and 14000 seems to be ouliers let's check other feature which are making it on lower price \r\n",
        "# if it is significant else remove that"
      ],
      "execution_count": null,
      "outputs": [
        {
          "output_type": "stream",
          "text": [
            "0.701670954469053\n"
          ],
          "name": "stdout"
        },
        {
          "output_type": "display_data",
          "data": {
            "image/png": "[encoded data removed]",
            "text/plain": [
              "<Figure size 432x288 with 1 Axes>"
            ]
          },
          "metadata": {
            "tags": [],
            "needs_background": "light"
          }
        }
      ]
    },
    {
      "cell_type": "code",
      "metadata": {
        "colab": {
          "base_uri": "https://localhost:8080/"
        },
        "id": "pkFVCD5YIu03",
        "outputId": "fe45f530-dc5e-4f26-a5dc-986ba55744c6"
      },
      "source": [
        "## Lot measure and Area are continous we have to calculate correlation of both of them as they both indicate the unit of dimensions in the dataframe\r\n",
        "## High correlation hence one can be removed in final model building\r\n",
        "corr2=data_new['lot_measure'].corr(data_new['total_area'])\r\n",
        "print(corr2)"
      ],
      "execution_count": null,
      "outputs": [
        {
          "output_type": "stream",
          "text": [
            "0.9997647082775909\n"
          ],
          "name": "stdout"
        }
      ]
    },
    {
      "cell_type": "code",
      "metadata": {
        "id": "_RVosmfyMdb8"
      },
      "source": [
        "data_new=data_new.drop(\"lot_measure\",axis=1);##Dropping off the lot measure column"
      ],
      "execution_count": null,
      "outputs": []
    },
    {
      "cell_type": "code",
      "metadata": {
        "colab": {
          "base_uri": "https://localhost:8080/",
          "height": 400
        },
        "id": "tGkWH4j886Xm",
        "outputId": "0f20a68c-0985-4731-babd-47757f5c62e7"
      },
      "source": [
        "sns.catplot(x='ceil',y='price',data=data_new)\r\n",
        "#### There is one value in the price columns where ceil= 2.5, it can be treated as outlier"
      ],
      "execution_count": null,
      "outputs": [
        {
          "output_type": "execute_result",
          "data": {
            "text/plain": [
              "<seaborn.axisgrid.FacetGrid at 0x7f08929f2320>"
            ]
          },
          "metadata": {
            "tags": []
          },
          "execution_count": 46
        },
        {
          "output_type": "display_data",
          "data": {
            "image/png": "[encoded data removed]",
            "text/plain": [
              "<Figure size 360x360 with 1 Axes>"
            ]
          },
          "metadata": {
            "tags": [],
            "needs_background": "light"
          }
        }
      ]
    },
    {
      "cell_type": "code",
      "metadata": {
        "colab": {
          "base_uri": "https://localhost:8080/",
          "height": 439
        },
        "id": "2EBtExUOJBFx",
        "outputId": "cda52a9b-c986-453c-8e6a-5c3182f53c33"
      },
      "source": [
        "data1[data1['ceil']==2.5]"
      ],
      "execution_count": null,
      "outputs": [
        {
          "output_type": "execute_result",
          "data": {
            "text/html": [
              "<div>\n",
              "<style scoped>\n",
              "    .dataframe tbody tr th:only-of-type {\n",
              "        vertical-align: middle;\n",
              "    }\n",
              "\n",
              "    .dataframe tbody tr th {\n",
              "        vertical-align: top;\n",
              "    }\n",
              "\n",
              "    .dataframe thead th {\n",
              "        text-align: right;\n",
              "    }\n",
              "</style>\n",
              "<table border=\"1\" class=\"dataframe\">\n",
              "  <thead>\n",
              "    <tr style=\"text-align: right;\">\n",
              "      <th></th>\n",
              "      <th>cid</th>\n",
              "      <th>dayhours</th>\n",
              "      <th>price</th>\n",
              "      <th>room_bed</th>\n",
              "      <th>room_bath</th>\n",
              "      <th>living_measure</th>\n",
              "      <th>lot_measure</th>\n",
              "      <th>ceil</th>\n",
              "      <th>coast</th>\n",
              "      <th>sight</th>\n",
              "      <th>condition</th>\n",
              "      <th>quality</th>\n",
              "      <th>ceil_measure</th>\n",
              "      <th>basement</th>\n",
              "      <th>yr_built</th>\n",
              "      <th>yr_renovated</th>\n",
              "      <th>zipcode</th>\n",
              "      <th>lat</th>\n",
              "      <th>long</th>\n",
              "      <th>living_measure15</th>\n",
              "      <th>lot_measure15</th>\n",
              "      <th>furnished</th>\n",
              "      <th>total_area</th>\n",
              "    </tr>\n",
              "  </thead>\n",
              "  <tbody>\n",
              "    <tr>\n",
              "      <th>146</th>\n",
              "      <td>9528100899</td>\n",
              "      <td>20150428T000000</td>\n",
              "      <td>827000</td>\n",
              "      <td>3</td>\n",
              "      <td>2.50</td>\n",
              "      <td>1850</td>\n",
              "      <td>1330</td>\n",
              "      <td>2.5</td>\n",
              "      <td>0</td>\n",
              "      <td>0</td>\n",
              "      <td>3</td>\n",
              "      <td>9</td>\n",
              "      <td>1560</td>\n",
              "      <td>290</td>\n",
              "      <td>11</td>\n",
              "      <td>0</td>\n",
              "      <td>98115</td>\n",
              "      <td>47.6831</td>\n",
              "      <td>-122.325</td>\n",
              "      <td>1810</td>\n",
              "      <td>2071</td>\n",
              "      <td>1</td>\n",
              "      <td>3180</td>\n",
              "    </tr>\n",
              "    <tr>\n",
              "      <th>343</th>\n",
              "      <td>6821102317</td>\n",
              "      <td>20141209T000000</td>\n",
              "      <td>535000</td>\n",
              "      <td>3</td>\n",
              "      <td>2.50</td>\n",
              "      <td>1850</td>\n",
              "      <td>1499</td>\n",
              "      <td>2.5</td>\n",
              "      <td>0</td>\n",
              "      <td>0</td>\n",
              "      <td>3</td>\n",
              "      <td>9</td>\n",
              "      <td>1790</td>\n",
              "      <td>60</td>\n",
              "      <td>10</td>\n",
              "      <td>0</td>\n",
              "      <td>98199</td>\n",
              "      <td>47.6475</td>\n",
              "      <td>-122.396</td>\n",
              "      <td>1770</td>\n",
              "      <td>1539</td>\n",
              "      <td>1</td>\n",
              "      <td>3349</td>\n",
              "    </tr>\n",
              "    <tr>\n",
              "      <th>551</th>\n",
              "      <td>1024049024</td>\n",
              "      <td>20141203T000000</td>\n",
              "      <td>1740000</td>\n",
              "      <td>5</td>\n",
              "      <td>3.50</td>\n",
              "      <td>4870</td>\n",
              "      <td>7700</td>\n",
              "      <td>2.5</td>\n",
              "      <td>0</td>\n",
              "      <td>3</td>\n",
              "      <td>5</td>\n",
              "      <td>10</td>\n",
              "      <td>3650</td>\n",
              "      <td>1220</td>\n",
              "      <td>86</td>\n",
              "      <td>0</td>\n",
              "      <td>98144</td>\n",
              "      <td>47.5832</td>\n",
              "      <td>-122.290</td>\n",
              "      <td>3220</td>\n",
              "      <td>7700</td>\n",
              "      <td>1</td>\n",
              "      <td>12570</td>\n",
              "    </tr>\n",
              "    <tr>\n",
              "      <th>763</th>\n",
              "      <td>9268851670</td>\n",
              "      <td>20150424T000000</td>\n",
              "      <td>645000</td>\n",
              "      <td>3</td>\n",
              "      <td>2.50</td>\n",
              "      <td>2170</td>\n",
              "      <td>1984</td>\n",
              "      <td>2.5</td>\n",
              "      <td>0</td>\n",
              "      <td>0</td>\n",
              "      <td>3</td>\n",
              "      <td>8</td>\n",
              "      <td>2170</td>\n",
              "      <td>0</td>\n",
              "      <td>7</td>\n",
              "      <td>0</td>\n",
              "      <td>98027</td>\n",
              "      <td>47.5401</td>\n",
              "      <td>-122.027</td>\n",
              "      <td>2150</td>\n",
              "      <td>1984</td>\n",
              "      <td>0</td>\n",
              "      <td>4154</td>\n",
              "    </tr>\n",
              "    <tr>\n",
              "      <th>897</th>\n",
              "      <td>9831200520</td>\n",
              "      <td>20141006T000000</td>\n",
              "      <td>1440000</td>\n",
              "      <td>4</td>\n",
              "      <td>3.00</td>\n",
              "      <td>3720</td>\n",
              "      <td>5000</td>\n",
              "      <td>2.5</td>\n",
              "      <td>0</td>\n",
              "      <td>0</td>\n",
              "      <td>5</td>\n",
              "      <td>9</td>\n",
              "      <td>2720</td>\n",
              "      <td>1000</td>\n",
              "      <td>110</td>\n",
              "      <td>0</td>\n",
              "      <td>98102</td>\n",
              "      <td>47.6282</td>\n",
              "      <td>-122.322</td>\n",
              "      <td>2610</td>\n",
              "      <td>5000</td>\n",
              "      <td>1</td>\n",
              "      <td>8720</td>\n",
              "    </tr>\n",
              "    <tr>\n",
              "      <th>...</th>\n",
              "      <td>...</td>\n",
              "      <td>...</td>\n",
              "      <td>...</td>\n",
              "      <td>...</td>\n",
              "      <td>...</td>\n",
              "      <td>...</td>\n",
              "      <td>...</td>\n",
              "      <td>...</td>\n",
              "      <td>...</td>\n",
              "      <td>...</td>\n",
              "      <td>...</td>\n",
              "      <td>...</td>\n",
              "      <td>...</td>\n",
              "      <td>...</td>\n",
              "      <td>...</td>\n",
              "      <td>...</td>\n",
              "      <td>...</td>\n",
              "      <td>...</td>\n",
              "      <td>...</td>\n",
              "      <td>...</td>\n",
              "      <td>...</td>\n",
              "      <td>...</td>\n",
              "      <td>...</td>\n",
              "    </tr>\n",
              "    <tr>\n",
              "      <th>21256</th>\n",
              "      <td>4021100095</td>\n",
              "      <td>20150121T000000</td>\n",
              "      <td>290000</td>\n",
              "      <td>4</td>\n",
              "      <td>1.75</td>\n",
              "      <td>1820</td>\n",
              "      <td>22043</td>\n",
              "      <td>2.5</td>\n",
              "      <td>0</td>\n",
              "      <td>0</td>\n",
              "      <td>4</td>\n",
              "      <td>7</td>\n",
              "      <td>1820</td>\n",
              "      <td>0</td>\n",
              "      <td>97</td>\n",
              "      <td>0</td>\n",
              "      <td>98155</td>\n",
              "      <td>47.7606</td>\n",
              "      <td>-122.280</td>\n",
              "      <td>1880</td>\n",
              "      <td>19961</td>\n",
              "      <td>0</td>\n",
              "      <td>23863</td>\n",
              "    </tr>\n",
              "    <tr>\n",
              "      <th>21272</th>\n",
              "      <td>9268851800</td>\n",
              "      <td>20140505T000000</td>\n",
              "      <td>415000</td>\n",
              "      <td>3</td>\n",
              "      <td>2.25</td>\n",
              "      <td>1620</td>\n",
              "      <td>998</td>\n",
              "      <td>2.5</td>\n",
              "      <td>0</td>\n",
              "      <td>0</td>\n",
              "      <td>3</td>\n",
              "      <td>8</td>\n",
              "      <td>1540</td>\n",
              "      <td>80</td>\n",
              "      <td>5</td>\n",
              "      <td>0</td>\n",
              "      <td>98027</td>\n",
              "      <td>47.5401</td>\n",
              "      <td>-122.027</td>\n",
              "      <td>1620</td>\n",
              "      <td>1299</td>\n",
              "      <td>0</td>\n",
              "      <td>2618</td>\n",
              "    </tr>\n",
              "    <tr>\n",
              "      <th>21572</th>\n",
              "      <td>8043700105</td>\n",
              "      <td>20150417T000000</td>\n",
              "      <td>2300000</td>\n",
              "      <td>4</td>\n",
              "      <td>4.00</td>\n",
              "      <td>4360</td>\n",
              "      <td>8175</td>\n",
              "      <td>2.5</td>\n",
              "      <td>1</td>\n",
              "      <td>4</td>\n",
              "      <td>3</td>\n",
              "      <td>10</td>\n",
              "      <td>3940</td>\n",
              "      <td>420</td>\n",
              "      <td>8</td>\n",
              "      <td>0</td>\n",
              "      <td>98008</td>\n",
              "      <td>47.5724</td>\n",
              "      <td>-122.104</td>\n",
              "      <td>2670</td>\n",
              "      <td>8525</td>\n",
              "      <td>1</td>\n",
              "      <td>12535</td>\n",
              "    </tr>\n",
              "    <tr>\n",
              "      <th>21579</th>\n",
              "      <td>4141800215</td>\n",
              "      <td>20141126T000000</td>\n",
              "      <td>1500000</td>\n",
              "      <td>4</td>\n",
              "      <td>3.75</td>\n",
              "      <td>3770</td>\n",
              "      <td>4000</td>\n",
              "      <td>2.5</td>\n",
              "      <td>0</td>\n",
              "      <td>0</td>\n",
              "      <td>5</td>\n",
              "      <td>9</td>\n",
              "      <td>2890</td>\n",
              "      <td>880</td>\n",
              "      <td>99</td>\n",
              "      <td>0</td>\n",
              "      <td>98122</td>\n",
              "      <td>47.6157</td>\n",
              "      <td>-122.287</td>\n",
              "      <td>2800</td>\n",
              "      <td>5000</td>\n",
              "      <td>1</td>\n",
              "      <td>7770</td>\n",
              "    </tr>\n",
              "    <tr>\n",
              "      <th>21607</th>\n",
              "      <td>7942601435</td>\n",
              "      <td>20150324T000000</td>\n",
              "      <td>835000</td>\n",
              "      <td>6</td>\n",
              "      <td>2.00</td>\n",
              "      <td>3560</td>\n",
              "      <td>5120</td>\n",
              "      <td>2.5</td>\n",
              "      <td>0</td>\n",
              "      <td>2</td>\n",
              "      <td>3</td>\n",
              "      <td>9</td>\n",
              "      <td>3560</td>\n",
              "      <td>0</td>\n",
              "      <td>115</td>\n",
              "      <td>0</td>\n",
              "      <td>98122</td>\n",
              "      <td>47.6056</td>\n",
              "      <td>-122.311</td>\n",
              "      <td>2130</td>\n",
              "      <td>5120</td>\n",
              "      <td>1</td>\n",
              "      <td>8680</td>\n",
              "    </tr>\n",
              "  </tbody>\n",
              "</table>\n",
              "<p>159 rows × 23 columns</p>\n",
              "</div>"
            ],
            "text/plain": [
              "              cid         dayhours  ...  furnished  total_area\n",
              "146    9528100899  20150428T000000  ...          1        3180\n",
              "343    6821102317  20141209T000000  ...          1        3349\n",
              "551    1024049024  20141203T000000  ...          1       12570\n",
              "763    9268851670  20150424T000000  ...          0        4154\n",
              "897    9831200520  20141006T000000  ...          1        8720\n",
              "...           ...              ...  ...        ...         ...\n",
              "21256  4021100095  20150121T000000  ...          0       23863\n",
              "21272  9268851800  20140505T000000  ...          0        2618\n",
              "21572  8043700105  20150417T000000  ...          1       12535\n",
              "21579  4141800215  20141126T000000  ...          1        7770\n",
              "21607  7942601435  20150324T000000  ...          1        8680\n",
              "\n",
              "[159 rows x 23 columns]"
            ]
          },
          "metadata": {
            "tags": []
          },
          "execution_count": 47
        }
      ]
    },
    {
      "cell_type": "code",
      "metadata": {
        "colab": {
          "base_uri": "https://localhost:8080/",
          "height": 317
        },
        "id": "0TvppxCaIV6y",
        "outputId": "787e79de-f4cf-45fd-a73f-3aeb21f12c6f"
      },
      "source": [
        "data1[data1['ceil']==2.5].describe()"
      ],
      "execution_count": null,
      "outputs": [
        {
          "output_type": "execute_result",
          "data": {
            "text/html": [
              "<div>\n",
              "<style scoped>\n",
              "    .dataframe tbody tr th:only-of-type {\n",
              "        vertical-align: middle;\n",
              "    }\n",
              "\n",
              "    .dataframe tbody tr th {\n",
              "        vertical-align: top;\n",
              "    }\n",
              "\n",
              "    .dataframe thead th {\n",
              "        text-align: right;\n",
              "    }\n",
              "</style>\n",
              "<table border=\"1\" class=\"dataframe\">\n",
              "  <thead>\n",
              "    <tr style=\"text-align: right;\">\n",
              "      <th></th>\n",
              "      <th>cid</th>\n",
              "      <th>price</th>\n",
              "      <th>room_bed</th>\n",
              "      <th>room_bath</th>\n",
              "      <th>living_measure</th>\n",
              "      <th>lot_measure</th>\n",
              "      <th>ceil</th>\n",
              "      <th>coast</th>\n",
              "      <th>sight</th>\n",
              "      <th>condition</th>\n",
              "      <th>quality</th>\n",
              "      <th>ceil_measure</th>\n",
              "      <th>basement</th>\n",
              "      <th>yr_built</th>\n",
              "      <th>yr_renovated</th>\n",
              "      <th>zipcode</th>\n",
              "      <th>lat</th>\n",
              "      <th>long</th>\n",
              "      <th>living_measure15</th>\n",
              "      <th>lot_measure15</th>\n",
              "      <th>furnished</th>\n",
              "      <th>total_area</th>\n",
              "    </tr>\n",
              "  </thead>\n",
              "  <tbody>\n",
              "    <tr>\n",
              "      <th>count</th>\n",
              "      <td>1.590000e+02</td>\n",
              "      <td>1.590000e+02</td>\n",
              "      <td>159.000000</td>\n",
              "      <td>159.00000</td>\n",
              "      <td>159.000000</td>\n",
              "      <td>159.000000</td>\n",
              "      <td>159.0</td>\n",
              "      <td>159.000000</td>\n",
              "      <td>159.000000</td>\n",
              "      <td>159.000000</td>\n",
              "      <td>159.000000</td>\n",
              "      <td>159.000000</td>\n",
              "      <td>159.000000</td>\n",
              "      <td>159.000000</td>\n",
              "      <td>159.000000</td>\n",
              "      <td>159.000000</td>\n",
              "      <td>159.000000</td>\n",
              "      <td>159.000000</td>\n",
              "      <td>159.000000</td>\n",
              "      <td>159.000000</td>\n",
              "      <td>159.000000</td>\n",
              "      <td>159.000000</td>\n",
              "    </tr>\n",
              "    <tr>\n",
              "      <th>mean</th>\n",
              "      <td>4.567588e+09</td>\n",
              "      <td>1.061788e+06</td>\n",
              "      <td>3.924528</td>\n",
              "      <td>2.81761</td>\n",
              "      <td>3131.849057</td>\n",
              "      <td>17486.905660</td>\n",
              "      <td>2.5</td>\n",
              "      <td>0.012579</td>\n",
              "      <td>0.515723</td>\n",
              "      <td>3.484277</td>\n",
              "      <td>8.893082</td>\n",
              "      <td>2785.201258</td>\n",
              "      <td>346.647799</td>\n",
              "      <td>53.251572</td>\n",
              "      <td>226.314465</td>\n",
              "      <td>98092.358491</td>\n",
              "      <td>47.585403</td>\n",
              "      <td>-122.242912</td>\n",
              "      <td>2353.075472</td>\n",
              "      <td>17267.591195</td>\n",
              "      <td>0.566038</td>\n",
              "      <td>20618.754717</td>\n",
              "    </tr>\n",
              "    <tr>\n",
              "      <th>std</th>\n",
              "      <td>2.916106e+09</td>\n",
              "      <td>8.630544e+05</td>\n",
              "      <td>1.070592</td>\n",
              "      <td>0.87858</td>\n",
              "      <td>1438.181346</td>\n",
              "      <td>41926.403074</td>\n",
              "      <td>0.0</td>\n",
              "      <td>0.111799</td>\n",
              "      <td>1.107257</td>\n",
              "      <td>0.701313</td>\n",
              "      <td>1.305253</td>\n",
              "      <td>1100.522631</td>\n",
              "      <td>541.177585</td>\n",
              "      <td>44.800962</td>\n",
              "      <td>635.422875</td>\n",
              "      <td>51.538026</td>\n",
              "      <td>0.106354</td>\n",
              "      <td>0.134495</td>\n",
              "      <td>735.781859</td>\n",
              "      <td>48222.851820</td>\n",
              "      <td>0.497186</td>\n",
              "      <td>42174.267135</td>\n",
              "    </tr>\n",
              "    <tr>\n",
              "      <th>min</th>\n",
              "      <td>1.200691e+08</td>\n",
              "      <td>2.550000e+05</td>\n",
              "      <td>1.000000</td>\n",
              "      <td>1.00000</td>\n",
              "      <td>990.000000</td>\n",
              "      <td>736.000000</td>\n",
              "      <td>2.5</td>\n",
              "      <td>0.000000</td>\n",
              "      <td>0.000000</td>\n",
              "      <td>3.000000</td>\n",
              "      <td>6.000000</td>\n",
              "      <td>880.000000</td>\n",
              "      <td>0.000000</td>\n",
              "      <td>1.000000</td>\n",
              "      <td>0.000000</td>\n",
              "      <td>98001.000000</td>\n",
              "      <td>47.196000</td>\n",
              "      <td>-122.408000</td>\n",
              "      <td>1030.000000</td>\n",
              "      <td>1068.000000</td>\n",
              "      <td>0.000000</td>\n",
              "      <td>1726.000000</td>\n",
              "    </tr>\n",
              "    <tr>\n",
              "      <th>25%</th>\n",
              "      <td>1.957201e+09</td>\n",
              "      <td>5.500000e+05</td>\n",
              "      <td>3.000000</td>\n",
              "      <td>2.25000</td>\n",
              "      <td>2165.000000</td>\n",
              "      <td>2880.000000</td>\n",
              "      <td>2.5</td>\n",
              "      <td>0.000000</td>\n",
              "      <td>0.000000</td>\n",
              "      <td>3.000000</td>\n",
              "      <td>8.000000</td>\n",
              "      <td>1960.000000</td>\n",
              "      <td>0.000000</td>\n",
              "      <td>8.500000</td>\n",
              "      <td>0.000000</td>\n",
              "      <td>98040.000000</td>\n",
              "      <td>47.544600</td>\n",
              "      <td>-122.333500</td>\n",
              "      <td>1755.000000</td>\n",
              "      <td>3237.500000</td>\n",
              "      <td>0.000000</td>\n",
              "      <td>5886.000000</td>\n",
              "    </tr>\n",
              "    <tr>\n",
              "      <th>50%</th>\n",
              "      <td>3.751602e+09</td>\n",
              "      <td>7.992000e+05</td>\n",
              "      <td>4.000000</td>\n",
              "      <td>2.50000</td>\n",
              "      <td>2850.000000</td>\n",
              "      <td>5400.000000</td>\n",
              "      <td>2.5</td>\n",
              "      <td>0.000000</td>\n",
              "      <td>0.000000</td>\n",
              "      <td>3.000000</td>\n",
              "      <td>9.000000</td>\n",
              "      <td>2710.000000</td>\n",
              "      <td>0.000000</td>\n",
              "      <td>36.000000</td>\n",
              "      <td>0.000000</td>\n",
              "      <td>98109.000000</td>\n",
              "      <td>47.618100</td>\n",
              "      <td>-122.294000</td>\n",
              "      <td>2240.000000</td>\n",
              "      <td>5352.000000</td>\n",
              "      <td>1.000000</td>\n",
              "      <td>8720.000000</td>\n",
              "    </tr>\n",
              "    <tr>\n",
              "      <th>75%</th>\n",
              "      <td>7.181150e+09</td>\n",
              "      <td>1.285000e+06</td>\n",
              "      <td>4.000000</td>\n",
              "      <td>3.25000</td>\n",
              "      <td>3736.000000</td>\n",
              "      <td>9086.000000</td>\n",
              "      <td>2.5</td>\n",
              "      <td>0.000000</td>\n",
              "      <td>0.000000</td>\n",
              "      <td>4.000000</td>\n",
              "      <td>10.000000</td>\n",
              "      <td>3405.000000</td>\n",
              "      <td>555.000000</td>\n",
              "      <td>105.000000</td>\n",
              "      <td>0.000000</td>\n",
              "      <td>98120.500000</td>\n",
              "      <td>47.644200</td>\n",
              "      <td>-122.144000</td>\n",
              "      <td>2790.000000</td>\n",
              "      <td>7851.000000</td>\n",
              "      <td>1.000000</td>\n",
              "      <td>12838.000000</td>\n",
              "    </tr>\n",
              "    <tr>\n",
              "      <th>max</th>\n",
              "      <td>9.831201e+09</td>\n",
              "      <td>7.700000e+06</td>\n",
              "      <td>7.000000</td>\n",
              "      <td>8.00000</td>\n",
              "      <td>12050.000000</td>\n",
              "      <td>237402.000000</td>\n",
              "      <td>2.5</td>\n",
              "      <td>1.000000</td>\n",
              "      <td>4.000000</td>\n",
              "      <td>5.000000</td>\n",
              "      <td>13.000000</td>\n",
              "      <td>8570.000000</td>\n",
              "      <td>3480.000000</td>\n",
              "      <td>115.000000</td>\n",
              "      <td>2014.000000</td>\n",
              "      <td>98199.000000</td>\n",
              "      <td>47.761300</td>\n",
              "      <td>-121.932000</td>\n",
              "      <td>4470.000000</td>\n",
              "      <td>326097.000000</td>\n",
              "      <td>1.000000</td>\n",
              "      <td>240922.000000</td>\n",
              "    </tr>\n",
              "  </tbody>\n",
              "</table>\n",
              "</div>"
            ],
            "text/plain": [
              "                cid         price  ...   furnished     total_area\n",
              "count  1.590000e+02  1.590000e+02  ...  159.000000     159.000000\n",
              "mean   4.567588e+09  1.061788e+06  ...    0.566038   20618.754717\n",
              "std    2.916106e+09  8.630544e+05  ...    0.497186   42174.267135\n",
              "min    1.200691e+08  2.550000e+05  ...    0.000000    1726.000000\n",
              "25%    1.957201e+09  5.500000e+05  ...    0.000000    5886.000000\n",
              "50%    3.751602e+09  7.992000e+05  ...    1.000000    8720.000000\n",
              "75%    7.181150e+09  1.285000e+06  ...    1.000000   12838.000000\n",
              "max    9.831201e+09  7.700000e+06  ...    1.000000  240922.000000\n",
              "\n",
              "[8 rows x 22 columns]"
            ]
          },
          "metadata": {
            "tags": []
          },
          "execution_count": 48
        }
      ]
    },
    {
      "cell_type": "code",
      "metadata": {
        "colab": {
          "base_uri": "https://localhost:8080/",
          "height": 307
        },
        "id": "qnT4Eks5-xW_",
        "outputId": "9e8e57d4-c0a9-4d5c-b56f-8160366fb968"
      },
      "source": [
        "sns.boxplot(x='coast',y='price',data=data_new)\r\n",
        "# As coast view is present the price increases"
      ],
      "execution_count": null,
      "outputs": [
        {
          "output_type": "execute_result",
          "data": {
            "text/plain": [
              "<matplotlib.axes._subplots.AxesSubplot at 0x7f08908834e0>"
            ]
          },
          "metadata": {
            "tags": []
          },
          "execution_count": 49
        },
        {
          "output_type": "display_data",
          "data": {
            "image/png": "[encoded data removed]",
            "text/plain": [
              "<Figure size 432x288 with 1 Axes>"
            ]
          },
          "metadata": {
            "tags": [],
            "needs_background": "light"
          }
        }
      ]
    },
    {
      "cell_type": "code",
      "metadata": {
        "colab": {
          "base_uri": "https://localhost:8080/",
          "height": 307
        },
        "id": "1yhYMOjo_PwP",
        "outputId": "7c55c0c7-896c-4f20-c362-cfa5e8eb6929"
      },
      "source": [
        "sns.boxplot(x='sight',y='price',data=data_new)\r\n",
        "#### There are one value which have much high value where sight =0,2,3 and  4\r\n",
        "##The houses which are viewed maximum no of times has high price range"
      ],
      "execution_count": null,
      "outputs": [
        {
          "output_type": "execute_result",
          "data": {
            "text/plain": [
              "<matplotlib.axes._subplots.AxesSubplot at 0x7f08909c2588>"
            ]
          },
          "metadata": {
            "tags": []
          },
          "execution_count": 50
        },
        {
          "output_type": "display_data",
          "data": {
            "image/png": "[encoded data removed]",
            "text/plain": [
              "<Figure size 432x288 with 1 Axes>"
            ]
          },
          "metadata": {
            "tags": [],
            "needs_background": "light"
          }
        }
      ]
    },
    {
      "cell_type": "code",
      "metadata": {
        "colab": {
          "base_uri": "https://localhost:8080/",
          "height": 307
        },
        "id": "0LFr1sXNFLtO",
        "outputId": "75a4e567-7b51-4138-d50a-24775f440e65"
      },
      "source": [
        "sns.boxplot(x='condition',y='price',data=data_new)\r\n",
        "#### There are one value which have much high value where sight =0,2,3 and  4\r\n",
        "## Else there is slight positive relation(it seems) as such in the conditions and value,  \r\n",
        "## As the condition(overall) rating increases the prices also got increased"
      ],
      "execution_count": null,
      "outputs": [
        {
          "output_type": "execute_result",
          "data": {
            "text/plain": [
              "<matplotlib.axes._subplots.AxesSubplot at 0x7f08909cf470>"
            ]
          },
          "metadata": {
            "tags": []
          },
          "execution_count": 51
        },
        {
          "output_type": "display_data",
          "data": {
            "image/png": "[encoded data removed]",
            "text/plain": [
              "<Figure size 432x288 with 1 Axes>"
            ]
          },
          "metadata": {
            "tags": [],
            "needs_background": "light"
          }
        }
      ]
    },
    {
      "cell_type": "code",
      "metadata": {
        "colab": {
          "base_uri": "https://localhost:8080/",
          "height": 307
        },
        "id": "o8LKwjf3GZox",
        "outputId": "433666a0-7a39-4ea8-ea80-d192ac5e806b"
      },
      "source": [
        "sns.boxplot(x='furnished',y='price',data=data_new)\n",
        "## The furnished house has more price & clearly depicted in the below figure"
      ],
      "execution_count": null,
      "outputs": [
        {
          "output_type": "execute_result",
          "data": {
            "text/plain": [
              "<matplotlib.axes._subplots.AxesSubplot at 0x7f089bc57f28>"
            ]
          },
          "metadata": {
            "tags": []
          },
          "execution_count": 52
        },
        {
          "output_type": "display_data",
          "data": {
            "image/png": "[encoded data removed]",
            "text/plain": [
              "<Figure size 432x288 with 1 Axes>"
            ]
          },
          "metadata": {
            "tags": [],
            "needs_background": "light"
          }
        }
      ]
    },
    {
      "cell_type": "code",
      "metadata": {
        "colab": {
          "base_uri": "https://localhost:8080/",
          "height": 313
        },
        "id": "k97nslH0I2vV",
        "outputId": "d65a4c30-470a-49b6-b7bc-2b310dda2f5a"
      },
      "source": [
        "sns.set(color_codes=True)\r\n",
        "sns.boxplot(x='quality',y='price',data=data_new)\r\n",
        "## As the quality increases the price also increases"
      ],
      "execution_count": null,
      "outputs": [
        {
          "output_type": "execute_result",
          "data": {
            "text/plain": [
              "<matplotlib.axes._subplots.AxesSubplot at 0x7f08929416d8>"
            ]
          },
          "metadata": {
            "tags": []
          },
          "execution_count": 53
        },
        {
          "output_type": "display_data",
          "data": {
            "image/png": "[encoded data removed]",
            "text/plain": [
              "<Figure size 432x288 with 1 Axes>"
            ]
          },
          "metadata": {
            "tags": []
          }
        }
      ]
    },
    {
      "cell_type": "code",
      "metadata": {
        "colab": {
          "base_uri": "https://localhost:8080/",
          "height": 453
        },
        "id": "vKo1OdboaCb4",
        "outputId": "027527df-0b4d-4e0c-ea57-4791e18df73a"
      },
      "source": [
        "sns.factorplot(x='zipcode',y='price',data=data_new)\n",
        "## specific zipcode(areas) have high price"
      ],
      "execution_count": null,
      "outputs": [
        {
          "output_type": "stream",
          "text": [
            "/usr/local/lib/python3.6/dist-packages/seaborn/categorical.py:3714: UserWarning: The `factorplot` function has been renamed to `catplot`. The original name will be removed in a future release. Please update your code. Note that the default `kind` in `factorplot` (`'point'`) has changed `'strip'` in `catplot`.\n",
            "  warnings.warn(msg)\n"
          ],
          "name": "stderr"
        },
        {
          "output_type": "execute_result",
          "data": {
            "text/plain": [
              "<seaborn.axisgrid.FacetGrid at 0x7f0892a70a58>"
            ]
          },
          "metadata": {
            "tags": []
          },
          "execution_count": 54
        },
        {
          "output_type": "display_data",
          "data": {
            "image/png": "[encoded data removed]",
            "text/plain": [
              "<Figure size 360x360 with 1 Axes>"
            ]
          },
          "metadata": {
            "tags": []
          }
        }
      ]
    },
    {
      "cell_type": "code",
      "metadata": {
        "id": "fM-ZLKupIFTL",
        "colab": {
          "base_uri": "https://localhost:8080/"
        },
        "outputId": "08d33de2-7bc7-406e-f345-068e96390b62"
      },
      "source": [
        "#we will create new data frame that can be used for modeling\n",
        "#We will convert the dayhours to 'month_year' as sale month-year is relevant for analysis\n",
        "house_dfr=data_new.copy() ## In case we needed in the future\n",
        "data_new.dayhours=data_new.dayhours.str.replace('T000000', \"\")\n",
        "data_new.dayhours=pd.to_datetime(data_new.dayhours,format='%Y%m%d')\n",
        "data_new['month_year']=data_new['dayhours'].apply(lambda x: x.strftime('%B-%Y'))\n",
        "data_new['month_year'].head()"
      ],
      "execution_count": null,
      "outputs": [
        {
          "output_type": "execute_result",
          "data": {
            "text/plain": [
              "0    November-2014\n",
              "1    December-2014\n",
              "2       April-2015\n",
              "3         May-2014\n",
              "4       April-2015\n",
              "Name: month_year, dtype: object"
            ]
          },
          "metadata": {
            "tags": []
          },
          "execution_count": 55
        }
      ]
    },
    {
      "cell_type": "code",
      "metadata": {
        "id": "9HfsGg9IIFTM",
        "colab": {
          "base_uri": "https://localhost:8080/"
        },
        "outputId": "296f7e39-dd06-427d-b6cc-e405131bba2b"
      },
      "source": [
        "data_new['month_year'].value_counts()"
      ],
      "execution_count": null,
      "outputs": [
        {
          "output_type": "execute_result",
          "data": {
            "text/plain": [
              "April-2015        2210\n",
              "July-2014         2204\n",
              "June-2014         2164\n",
              "August-2014       1919\n",
              "October-2014      1865\n",
              "March-2015        1852\n",
              "September-2014    1761\n",
              "May-2014          1760\n",
              "December-2014     1453\n",
              "November-2014     1396\n",
              "February-2015     1235\n",
              "January-2015       967\n",
              "May-2015           639\n",
              "Name: month_year, dtype: int64"
            ]
          },
          "metadata": {
            "tags": []
          },
          "execution_count": 56
        }
      ]
    },
    {
      "cell_type": "code",
      "metadata": {
        "colab": {
          "base_uri": "https://localhost:8080/",
          "height": 310
        },
        "id": "X0rFgMXYLJrt",
        "outputId": "fdc0d1ec-3e3e-406b-a420-b3ca29c9a313"
      },
      "source": [
        "sns.set(color_codes=True)\n",
        "plt.figure(figsize=(20,5))\n",
        "sns.boxplot(x='month_year',y='price',data=data_new)\n",
        "## There is no relation between price and the time of year it sold"
      ],
      "execution_count": null,
      "outputs": [
        {
          "output_type": "execute_result",
          "data": {
            "text/plain": [
              "<matplotlib.axes._subplots.AxesSubplot at 0x7f0890753630>"
            ]
          },
          "metadata": {
            "tags": []
          },
          "execution_count": 57
        },
        {
          "output_type": "display_data",
          "data": {
            "image/png": "[encoded data removed]",
            "text/plain": [
              "<Figure size 1440x360 with 1 Axes>"
            ]
          },
          "metadata": {
            "tags": []
          }
        }
      ]
    },
    {
      "cell_type": "code",
      "metadata": {
        "colab": {
          "base_uri": "https://localhost:8080/",
          "height": 350
        },
        "id": "hp70FgMWMhod",
        "outputId": "c1f037d2-896e-4837-81ec-4ecbe0e8d3ca"
      },
      "source": [
        "plt.figure(figsize=(20,5))\n",
        "sns.countplot(data_new['month_year'])\n",
        "## The house sold in  may'15 and jan'15 have less frequency to be sold"
      ],
      "execution_count": null,
      "outputs": [
        {
          "output_type": "stream",
          "text": [
            "/usr/local/lib/python3.6/dist-packages/seaborn/_decorators.py:43: FutureWarning: Pass the following variable as a keyword arg: x. From version 0.12, the only valid positional argument will be `data`, and passing other arguments without an explicit keyword will result in an error or misinterpretation.\n",
            "  FutureWarning\n"
          ],
          "name": "stderr"
        },
        {
          "output_type": "execute_result",
          "data": {
            "text/plain": [
              "<matplotlib.axes._subplots.AxesSubplot at 0x7f08905cb7b8>"
            ]
          },
          "metadata": {
            "tags": []
          },
          "execution_count": 58
        },
        {
          "output_type": "display_data",
          "data": {
            "image/png": "[encoded data removed]",
            "text/plain": [
              "<Figure size 1440x360 with 1 Axes>"
            ]
          },
          "metadata": {
            "tags": []
          }
        }
      ]
    },
    {
      "cell_type": "code",
      "metadata": {
        "id": "OXz9hhjoIFTN",
        "colab": {
          "base_uri": "https://localhost:8080/"
        },
        "outputId": "df99e0f6-024e-4fda-ad19-07a84e068eb2"
      },
      "source": [
        "data_new.groupby(['month_year'])['price'].agg('mean')\r\n",
        "## To see if there is a relation between between the month_year and the price\r\n",
        "## But it seems there is no relation between both\r\n",
        "#### I think we should drop this month_year column"
      ],
      "execution_count": null,
      "outputs": [
        {
          "output_type": "execute_result",
          "data": {
            "text/plain": [
              "month_year\n",
              "April-2015        563229.323982\n",
              "August-2014       537243.750391\n",
              "December-2014     524885.723331\n",
              "February-2015     508730.893927\n",
              "January-2015      526442.150982\n",
              "July-2014         545731.205989\n",
              "June-2014         558900.170980\n",
              "March-2015        542716.876890\n",
              "May-2014          548928.153409\n",
              "May-2015          559461.424100\n",
              "November-2014     523412.287966\n",
              "October-2014      540918.287399\n",
              "September-2014    531460.377626\n",
              "Name: price, dtype: float64"
            ]
          },
          "metadata": {
            "tags": []
          },
          "execution_count": 59
        }
      ]
    },
    {
      "cell_type": "code",
      "metadata": {
        "colab": {
          "base_uri": "https://localhost:8080/",
          "height": 117
        },
        "id": "gPGuu1tnVeLc",
        "outputId": "cfcaca80-f033-4f0f-fa45-146f454988ea"
      },
      "source": [
        "data_new.head(1)"
      ],
      "execution_count": null,
      "outputs": [
        {
          "output_type": "execute_result",
          "data": {
            "text/html": [
              "<div>\n",
              "<style scoped>\n",
              "    .dataframe tbody tr th:only-of-type {\n",
              "        vertical-align: middle;\n",
              "    }\n",
              "\n",
              "    .dataframe tbody tr th {\n",
              "        vertical-align: top;\n",
              "    }\n",
              "\n",
              "    .dataframe thead th {\n",
              "        text-align: right;\n",
              "    }\n",
              "</style>\n",
              "<table border=\"1\" class=\"dataframe\">\n",
              "  <thead>\n",
              "    <tr style=\"text-align: right;\">\n",
              "      <th></th>\n",
              "      <th>cid</th>\n",
              "      <th>dayhours</th>\n",
              "      <th>price</th>\n",
              "      <th>room_bed</th>\n",
              "      <th>room_bath</th>\n",
              "      <th>living_measure</th>\n",
              "      <th>ceil</th>\n",
              "      <th>coast</th>\n",
              "      <th>sight</th>\n",
              "      <th>condition</th>\n",
              "      <th>quality</th>\n",
              "      <th>ceil_measure</th>\n",
              "      <th>basement</th>\n",
              "      <th>yr_built</th>\n",
              "      <th>yr_renovated</th>\n",
              "      <th>zipcode</th>\n",
              "      <th>lat</th>\n",
              "      <th>long</th>\n",
              "      <th>living_measure15</th>\n",
              "      <th>lot_measure15</th>\n",
              "      <th>furnished</th>\n",
              "      <th>total_area</th>\n",
              "      <th>month_year</th>\n",
              "    </tr>\n",
              "  </thead>\n",
              "  <tbody>\n",
              "    <tr>\n",
              "      <th>0</th>\n",
              "      <td>3034200666</td>\n",
              "      <td>2014-11-07</td>\n",
              "      <td>808100</td>\n",
              "      <td>4</td>\n",
              "      <td>3.25</td>\n",
              "      <td>3020</td>\n",
              "      <td>1.0</td>\n",
              "      <td>0</td>\n",
              "      <td>0</td>\n",
              "      <td>5</td>\n",
              "      <td>9</td>\n",
              "      <td>3020</td>\n",
              "      <td>0</td>\n",
              "      <td>59</td>\n",
              "      <td>0</td>\n",
              "      <td>98133</td>\n",
              "      <td>47.7174</td>\n",
              "      <td>-122.336</td>\n",
              "      <td>2120</td>\n",
              "      <td>7553</td>\n",
              "      <td>1</td>\n",
              "      <td>16477</td>\n",
              "      <td>November-2014</td>\n",
              "    </tr>\n",
              "  </tbody>\n",
              "</table>\n",
              "</div>"
            ],
            "text/plain": [
              "          cid   dayhours   price  ...  furnished  total_area     month_year\n",
              "0  3034200666 2014-11-07  808100  ...          1       16477  November-2014\n",
              "\n",
              "[1 rows x 23 columns]"
            ]
          },
          "metadata": {
            "tags": []
          },
          "execution_count": 60
        }
      ]
    },
    {
      "cell_type": "code",
      "metadata": {
        "colab": {
          "base_uri": "https://localhost:8080/",
          "height": 313
        },
        "id": "DvqW9HmeKq9t",
        "outputId": "5f3b5cfc-4ed0-4ab2-b4af-045050bc79e2"
      },
      "source": [
        "plt.scatter(data_new['yr_built'],data_new['price'])\r\n",
        "plt.xlabel('yr_built')\r\n",
        "plt.ylabel('price')\r\n",
        "corr2=data_new['yr_built'].corr(data_new['price'])\r\n",
        "corr2"
      ],
      "execution_count": null,
      "outputs": [
        {
          "output_type": "execute_result",
          "data": {
            "text/plain": [
              "-0.0523284590764434"
            ]
          },
          "metadata": {
            "tags": []
          },
          "execution_count": 61
        },
        {
          "output_type": "display_data",
          "data": {
            "image/png": "[encoded data removed]",
            "text/plain": [
              "<Figure size 432x288 with 1 Axes>"
            ]
          },
          "metadata": {
            "tags": []
          }
        }
      ]
    },
    {
      "cell_type": "code",
      "metadata": {
        "id": "TrAMJ-pvbpdb",
        "colab": {
          "base_uri": "https://localhost:8080/",
          "height": 313
        },
        "outputId": "3be4c2f1-efe6-45e7-f0d0-164f2f225106"
      },
      "source": [
        "sns.boxplot(x='yr_built',y='price',data=data_new)"
      ],
      "execution_count": null,
      "outputs": [
        {
          "output_type": "execute_result",
          "data": {
            "text/plain": [
              "<matplotlib.axes._subplots.AxesSubplot at 0x7f089036f9e8>"
            ]
          },
          "metadata": {
            "tags": []
          },
          "execution_count": 62
        },
        {
          "output_type": "display_data",
          "data": {
            "image/png": "[encoded data removed]",
            "text/plain": [
              "<Figure size 432x288 with 1 Axes>"
            ]
          },
          "metadata": {
            "tags": []
          }
        }
      ]
    },
    {
      "cell_type": "code",
      "metadata": {
        "id": "-AyU8T1dPiSe"
      },
      "source": [
        "data_new=data_new.drop(\"yr_built\",axis=1);##Dropping off the yr_built column as Absolutely no correlation"
      ],
      "execution_count": null,
      "outputs": []
    },
    {
      "cell_type": "code",
      "metadata": {
        "colab": {
          "base_uri": "https://localhost:8080/"
        },
        "id": "xrj0AYrLMfUz",
        "outputId": "93e776dc-e046-4165-daae-467278504bea"
      },
      "source": [
        "## Let's watch closely column yr_renovated\r\n",
        "data_new['yr_renovated'].describe()"
      ],
      "execution_count": null,
      "outputs": [
        {
          "output_type": "execute_result",
          "data": {
            "text/plain": [
              "count    21425.000000\n",
              "mean        84.586184\n",
              "std        402.102944\n",
              "min          0.000000\n",
              "25%          0.000000\n",
              "50%          0.000000\n",
              "75%          0.000000\n",
              "max       2015.000000\n",
              "Name: yr_renovated, dtype: float64"
            ]
          },
          "metadata": {
            "tags": []
          },
          "execution_count": 64
        }
      ]
    },
    {
      "cell_type": "code",
      "metadata": {
        "colab": {
          "base_uri": "https://localhost:8080/"
        },
        "id": "A0E7aT3zeh4R",
        "outputId": "847f3985-0f95-4dda-a96b-2cf8cd9d0a4d"
      },
      "source": [
        "## Changing column element to 1 if it is renovated else taking it to 0\r\n",
        "for i in range(1,len(data_new['yr_renovated'])):\r\n",
        "  if (data_new['yr_renovated'].iloc[i]>0):\r\n",
        "    data_new['yr_renovated'].iloc[i]=1"
      ],
      "execution_count": null,
      "outputs": [
        {
          "output_type": "stream",
          "text": [
            "/usr/local/lib/python3.6/dist-packages/pandas/core/indexing.py:670: SettingWithCopyWarning: \n",
            "A value is trying to be set on a copy of a slice from a DataFrame\n",
            "\n",
            "See the caveats in the documentation: https://pandas.pydata.org/pandas-docs/stable/user_guide/indexing.html#returning-a-view-versus-a-copy\n",
            "  iloc._setitem_with_indexer(indexer, value)\n"
          ],
          "name": "stderr"
        }
      ]
    },
    {
      "cell_type": "code",
      "metadata": {
        "colab": {
          "base_uri": "https://localhost:8080/"
        },
        "id": "mr4Lqnmt25US",
        "outputId": "03db0b63-23b4-44b1-e27a-db410b036961"
      },
      "source": [
        "data_new['yr_renovated'].value_counts().head(40)"
      ],
      "execution_count": null,
      "outputs": [
        {
          "output_type": "execute_result",
          "data": {
            "text/plain": [
              "0    20517\n",
              "1      908\n",
              "Name: yr_renovated, dtype: int64"
            ]
          },
          "metadata": {
            "tags": []
          },
          "execution_count": 66
        }
      ]
    },
    {
      "cell_type": "code",
      "metadata": {
        "colab": {
          "base_uri": "https://localhost:8080/",
          "height": 313
        },
        "id": "KeqRW1BZ4__x",
        "outputId": "fe317f41-7377-4333-a08d-0ff67d941de4"
      },
      "source": [
        "sns.boxplot(x='yr_renovated',y='price',data=data_new)\r\n",
        "## There is a slight significance that renovated room has slight high price"
      ],
      "execution_count": null,
      "outputs": [
        {
          "output_type": "execute_result",
          "data": {
            "text/plain": [
              "<matplotlib.axes._subplots.AxesSubplot at 0x7f088f816048>"
            ]
          },
          "metadata": {
            "tags": []
          },
          "execution_count": 67
        },
        {
          "output_type": "display_data",
          "data": {
            "image/png": "[encoded data removed]",
            "text/plain": [
              "<Figure size 432x288 with 1 Axes>"
            ]
          },
          "metadata": {
            "tags": []
          }
        }
      ]
    },
    {
      "cell_type": "code",
      "metadata": {
        "colab": {
          "base_uri": "https://localhost:8080/",
          "height": 285
        },
        "id": "7sdtiROhRTqP",
        "outputId": "eb50c9bc-1488-4005-cb2e-70d5df0fe949"
      },
      "source": [
        "plt.scatter(data_new['living_measure15'],data_new['lot_measure15'])\r\n",
        "##There is absolutely no relation"
      ],
      "execution_count": null,
      "outputs": [
        {
          "output_type": "execute_result",
          "data": {
            "text/plain": [
              "<matplotlib.collections.PathCollection at 0x7f088f6f4d30>"
            ]
          },
          "metadata": {
            "tags": []
          },
          "execution_count": 68
        },
        {
          "output_type": "display_data",
          "data": {
            "image/png": "[encoded data removed]",
            "text/plain": [
              "<Figure size 432x288 with 1 Axes>"
            ]
          },
          "metadata": {
            "tags": []
          }
        }
      ]
    },
    {
      "cell_type": "code",
      "metadata": {
        "colab": {
          "base_uri": "https://localhost:8080/",
          "height": 313
        },
        "id": "QTlFsj4LYYXu",
        "outputId": "524fa1c8-3481-468e-cdca-a23a514fdb22"
      },
      "source": [
        "plt.scatter(data_new['living_measure15'],data_new['price'])\r\n",
        "plt.xlabel('Living_measure15')\r\n",
        "plt.ylabel('Price')\r\n",
        "## Price increases as living_measure increases\r\n",
        "corr2=data_new['living_measure15'].corr(data_new['price'])\r\n",
        "corr2\r\n",
        "## Price increases as living_measure increases"
      ],
      "execution_count": null,
      "outputs": [
        {
          "output_type": "execute_result",
          "data": {
            "text/plain": [
              "0.5842024981379531"
            ]
          },
          "metadata": {
            "tags": []
          },
          "execution_count": 69
        },
        {
          "output_type": "display_data",
          "data": {
            "image/png": "[encoded data removed]",
            "text/plain": [
              "<Figure size 432x288 with 1 Axes>"
            ]
          },
          "metadata": {
            "tags": []
          }
        }
      ]
    },
    {
      "cell_type": "code",
      "metadata": {
        "colab": {
          "base_uri": "https://localhost:8080/",
          "height": 296
        },
        "id": "fdad1yjhZKEK",
        "outputId": "fe1c174e-d797-4dfe-b7d2-2164ef196d87"
      },
      "source": [
        "plt.scatter(data_new['lot_measure15'],data_new['price'])\r\n",
        "## Price is independent on lot_measure15\r\n",
        "####Can we drop lot_measure15\r\n",
        "corr2=data_new['lot_measure15'].corr(data_new['price'])\r\n",
        "corr2"
      ],
      "execution_count": null,
      "outputs": [
        {
          "output_type": "execute_result",
          "data": {
            "text/plain": [
              "0.08193161344847935"
            ]
          },
          "metadata": {
            "tags": []
          },
          "execution_count": 70
        },
        {
          "output_type": "display_data",
          "data": {
            "image/png": "[encoded data removed]",
            "text/plain": [
              "<Figure size 432x288 with 1 Axes>"
            ]
          },
          "metadata": {
            "tags": []
          }
        }
      ]
    },
    {
      "cell_type": "code",
      "metadata": {
        "id": "bJfROrL-QZPd"
      },
      "source": [
        "data_new=data_new.drop(\"lot_measure15\",axis=1);##Dropping off the lot_measure15 column as Absolutely no correlation"
      ],
      "execution_count": null,
      "outputs": []
    },
    {
      "cell_type": "code",
      "metadata": {
        "colab": {
          "base_uri": "https://localhost:8080/",
          "height": 117
        },
        "id": "J4GJetlkWgk3",
        "outputId": "560b48b6-a80c-4abc-a552-bc23f34818d8"
      },
      "source": [
        "data_new.head(1)"
      ],
      "execution_count": null,
      "outputs": [
        {
          "output_type": "execute_result",
          "data": {
            "text/html": [
              "<div>\n",
              "<style scoped>\n",
              "    .dataframe tbody tr th:only-of-type {\n",
              "        vertical-align: middle;\n",
              "    }\n",
              "\n",
              "    .dataframe tbody tr th {\n",
              "        vertical-align: top;\n",
              "    }\n",
              "\n",
              "    .dataframe thead th {\n",
              "        text-align: right;\n",
              "    }\n",
              "</style>\n",
              "<table border=\"1\" class=\"dataframe\">\n",
              "  <thead>\n",
              "    <tr style=\"text-align: right;\">\n",
              "      <th></th>\n",
              "      <th>cid</th>\n",
              "      <th>dayhours</th>\n",
              "      <th>price</th>\n",
              "      <th>room_bed</th>\n",
              "      <th>room_bath</th>\n",
              "      <th>living_measure</th>\n",
              "      <th>ceil</th>\n",
              "      <th>coast</th>\n",
              "      <th>sight</th>\n",
              "      <th>condition</th>\n",
              "      <th>quality</th>\n",
              "      <th>ceil_measure</th>\n",
              "      <th>basement</th>\n",
              "      <th>yr_renovated</th>\n",
              "      <th>zipcode</th>\n",
              "      <th>lat</th>\n",
              "      <th>long</th>\n",
              "      <th>living_measure15</th>\n",
              "      <th>furnished</th>\n",
              "      <th>total_area</th>\n",
              "      <th>month_year</th>\n",
              "    </tr>\n",
              "  </thead>\n",
              "  <tbody>\n",
              "    <tr>\n",
              "      <th>0</th>\n",
              "      <td>3034200666</td>\n",
              "      <td>2014-11-07</td>\n",
              "      <td>808100</td>\n",
              "      <td>4</td>\n",
              "      <td>3.25</td>\n",
              "      <td>3020</td>\n",
              "      <td>1.0</td>\n",
              "      <td>0</td>\n",
              "      <td>0</td>\n",
              "      <td>5</td>\n",
              "      <td>9</td>\n",
              "      <td>3020</td>\n",
              "      <td>0</td>\n",
              "      <td>0</td>\n",
              "      <td>98133</td>\n",
              "      <td>47.7174</td>\n",
              "      <td>-122.336</td>\n",
              "      <td>2120</td>\n",
              "      <td>1</td>\n",
              "      <td>16477</td>\n",
              "      <td>November-2014</td>\n",
              "    </tr>\n",
              "  </tbody>\n",
              "</table>\n",
              "</div>"
            ],
            "text/plain": [
              "          cid   dayhours   price  ...  furnished  total_area     month_year\n",
              "0  3034200666 2014-11-07  808100  ...          1       16477  November-2014\n",
              "\n",
              "[1 rows x 21 columns]"
            ]
          },
          "metadata": {
            "tags": []
          },
          "execution_count": 72
        }
      ]
    },
    {
      "cell_type": "code",
      "metadata": {
        "colab": {
          "base_uri": "https://localhost:8080/",
          "height": 313
        },
        "id": "dMO0cbkIdZmO",
        "outputId": "1df1417a-0489-46c9-e29d-8168b422a25b"
      },
      "source": [
        "plt.scatter(data_new['living_measure'],data_new['price'])\r\n",
        "plt.xlabel('living_measure')\r\n",
        "plt.ylabel('Price')\r\n",
        "## Price increases as living_measure increases\r\n",
        "corr2=data_new['living_measure'].corr(data_new['price'])\r\n",
        "corr2\r\n",
        "## Price increases as living_measure increases"
      ],
      "execution_count": null,
      "outputs": [
        {
          "output_type": "execute_result",
          "data": {
            "text/plain": [
              "0.701670954469053"
            ]
          },
          "metadata": {
            "tags": []
          },
          "execution_count": 127
        },
        {
          "output_type": "display_data",
          "data": {
            "image/png": "[encoded data removed]",
            "text/plain": [
              "<Figure size 432x288 with 1 Axes>"
            ]
          },
          "metadata": {
            "tags": []
          }
        }
      ]
    },
    {
      "cell_type": "code",
      "metadata": {
        "colab": {
          "base_uri": "https://localhost:8080/",
          "height": 313
        },
        "id": "AQq12ZHedqia",
        "outputId": "72932045-a528-457d-ad35-ac7a5d79aca6"
      },
      "source": [
        "plt.scatter(data_new['total_area'],data_new['price'])\r\n",
        "plt.xlabel('total_area')\r\n",
        "plt.ylabel('price')\r\n",
        "## Price increases as living_measure increases\r\n",
        "corr2=data_new['total_area'].corr(data_new['price'])\r\n",
        "corr2\r\n",
        "## Price increases as living_measure increases"
      ],
      "execution_count": null,
      "outputs": [
        {
          "output_type": "execute_result",
          "data": {
            "text/plain": [
              "0.10387549631427115"
            ]
          },
          "metadata": {
            "tags": []
          },
          "execution_count": 128
        },
        {
          "output_type": "display_data",
          "data": {
            "image/png": "[encoded data removed]",
            "text/plain": [
              "<Figure size 432x288 with 1 Axes>"
            ]
          },
          "metadata": {
            "tags": []
          }
        }
      ]
    },
    {
      "cell_type": "code",
      "metadata": {
        "id": "hKvILLEAIFTP"
      },
      "source": [
        "## Drop the cid coloum in furthur analysis as its just a significant for identifications\n",
        "data_new= data_new.drop(\"lat\",axis=1)\n",
        "data_new= data_new.drop(\"long\",axis=1)"
      ],
      "execution_count": null,
      "outputs": []
    },
    {
      "cell_type": "code",
      "metadata": {
        "id": "f9TsAxZhmX55"
      },
      "source": [
        "data_new= data_new.drop(\"cid\",axis=1) # As this column is just for indications"
      ],
      "execution_count": null,
      "outputs": []
    },
    {
      "cell_type": "code",
      "metadata": {
        "id": "ctEp-4l2hcHp"
      },
      "source": [
        "data_new= data_new.drop(\"dayhours\",axis=1) # As this column has very poor correlation"
      ],
      "execution_count": null,
      "outputs": []
    },
    {
      "cell_type": "code",
      "metadata": {
        "colab": {
          "base_uri": "https://localhost:8080/"
        },
        "id": "lF1dMi3WRHxN",
        "outputId": "7a884bce-8218-4331-d4cb-580991540eb2"
      },
      "source": [
        "data_new.columns"
      ],
      "execution_count": null,
      "outputs": [
        {
          "output_type": "execute_result",
          "data": {
            "text/plain": [
              "Index(['price', 'room_bed', 'room_bath', 'living_measure', 'ceil', 'coast',\n",
              "       'sight', 'condition', 'quality', 'ceil_measure', 'basement',\n",
              "       'yr_renovated', 'zipcode', 'living_measure15', 'furnished',\n",
              "       'total_area', 'month_year'],\n",
              "      dtype='object')"
            ]
          },
          "metadata": {
            "tags": []
          },
          "execution_count": 78
        }
      ]
    },
    {
      "cell_type": "code",
      "metadata": {
        "colab": {
          "base_uri": "https://localhost:8080/"
        },
        "id": "t79f3rcNibDi",
        "outputId": "1d46995d-8257-4402-94b8-20cf2e50ac35"
      },
      "source": [
        "data.columns"
      ],
      "execution_count": null,
      "outputs": [
        {
          "output_type": "execute_result",
          "data": {
            "text/plain": [
              "Index(['cid', 'dayhours', 'price', 'room_bed', 'room_bath', 'living_measure',\n",
              "       'lot_measure', 'ceil', 'coast', 'sight', 'condition', 'quality',\n",
              "       'ceil_measure', 'basement', 'yr_built', 'yr_renovated', 'zipcode',\n",
              "       'lat', 'long', 'living_measure15', 'lot_measure15', 'furnished',\n",
              "       'total_area'],\n",
              "      dtype='object')"
            ]
          },
          "metadata": {
            "tags": []
          },
          "execution_count": 79
        }
      ]
    },
    {
      "cell_type": "code",
      "metadata": {
        "id": "O1d7OnJbXF0v"
      },
      "source": [
        "##We need to convert month_year column to some specific dummy"
      ],
      "execution_count": null,
      "outputs": []
    },
    {
      "cell_type": "code",
      "metadata": {
        "id": "IffAxrfGL7f5"
      },
      "source": [
        "data_new= data_new.drop(\"zipcode\",axis=1) # As this column has very poor correlation"
      ],
      "execution_count": null,
      "outputs": []
    },
    {
      "cell_type": "code",
      "metadata": {
        "id": "UBiM-jPgMEgZ"
      },
      "source": [
        "data_new= data_new.drop(\"month_year\",axis=1) # As this column has very poor correlation"
      ],
      "execution_count": null,
      "outputs": []
    },
    {
      "cell_type": "code",
      "metadata": {
        "colab": {
          "base_uri": "https://localhost:8080/"
        },
        "id": "WWL0cdySfeNO",
        "outputId": "5892764b-06c3-42eb-b483-d1007c550e6a"
      },
      "source": [
        "data_new.columns"
      ],
      "execution_count": null,
      "outputs": [
        {
          "output_type": "execute_result",
          "data": {
            "text/plain": [
              "Index(['price', 'room_bed', 'room_bath', 'living_measure', 'ceil', 'coast',\n",
              "       'sight', 'condition', 'quality', 'ceil_measure', 'basement',\n",
              "       'yr_renovated', 'living_measure15', 'furnished', 'total_area'],\n",
              "      dtype='object')"
            ]
          },
          "metadata": {
            "tags": []
          },
          "execution_count": 83
        }
      ]
    },
    {
      "cell_type": "code",
      "metadata": {
        "id": "xJA3X8O3LyDq"
      },
      "source": [
        "x=data_new.drop('price',axis=1)\n",
        "y=data_new['price']"
      ],
      "execution_count": null,
      "outputs": []
    },
    {
      "cell_type": "markdown",
      "metadata": {
        "id": "jIX7-7ZGfw7S"
      },
      "source": [
        "##Using Linear Regression using Min max scale"
      ]
    },
    {
      "cell_type": "code",
      "metadata": {
        "colab": {
          "base_uri": "https://localhost:8080/"
        },
        "id": "e4Gh0Q39L5nL",
        "outputId": "d96a6103-0974-45fc-b244-79cd541609bb"
      },
      "source": [
        "from pandas import read_csv\n",
        "from sklearn.model_selection import KFold\n",
        "from sklearn.model_selection import cross_val_score\n",
        "from sklearn.pipeline import Pipeline\n",
        "from sklearn.pipeline import FeatureUnion\n",
        "from sklearn.linear_model import LinearRegression\n",
        "from sklearn.decomposition import PCA\n",
        "from sklearn.feature_selection import SelectKBest\n",
        "from sklearn.preprocessing import MinMaxScaler\n",
        "from sklearn.svm import SVC\n",
        "features = []\n",
        "#features.append(('pca', PCA(n_components=3)))\n",
        "features.append(('select_best', SelectKBest(k=10)))\n",
        "features.append(('Minmaxscalor',MinMaxScaler()))\n",
        "feature_union = FeatureUnion(features)\n",
        "# create pipeline\n",
        "estimators = []\n",
        "estimators.append(('feature_union', feature_union))\n",
        "estimators.append(('linear', LinearRegression()))\n",
        "model = Pipeline(estimators)\n",
        "# evaluate pipeline\n",
        "seed = 7\n",
        "kfold = KFold(n_splits=3, random_state=seed)\n",
        "results = cross_val_score(model, x, y, cv=kfold)\n",
        "print(results.mean())"
      ],
      "execution_count": null,
      "outputs": [
        {
          "output_type": "stream",
          "text": [
            "/usr/local/lib/python3.6/dist-packages/sklearn/model_selection/_split.py:296: FutureWarning: Setting a random_state has no effect since shuffle is False. This will raise an error in 0.24. You should leave random_state to its default (None), or set shuffle=True.\n",
            "  FutureWarning\n"
          ],
          "name": "stderr"
        },
        {
          "output_type": "stream",
          "text": [
            "0.6115192050537649\n"
          ],
          "name": "stdout"
        }
      ]
    },
    {
      "cell_type": "code",
      "metadata": {
        "colab": {
          "base_uri": "https://localhost:8080/"
        },
        "id": "Q1MiPL9h1l33",
        "outputId": "4e3209f6-f72b-461f-f71d-c0cedd54601f"
      },
      "source": [
        "results"
      ],
      "execution_count": null,
      "outputs": [
        {
          "output_type": "execute_result",
          "data": {
            "text/plain": [
              "array([0.61977682, 0.61466037, 0.60012042])"
            ]
          },
          "metadata": {
            "tags": []
          },
          "execution_count": 86
        }
      ]
    },
    {
      "cell_type": "markdown",
      "metadata": {
        "id": "KQrI3tA5f1LA"
      },
      "source": [
        "##Using Linear Regression using zscore() scaling"
      ]
    },
    {
      "cell_type": "code",
      "metadata": {
        "id": "4iQxKariW2Oi"
      },
      "source": [
        "from sklearn.model_selection import train_test_split\n",
        "from scipy.stats import zscore"
      ],
      "execution_count": null,
      "outputs": []
    },
    {
      "cell_type": "code",
      "metadata": {
        "id": "wukZx5sRZpsP"
      },
      "source": [
        "X_train, X_test, y_train, y_test = train_test_split(x, y, test_size=0.30 , random_state=1)"
      ],
      "execution_count": null,
      "outputs": []
    },
    {
      "cell_type": "code",
      "metadata": {
        "id": "v7XXy07P4kql"
      },
      "source": [
        "X_train= X_train.apply(zscore)\n",
        "X_test= X_test.apply(zscore)"
      ],
      "execution_count": null,
      "outputs": []
    },
    {
      "cell_type": "code",
      "metadata": {
        "id": "qgXpfKPifB8-"
      },
      "source": [
        "lg = LinearRegression()"
      ],
      "execution_count": null,
      "outputs": []
    },
    {
      "cell_type": "code",
      "metadata": {
        "colab": {
          "base_uri": "https://localhost:8080/"
        },
        "id": "YaWW7BwnfDIH",
        "outputId": "e8f55210-1bf6-4f3f-ab8f-ca4f9c41525e"
      },
      "source": [
        "lg.fit(X_train, y_train)\n",
        "print(f\"The score of Linear Regression is: \",lg.score(X_test, y_test))"
      ],
      "execution_count": null,
      "outputs": [
        {
          "output_type": "stream",
          "text": [
            "The score of Linear Regression is:  0.6142992224417305\n"
          ],
          "name": "stdout"
        }
      ]
    },
    {
      "cell_type": "code",
      "metadata": {
        "colab": {
          "base_uri": "https://localhost:8080/"
        },
        "id": "dH_f3-BbhsrX",
        "outputId": "9ff8c216-9903-45f8-bbb3-e01009058607"
      },
      "source": [
        "print(f\"The score of Linear Regression is: \",lg.score(X_test, y_test))"
      ],
      "execution_count": null,
      "outputs": [
        {
          "output_type": "stream",
          "text": [
            "The score of Linear Regression is:  0.6142992224417305\n"
          ],
          "name": "stdout"
        }
      ]
    },
    {
      "cell_type": "code",
      "metadata": {
        "id": "ivZXdwdSa3h5"
      },
      "source": [
        "#x=x.apply(zscore)#Whether I am applying zcore, it has no significant difference in the acccuracy"
      ],
      "execution_count": null,
      "outputs": []
    },
    {
      "cell_type": "code",
      "metadata": {
        "id": "PYsbuW80Z9nB"
      },
      "source": [
        "from sklearn.preprocessing import PolynomialFeatures"
      ],
      "execution_count": null,
      "outputs": []
    },
    {
      "cell_type": "code",
      "metadata": {
        "id": "48brrq1gZ_y-"
      },
      "source": [
        "# from sklearn.preprocessing import PolynomialFeatures\n",
        "poly_reg = PolynomialFeatures(degree=2)\n",
        "X_poly = poly_reg.fit_transform(x)\n",
        "pol_reg = LinearRegression()\n",
        "X_train, X_test, y_train, y_test = train_test_split(X_poly, y, test_size=0.30 , random_state=1)\n",
        "pol_reg.fit(X_train, y_train)\n",
        "y_poly_pred=pol_reg.predict(X_test)\n",
        "#plt.scatter(y,y_poly_pred)"
      ],
      "execution_count": null,
      "outputs": []
    },
    {
      "cell_type": "code",
      "metadata": {
        "id": "Ypp4zUnfaCqk"
      },
      "source": [
        "y_poly_pred2=pol_reg.predict(X_train)"
      ],
      "execution_count": null,
      "outputs": []
    },
    {
      "cell_type": "markdown",
      "metadata": {
        "id": "vtPWKmXWmpsN"
      },
      "source": [
        "## Polynomial Regression using cross validation"
      ]
    },
    {
      "cell_type": "code",
      "metadata": {
        "colab": {
          "base_uri": "https://localhost:8080/"
        },
        "id": "mGgAkBFAmgmr",
        "outputId": "787407ac-1482-4552-cc45-2f69b58cb25e"
      },
      "source": [
        "from pandas import read_csv\n",
        "from sklearn.model_selection import KFold\n",
        "from sklearn.model_selection import cross_val_score\n",
        "from sklearn.pipeline import Pipeline\n",
        "from sklearn.pipeline import FeatureUnion\n",
        "from sklearn.linear_model import LinearRegression\n",
        "from sklearn.decomposition import PCA\n",
        "from sklearn.feature_selection import SelectKBest\n",
        "from sklearn.preprocessing import MinMaxScaler\n",
        "from sklearn.svm import SVC\n",
        "features = []\n",
        "features.append(('pca', PCA(n_components=6)))\n",
        "features.append(('select_best', SelectKBest(k=6)))\n",
        "features.append(('Minmaxscalor',MinMaxScaler()))\n",
        "feature_union = FeatureUnion(features)\n",
        "# create pipeline\n",
        "estimators = []\n",
        "estimators.append(('feature_union', feature_union))\n",
        "estimators.append(('linear', LinearRegression()))\n",
        "model = Pipeline(estimators)\n",
        "# evaluate pipeline\n",
        "seed = 7\n",
        "kfold = KFold(n_splits=3, random_state=seed)\n",
        "poly_reg = PolynomialFeatures(degree=2)\n",
        "X_poly = poly_reg.fit_transform(x)\n",
        "results = cross_val_score(model,X_poly, y, cv=kfold)\n",
        "print(results.mean())"
      ],
      "execution_count": null,
      "outputs": [
        {
          "output_type": "stream",
          "text": [
            "/usr/local/lib/python3.6/dist-packages/sklearn/model_selection/_split.py:296: FutureWarning: Setting a random_state has no effect since shuffle is False. This will raise an error in 0.24. You should leave random_state to its default (None), or set shuffle=True.\n",
            "  FutureWarning\n",
            "/usr/local/lib/python3.6/dist-packages/sklearn/feature_selection/_univariate_selection.py:114: UserWarning: Features [0] are constant.\n",
            "  UserWarning)\n",
            "/usr/local/lib/python3.6/dist-packages/sklearn/feature_selection/_univariate_selection.py:115: RuntimeWarning: invalid value encountered in true_divide\n",
            "  f = msb / msw\n",
            "/usr/local/lib/python3.6/dist-packages/sklearn/feature_selection/_univariate_selection.py:114: UserWarning: Features [0] are constant.\n",
            "  UserWarning)\n",
            "/usr/local/lib/python3.6/dist-packages/sklearn/feature_selection/_univariate_selection.py:115: RuntimeWarning: invalid value encountered in true_divide\n",
            "  f = msb / msw\n"
          ],
          "name": "stderr"
        },
        {
          "output_type": "stream",
          "text": [
            "0.6935698246817572\n"
          ],
          "name": "stdout"
        },
        {
          "output_type": "stream",
          "text": [
            "/usr/local/lib/python3.6/dist-packages/sklearn/feature_selection/_univariate_selection.py:114: UserWarning: Features [0] are constant.\n",
            "  UserWarning)\n",
            "/usr/local/lib/python3.6/dist-packages/sklearn/feature_selection/_univariate_selection.py:115: RuntimeWarning: invalid value encountered in true_divide\n",
            "  f = msb / msw\n"
          ],
          "name": "stderr"
        }
      ]
    },
    {
      "cell_type": "code",
      "metadata": {
        "colab": {
          "base_uri": "https://localhost:8080/"
        },
        "id": "lN9uZ_nhmmlf",
        "outputId": "c680c066-f6af-425d-e459-d20061e9579c"
      },
      "source": [
        "print(results.mean())"
      ],
      "execution_count": null,
      "outputs": [
        {
          "output_type": "stream",
          "text": [
            "0.6935698246817572\n"
          ],
          "name": "stdout"
        }
      ]
    },
    {
      "cell_type": "code",
      "metadata": {
        "id": "MtCg2UxmaE8S"
      },
      "source": [
        "import numpy as np"
      ],
      "execution_count": null,
      "outputs": []
    },
    {
      "cell_type": "code",
      "metadata": {
        "id": "iSQyt_StaHZ9"
      },
      "source": [
        "from sklearn.metrics import mean_squared_error\n",
        "from sklearn.metrics import r2_score"
      ],
      "execution_count": null,
      "outputs": []
    },
    {
      "cell_type": "code",
      "metadata": {
        "colab": {
          "base_uri": "https://localhost:8080/"
        },
        "id": "rJ6KkjJCaL2U",
        "outputId": "89e661c5-f7fb-450c-ca06-939ee4ce270a"
      },
      "source": [
        "##Accuracy of test data using polynomial regression\n",
        "rmse = np.sqrt(mean_squared_error(y_test,y_poly_pred))\n",
        "r2 = r2_score(y_test,y_poly_pred)\n",
        "print(rmse)\n",
        "print(r2)"
      ],
      "execution_count": null,
      "outputs": [
        {
          "output_type": "stream",
          "text": [
            "201944.33224280822\n",
            "0.71642641548885\n"
          ],
          "name": "stdout"
        }
      ]
    },
    {
      "cell_type": "code",
      "metadata": {
        "colab": {
          "base_uri": "https://localhost:8080/"
        },
        "id": "UhXJT5tAaSn2",
        "outputId": "9b0df14b-0fd2-4286-9e7c-1aab2dee8999"
      },
      "source": [
        "#Trained data\n",
        "rmse = np.sqrt(mean_squared_error(y_train,y_poly_pred2))\n",
        "r2 = r2_score(y_train,y_poly_pred2)\n",
        "print(rmse)\n",
        "print(r2)"
      ],
      "execution_count": null,
      "outputs": [
        {
          "output_type": "stream",
          "text": [
            "192795.704710383\n",
            "0.7173178266760518\n"
          ],
          "name": "stdout"
        }
      ]
    },
    {
      "cell_type": "code",
      "metadata": {
        "colab": {
          "base_uri": "https://localhost:8080/"
        },
        "id": "qjvcYupiaTW-",
        "outputId": "596e7534-1dac-42c9-fb2e-e49cb40161ce"
      },
      "source": [
        "rmse = np.sqrt(mean_squared_error(y_test,y_poly_pred))\n",
        "r2 = r2_score(y_test,y_poly_pred)\n",
        "print(rmse)\n",
        "print(r2)"
      ],
      "execution_count": null,
      "outputs": [
        {
          "output_type": "stream",
          "text": [
            "201944.33224280822\n",
            "0.71642641548885\n"
          ],
          "name": "stdout"
        }
      ]
    },
    {
      "cell_type": "markdown",
      "metadata": {
        "id": "NwYW4OgzxWmQ"
      },
      "source": [
        "Lasso and Ridge regression"
      ]
    },
    {
      "cell_type": "code",
      "metadata": {
        "id": "oJzVs7tgaWqL"
      },
      "source": [
        "from sklearn.linear_model import LinearRegression, Ridge, Lasso"
      ],
      "execution_count": null,
      "outputs": []
    },
    {
      "cell_type": "code",
      "metadata": {
        "colab": {
          "base_uri": "https://localhost:8080/"
        },
        "id": "4hNGGDyJaZzN",
        "outputId": "f73469bb-b5ae-4f46-8154-678a52f54e56"
      },
      "source": [
        "lasso = Lasso(alpha=0.1)\n",
        "lasso.fit(X_train,y_train)\n",
        "print (\"Lasso model:\", (lasso.coef_))\n",
        "accuracy_lr_lasso=lasso.score(X_test,y_test)\n",
        "print(lasso.score(X_train, y_train))\n",
        "print(lasso.score(X_test, y_test))"
      ],
      "execution_count": null,
      "outputs": [
        {
          "output_type": "stream",
          "text": [
            "Lasso model: [ 0.00000000e+00 -7.92909809e+04 -1.41090679e+05 -8.16135667e+01\n",
            " -1.03440063e+05  5.70695987e+05 -1.12960858e+05 -1.44330627e+05\n",
            "  5.19201829e+04  2.10924344e+00 -6.89760627e+01  1.90434983e+04\n",
            "  5.05708418e+01  7.13937458e+05 -2.43443982e-02  1.20607679e+04\n",
            " -1.45806140e+04 -2.78756096e+00  3.09936322e+04  3.63276995e+04\n",
            "  3.60189777e+03 -4.29462022e+03  3.73949678e+03 -1.63630812e+01\n",
            " -1.91969653e+01 -2.67602595e+04 -3.71230811e-01  2.21838169e+04\n",
            " -5.20970377e-02  1.67043423e+04  4.67400570e+01 -3.63137159e+04\n",
            "  6.42858455e+04  1.53853439e+03  1.57216337e+04  1.52336800e+04\n",
            " -2.19700246e+01 -5.16203664e+01 -1.77199239e+04 -2.89345760e+01\n",
            "  2.79536466e+04  6.12768628e-02  7.62171704e-02  6.73291118e+00\n",
            " -2.55077742e+02  3.74185484e+01 -1.41087374e+01  1.69976143e+01\n",
            " -3.91961742e-02 -3.45421054e-04 -3.85306309e+00 -2.46940504e-03\n",
            "  3.33478917e+01 -5.78420078e-04  2.48388519e+04  3.37322757e+04\n",
            "  1.23228297e+03  5.82159696e+04 -3.06208265e+03 -3.69523793e+01\n",
            "  2.85006393e+01 -3.22347726e+04 -5.97073298e+01  2.41491155e+04\n",
            "  4.81325813e-01 -3.50097213e+05  1.11686732e+04  3.15510097e+04\n",
            " -1.57591421e+05  3.79451956e+02  4.08841213e+02 -2.60206069e+05\n",
            "  2.34004956e+02  2.67305517e+05  9.69241705e-01  8.20185716e+03\n",
            "  4.02278001e+03  1.19860996e+04 -3.92110894e+01 -6.24853299e+01\n",
            " -3.32438267e+04  1.09947959e+01 -1.37487156e+04 -2.27480056e-01\n",
            "  9.35856045e+03 -9.10317363e+03  1.09696516e+01  3.28709479e+01\n",
            " -6.86847624e+04  5.93382620e+01  5.69209006e+04 -3.59277201e-01\n",
            "  1.49990528e+03  4.63642101e+00  1.61836559e+01  2.16859941e+04\n",
            " -2.70337441e+01  4.22548783e+04  1.85681803e-01 -1.48091020e-02\n",
            " -8.42020061e-02  6.13372464e+01  2.00420415e-03 -4.58898683e+01\n",
            " -5.09663435e-05 -1.39440467e-01  9.63530739e+01  2.32686977e-02\n",
            " -5.16274559e+01 -2.00910513e-04 -7.17500665e+04  1.66775206e+02\n",
            "  1.61408368e+04 -9.43445228e-01  3.57580873e-02 -6.14780316e+00\n",
            "  9.23817714e-05 -1.37940787e+06 -3.84940668e-01  9.99354703e-07]\n",
            "0.7166239997054499\n",
            "0.7169197876221713\n"
          ],
          "name": "stdout"
        },
        {
          "output_type": "stream",
          "text": [
            "/usr/local/lib/python3.6/dist-packages/sklearn/linear_model/_coordinate_descent.py:476: ConvergenceWarning: Objective did not converge. You might want to increase the number of iterations. Duality gap: 279412663914687.7, tolerance: 197197169957.90765\n",
            "  positive)\n"
          ],
          "name": "stderr"
        }
      ]
    },
    {
      "cell_type": "code",
      "metadata": {
        "colab": {
          "base_uri": "https://localhost:8080/"
        },
        "id": "RlIkvsK0acxo",
        "outputId": "981d2930-56ab-4ce0-bbc6-d7e34efe96e6"
      },
      "source": [
        "ridge = Ridge(alpha=.2)\n",
        "ridge.fit(X_train,y_train)\n",
        "print (\"Ridge model:\", (ridge.coef_)) \n",
        "print(ridge.score(X_train, y_train))\n",
        "print(ridge.score(X_test, y_test))"
      ],
      "execution_count": null,
      "outputs": [
        {
          "output_type": "stream",
          "text": [
            "Ridge model: [-2.66318035e+02 -3.15842554e+03  3.46263967e+04 -5.41593209e+02\n",
            " -2.09635586e+05  1.42821181e+05 -1.15978260e+05 -1.44628713e+05\n",
            "  5.59240809e+04  2.49533818e+02  1.83659241e+02 -2.58385907e+04\n",
            "  9.07832560e+01 -2.81811969e+05  2.55541889e-01  1.14209088e+04\n",
            " -1.34755638e+04 -1.50340199e+02  3.11956545e+04  3.86814483e+04\n",
            "  4.09588748e+03 -6.68016372e+03 -6.57301654e+03  1.34894336e+02\n",
            "  1.31742417e+02 -2.78844244e+04  2.05185962e-01  3.85098333e+04\n",
            " -5.23690795e-02  2.11479332e+04  4.41776463e+02 -4.40485296e+04\n",
            "  7.04478975e+04  3.53233271e+03  6.02546998e+03 -5.99112401e+03\n",
            " -4.15159067e+02 -4.49849359e+02 -2.24914359e+04 -2.84353924e+01\n",
            "  6.50681859e+04  4.93216652e-02  5.03650261e+02  3.11238472e+02\n",
            "  7.62962190e+01 -5.25139787e+01  3.85528824e+01  4.41475491e+01\n",
            " -5.91383423e+01 -9.14539298e+02  4.56721543e+02 -4.77271313e+01\n",
            "  1.30444468e+02 -1.23460384e+02  2.30394845e+04  4.07124958e+04\n",
            "  1.28313395e+02  5.84108559e+04  1.37701524e+04 -3.38585853e+02\n",
            " -2.76660855e+02 -2.97171269e+04 -6.10332643e+01 -6.25911859e+03\n",
            "  4.73151244e-01  1.44211454e+05  1.10652207e+04  3.30013293e+04\n",
            " -1.70538006e+05  4.71628172e+01  8.10605029e+01 -2.54571336e+05\n",
            "  2.31236761e+02  2.85630550e+05  9.63534445e-01  8.14281105e+03\n",
            "  3.74879761e+03  1.20678459e+04  4.91151688e+01  2.60167449e+01\n",
            " -3.31752712e+04  1.19706104e+01 -1.44696817e+04 -2.23915838e-01\n",
            "  8.56836650e+03 -6.73555275e+03 -3.19176076e+01 -1.21876282e+01\n",
            " -6.84890311e+04  5.82054456e+01  5.09403976e+04 -3.70634091e-01\n",
            "  1.51217448e+03  3.17273981e+00  1.61827357e+01  2.24510757e+04\n",
            " -3.26973203e+01  3.12362061e+04  1.48979104e-01 -4.44499450e+02\n",
            " -3.36063837e+01 -3.95432854e+02  4.77298189e+01 -1.82811632e+02\n",
            "  1.23459810e+02  4.10821511e+02 -3.60567423e+02  4.77479136e+01\n",
            " -1.92030970e+02  1.23459660e+02 -2.70798466e+04  1.65168214e+02\n",
            "  1.56753373e+04 -9.72172843e-01  3.57097085e-02  2.14098569e+00\n",
            "  7.34560425e-05 -2.82649996e+05 -3.51236720e-01  9.78197770e-07]\n",
            "0.7173150124237345\n",
            "0.7163861182757532\n"
          ],
          "name": "stdout"
        }
      ]
    },
    {
      "cell_type": "code",
      "metadata": {
        "id": "LBnYyjwbZZQY"
      },
      "source": [
        "from sklearn.ensemble import (RandomForestRegressor, GradientBoostingRegressor,AdaBoostRegressor,BaggingRegressor)\n",
        "from sklearn.tree import DecisionTreeRegressor\n",
        "from sklearn.metrics import mean_squared_error\n",
        "from sklearn.metrics import r2_score"
      ],
      "execution_count": null,
      "outputs": []
    },
    {
      "cell_type": "code",
      "metadata": {
        "colab": {
          "base_uri": "https://localhost:8080/"
        },
        "id": "Hrs62bw8asNW",
        "outputId": "104ebf58-40d2-4a8f-d2cf-4954d6cdc476"
      },
      "source": [
        "dtr = DecisionTreeRegressor(max_depth=1)\n",
        "reg_model2 = AdaBoostRegressor(n_estimators=50, base_estimator=dtr,learning_rate=1)\n",
        "print(reg_model2)"
      ],
      "execution_count": null,
      "outputs": [
        {
          "output_type": "stream",
          "text": [
            "AdaBoostRegressor(base_estimator=DecisionTreeRegressor(ccp_alpha=0.0,\n",
            "                                                       criterion='mse',\n",
            "                                                       max_depth=1,\n",
            "                                                       max_features=None,\n",
            "                                                       max_leaf_nodes=None,\n",
            "                                                       min_impurity_decrease=0.0,\n",
            "                                                       min_impurity_split=None,\n",
            "                                                       min_samples_leaf=1,\n",
            "                                                       min_samples_split=2,\n",
            "                                                       min_weight_fraction_leaf=0.0,\n",
            "                                                       presort='deprecated',\n",
            "                                                       random_state=None,\n",
            "                                                       splitter='best'),\n",
            "                  learning_rate=1, loss='linear', n_estimators=50,\n",
            "                  random_state=None)\n"
          ],
          "name": "stdout"
        }
      ]
    },
    {
      "cell_type": "code",
      "metadata": {
        "id": "gu3dtpA6a0br"
      },
      "source": [
        "ab=reg_model2.fit(X_train,y_train)"
      ],
      "execution_count": null,
      "outputs": []
    },
    {
      "cell_type": "code",
      "metadata": {
        "colab": {
          "base_uri": "https://localhost:8080/"
        },
        "id": "0FpD2jdua2-o",
        "outputId": "4812e38e-efeb-4d27-d484-e62456b5082a"
      },
      "source": [
        "from sklearn import metrics\n",
        "print('R2 Value:',metrics.r2_score(y_train,ab.predict(X_train)))"
      ],
      "execution_count": null,
      "outputs": [
        {
          "output_type": "stream",
          "text": [
            "R2 Value: -1.7552003190027285\n"
          ],
          "name": "stdout"
        }
      ]
    },
    {
      "cell_type": "code",
      "metadata": {
        "id": "SFKAuwrAbJOy"
      },
      "source": [
        "from sklearn.ensemble import (RandomForestRegressor, GradientBoostingRegressor,AdaBoostRegressor,BaggingRegressor)\n",
        "from sklearn.tree import DecisionTreeRegressor\n",
        "from sklearn.metrics import mean_squared_error\n",
        "from sklearn.metrics import r2_score"
      ],
      "execution_count": null,
      "outputs": []
    },
    {
      "cell_type": "code",
      "metadata": {
        "colab": {
          "base_uri": "https://localhost:8080/"
        },
        "id": "gzAOdm9Na68U",
        "outputId": "53285a38-7f59-44fc-b023-72c0a88e8d32"
      },
      "source": [
        "model=GradientBoostingRegressor()\n",
        "model.fit(X_train, y_train)"
      ],
      "execution_count": null,
      "outputs": [
        {
          "output_type": "execute_result",
          "data": {
            "text/plain": [
              "GradientBoostingRegressor(alpha=0.9, ccp_alpha=0.0, criterion='friedman_mse',\n",
              "                          init=None, learning_rate=0.1, loss='ls', max_depth=3,\n",
              "                          max_features=None, max_leaf_nodes=None,\n",
              "                          min_impurity_decrease=0.0, min_impurity_split=None,\n",
              "                          min_samples_leaf=1, min_samples_split=2,\n",
              "                          min_weight_fraction_leaf=0.0, n_estimators=100,\n",
              "                          n_iter_no_change=None, presort='deprecated',\n",
              "                          random_state=None, subsample=1.0, tol=0.0001,\n",
              "                          validation_fraction=0.1, verbose=0, warm_start=False)"
            ]
          },
          "metadata": {
            "tags": []
          },
          "execution_count": 111
        }
      ]
    },
    {
      "cell_type": "code",
      "metadata": {
        "id": "Gulg01Sqa_-_"
      },
      "source": [
        "pred_y=model.predict(X_test)"
      ],
      "execution_count": null,
      "outputs": []
    },
    {
      "cell_type": "code",
      "metadata": {
        "colab": {
          "base_uri": "https://localhost:8080/"
        },
        "id": "j_L78nJ2bCFB",
        "outputId": "a871bb6c-9408-4394-8455-ce71723b6175"
      },
      "source": [
        "print(metrics.r2_score(y_test,pred_y))"
      ],
      "execution_count": null,
      "outputs": [
        {
          "output_type": "stream",
          "text": [
            "0.7154486030722168\n"
          ],
          "name": "stdout"
        }
      ]
    },
    {
      "cell_type": "code",
      "metadata": {
        "colab": {
          "base_uri": "https://localhost:8080/"
        },
        "id": "xxm7pThfbVe1",
        "outputId": "c141fb6c-e712-4787-cc7f-1dc8334503d2"
      },
      "source": [
        "model.score(X_train,y_train)"
      ],
      "execution_count": null,
      "outputs": [
        {
          "output_type": "execute_result",
          "data": {
            "text/plain": [
              "0.7887251256702319"
            ]
          },
          "metadata": {
            "tags": []
          },
          "execution_count": 114
        }
      ]
    }
  ]
}