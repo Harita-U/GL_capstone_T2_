{
 "cells": [
  {
   "cell_type": "markdown",
   "metadata": {},
   "source": [
    "## Problem Statement\n",
    "A house value is simply more than location and square footage. Like the features that make up a person, an educated party would want to know all aspects that give a house its value.For example, you want to sell a house and you don’t know the price which you can take — it can’t be too low or too high. To find house price you usually try to find similar properties in your neighbourhoodand based on gathered data you will try to assess your house price"
   ]
  },
  {
   "cell_type": "markdown",
   "metadata": {},
   "source": [
    "## Problem Definition\n",
    " When a person want to  sell or buy a house , facing an issue like without knowing the worth of house, house may be sold or bought underestpimate price or  over price, to overcome the issue we analyse with availble feature and predict price.\n",
    " \n",
    " ## Objective\n",
    "\n",
    "Build model which will predict the house price when required features passed to the model. So we will\n",
    "<br><br>\n",
    "<li> Find out the significant features from the given features dataset which affects the house price the most.</li>\n",
    "<li> Build best feasible model to predict the house price with 95% confidence level</li>"
   ]
  },
  {
   "cell_type": "markdown",
   "metadata": {},
   "source": [
    "## Dataset Information\n",
    "From the above we can see the different columns we have in dataset.\n",
    "\n",
    "These columns provide below information\n",
    "\n",
    "<ol>\n",
    "    <li><b>cid:</b> Notation for a house. Will not of our use. So we will drop this column</li>\n",
    "    <li><b>dayhours:</b> Represents Date, when house was sold.</li>\n",
    "    <li><b>price:</b> It's our TARGET feature, that we have to predict based on other featues</li>\n",
    "    <li><b>room_bed:</b> Represents number of bedrooms in a house</li>\n",
    "    <li><b>room_bath:</b> Represents number of bathrooms</li>\n",
    "    <li><b>living_measure:</b> Represents square footage of house</li>\n",
    "    <li><b>lot_measure:</b> Represents square footage of lot</li>\n",
    "    <li><b>ceil:</b> Represents number of floors in house</li>\n",
    "    <li><b>coast:</b> Represents whether house has waterfront view. It seems to be a categorical variable. We will see in our further data analysis</li>\n",
    "    <li><b>sight:</b> Represents how many times sight has been viewed.</li>\n",
    "    <li><b>condition:</b> Represents the overall condition of the house. It's kind of rating given to the house.</li>\n",
    "    <li><b>quality:</b> Represents grade given to the house based on grading system</li>\n",
    "    <li><b>ceil_measure:</b> Represents square footage of house apart from basement</li>\n",
    "    <li><b>basement:</b> Represents square footage of basement</li>\n",
    "    <li><b>yr_built:</b> Represents the year when house was built</li>\n",
    "    <li><b>yr_renovated:</b> Represents the year when house was last renovated</li>\n",
    "    <li><b>zipcode:</b> Represents zipcode as name implies</li>\n",
    "    <li><b>lat:</b> Represents Lattitude co-ordniates</li>\n",
    "    <li><b>long:</b> Represents Longitude co-ordinates</li>\n",
    "    <li><b>living_measure15:</b> Represents square footage of house, when measured in 2015 year as house area may or may not changed after renovation if any happened</li>\n",
    "    <li><b>lot_measure15:</b> Represents square footage of lot, when measured in 2015 year as lot area may or may not change after renovation if any done</li>\n",
    "    <li><b>furnished:</b> Tells whether house is furnished or not. It seems to be categorical variable as description implies</li>\n",
    "    <li><b>total_area:</b> Represents total area i.e. area of both living and lot</li>\n",
    "</ol>"
   ]
  },
  {
   "cell_type": "code",
   "execution_count": 4,
   "metadata": {},
   "outputs": [],
   "source": [
    "import pandas as pd\n",
    "import numpy as np\n",
    "import matplotlib.pyplot as plt\n",
    "import seaborn as sns\n",
    "%matplotlib inline"
   ]
  },
  {
   "cell_type": "code",
   "execution_count": 5,
   "metadata": {},
   "outputs": [],
   "source": [
    "# read the data using pandas function from 'innercity.csv' file\n",
    "house_df = pd.read_csv('innercity.csv')"
   ]
  },
  {
   "cell_type": "code",
   "execution_count": 6,
   "metadata": {},
   "outputs": [
    {
     "data": {
      "text/html": [
       "<div>\n",
       "<style scoped>\n",
       "    .dataframe tbody tr th:only-of-type {\n",
       "        vertical-align: middle;\n",
       "    }\n",
       "\n",
       "    .dataframe tbody tr th {\n",
       "        vertical-align: top;\n",
       "    }\n",
       "\n",
       "    .dataframe thead th {\n",
       "        text-align: right;\n",
       "    }\n",
       "</style>\n",
       "<table border=\"1\" class=\"dataframe\">\n",
       "  <thead>\n",
       "    <tr style=\"text-align: right;\">\n",
       "      <th></th>\n",
       "      <th>cid</th>\n",
       "      <th>dayhours</th>\n",
       "      <th>price</th>\n",
       "      <th>room_bed</th>\n",
       "      <th>room_bath</th>\n",
       "      <th>living_measure</th>\n",
       "      <th>lot_measure</th>\n",
       "      <th>ceil</th>\n",
       "      <th>coast</th>\n",
       "      <th>sight</th>\n",
       "      <th>...</th>\n",
       "      <th>basement</th>\n",
       "      <th>yr_built</th>\n",
       "      <th>yr_renovated</th>\n",
       "      <th>zipcode</th>\n",
       "      <th>lat</th>\n",
       "      <th>long</th>\n",
       "      <th>living_measure15</th>\n",
       "      <th>lot_measure15</th>\n",
       "      <th>furnished</th>\n",
       "      <th>total_area</th>\n",
       "    </tr>\n",
       "  </thead>\n",
       "  <tbody>\n",
       "    <tr>\n",
       "      <th>0</th>\n",
       "      <td>3034200666</td>\n",
       "      <td>20141107T000000</td>\n",
       "      <td>808100</td>\n",
       "      <td>4</td>\n",
       "      <td>3.25</td>\n",
       "      <td>3020</td>\n",
       "      <td>13457</td>\n",
       "      <td>1.0</td>\n",
       "      <td>0</td>\n",
       "      <td>0</td>\n",
       "      <td>...</td>\n",
       "      <td>0</td>\n",
       "      <td>1956</td>\n",
       "      <td>0</td>\n",
       "      <td>98133</td>\n",
       "      <td>47.7174</td>\n",
       "      <td>-122.336</td>\n",
       "      <td>2120</td>\n",
       "      <td>7553</td>\n",
       "      <td>1</td>\n",
       "      <td>16477</td>\n",
       "    </tr>\n",
       "    <tr>\n",
       "      <th>1</th>\n",
       "      <td>8731981640</td>\n",
       "      <td>20141204T000000</td>\n",
       "      <td>277500</td>\n",
       "      <td>4</td>\n",
       "      <td>2.50</td>\n",
       "      <td>2550</td>\n",
       "      <td>7500</td>\n",
       "      <td>1.0</td>\n",
       "      <td>0</td>\n",
       "      <td>0</td>\n",
       "      <td>...</td>\n",
       "      <td>800</td>\n",
       "      <td>1976</td>\n",
       "      <td>0</td>\n",
       "      <td>98023</td>\n",
       "      <td>47.3165</td>\n",
       "      <td>-122.386</td>\n",
       "      <td>2260</td>\n",
       "      <td>8800</td>\n",
       "      <td>0</td>\n",
       "      <td>10050</td>\n",
       "    </tr>\n",
       "    <tr>\n",
       "      <th>2</th>\n",
       "      <td>5104530220</td>\n",
       "      <td>20150420T000000</td>\n",
       "      <td>404000</td>\n",
       "      <td>3</td>\n",
       "      <td>2.50</td>\n",
       "      <td>2370</td>\n",
       "      <td>4324</td>\n",
       "      <td>2.0</td>\n",
       "      <td>0</td>\n",
       "      <td>0</td>\n",
       "      <td>...</td>\n",
       "      <td>0</td>\n",
       "      <td>2006</td>\n",
       "      <td>0</td>\n",
       "      <td>98038</td>\n",
       "      <td>47.3515</td>\n",
       "      <td>-121.999</td>\n",
       "      <td>2370</td>\n",
       "      <td>4348</td>\n",
       "      <td>0</td>\n",
       "      <td>6694</td>\n",
       "    </tr>\n",
       "    <tr>\n",
       "      <th>3</th>\n",
       "      <td>6145600285</td>\n",
       "      <td>20140529T000000</td>\n",
       "      <td>300000</td>\n",
       "      <td>2</td>\n",
       "      <td>1.00</td>\n",
       "      <td>820</td>\n",
       "      <td>3844</td>\n",
       "      <td>1.0</td>\n",
       "      <td>0</td>\n",
       "      <td>0</td>\n",
       "      <td>...</td>\n",
       "      <td>0</td>\n",
       "      <td>1916</td>\n",
       "      <td>0</td>\n",
       "      <td>98133</td>\n",
       "      <td>47.7049</td>\n",
       "      <td>-122.349</td>\n",
       "      <td>1520</td>\n",
       "      <td>3844</td>\n",
       "      <td>0</td>\n",
       "      <td>4664</td>\n",
       "    </tr>\n",
       "    <tr>\n",
       "      <th>4</th>\n",
       "      <td>8924100111</td>\n",
       "      <td>20150424T000000</td>\n",
       "      <td>699000</td>\n",
       "      <td>2</td>\n",
       "      <td>1.50</td>\n",
       "      <td>1400</td>\n",
       "      <td>4050</td>\n",
       "      <td>1.0</td>\n",
       "      <td>0</td>\n",
       "      <td>0</td>\n",
       "      <td>...</td>\n",
       "      <td>0</td>\n",
       "      <td>1954</td>\n",
       "      <td>0</td>\n",
       "      <td>98115</td>\n",
       "      <td>47.6768</td>\n",
       "      <td>-122.269</td>\n",
       "      <td>1900</td>\n",
       "      <td>5940</td>\n",
       "      <td>0</td>\n",
       "      <td>5450</td>\n",
       "    </tr>\n",
       "  </tbody>\n",
       "</table>\n",
       "<p>5 rows × 23 columns</p>\n",
       "</div>"
      ],
      "text/plain": [
       "          cid         dayhours   price  room_bed  room_bath  living_measure  \\\n",
       "0  3034200666  20141107T000000  808100         4       3.25            3020   \n",
       "1  8731981640  20141204T000000  277500         4       2.50            2550   \n",
       "2  5104530220  20150420T000000  404000         3       2.50            2370   \n",
       "3  6145600285  20140529T000000  300000         2       1.00             820   \n",
       "4  8924100111  20150424T000000  699000         2       1.50            1400   \n",
       "\n",
       "   lot_measure  ceil  coast  sight  ...  basement  yr_built  yr_renovated  \\\n",
       "0        13457   1.0      0      0  ...         0      1956             0   \n",
       "1         7500   1.0      0      0  ...       800      1976             0   \n",
       "2         4324   2.0      0      0  ...         0      2006             0   \n",
       "3         3844   1.0      0      0  ...         0      1916             0   \n",
       "4         4050   1.0      0      0  ...         0      1954             0   \n",
       "\n",
       "   zipcode      lat     long  living_measure15  lot_measure15  furnished  \\\n",
       "0    98133  47.7174 -122.336              2120           7553          1   \n",
       "1    98023  47.3165 -122.386              2260           8800          0   \n",
       "2    98038  47.3515 -121.999              2370           4348          0   \n",
       "3    98133  47.7049 -122.349              1520           3844          0   \n",
       "4    98115  47.6768 -122.269              1900           5940          0   \n",
       "\n",
       "   total_area  \n",
       "0       16477  \n",
       "1       10050  \n",
       "2        6694  \n",
       "3        4664  \n",
       "4        5450  \n",
       "\n",
       "[5 rows x 23 columns]"
      ]
     },
     "execution_count": 6,
     "metadata": {},
     "output_type": "execute_result"
    }
   ],
   "source": [
    "# let's check whether data loaded successfully or not, by checking first few records\n",
    "house_df.head()"
   ]
  },
  {
   "cell_type": "code",
   "execution_count": 10,
   "metadata": {},
   "outputs": [
    {
     "data": {
      "text/plain": [
       "Index(['cid', 'dayhours', 'price', 'room_bed', 'room_bath', 'living_measure',\n",
       "       'lot_measure', 'ceil', 'coast', 'sight', 'condition', 'quality',\n",
       "       'ceil_measure', 'basement', 'yr_built', 'yr_renovated', 'zipcode',\n",
       "       'lat', 'long', 'living_measure15', 'lot_measure15', 'furnished',\n",
       "       'total_area'],\n",
       "      dtype='object')"
      ]
     },
     "execution_count": 10,
     "metadata": {},
     "output_type": "execute_result"
    }
   ],
   "source": [
    "# let's check out the columns/features we have in the dataset\n",
    "\n",
    "house_df.columns"
   ]
  },
  {
   "cell_type": "code",
   "execution_count": 11,
   "metadata": {},
   "outputs": [
    {
     "name": "stdout",
     "output_type": "stream",
     "text": [
      "<class 'pandas.core.frame.DataFrame'>\n",
      "RangeIndex: 21613 entries, 0 to 21612\n",
      "Data columns (total 23 columns):\n",
      " #   Column            Non-Null Count  Dtype  \n",
      "---  ------            --------------  -----  \n",
      " 0   cid               21613 non-null  int64  \n",
      " 1   dayhours          21613 non-null  object \n",
      " 2   price             21613 non-null  int64  \n",
      " 3   room_bed          21613 non-null  int64  \n",
      " 4   room_bath         21613 non-null  float64\n",
      " 5   living_measure    21613 non-null  int64  \n",
      " 6   lot_measure       21613 non-null  int64  \n",
      " 7   ceil              21613 non-null  float64\n",
      " 8   coast             21613 non-null  int64  \n",
      " 9   sight             21613 non-null  int64  \n",
      " 10  condition         21613 non-null  int64  \n",
      " 11  quality           21613 non-null  int64  \n",
      " 12  ceil_measure      21613 non-null  int64  \n",
      " 13  basement          21613 non-null  int64  \n",
      " 14  yr_built          21613 non-null  int64  \n",
      " 15  yr_renovated      21613 non-null  int64  \n",
      " 16  zipcode           21613 non-null  int64  \n",
      " 17  lat               21613 non-null  float64\n",
      " 18  long              21613 non-null  float64\n",
      " 19  living_measure15  21613 non-null  int64  \n",
      " 20  lot_measure15     21613 non-null  int64  \n",
      " 21  furnished         21613 non-null  int64  \n",
      " 22  total_area        21613 non-null  int64  \n",
      "dtypes: float64(4), int64(18), object(1)\n",
      "memory usage: 3.8+ MB\n"
     ]
    }
   ],
   "source": [
    "# let's see the data types of the features\n",
    "house_df.info()"
   ]
  },
  {
   "cell_type": "code",
   "execution_count": 12,
   "metadata": {},
   "outputs": [
    {
     "data": {
      "text/plain": [
       "cid                 0\n",
       "dayhours            0\n",
       "price               0\n",
       "room_bed            0\n",
       "room_bath           0\n",
       "living_measure      0\n",
       "lot_measure         0\n",
       "ceil                0\n",
       "coast               0\n",
       "sight               0\n",
       "condition           0\n",
       "quality             0\n",
       "ceil_measure        0\n",
       "basement            0\n",
       "yr_built            0\n",
       "yr_renovated        0\n",
       "zipcode             0\n",
       "lat                 0\n",
       "long                0\n",
       "living_measure15    0\n",
       "lot_measure15       0\n",
       "furnished           0\n",
       "total_area          0\n",
       "dtype: int64"
      ]
     },
     "execution_count": 12,
     "metadata": {},
     "output_type": "execute_result"
    }
   ],
   "source": [
    "# let's check whether our dataset have any null/missing values\n",
    "house_df.isnull().sum()"
   ]
  },
  {
   "cell_type": "code",
   "execution_count": 13,
   "metadata": {},
   "outputs": [
    {
     "data": {
      "text/plain": [
       "0"
      ]
     },
     "execution_count": 13,
     "metadata": {},
     "output_type": "execute_result"
    }
   ],
   "source": [
    "# let's check whether there's any duplicate record in our dataset or not. If present, we have to remove them\n",
    "house_df.duplicated().sum()"
   ]
  },
  {
   "cell_type": "code",
   "execution_count": 15,
   "metadata": {},
   "outputs": [
    {
     "data": {
      "image/png": "[encoded data removed]",
      "text/plain": [
       "<Figure size 432x288 with 1 Axes>"
      ]
     },
     "metadata": {
      "needs_background": "light"
     },
     "output_type": "display_data"
    },
    {
     "data": {
      "image/png": "[encoded data removed]",
      "text/plain": [
       "<Figure size 432x288 with 1 Axes>"
      ]
     },
     "metadata": {
      "needs_background": "light"
     },
     "output_type": "display_data"
    },
    {
     "data": {
      "image/png": "[encoded data removed]",
      "text/plain": [
       "<Figure size 432x288 with 1 Axes>"
      ]
     },
     "metadata": {
      "needs_background": "light"
     },
     "output_type": "display_data"
    },
    {
     "data": {
      "image/png": "[encoded data removed]",
      "text/plain": [
       "<Figure size 432x288 with 1 Axes>"
      ]
     },
     "metadata": {
      "needs_background": "light"
     },
     "output_type": "display_data"
    },
    {
     "data": {
      "image/png": "[encoded data removed]",
      "text/plain": [
       "<Figure size 432x288 with 1 Axes>"
      ]
     },
     "metadata": {
      "needs_background": "light"
     },
     "output_type": "display_data"
    },
    {
     "data": {
      "image/png": "[encoded data removed]",
      "text/plain": [
       "<Figure size 432x288 with 1 Axes>"
      ]
     },
     "metadata": {
      "needs_background": "light"
     },
     "output_type": "display_data"
    },
    {
     "data": {
      "image/png": "[encoded data removed]",
      "text/plain": [
       "<Figure size 432x288 with 1 Axes>"
      ]
     },
     "metadata": {
      "needs_background": "light"
     },
     "output_type": "display_data"
    },
    {
     "data": {
      "image/png": "[encoded data removed]",
      "text/plain": [
       "<Figure size 432x288 with 1 Axes>"
      ]
     },
     "metadata": {
      "needs_background": "light"
     },
     "output_type": "display_data"
    },
    {
     "data": {
      "image/png": "[encoded data removed]",
      "text/plain": [
       "<Figure size 432x288 with 1 Axes>"
      ]
     },
     "metadata": {
      "needs_background": "light"
     },
     "output_type": "display_data"
    },
    {
     "data": {
      "image/png": "[encoded data removed]",
      "text/plain": [
       "<Figure size 432x288 with 1 Axes>"
      ]
     },
     "metadata": {
      "needs_background": "light"
     },
     "output_type": "display_data"
    },
    {
     "data": {
      "image/png": "[encoded data removed]",
      "text/plain": [
       "<Figure size 432x288 with 1 Axes>"
      ]
     },
     "metadata": {
      "needs_background": "light"
     },
     "output_type": "display_data"
    },
    {
     "data": {
      "image/png": "[encoded data removed]",
      "text/plain": [
       "<Figure size 432x288 with 1 Axes>"
      ]
     },
     "metadata": {
      "needs_background": "light"
     },
     "output_type": "display_data"
    },
    {
     "data": {
      "image/png": "[encoded data removed]",
      "text/plain": [
       "<Figure size 432x288 with 1 Axes>"
      ]
     },
     "metadata": {
      "needs_background": "light"
     },
     "output_type": "display_data"
    },
    {
     "data": {
      "image/png": "[encoded data removed]",
      "text/plain": [
       "<Figure size 432x288 with 1 Axes>"
      ]
     },
     "metadata": {
      "needs_background": "light"
     },
     "output_type": "display_data"
    },
    {
     "data": {
      "image/png": "[encoded data removed]",
      "text/plain": [
       "<Figure size 432x288 with 1 Axes>"
      ]
     },
     "metadata": {
      "needs_background": "light"
     },
     "output_type": "display_data"
    },
    {
     "data": {
      "image/png": "[encoded data removed]",
      "text/plain": [
       "<Figure size 432x288 with 1 Axes>"
      ]
     },
     "metadata": {
      "needs_background": "light"
     },
     "output_type": "display_data"
    },
    {
     "data": {
      "image/png": "[encoded data removed]",
      "text/plain": [
       "<Figure size 432x288 with 1 Axes>"
      ]
     },
     "metadata": {
      "needs_background": "light"
     },
     "output_type": "display_data"
    },
    {
     "data": {
      "image/png": "[encoded data removed]",
      "text/plain": [
       "<Figure size 432x288 with 1 Axes>"
      ]
     },
     "metadata": {
      "needs_background": "light"
     },
     "output_type": "display_data"
    },
    {
     "data": {
      "image/png": "[encoded data removed]",
      "text/plain": [
       "<Figure size 432x288 with 1 Axes>"
      ]
     },
     "metadata": {
      "needs_background": "light"
     },
     "output_type": "display_data"
    },
    {
     "data": {
      "image/png": "[encoded data removed]",
      "text/plain": [
       "<Figure size 432x288 with 1 Axes>"
      ]
     },
     "metadata": {
      "needs_background": "light"
     },
     "output_type": "display_data"
    },
    {
     "data": {
      "image/png": "[encoded data removed]",
      "text/plain": [
       "<Figure size 432x288 with 1 Axes>"
      ]
     },
     "metadata": {
      "needs_background": "light"
     },
     "output_type": "display_data"
    }
   ],
   "source": [
    "\n",
    "# size of plots to make it uniform throughout our analysis in the notebook\n",
    "plotSizeX = 12\n",
    "plotSizeY = 6\n",
    "# let's boxplot all the numerical columns and see if there any outliers\n",
    "for i in house_df.iloc[:, 2:].columns:\n",
    "    house_df.iloc[:, 1:].boxplot(column=i)\n",
    "    plt.show()"
   ]
  },
  {
   "cell_type": "markdown",
   "metadata": {},
   "source": [
    "##### Analyzing Feature: cid"
   ]
  },
  {
   "cell_type": "code",
   "execution_count": 16,
   "metadata": {},
   "outputs": [
    {
     "data": {
      "text/plain": [
       "(176,)"
      ]
     },
     "execution_count": 16,
     "metadata": {},
     "output_type": "execute_result"
    }
   ],
   "source": [
    "#cid - CID is appearing muliple times, it seems data contains house which is sold multiple times\n",
    "cid_count=house_df.cid.value_counts()\n",
    "cid_count[cid_count>1].shape\n"
   ]
  },
  {
   "cell_type": "markdown",
   "metadata": {},
   "source": [
    "##### Analyzing Feature: dayhours\n"
   ]
  },
  {
   "cell_type": "code",
   "execution_count": 17,
   "metadata": {},
   "outputs": [
    {
     "data": {
      "text/plain": [
       "0    November-2014\n",
       "1    December-2014\n",
       "2       April-2015\n",
       "3         May-2014\n",
       "4       April-2015\n",
       "Name: month_year, dtype: object"
      ]
     },
     "execution_count": 17,
     "metadata": {},
     "output_type": "execute_result"
    }
   ],
   "source": [
    "#we will create new data frame that can be used for modeling\n",
    "#We will convert the dayhours to 'month_year' as sale month-year is relevant for analysis\n",
    "\n",
    "house_dfr=house_df.copy()\n",
    "house_df.dayhours=house_df.dayhours.str.replace('T000000', \"\")\n",
    "house_df.dayhours=pd.to_datetime(house_df.dayhours,format='%Y%m%d')\n",
    "house_df['month_year']=house_df['dayhours'].apply(lambda x: x.strftime('%B-%Y'))\n",
    "house_df['month_year'].head()"
   ]
  },
  {
   "cell_type": "code",
   "execution_count": 18,
   "metadata": {},
   "outputs": [
    {
     "data": {
      "text/plain": [
       "April-2015        2231\n",
       "July-2014         2211\n",
       "June-2014         2180\n",
       "August-2014       1940\n",
       "October-2014      1878\n",
       "March-2015        1875\n",
       "September-2014    1774\n",
       "May-2014          1768\n",
       "December-2014     1471\n",
       "November-2014     1411\n",
       "February-2015     1250\n",
       "January-2015       978\n",
       "May-2015           646\n",
       "Name: month_year, dtype: int64"
      ]
     },
     "execution_count": 18,
     "metadata": {},
     "output_type": "execute_result"
    }
   ],
   "source": [
    "house_df['month_year'].value_counts()"
   ]
  },
  {
   "cell_type": "code",
   "execution_count": 19,
   "metadata": {},
   "outputs": [
    {
     "data": {
      "text/plain": [
       "month_year\n",
       "April-2015        561933.463021\n",
       "August-2014       536527.039691\n",
       "December-2014     524602.893270\n",
       "February-2015     507919.603200\n",
       "January-2015      525963.251534\n",
       "July-2014         544892.161013\n",
       "June-2014         558123.736239\n",
       "March-2015        544057.683200\n",
       "May-2014          548166.600113\n",
       "May-2015          558193.095975\n",
       "November-2014     522058.861800\n",
       "October-2014      539127.477636\n",
       "September-2014    529315.868095\n",
       "Name: price, dtype: float64"
      ]
     },
     "execution_count": 19,
     "metadata": {},
     "output_type": "execute_result"
    }
   ],
   "source": [
    "house_df.groupby(['month_year'])['price'].agg('mean')"
   ]
  },
  {
   "cell_type": "markdown",
   "metadata": {},
   "source": [
    "##### Analyzing Feature: Price (our Target)"
   ]
  },
  {
   "cell_type": "code",
   "execution_count": 20,
   "metadata": {},
   "outputs": [
    {
     "data": {
      "text/plain": [
       "count    2.161300e+04\n",
       "mean     5.401822e+05\n",
       "std      3.673622e+05\n",
       "min      7.500000e+04\n",
       "25%      3.219500e+05\n",
       "50%      4.500000e+05\n",
       "75%      6.450000e+05\n",
       "max      7.700000e+06\n",
       "Name: price, dtype: float64"
      ]
     },
     "execution_count": 20,
     "metadata": {},
     "output_type": "execute_result"
    }
   ],
   "source": [
    "house_df.price.describe()"
   ]
  },
  {
   "cell_type": "code",
   "execution_count": 21,
   "metadata": {},
   "outputs": [
    {
     "name": "stderr",
     "output_type": "stream",
     "text": [
      "C:\\Users\\arun.a\\Anaconda3\\lib\\site-packages\\seaborn\\distributions.py:2551: FutureWarning: `distplot` is a deprecated function and will be removed in a future version. Please adapt your code to use either `displot` (a figure-level function with similar flexibility) or `histplot` (an axes-level function for histograms).\n",
      "  warnings.warn(msg, FutureWarning)\n"
     ]
    },
    {
     "data": {
      "text/plain": [
       "<AxesSubplot:xlabel='price', ylabel='Density'>"
      ]
     },
     "execution_count": 21,
     "metadata": {},
     "output_type": "execute_result"
    },
    {
     "data": {
      "image/png": "[encoded data removed]",
      "text/plain": [
       "<Figure size 864x432 with 1 Axes>"
      ]
     },
     "metadata": {
      "needs_background": "light"
     },
     "output_type": "display_data"
    }
   ],
   "source": [
    "plt.figure(figsize=(plotSizeX, plotSizeY))\n",
    "sns.distplot(house_df['price'])"
   ]
  },
  {
   "cell_type": "markdown",
   "metadata": {},
   "source": [
    "##### Analyzing Feature: room_bed"
   ]
  },
  {
   "cell_type": "code",
   "execution_count": null,
   "metadata": {},
   "outputs": [
    {
     "data": {
      "text/plain": [
       "<seaborn.axisgrid.PairGrid at 0x224742fd9a0>"
      ]
     },
     "execution_count": 22,
     "metadata": {},
     "output_type": "execute_result"
    }
   ],
   "source": [
    "# let's plot all the variables and confirm our above deduction with more confidence\n",
    "sns.pairplot(house_df, diag_kind = 'kde')"
   ]
  },
  {
   "cell_type": "code",
   "execution_count": null,
   "metadata": {},
   "outputs": [],
   "source": []
  }
 ],
 "metadata": {
  "kernelspec": {
   "display_name": "Python 3",
   "language": "python",
   "name": "python3"
  },
  "language_info": {
   "codemirror_mode": {
    "name": "ipython",
    "version": 3
   },
   "file_extension": ".py",
   "mimetype": "text/x-python",
   "name": "python",
   "nbconvert_exporter": "python",
   "pygments_lexer": "ipython3",
   "version": "3.8.5"
  }
 },
 "nbformat": 4,
 "nbformat_minor": 4
}
