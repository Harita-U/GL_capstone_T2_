{
 "cells": [
  {
   "cell_type": "markdown",
   "metadata": {},
   "source": [
    "LinearRegression"
   ]
  },
  {
   "cell_type": "code",
   "execution_count": 1,
   "metadata": {},
   "outputs": [],
   "source": [
    "# importing necessary packages\n",
    "import numpy as np\n",
    "import pandas as pd\n",
    "import matplotlib.pyplot as plt\n",
    "import seaborn as sns\n",
    "sns.set(color_codes=True)\n",
    "%matplotlib inline"
   ]
  },
  {
   "cell_type": "code",
   "execution_count": 2,
   "metadata": {},
   "outputs": [],
   "source": [
    "data = pd.read_csv(\"for_model.csv\")"
   ]
  },
  {
   "cell_type": "code",
   "execution_count": 3,
   "metadata": {},
   "outputs": [
    {
     "data": {
      "text/html": [
       "<div>\n",
       "<style scoped>\n",
       "    .dataframe tbody tr th:only-of-type {\n",
       "        vertical-align: middle;\n",
       "    }\n",
       "\n",
       "    .dataframe tbody tr th {\n",
       "        vertical-align: top;\n",
       "    }\n",
       "\n",
       "    .dataframe thead th {\n",
       "        text-align: right;\n",
       "    }\n",
       "</style>\n",
       "<table border=\"1\" class=\"dataframe\">\n",
       "  <thead>\n",
       "    <tr style=\"text-align: right;\">\n",
       "      <th></th>\n",
       "      <th>Unnamed: 0</th>\n",
       "      <th>room_bed</th>\n",
       "      <th>room_bath</th>\n",
       "      <th>living_measure</th>\n",
       "      <th>ceil</th>\n",
       "      <th>coast</th>\n",
       "      <th>sight</th>\n",
       "      <th>condition</th>\n",
       "      <th>quality</th>\n",
       "      <th>ceil_measure</th>\n",
       "      <th>basement</th>\n",
       "      <th>yr_renovated</th>\n",
       "      <th>living_measure15</th>\n",
       "      <th>furnished</th>\n",
       "      <th>total_area</th>\n",
       "      <th>price</th>\n",
       "    </tr>\n",
       "  </thead>\n",
       "  <tbody>\n",
       "    <tr>\n",
       "      <th>0</th>\n",
       "      <td>0</td>\n",
       "      <td>4</td>\n",
       "      <td>3.25</td>\n",
       "      <td>3020</td>\n",
       "      <td>1.0</td>\n",
       "      <td>0</td>\n",
       "      <td>0</td>\n",
       "      <td>5</td>\n",
       "      <td>9</td>\n",
       "      <td>3020</td>\n",
       "      <td>0</td>\n",
       "      <td>0</td>\n",
       "      <td>2120</td>\n",
       "      <td>1</td>\n",
       "      <td>16477</td>\n",
       "      <td>808100</td>\n",
       "    </tr>\n",
       "    <tr>\n",
       "      <th>1</th>\n",
       "      <td>1</td>\n",
       "      <td>4</td>\n",
       "      <td>2.50</td>\n",
       "      <td>2550</td>\n",
       "      <td>1.0</td>\n",
       "      <td>0</td>\n",
       "      <td>0</td>\n",
       "      <td>3</td>\n",
       "      <td>8</td>\n",
       "      <td>1750</td>\n",
       "      <td>800</td>\n",
       "      <td>0</td>\n",
       "      <td>2260</td>\n",
       "      <td>0</td>\n",
       "      <td>10050</td>\n",
       "      <td>277500</td>\n",
       "    </tr>\n",
       "    <tr>\n",
       "      <th>2</th>\n",
       "      <td>2</td>\n",
       "      <td>3</td>\n",
       "      <td>2.50</td>\n",
       "      <td>2370</td>\n",
       "      <td>2.0</td>\n",
       "      <td>0</td>\n",
       "      <td>0</td>\n",
       "      <td>3</td>\n",
       "      <td>8</td>\n",
       "      <td>2370</td>\n",
       "      <td>0</td>\n",
       "      <td>0</td>\n",
       "      <td>2370</td>\n",
       "      <td>0</td>\n",
       "      <td>6694</td>\n",
       "      <td>404000</td>\n",
       "    </tr>\n",
       "    <tr>\n",
       "      <th>3</th>\n",
       "      <td>3</td>\n",
       "      <td>2</td>\n",
       "      <td>1.00</td>\n",
       "      <td>820</td>\n",
       "      <td>1.0</td>\n",
       "      <td>0</td>\n",
       "      <td>0</td>\n",
       "      <td>4</td>\n",
       "      <td>6</td>\n",
       "      <td>820</td>\n",
       "      <td>0</td>\n",
       "      <td>0</td>\n",
       "      <td>1520</td>\n",
       "      <td>0</td>\n",
       "      <td>4664</td>\n",
       "      <td>300000</td>\n",
       "    </tr>\n",
       "    <tr>\n",
       "      <th>4</th>\n",
       "      <td>4</td>\n",
       "      <td>2</td>\n",
       "      <td>1.50</td>\n",
       "      <td>1400</td>\n",
       "      <td>1.0</td>\n",
       "      <td>0</td>\n",
       "      <td>0</td>\n",
       "      <td>4</td>\n",
       "      <td>8</td>\n",
       "      <td>1400</td>\n",
       "      <td>0</td>\n",
       "      <td>0</td>\n",
       "      <td>1900</td>\n",
       "      <td>0</td>\n",
       "      <td>5450</td>\n",
       "      <td>699000</td>\n",
       "    </tr>\n",
       "    <tr>\n",
       "      <th>...</th>\n",
       "      <td>...</td>\n",
       "      <td>...</td>\n",
       "      <td>...</td>\n",
       "      <td>...</td>\n",
       "      <td>...</td>\n",
       "      <td>...</td>\n",
       "      <td>...</td>\n",
       "      <td>...</td>\n",
       "      <td>...</td>\n",
       "      <td>...</td>\n",
       "      <td>...</td>\n",
       "      <td>...</td>\n",
       "      <td>...</td>\n",
       "      <td>...</td>\n",
       "      <td>...</td>\n",
       "      <td>...</td>\n",
       "    </tr>\n",
       "    <tr>\n",
       "      <th>21420</th>\n",
       "      <td>21608</td>\n",
       "      <td>4</td>\n",
       "      <td>2.50</td>\n",
       "      <td>2303</td>\n",
       "      <td>2.0</td>\n",
       "      <td>0</td>\n",
       "      <td>0</td>\n",
       "      <td>3</td>\n",
       "      <td>8</td>\n",
       "      <td>2303</td>\n",
       "      <td>0</td>\n",
       "      <td>0</td>\n",
       "      <td>2516</td>\n",
       "      <td>0</td>\n",
       "      <td>6129</td>\n",
       "      <td>300000</td>\n",
       "    </tr>\n",
       "    <tr>\n",
       "      <th>21421</th>\n",
       "      <td>21609</td>\n",
       "      <td>4</td>\n",
       "      <td>2.50</td>\n",
       "      <td>3490</td>\n",
       "      <td>2.0</td>\n",
       "      <td>0</td>\n",
       "      <td>0</td>\n",
       "      <td>3</td>\n",
       "      <td>8</td>\n",
       "      <td>3490</td>\n",
       "      <td>0</td>\n",
       "      <td>0</td>\n",
       "      <td>2910</td>\n",
       "      <td>0</td>\n",
       "      <td>8490</td>\n",
       "      <td>320000</td>\n",
       "    </tr>\n",
       "    <tr>\n",
       "      <th>21422</th>\n",
       "      <td>21610</td>\n",
       "      <td>4</td>\n",
       "      <td>2.75</td>\n",
       "      <td>2790</td>\n",
       "      <td>2.0</td>\n",
       "      <td>0</td>\n",
       "      <td>0</td>\n",
       "      <td>3</td>\n",
       "      <td>8</td>\n",
       "      <td>2790</td>\n",
       "      <td>0</td>\n",
       "      <td>0</td>\n",
       "      <td>2620</td>\n",
       "      <td>0</td>\n",
       "      <td>8317</td>\n",
       "      <td>483453</td>\n",
       "    </tr>\n",
       "    <tr>\n",
       "      <th>21423</th>\n",
       "      <td>21611</td>\n",
       "      <td>2</td>\n",
       "      <td>2.00</td>\n",
       "      <td>1440</td>\n",
       "      <td>1.0</td>\n",
       "      <td>0</td>\n",
       "      <td>0</td>\n",
       "      <td>3</td>\n",
       "      <td>7</td>\n",
       "      <td>1440</td>\n",
       "      <td>0</td>\n",
       "      <td>0</td>\n",
       "      <td>1780</td>\n",
       "      <td>0</td>\n",
       "      <td>16440</td>\n",
       "      <td>365000</td>\n",
       "    </tr>\n",
       "    <tr>\n",
       "      <th>21424</th>\n",
       "      <td>21612</td>\n",
       "      <td>3</td>\n",
       "      <td>1.00</td>\n",
       "      <td>970</td>\n",
       "      <td>1.5</td>\n",
       "      <td>0</td>\n",
       "      <td>0</td>\n",
       "      <td>3</td>\n",
       "      <td>7</td>\n",
       "      <td>970</td>\n",
       "      <td>0</td>\n",
       "      <td>0</td>\n",
       "      <td>1730</td>\n",
       "      <td>0</td>\n",
       "      <td>6892</td>\n",
       "      <td>354950</td>\n",
       "    </tr>\n",
       "  </tbody>\n",
       "</table>\n",
       "<p>21425 rows × 16 columns</p>\n",
       "</div>"
      ],
      "text/plain": [
       "       Unnamed: 0  room_bed  room_bath  living_measure  ceil  coast  sight  \\\n",
       "0               0         4       3.25            3020   1.0      0      0   \n",
       "1               1         4       2.50            2550   1.0      0      0   \n",
       "2               2         3       2.50            2370   2.0      0      0   \n",
       "3               3         2       1.00             820   1.0      0      0   \n",
       "4               4         2       1.50            1400   1.0      0      0   \n",
       "...           ...       ...        ...             ...   ...    ...    ...   \n",
       "21420       21608         4       2.50            2303   2.0      0      0   \n",
       "21421       21609         4       2.50            3490   2.0      0      0   \n",
       "21422       21610         4       2.75            2790   2.0      0      0   \n",
       "21423       21611         2       2.00            1440   1.0      0      0   \n",
       "21424       21612         3       1.00             970   1.5      0      0   \n",
       "\n",
       "       condition  quality  ceil_measure  basement  yr_renovated  \\\n",
       "0              5        9          3020         0             0   \n",
       "1              3        8          1750       800             0   \n",
       "2              3        8          2370         0             0   \n",
       "3              4        6           820         0             0   \n",
       "4              4        8          1400         0             0   \n",
       "...          ...      ...           ...       ...           ...   \n",
       "21420          3        8          2303         0             0   \n",
       "21421          3        8          3490         0             0   \n",
       "21422          3        8          2790         0             0   \n",
       "21423          3        7          1440         0             0   \n",
       "21424          3        7           970         0             0   \n",
       "\n",
       "       living_measure15  furnished  total_area   price  \n",
       "0                  2120          1       16477  808100  \n",
       "1                  2260          0       10050  277500  \n",
       "2                  2370          0        6694  404000  \n",
       "3                  1520          0        4664  300000  \n",
       "4                  1900          0        5450  699000  \n",
       "...                 ...        ...         ...     ...  \n",
       "21420              2516          0        6129  300000  \n",
       "21421              2910          0        8490  320000  \n",
       "21422              2620          0        8317  483453  \n",
       "21423              1780          0       16440  365000  \n",
       "21424              1730          0        6892  354950  \n",
       "\n",
       "[21425 rows x 16 columns]"
      ]
     },
     "execution_count": 3,
     "metadata": {},
     "output_type": "execute_result"
    }
   ],
   "source": [
    "data"
   ]
  },
  {
   "cell_type": "code",
   "execution_count": 4,
   "metadata": {},
   "outputs": [],
   "source": [
    "data = data.drop(data.columns[[0]], axis=1)"
   ]
  },
  {
   "cell_type": "code",
   "execution_count": 5,
   "metadata": {},
   "outputs": [
    {
     "data": {
      "text/plain": [
       "Index(['room_bed', 'room_bath', 'living_measure', 'ceil', 'coast', 'sight',\n",
       "       'condition', 'quality', 'ceil_measure', 'basement', 'yr_renovated',\n",
       "       'living_measure15', 'furnished', 'total_area', 'price'],\n",
       "      dtype='object')"
      ]
     },
     "execution_count": 5,
     "metadata": {},
     "output_type": "execute_result"
    }
   ],
   "source": [
    "data.columns"
   ]
  },
  {
   "cell_type": "code",
   "execution_count": 6,
   "metadata": {},
   "outputs": [
    {
     "name": "stdout",
     "output_type": "stream",
     "text": [
      "Train values : 19282 2143\n",
      "Test values : 19282 2143\n"
     ]
    }
   ],
   "source": [
    "#train test split\n",
    "\n",
    "from sklearn.model_selection import train_test_split\n",
    "\n",
    "X = data.drop('price',axis=1)     \n",
    "y = data['price']   \n",
    "\n",
    "X_train, X_test, y_train, y_test = train_test_split(X, y, test_size=0.1, random_state=1)\n",
    "\n",
    "X1,X2 = (len(X_train)),(len(X_test))\n",
    "y1,y2 = (len(y_train)),(len(y_test))\n",
    "\n",
    "print (\"Train values :\" +  \" \" + str(X1) + \" \" + str(X2))\n",
    "print (\"Test values :\" +  \" \" + str(y1) + \" \" + str(y2))"
   ]
  },
  {
   "cell_type": "code",
   "execution_count": 7,
   "metadata": {},
   "outputs": [
    {
     "name": "stdout",
     "output_type": "stream",
     "text": [
      "Train values : 15425 3857\n",
      "Test values : 15425 3857\n"
     ]
    }
   ],
   "source": [
    "#validation\n",
    "\n",
    "X_val_train, cv_X_test, y_val_train, cv_y_test = train_test_split(X_train, y_train, test_size=0.2, random_state=1)\n",
    "\n",
    "X3,X4 = (len(X_val_train)),(len(cv_X_test))\n",
    "y3,y4 = (len(y_val_train)),(len(cv_y_test))\n",
    "\n",
    "print (\"Train values :\" +  \" \" + str(X3) + \" \" + str(X4))\n",
    "print (\"Test values :\" +  \" \" + str(y3) + \" \" + str(y4))"
   ]
  },
  {
   "cell_type": "code",
   "execution_count": 8,
   "metadata": {},
   "outputs": [],
   "source": [
    "from sklearn.preprocessing import MinMaxScaler"
   ]
  },
  {
   "cell_type": "code",
   "execution_count": 9,
   "metadata": {},
   "outputs": [],
   "source": [
    "# fit scaler on training data\n",
    "norm = MinMaxScaler().fit(X_val_train)\n",
    "\n",
    "# transform training data\n",
    "X_val_train_norm = norm.transform(X_val_train)\n",
    "\n",
    "# transform testing dataabs\n",
    "cv_X_test_norm = norm.transform(cv_X_test)"
   ]
  },
  {
   "cell_type": "code",
   "execution_count": 10,
   "metadata": {},
   "outputs": [
    {
     "name": "stdout",
     "output_type": "stream",
     "text": [
      "[[0.375      0.28125    0.12328767 ... 0.22732748 0.         0.00750165]\n",
      " [0.625      0.4375     0.18005137 ... 0.28239546 0.         0.00625713]\n",
      " [0.625      0.375      0.25428082 ... 0.49750473 1.         0.00769908]\n",
      " ...\n",
      " [0.375      0.3125     0.10958904 ... 0.26518671 0.         0.00864867]\n",
      " [0.375      0.3125     0.26712329 ... 0.23076923 0.         0.00876737]\n",
      " [0.25       0.09375    0.06506849 ... 0.19807262 0.         0.00674404]]\n"
     ]
    }
   ],
   "source": [
    "print(X_val_train_norm)"
   ]
  },
  {
   "cell_type": "markdown",
   "metadata": {},
   "source": [
    "### Linear"
   ]
  },
  {
   "cell_type": "code",
   "execution_count": 11,
   "metadata": {},
   "outputs": [],
   "source": [
    "from sklearn.linear_model import LinearRegression"
   ]
  },
  {
   "cell_type": "code",
   "execution_count": 12,
   "metadata": {},
   "outputs": [],
   "source": [
    "lr_model = LinearRegression()\n",
    "lr_model.fit(X_val_train_norm, y_val_train)\n",
    "lr_predict = lr_model.predict(cv_X_test_norm)"
   ]
  },
  {
   "cell_type": "code",
   "execution_count": 13,
   "metadata": {},
   "outputs": [
    {
     "data": {
      "text/plain": [
       "0.6099204804898164"
      ]
     },
     "execution_count": 13,
     "metadata": {},
     "output_type": "execute_result"
    }
   ],
   "source": [
    "lr_model.score(X_val_train_norm, y_val_train)"
   ]
  },
  {
   "cell_type": "code",
   "execution_count": 14,
   "metadata": {},
   "outputs": [
    {
     "data": {
      "text/plain": [
       "0.6086903360808502"
      ]
     },
     "execution_count": 14,
     "metadata": {},
     "output_type": "execute_result"
    }
   ],
   "source": [
    "lr_model.score(cv_X_test_norm, cv_y_test)"
   ]
  },
  {
   "cell_type": "markdown",
   "metadata": {},
   "source": [
    "### Polynomial "
   ]
  },
  {
   "cell_type": "code",
   "execution_count": 15,
   "metadata": {},
   "outputs": [],
   "source": [
    "from sklearn.preprocessing import PolynomialFeatures"
   ]
  },
  {
   "cell_type": "code",
   "execution_count": 16,
   "metadata": {},
   "outputs": [],
   "source": [
    "poly = PolynomialFeatures(degree=2, interaction_only=True)"
   ]
  },
  {
   "cell_type": "code",
   "execution_count": 17,
   "metadata": {},
   "outputs": [
    {
     "data": {
      "text/plain": [
       "(19282, 14)"
      ]
     },
     "execution_count": 17,
     "metadata": {},
     "output_type": "execute_result"
    }
   ],
   "source": [
    "X_poly = poly.fit_transform(X_train)\n",
    "poly_X_train, poly_X_test, poly_y_train, poly_y_test = train_test_split(X_poly, y_train, test_size=0.20, random_state=1)\n",
    "X_train.shape"
   ]
  },
  {
   "cell_type": "code",
   "execution_count": 18,
   "metadata": {},
   "outputs": [],
   "source": [
    "poly_lr_model = lr_model.fit(poly_X_train, poly_y_train)\n",
    "poly_lr_predict = poly_lr_model.predict(poly_X_test)"
   ]
  },
  {
   "cell_type": "code",
   "execution_count": 19,
   "metadata": {},
   "outputs": [
    {
     "data": {
      "text/plain": [
       "0.7137956740964677"
      ]
     },
     "execution_count": 19,
     "metadata": {},
     "output_type": "execute_result"
    }
   ],
   "source": [
    "poly_lr_model.score(poly_X_train, poly_y_train)"
   ]
  },
  {
   "cell_type": "code",
   "execution_count": 20,
   "metadata": {},
   "outputs": [
    {
     "data": {
      "text/plain": [
       "0.6825053456826017"
      ]
     },
     "execution_count": 20,
     "metadata": {},
     "output_type": "execute_result"
    }
   ],
   "source": [
    "poly_lr_model.score(poly_X_test, poly_y_test)"
   ]
  },
  {
   "cell_type": "markdown",
   "metadata": {},
   "source": [
    "### Lasso"
   ]
  },
  {
   "cell_type": "code",
   "execution_count": 21,
   "metadata": {},
   "outputs": [],
   "source": [
    "from sklearn.linear_model import ridge_regression\n",
    "from sklearn.linear_model import Ridge\n",
    "from sklearn.linear_model import Lasso"
   ]
  },
  {
   "cell_type": "code",
   "execution_count": 22,
   "metadata": {},
   "outputs": [
    {
     "name": "stdout",
     "output_type": "stream",
     "text": [
      "Ridge model: [-298239.98094693  -68057.49637081  875088.30392232  -15819.97614422\n",
      "  530020.62475291  228385.85705693  227969.21980788  944979.50912085\n",
      "  850768.246307    621993.56404028  141981.20134646   81420.71292384\n",
      "   48988.06226425 -562586.45985223]\n"
     ]
    }
   ],
   "source": [
    "ridge_model = Ridge(alpha=.3)\n",
    "ridge_model.fit(X_val_train_norm, y_val_train)\n",
    "print (\"Ridge model:\", (ridge_model.coef_))"
   ]
  },
  {
   "cell_type": "code",
   "execution_count": 23,
   "metadata": {},
   "outputs": [
    {
     "name": "stdout",
     "output_type": "stream",
     "text": [
      "0.6099164343583502\n",
      "0.6088065764773003\n"
     ]
    }
   ],
   "source": [
    "print(ridge_model.score(X_val_train_norm, y_val_train))\n",
    "print(ridge_model.score(cv_X_test_norm, cv_y_test))"
   ]
  },
  {
   "cell_type": "code",
   "execution_count": 24,
   "metadata": {},
   "outputs": [],
   "source": [
    "from sklearn.linear_model import Lasso"
   ]
  },
  {
   "cell_type": "code",
   "execution_count": 25,
   "metadata": {},
   "outputs": [
    {
     "name": "stdout",
     "output_type": "stream",
     "text": [
      "Ridge model: [-300952.66841421  -72823.20743966 3029168.75954958  -16188.47250971\n",
      "  531185.40179882  228007.79944464  227994.59127131  948812.68902158\n",
      " -704075.94344807 -261689.82374287  141873.29018748   77792.78979282\n",
      "   47913.77876664 -581615.35633862]\n"
     ]
    },
    {
     "name": "stderr",
     "output_type": "stream",
     "text": [
      "C:\\Users\\Sri Lekha\\anaconda3\\lib\\site-packages\\sklearn\\linear_model\\_coordinate_descent.py:476: ConvergenceWarning: Objective did not converge. You might want to increase the number of iterations. Duality gap: 185677583369293.94, tolerance: 211538026722.80203\n",
      "  positive)\n"
     ]
    }
   ],
   "source": [
    "lasso_model = Lasso(alpha=1.0)\n",
    "lasso_model.fit(X_val_train_norm, y_val_train)\n",
    "print (\"Ridge model:\", (lasso_model.coef_))"
   ]
  },
  {
   "cell_type": "code",
   "execution_count": 26,
   "metadata": {},
   "outputs": [
    {
     "name": "stdout",
     "output_type": "stream",
     "text": [
      "0.6099204559010216\n",
      "0.6086872850672784\n"
     ]
    }
   ],
   "source": [
    "print(lasso_model.score(X_val_train_norm, y_val_train))\n",
    "print(lasso_model.score(cv_X_test_norm, cv_y_test))"
   ]
  },
  {
   "cell_type": "markdown",
   "metadata": {},
   "source": [
    "### Decision Tree Regressor"
   ]
  },
  {
   "cell_type": "code",
   "execution_count": 27,
   "metadata": {},
   "outputs": [],
   "source": [
    "from sklearn.tree import DecisionTreeRegressor"
   ]
  },
  {
   "cell_type": "code",
   "execution_count": 28,
   "metadata": {},
   "outputs": [],
   "source": [
    "DT1_model = DecisionTreeRegressor()\n",
    "DT1_model.fit(X_val_train_norm , y_val_train)\n",
    "y_pred = DT1_model.predict(cv_X_test_norm)"
   ]
  },
  {
   "cell_type": "code",
   "execution_count": 29,
   "metadata": {},
   "outputs": [
    {
     "name": "stdout",
     "output_type": "stream",
     "text": [
      "0.9999963673661322\n",
      "0.3874152990196691\n"
     ]
    }
   ],
   "source": [
    "print(DT1_model.score(X_val_train_norm, y_val_train))\n",
    "print(DT1_model.score(cv_X_test_norm, cv_y_test ))"
   ]
  },
  {
   "cell_type": "markdown",
   "metadata": {},
   "source": [
    "### Gradient boosting regressor, Random forest regressor"
   ]
  },
  {
   "cell_type": "code",
   "execution_count": 32,
   "metadata": {},
   "outputs": [],
   "source": [
    "from scipy.stats import zscore\n",
    "#importing the metrics\n",
    "from sklearn.metrics import mean_squared_error,mean_absolute_error,r2_score"
   ]
  },
  {
   "cell_type": "code",
   "execution_count": 33,
   "metadata": {},
   "outputs": [
    {
     "data": {
      "text/plain": [
       "GradientBoostingRegressor(alpha=0.9, ccp_alpha=0.0, criterion='friedman_mse',\n",
       "                          init=None, learning_rate=0.1, loss='ls', max_depth=3,\n",
       "                          max_features=None, max_leaf_nodes=None,\n",
       "                          min_impurity_decrease=0.0, min_impurity_split=None,\n",
       "                          min_samples_leaf=1, min_samples_split=2,\n",
       "                          min_weight_fraction_leaf=0.0, n_estimators=100,\n",
       "                          n_iter_no_change=None, presort='deprecated',\n",
       "                          random_state=None, subsample=1.0, tol=0.0001,\n",
       "                          validation_fraction=0.1, verbose=0, warm_start=False)"
      ]
     },
     "execution_count": 33,
     "metadata": {},
     "output_type": "execute_result"
    }
   ],
   "source": [
    "from sklearn.ensemble import (RandomForestRegressor, GradientBoostingRegressor)\n",
    "model_gbr=GradientBoostingRegressor()\n",
    "model_gbr.fit(X_val_train_norm, y_val_train)"
   ]
  },
  {
   "cell_type": "code",
   "execution_count": 34,
   "metadata": {},
   "outputs": [
    {
     "name": "stdout",
     "output_type": "stream",
     "text": [
      "<class 'numpy.ndarray'>\n",
      "Accuracy DT:  0.6834143534997109\n",
      "MSE:  36138124568.48613\n"
     ]
    }
   ],
   "source": [
    "y_pred = model_gbr.predict(cv_X_test_norm)\n",
    "print(type(cv_X_test_norm))\n",
    "#Evaluate the model using accuracy\n",
    "acc_GB=r2_score(cv_y_test, y_pred)\n",
    "print('Accuracy DT: ',acc_GB)\n",
    "print('MSE: ',mean_squared_error(cv_y_test, y_pred))"
   ]
  },
  {
   "cell_type": "code",
   "execution_count": 35,
   "metadata": {},
   "outputs": [
    {
     "name": "stdout",
     "output_type": "stream",
     "text": [
      "0.7669498234132989\n",
      "0.6834143534997109\n"
     ]
    }
   ],
   "source": [
    "print(model_gbr.score(X_val_train_norm, y_val_train))\n",
    "print(model_gbr.score(cv_X_test_norm, cv_y_test))"
   ]
  },
  {
   "cell_type": "markdown",
   "metadata": {},
   "source": [
    "#****************************************************#"
   ]
  },
  {
   "cell_type": "code",
   "execution_count": 36,
   "metadata": {},
   "outputs": [
    {
     "data": {
      "text/plain": [
       "RandomForestRegressor(bootstrap=True, ccp_alpha=0.0, criterion='mse',\n",
       "                      max_depth=None, max_features='auto', max_leaf_nodes=None,\n",
       "                      max_samples=None, min_impurity_decrease=0.0,\n",
       "                      min_impurity_split=None, min_samples_leaf=1,\n",
       "                      min_samples_split=2, min_weight_fraction_leaf=0.0,\n",
       "                      n_estimators=50, n_jobs=None, oob_score=False,\n",
       "                      random_state=None, verbose=0, warm_start=False)"
      ]
     },
     "execution_count": 36,
     "metadata": {},
     "output_type": "execute_result"
    }
   ],
   "source": [
    "model_rfr=RandomForestRegressor(n_estimators=50)\n",
    "model_rfr.fit(X_val_train_norm, y_val_train)"
   ]
  },
  {
   "cell_type": "code",
   "execution_count": 37,
   "metadata": {},
   "outputs": [
    {
     "name": "stdout",
     "output_type": "stream",
     "text": [
      "<class 'numpy.ndarray'>\n",
      "Accuracy DT:  0.6768711238521532\n",
      "MSE:  36885031608.327034\n"
     ]
    }
   ],
   "source": [
    "y_pred = model_rfr.predict(cv_X_test_norm)\n",
    "print(type(cv_X_test_norm))\n",
    "#Evaluate the model using accuracy\n",
    "acc_RF=r2_score(cv_y_test, y_pred)\n",
    "print('Accuracy DT: ',acc_RF)\n",
    "print('MSE: ',mean_squared_error(cv_y_test, y_pred))"
   ]
  },
  {
   "cell_type": "code",
   "execution_count": 38,
   "metadata": {},
   "outputs": [
    {
     "name": "stdout",
     "output_type": "stream",
     "text": [
      "0.9592589091417854\n",
      "0.6768711238521532\n"
     ]
    }
   ],
   "source": [
    "print(model_rfr.score(X_val_train_norm, y_val_train))\n",
    "print(model_rfr.score(cv_X_test_norm, cv_y_test))"
   ]
  },
  {
   "cell_type": "code",
   "execution_count": null,
   "metadata": {},
   "outputs": [],
   "source": []
  }
 ],
 "metadata": {
  "kernelspec": {
   "display_name": "Python 3",
   "language": "python",
   "name": "python3"
  },
  "language_info": {
   "codemirror_mode": {
    "name": "ipython",
    "version": 3
   },
   "file_extension": ".py",
   "mimetype": "text/x-python",
   "name": "python",
   "nbconvert_exporter": "python",
   "pygments_lexer": "ipython3",
   "version": "3.7.6"
  }
 },
 "nbformat": 4,
 "nbformat_minor": 4
}
