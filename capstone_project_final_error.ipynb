{
 "cells": [
  {
   "cell_type": "markdown",
   "metadata": {
    "id": "PJKFqTSdPKy5"
   },
   "source": [
    "\n",
    "##Problem Definition\n",
    " When a person want to sell or buy a house , facing an issue like without knowing the worth of house, house may be sold or bought underestpimate price or over price, to overcome the issue we analyse with availble feature and predict price. \"\n",
    " ## Objective,\n",
    "  \"Build model which will predict the house price when required features passed to the model. So we will\"\n",
    "\n",
    "Find out the significant features from the given features dataset which affects the house price the most\n",
    "There are certain set of feature values given in the problem statement. The feature values are given below\n",
    "1. cid: a notation for a house \n",
    "2. dayhours: Date house was sold \n",
    "3. price: Price is prediction target \n",
    "4. room_bed: Number of Bedrooms/House\n",
    "5. room_bath: Number of bathrooms/bedrooms\n",
    "6. living_measure: square footage of the home \n",
    "7. lot_measure: quare footage of the lot\n",
    "8. ceil: Total floors (levels) in house\n",
    "9. coast: House which has a view to a waterfront \n",
    "10. sight: Has been viewed \n",
    "11. condition: How good the condition is (Overall) \n",
    "12. quality: grade given to the housing unit, based on grading system \n",
    "13. ceil_measure: square footage of house apart from basement \n",
    "14. basement_measure: square footage of the basement \n",
    "15. yr_built: Built Year \n",
    "16. yr_renovated: Year when house was renovated \n",
    "17. zipcode: zip \n",
    "18. lat: Latitude coordinate \n",
    "19. long: Longitude coordinate \n",
    "20. living_measure15: Living room area in 2015(implies-- some renovations) This might or might not have affected the lotsize area \n",
    "21. lot_measure15: lotSize area in 2015(implies-- some renovations) \n",
    "22. furnished: Based on the quality of room \n",
    "23. Total_area: Measure of both living and lot \n",
    "\n",
    "\n",
    "*The model is useful for the users/owners who want to see the flat. So according to the data provided we have to build the model to give the seller fair idea(not much not less) of the price to sell the flat.*\n"
   ]
  },
  {
   "cell_type": "code",
   "execution_count": 409,
   "metadata": {
    "id": "LE4CydEfOo-r"
   },
   "outputs": [],
   "source": [
    "import pandas as pd\n",
    "import numpy as np\n",
    "import seaborn as sns\n",
    "import matplotlib.pyplot as plt"
   ]
  },
  {
   "cell_type": "code",
   "execution_count": 410,
   "metadata": {
    "id": "XxO_jnNu9SkA"
   },
   "outputs": [],
   "source": [
    "data=pd.read_csv('innercity.csv')"
   ]
  },
  {
   "cell_type": "code",
   "execution_count": 411,
   "metadata": {},
   "outputs": [
    {
     "name": "stdout",
     "output_type": "stream",
     "text": [
      "5.0999999984924216e-05\n"
     ]
    }
   ],
   "source": [
    "import time\n",
    "start = time.process_time()\n",
    "# your code here    \n",
    "print(time.process_time() - start)"
   ]
  },
  {
   "cell_type": "code",
   "execution_count": 412,
   "metadata": {
    "colab": {
     "base_uri": "https://localhost:8080/",
     "height": 224
    },
    "id": "cO_oV-HuE8Qe",
    "outputId": "3d0e52c5-e244-4bf4-af81-d324df22170d"
   },
   "outputs": [
    {
     "data": {
      "text/html": [
       "<div>\n",
       "<style scoped>\n",
       "    .dataframe tbody tr th:only-of-type {\n",
       "        vertical-align: middle;\n",
       "    }\n",
       "\n",
       "    .dataframe tbody tr th {\n",
       "        vertical-align: top;\n",
       "    }\n",
       "\n",
       "    .dataframe thead th {\n",
       "        text-align: right;\n",
       "    }\n",
       "</style>\n",
       "<table border=\"1\" class=\"dataframe\">\n",
       "  <thead>\n",
       "    <tr style=\"text-align: right;\">\n",
       "      <th></th>\n",
       "      <th>cid</th>\n",
       "      <th>dayhours</th>\n",
       "      <th>price</th>\n",
       "      <th>room_bed</th>\n",
       "      <th>room_bath</th>\n",
       "      <th>living_measure</th>\n",
       "      <th>lot_measure</th>\n",
       "      <th>ceil</th>\n",
       "      <th>coast</th>\n",
       "      <th>sight</th>\n",
       "      <th>...</th>\n",
       "      <th>basement</th>\n",
       "      <th>yr_built</th>\n",
       "      <th>yr_renovated</th>\n",
       "      <th>zipcode</th>\n",
       "      <th>lat</th>\n",
       "      <th>long</th>\n",
       "      <th>living_measure15</th>\n",
       "      <th>lot_measure15</th>\n",
       "      <th>furnished</th>\n",
       "      <th>total_area</th>\n",
       "    </tr>\n",
       "  </thead>\n",
       "  <tbody>\n",
       "    <tr>\n",
       "      <th>0</th>\n",
       "      <td>3034200666</td>\n",
       "      <td>20141107T000000</td>\n",
       "      <td>808100</td>\n",
       "      <td>4</td>\n",
       "      <td>3.25</td>\n",
       "      <td>3020</td>\n",
       "      <td>13457</td>\n",
       "      <td>1.0</td>\n",
       "      <td>0</td>\n",
       "      <td>0</td>\n",
       "      <td>...</td>\n",
       "      <td>0</td>\n",
       "      <td>1956</td>\n",
       "      <td>0</td>\n",
       "      <td>98133</td>\n",
       "      <td>47.7174</td>\n",
       "      <td>-122.336</td>\n",
       "      <td>2120</td>\n",
       "      <td>7553</td>\n",
       "      <td>1</td>\n",
       "      <td>16477</td>\n",
       "    </tr>\n",
       "    <tr>\n",
       "      <th>1</th>\n",
       "      <td>8731981640</td>\n",
       "      <td>20141204T000000</td>\n",
       "      <td>277500</td>\n",
       "      <td>4</td>\n",
       "      <td>2.50</td>\n",
       "      <td>2550</td>\n",
       "      <td>7500</td>\n",
       "      <td>1.0</td>\n",
       "      <td>0</td>\n",
       "      <td>0</td>\n",
       "      <td>...</td>\n",
       "      <td>800</td>\n",
       "      <td>1976</td>\n",
       "      <td>0</td>\n",
       "      <td>98023</td>\n",
       "      <td>47.3165</td>\n",
       "      <td>-122.386</td>\n",
       "      <td>2260</td>\n",
       "      <td>8800</td>\n",
       "      <td>0</td>\n",
       "      <td>10050</td>\n",
       "    </tr>\n",
       "    <tr>\n",
       "      <th>2</th>\n",
       "      <td>5104530220</td>\n",
       "      <td>20150420T000000</td>\n",
       "      <td>404000</td>\n",
       "      <td>3</td>\n",
       "      <td>2.50</td>\n",
       "      <td>2370</td>\n",
       "      <td>4324</td>\n",
       "      <td>2.0</td>\n",
       "      <td>0</td>\n",
       "      <td>0</td>\n",
       "      <td>...</td>\n",
       "      <td>0</td>\n",
       "      <td>2006</td>\n",
       "      <td>0</td>\n",
       "      <td>98038</td>\n",
       "      <td>47.3515</td>\n",
       "      <td>-121.999</td>\n",
       "      <td>2370</td>\n",
       "      <td>4348</td>\n",
       "      <td>0</td>\n",
       "      <td>6694</td>\n",
       "    </tr>\n",
       "    <tr>\n",
       "      <th>3</th>\n",
       "      <td>6145600285</td>\n",
       "      <td>20140529T000000</td>\n",
       "      <td>300000</td>\n",
       "      <td>2</td>\n",
       "      <td>1.00</td>\n",
       "      <td>820</td>\n",
       "      <td>3844</td>\n",
       "      <td>1.0</td>\n",
       "      <td>0</td>\n",
       "      <td>0</td>\n",
       "      <td>...</td>\n",
       "      <td>0</td>\n",
       "      <td>1916</td>\n",
       "      <td>0</td>\n",
       "      <td>98133</td>\n",
       "      <td>47.7049</td>\n",
       "      <td>-122.349</td>\n",
       "      <td>1520</td>\n",
       "      <td>3844</td>\n",
       "      <td>0</td>\n",
       "      <td>4664</td>\n",
       "    </tr>\n",
       "    <tr>\n",
       "      <th>4</th>\n",
       "      <td>8924100111</td>\n",
       "      <td>20150424T000000</td>\n",
       "      <td>699000</td>\n",
       "      <td>2</td>\n",
       "      <td>1.50</td>\n",
       "      <td>1400</td>\n",
       "      <td>4050</td>\n",
       "      <td>1.0</td>\n",
       "      <td>0</td>\n",
       "      <td>0</td>\n",
       "      <td>...</td>\n",
       "      <td>0</td>\n",
       "      <td>1954</td>\n",
       "      <td>0</td>\n",
       "      <td>98115</td>\n",
       "      <td>47.6768</td>\n",
       "      <td>-122.269</td>\n",
       "      <td>1900</td>\n",
       "      <td>5940</td>\n",
       "      <td>0</td>\n",
       "      <td>5450</td>\n",
       "    </tr>\n",
       "  </tbody>\n",
       "</table>\n",
       "<p>5 rows × 23 columns</p>\n",
       "</div>"
      ],
      "text/plain": [
       "          cid         dayhours   price  room_bed  room_bath  living_measure  \\\n",
       "0  3034200666  20141107T000000  808100         4       3.25            3020   \n",
       "1  8731981640  20141204T000000  277500         4       2.50            2550   \n",
       "2  5104530220  20150420T000000  404000         3       2.50            2370   \n",
       "3  6145600285  20140529T000000  300000         2       1.00             820   \n",
       "4  8924100111  20150424T000000  699000         2       1.50            1400   \n",
       "\n",
       "   lot_measure  ceil  coast  sight  ...  basement  yr_built  yr_renovated  \\\n",
       "0        13457   1.0      0      0  ...         0      1956             0   \n",
       "1         7500   1.0      0      0  ...       800      1976             0   \n",
       "2         4324   2.0      0      0  ...         0      2006             0   \n",
       "3         3844   1.0      0      0  ...         0      1916             0   \n",
       "4         4050   1.0      0      0  ...         0      1954             0   \n",
       "\n",
       "   zipcode      lat     long  living_measure15  lot_measure15  furnished  \\\n",
       "0    98133  47.7174 -122.336              2120           7553          1   \n",
       "1    98023  47.3165 -122.386              2260           8800          0   \n",
       "2    98038  47.3515 -121.999              2370           4348          0   \n",
       "3    98133  47.7049 -122.349              1520           3844          0   \n",
       "4    98115  47.6768 -122.269              1900           5940          0   \n",
       "\n",
       "   total_area  \n",
       "0       16477  \n",
       "1       10050  \n",
       "2        6694  \n",
       "3        4664  \n",
       "4        5450  \n",
       "\n",
       "[5 rows x 23 columns]"
      ]
     },
     "execution_count": 412,
     "metadata": {},
     "output_type": "execute_result"
    }
   ],
   "source": [
    "data.head(5)"
   ]
  },
  {
   "cell_type": "code",
   "execution_count": 413,
   "metadata": {
    "colab": {
     "base_uri": "https://localhost:8080/"
    },
    "id": "y-xvGX6ycaiw",
    "outputId": "749bab06-3cc5-47a1-adfc-ede891ba2c8c"
   },
   "outputs": [
    {
     "data": {
      "text/plain": [
       "(21613, 23)"
      ]
     },
     "execution_count": 413,
     "metadata": {},
     "output_type": "execute_result"
    }
   ],
   "source": [
    "# Size of the data set\n",
    "data.shape"
   ]
  },
  {
   "cell_type": "code",
   "execution_count": 414,
   "metadata": {
    "colab": {
     "base_uri": "https://localhost:8080/"
    },
    "id": "QqmoaPDrIFSe",
    "outputId": "56802e47-bc6c-4939-8ac9-a56772edc212"
   },
   "outputs": [
    {
     "data": {
      "text/plain": [
       "cid                 0\n",
       "dayhours            0\n",
       "price               0\n",
       "room_bed            0\n",
       "room_bath           0\n",
       "living_measure      0\n",
       "lot_measure         0\n",
       "ceil                0\n",
       "coast               0\n",
       "sight               0\n",
       "condition           0\n",
       "quality             0\n",
       "ceil_measure        0\n",
       "basement            0\n",
       "yr_built            0\n",
       "yr_renovated        0\n",
       "zipcode             0\n",
       "lat                 0\n",
       "long                0\n",
       "living_measure15    0\n",
       "lot_measure15       0\n",
       "furnished           0\n",
       "total_area          0\n",
       "dtype: int64"
      ]
     },
     "execution_count": 414,
     "metadata": {},
     "output_type": "execute_result"
    }
   ],
   "source": [
    "# let's check whether our dataset have any null/missing values\n",
    "data.isnull().sum()"
   ]
  },
  {
   "cell_type": "code",
   "execution_count": 415,
   "metadata": {
    "colab": {
     "base_uri": "https://localhost:8080/"
    },
    "id": "8VsEDznLInxs",
    "outputId": "5dd3d5e0-ba6e-4be4-a693-51b83d673509"
   },
   "outputs": [
    {
     "name": "stdout",
     "output_type": "stream",
     "text": [
      "<class 'pandas.core.frame.DataFrame'>\n",
      "RangeIndex: 21613 entries, 0 to 21612\n",
      "Data columns (total 23 columns):\n",
      " #   Column            Non-Null Count  Dtype  \n",
      "---  ------            --------------  -----  \n",
      " 0   cid               21613 non-null  int64  \n",
      " 1   dayhours          21613 non-null  object \n",
      " 2   price             21613 non-null  int64  \n",
      " 3   room_bed          21613 non-null  int64  \n",
      " 4   room_bath         21613 non-null  float64\n",
      " 5   living_measure    21613 non-null  int64  \n",
      " 6   lot_measure       21613 non-null  int64  \n",
      " 7   ceil              21613 non-null  float64\n",
      " 8   coast             21613 non-null  int64  \n",
      " 9   sight             21613 non-null  int64  \n",
      " 10  condition         21613 non-null  int64  \n",
      " 11  quality           21613 non-null  int64  \n",
      " 12  ceil_measure      21613 non-null  int64  \n",
      " 13  basement          21613 non-null  int64  \n",
      " 14  yr_built          21613 non-null  int64  \n",
      " 15  yr_renovated      21613 non-null  int64  \n",
      " 16  zipcode           21613 non-null  int64  \n",
      " 17  lat               21613 non-null  float64\n",
      " 18  long              21613 non-null  float64\n",
      " 19  living_measure15  21613 non-null  int64  \n",
      " 20  lot_measure15     21613 non-null  int64  \n",
      " 21  furnished         21613 non-null  int64  \n",
      " 22  total_area        21613 non-null  int64  \n",
      "dtypes: float64(4), int64(18), object(1)\n",
      "memory usage: 3.8+ MB\n"
     ]
    }
   ],
   "source": [
    "##  Know more about the data\n",
    "data.info()"
   ]
  },
  {
   "cell_type": "code",
   "execution_count": 416,
   "metadata": {
    "id": "A4E4wQSWaTAY"
   },
   "outputs": [],
   "source": [
    "## Finding out the duplicates in the cid column\n",
    "dups= data.pivot_table(index=['cid'], aggfunc = 'size') # Checking the repition of elements"
   ]
  },
  {
   "cell_type": "code",
   "execution_count": 417,
   "metadata": {
    "colab": {
     "base_uri": "https://localhost:8080/",
     "height": 162
    },
    "id": "rr-vSTfbpnxL",
    "outputId": "1c54d2a2-739e-49f6-90d9-8b645e62ea4b"
   },
   "outputs": [
    {
     "data": {
      "text/html": [
       "<div>\n",
       "<style scoped>\n",
       "    .dataframe tbody tr th:only-of-type {\n",
       "        vertical-align: middle;\n",
       "    }\n",
       "\n",
       "    .dataframe tbody tr th {\n",
       "        vertical-align: top;\n",
       "    }\n",
       "\n",
       "    .dataframe thead th {\n",
       "        text-align: right;\n",
       "    }\n",
       "</style>\n",
       "<table border=\"1\" class=\"dataframe\">\n",
       "  <thead>\n",
       "    <tr style=\"text-align: right;\">\n",
       "      <th></th>\n",
       "      <th>cid</th>\n",
       "      <th>dayhours</th>\n",
       "      <th>price</th>\n",
       "      <th>room_bed</th>\n",
       "      <th>room_bath</th>\n",
       "      <th>living_measure</th>\n",
       "      <th>lot_measure</th>\n",
       "      <th>ceil</th>\n",
       "      <th>coast</th>\n",
       "      <th>sight</th>\n",
       "      <th>...</th>\n",
       "      <th>basement</th>\n",
       "      <th>yr_built</th>\n",
       "      <th>yr_renovated</th>\n",
       "      <th>zipcode</th>\n",
       "      <th>lat</th>\n",
       "      <th>long</th>\n",
       "      <th>living_measure15</th>\n",
       "      <th>lot_measure15</th>\n",
       "      <th>furnished</th>\n",
       "      <th>total_area</th>\n",
       "    </tr>\n",
       "  </thead>\n",
       "  <tbody>\n",
       "    <tr>\n",
       "      <th>1634</th>\n",
       "      <td>795000620</td>\n",
       "      <td>20140924T000000</td>\n",
       "      <td>115000</td>\n",
       "      <td>3</td>\n",
       "      <td>1.0</td>\n",
       "      <td>1080</td>\n",
       "      <td>6250</td>\n",
       "      <td>1.0</td>\n",
       "      <td>0</td>\n",
       "      <td>0</td>\n",
       "      <td>...</td>\n",
       "      <td>0</td>\n",
       "      <td>1950</td>\n",
       "      <td>0</td>\n",
       "      <td>98168</td>\n",
       "      <td>47.5045</td>\n",
       "      <td>-122.33</td>\n",
       "      <td>1070</td>\n",
       "      <td>6250</td>\n",
       "      <td>0</td>\n",
       "      <td>7330</td>\n",
       "    </tr>\n",
       "    <tr>\n",
       "      <th>15184</th>\n",
       "      <td>795000620</td>\n",
       "      <td>20141215T000000</td>\n",
       "      <td>124000</td>\n",
       "      <td>3</td>\n",
       "      <td>1.0</td>\n",
       "      <td>1080</td>\n",
       "      <td>6250</td>\n",
       "      <td>1.0</td>\n",
       "      <td>0</td>\n",
       "      <td>0</td>\n",
       "      <td>...</td>\n",
       "      <td>0</td>\n",
       "      <td>1950</td>\n",
       "      <td>0</td>\n",
       "      <td>98168</td>\n",
       "      <td>47.5045</td>\n",
       "      <td>-122.33</td>\n",
       "      <td>1070</td>\n",
       "      <td>6250</td>\n",
       "      <td>0</td>\n",
       "      <td>7330</td>\n",
       "    </tr>\n",
       "    <tr>\n",
       "      <th>20544</th>\n",
       "      <td>795000620</td>\n",
       "      <td>20150311T000000</td>\n",
       "      <td>157000</td>\n",
       "      <td>3</td>\n",
       "      <td>1.0</td>\n",
       "      <td>1080</td>\n",
       "      <td>6250</td>\n",
       "      <td>1.0</td>\n",
       "      <td>0</td>\n",
       "      <td>0</td>\n",
       "      <td>...</td>\n",
       "      <td>0</td>\n",
       "      <td>1950</td>\n",
       "      <td>0</td>\n",
       "      <td>98168</td>\n",
       "      <td>47.5045</td>\n",
       "      <td>-122.33</td>\n",
       "      <td>1070</td>\n",
       "      <td>6250</td>\n",
       "      <td>0</td>\n",
       "      <td>7330</td>\n",
       "    </tr>\n",
       "  </tbody>\n",
       "</table>\n",
       "<p>3 rows × 23 columns</p>\n",
       "</div>"
      ],
      "text/plain": [
       "             cid         dayhours   price  room_bed  room_bath  \\\n",
       "1634   795000620  20140924T000000  115000         3        1.0   \n",
       "15184  795000620  20141215T000000  124000         3        1.0   \n",
       "20544  795000620  20150311T000000  157000         3        1.0   \n",
       "\n",
       "       living_measure  lot_measure  ceil  coast  sight  ...  basement  \\\n",
       "1634             1080         6250   1.0      0      0  ...         0   \n",
       "15184            1080         6250   1.0      0      0  ...         0   \n",
       "20544            1080         6250   1.0      0      0  ...         0   \n",
       "\n",
       "       yr_built  yr_renovated  zipcode      lat    long  living_measure15  \\\n",
       "1634       1950             0    98168  47.5045 -122.33              1070   \n",
       "15184      1950             0    98168  47.5045 -122.33              1070   \n",
       "20544      1950             0    98168  47.5045 -122.33              1070   \n",
       "\n",
       "       lot_measure15  furnished  total_area  \n",
       "1634            6250          0        7330  \n",
       "15184           6250          0        7330  \n",
       "20544           6250          0        7330  \n",
       "\n",
       "[3 rows x 23 columns]"
      ]
     },
     "execution_count": 417,
     "metadata": {},
     "output_type": "execute_result"
    }
   ],
   "source": [
    "data[data['cid']==795000620]\n",
    "## before dropping duplicates the frequency of the cid=795000620"
   ]
  },
  {
   "cell_type": "code",
   "execution_count": 418,
   "metadata": {
    "colab": {
     "base_uri": "https://localhost:8080/"
    },
    "id": "E-EL3N5tIFS-",
    "outputId": "bc42a3a2-5537-4681-d46d-171633def57b"
   },
   "outputs": [
    {
     "data": {
      "text/plain": [
       "(176,)"
      ]
     },
     "execution_count": 418,
     "metadata": {},
     "output_type": "execute_result"
    }
   ],
   "source": [
    "#cid - CID is appearing muliple times, it seems data contains house which is sold multiple times\n",
    "cid_count=data.cid.value_counts()\n",
    "cid_count[cid_count>1].shape"
   ]
  },
  {
   "cell_type": "code",
   "execution_count": 419,
   "metadata": {
    "id": "rh8hbxdluA19"
   },
   "outputs": [],
   "source": [
    "data1= data.drop_duplicates(subset=['cid'])"
   ]
  },
  {
   "cell_type": "code",
   "execution_count": 420,
   "metadata": {
    "colab": {
     "base_uri": "https://localhost:8080/",
     "height": 134
    },
    "id": "xwIjgIN2KRjG",
    "outputId": "b268a06a-9dd8-464b-aa59-13397abaa4af"
   },
   "outputs": [
    {
     "name": "stderr",
     "output_type": "stream",
     "text": [
      "<ipython-input-420-3e9e0c68aef3>:1: UserWarning: Boolean Series key will be reindexed to match DataFrame index.\n",
      "  data1[data['cid']==795000620]\n"
     ]
    },
    {
     "data": {
      "text/html": [
       "<div>\n",
       "<style scoped>\n",
       "    .dataframe tbody tr th:only-of-type {\n",
       "        vertical-align: middle;\n",
       "    }\n",
       "\n",
       "    .dataframe tbody tr th {\n",
       "        vertical-align: top;\n",
       "    }\n",
       "\n",
       "    .dataframe thead th {\n",
       "        text-align: right;\n",
       "    }\n",
       "</style>\n",
       "<table border=\"1\" class=\"dataframe\">\n",
       "  <thead>\n",
       "    <tr style=\"text-align: right;\">\n",
       "      <th></th>\n",
       "      <th>cid</th>\n",
       "      <th>dayhours</th>\n",
       "      <th>price</th>\n",
       "      <th>room_bed</th>\n",
       "      <th>room_bath</th>\n",
       "      <th>living_measure</th>\n",
       "      <th>lot_measure</th>\n",
       "      <th>ceil</th>\n",
       "      <th>coast</th>\n",
       "      <th>sight</th>\n",
       "      <th>...</th>\n",
       "      <th>basement</th>\n",
       "      <th>yr_built</th>\n",
       "      <th>yr_renovated</th>\n",
       "      <th>zipcode</th>\n",
       "      <th>lat</th>\n",
       "      <th>long</th>\n",
       "      <th>living_measure15</th>\n",
       "      <th>lot_measure15</th>\n",
       "      <th>furnished</th>\n",
       "      <th>total_area</th>\n",
       "    </tr>\n",
       "  </thead>\n",
       "  <tbody>\n",
       "    <tr>\n",
       "      <th>1634</th>\n",
       "      <td>795000620</td>\n",
       "      <td>20140924T000000</td>\n",
       "      <td>115000</td>\n",
       "      <td>3</td>\n",
       "      <td>1.0</td>\n",
       "      <td>1080</td>\n",
       "      <td>6250</td>\n",
       "      <td>1.0</td>\n",
       "      <td>0</td>\n",
       "      <td>0</td>\n",
       "      <td>...</td>\n",
       "      <td>0</td>\n",
       "      <td>1950</td>\n",
       "      <td>0</td>\n",
       "      <td>98168</td>\n",
       "      <td>47.5045</td>\n",
       "      <td>-122.33</td>\n",
       "      <td>1070</td>\n",
       "      <td>6250</td>\n",
       "      <td>0</td>\n",
       "      <td>7330</td>\n",
       "    </tr>\n",
       "  </tbody>\n",
       "</table>\n",
       "<p>1 rows × 23 columns</p>\n",
       "</div>"
      ],
      "text/plain": [
       "            cid         dayhours   price  room_bed  room_bath  living_measure  \\\n",
       "1634  795000620  20140924T000000  115000         3        1.0            1080   \n",
       "\n",
       "      lot_measure  ceil  coast  sight  ...  basement  yr_built  yr_renovated  \\\n",
       "1634         6250   1.0      0      0  ...         0      1950             0   \n",
       "\n",
       "      zipcode      lat    long  living_measure15  lot_measure15  furnished  \\\n",
       "1634    98168  47.5045 -122.33              1070           6250          0   \n",
       "\n",
       "      total_area  \n",
       "1634        7330  \n",
       "\n",
       "[1 rows x 23 columns]"
      ]
     },
     "execution_count": 420,
     "metadata": {},
     "output_type": "execute_result"
    }
   ],
   "source": [
    "data1[data['cid']==795000620]\n",
    "## To check that it drops the elements in the cid columns, Hence it remove the botton two rows"
   ]
  },
  {
   "cell_type": "code",
   "execution_count": 421,
   "metadata": {
    "colab": {
     "base_uri": "https://localhost:8080/"
    },
    "id": "_5ZU0I48uF-o",
    "outputId": "7ee2b9d9-39c0-42ec-83fc-b296d3c18ec7"
   },
   "outputs": [
    {
     "data": {
      "text/plain": [
       "(21436, 23)"
      ]
     },
     "execution_count": 421,
     "metadata": {},
     "output_type": "execute_result"
    }
   ],
   "source": [
    "data1.shape ## As you check that duplicates rows are removed"
   ]
  },
  {
   "cell_type": "code",
   "execution_count": 422,
   "metadata": {
    "id": "GI3Fq8uVLcVX"
   },
   "outputs": [],
   "source": [
    "## Univariate Analysis"
   ]
  },
  {
   "cell_type": "code",
   "execution_count": 423,
   "metadata": {
    "colab": {
     "base_uri": "https://localhost:8080/"
    },
    "id": "YDCRxSNqMb7g",
    "outputId": "04469d19-4762-400b-929b-b987c7ee520b"
   },
   "outputs": [
    {
     "data": {
      "text/plain": [
       "Index(['cid', 'dayhours', 'price', 'room_bed', 'room_bath', 'living_measure',\n",
       "       'lot_measure', 'ceil', 'coast', 'sight', 'condition', 'quality',\n",
       "       'ceil_measure', 'basement', 'yr_built', 'yr_renovated', 'zipcode',\n",
       "       'lat', 'long', 'living_measure15', 'lot_measure15', 'furnished',\n",
       "       'total_area'],\n",
       "      dtype='object')"
      ]
     },
     "execution_count": 423,
     "metadata": {},
     "output_type": "execute_result"
    }
   ],
   "source": [
    "data1.columns"
   ]
  },
  {
   "cell_type": "code",
   "execution_count": 424,
   "metadata": {
    "colab": {
     "base_uri": "https://localhost:8080/",
     "height": 1000
    },
    "id": "J6Oy4VVxMQzb",
    "outputId": "cb568a90-ee32-4609-eb86-b109ba2fd181"
   },
   "outputs": [
    {
     "data": {
      "image/png": "[encoded data removed]",
      "text/plain": [
       "<Figure size 432x288 with 1 Axes>"
      ]
     },
     "metadata": {},
     "output_type": "display_data"
    },
    {
     "data": {
      "image/png": "[encoded data removed]",
      "text/plain": [
       "<Figure size 432x288 with 1 Axes>"
      ]
     },
     "metadata": {},
     "output_type": "display_data"
    },
    {
     "data": {
      "image/png": "[encoded data removed]",
      "text/plain": [
       "<Figure size 432x288 with 1 Axes>"
      ]
     },
     "metadata": {},
     "output_type": "display_data"
    },
    {
     "data": {
      "image/png": "[encoded data removed]",
      "text/plain": [
       "<Figure size 432x288 with 1 Axes>"
      ]
     },
     "metadata": {},
     "output_type": "display_data"
    },
    {
     "data": {
      "image/png": "[encoded data removed]",
      "text/plain": [
       "<Figure size 432x288 with 1 Axes>"
      ]
     },
     "metadata": {},
     "output_type": "display_data"
    },
    {
     "data": {
      "image/png": "[encoded data removed]",
      "text/plain": [
       "<Figure size 432x288 with 1 Axes>"
      ]
     },
     "metadata": {},
     "output_type": "display_data"
    },
    {
     "data": {
      "image/png": "[encoded data removed]",
      "text/plain": [
       "<Figure size 432x288 with 1 Axes>"
      ]
     },
     "metadata": {},
     "output_type": "display_data"
    }
   ],
   "source": [
    "## Just to have fast glimpse of min, max range we are having this quick look by using univariate box plot\n",
    "# size of plots to make it uniform throughout our analysis in the notebook\n",
    "# It will give clear picture of no of outliers in system and the limit range\n",
    "## Ceil, coast, sight,condition and funished are discrete variable\n",
    "columns=['price','living_measure','lot_measure','ceil_measure','basement','living_measure15','total_area']\n",
    "plotSizeX = 12\n",
    "plotSizeY = 6\n",
    "# let's boxplot all the numerical columns and see if there any outliers\n",
    "for i in columns:\n",
    "    data.iloc[:, 1:].boxplot(column=i)\n",
    "    plt.show()"
   ]
  },
  {
   "cell_type": "code",
   "execution_count": 425,
   "metadata": {
    "colab": {
     "base_uri": "https://localhost:8080/",
     "height": 1000
    },
    "id": "pP53YT__GxzH",
    "outputId": "4dba81af-a14d-4a5f-c362-fd59ae2a1ac9"
   },
   "outputs": [
    {
     "name": "stderr",
     "output_type": "stream",
     "text": [
      "/Library/Frameworks/Python.framework/Versions/3.9/lib/python3.9/site-packages/seaborn/distributions.py:2557: FutureWarning: `distplot` is a deprecated function and will be removed in a future version. Please adapt your code to use either `displot` (a figure-level function with similar flexibility) or `histplot` (an axes-level function for histograms).\n",
      "  warnings.warn(msg, FutureWarning)\n",
      "/Library/Frameworks/Python.framework/Versions/3.9/lib/python3.9/site-packages/seaborn/distributions.py:2557: FutureWarning: `distplot` is a deprecated function and will be removed in a future version. Please adapt your code to use either `displot` (a figure-level function with similar flexibility) or `histplot` (an axes-level function for histograms).\n",
      "  warnings.warn(msg, FutureWarning)\n",
      "/Library/Frameworks/Python.framework/Versions/3.9/lib/python3.9/site-packages/seaborn/distributions.py:2557: FutureWarning: `distplot` is a deprecated function and will be removed in a future version. Please adapt your code to use either `displot` (a figure-level function with similar flexibility) or `histplot` (an axes-level function for histograms).\n",
      "  warnings.warn(msg, FutureWarning)\n",
      "/Library/Frameworks/Python.framework/Versions/3.9/lib/python3.9/site-packages/seaborn/distributions.py:2557: FutureWarning: `distplot` is a deprecated function and will be removed in a future version. Please adapt your code to use either `displot` (a figure-level function with similar flexibility) or `histplot` (an axes-level function for histograms).\n",
      "  warnings.warn(msg, FutureWarning)\n",
      "/Library/Frameworks/Python.framework/Versions/3.9/lib/python3.9/site-packages/seaborn/distributions.py:2557: FutureWarning: `distplot` is a deprecated function and will be removed in a future version. Please adapt your code to use either `displot` (a figure-level function with similar flexibility) or `histplot` (an axes-level function for histograms).\n",
      "  warnings.warn(msg, FutureWarning)\n",
      "/Library/Frameworks/Python.framework/Versions/3.9/lib/python3.9/site-packages/seaborn/distributions.py:2557: FutureWarning: `distplot` is a deprecated function and will be removed in a future version. Please adapt your code to use either `displot` (a figure-level function with similar flexibility) or `histplot` (an axes-level function for histograms).\n",
      "  warnings.warn(msg, FutureWarning)\n",
      "/Library/Frameworks/Python.framework/Versions/3.9/lib/python3.9/site-packages/seaborn/distributions.py:2557: FutureWarning: `distplot` is a deprecated function and will be removed in a future version. Please adapt your code to use either `displot` (a figure-level function with similar flexibility) or `histplot` (an axes-level function for histograms).\n",
      "  warnings.warn(msg, FutureWarning)\n",
      "/Library/Frameworks/Python.framework/Versions/3.9/lib/python3.9/site-packages/seaborn/distributions.py:2557: FutureWarning: `distplot` is a deprecated function and will be removed in a future version. Please adapt your code to use either `displot` (a figure-level function with similar flexibility) or `histplot` (an axes-level function for histograms).\n",
      "  warnings.warn(msg, FutureWarning)\n"
     ]
    },
    {
     "data": {
      "text/plain": [
       "<AxesSubplot:xlabel='total_area', ylabel='Density'>"
      ]
     },
     "execution_count": 425,
     "metadata": {},
     "output_type": "execute_result"
    },
    {
     "data": {
      "image/png": "[encoded data removed]",
      "text/plain": [
       "<Figure size 1800x1440 with 8 Axes>"
      ]
     },
     "metadata": {},
     "output_type": "display_data"
    }
   ],
   "source": [
    "## Have a look at the dist plot in the continous variables\n",
    "fig, ax= plt.subplots(4, 2, figsize=(25, 20))\n",
    "sns.distplot(data1['price'],ax=ax[0][0])\n",
    "sns.distplot(data1['living_measure'],ax=ax[0][1])\n",
    "sns.distplot(data1['lot_measure15'],ax=ax[1][0])\n",
    "sns.distplot(data1['ceil_measure'],ax=ax[1][1])\n",
    "sns.distplot(data1['basement'],ax=ax[2][0])\n",
    "sns.distplot(data1['living_measure15'],ax=ax[2][1])\n",
    "sns.distplot(data1['lot_measure15'],ax=ax[3][0])\n",
    "sns.distplot(data1['total_area'],ax=ax[3][1])"
   ]
  },
  {
   "cell_type": "code",
   "execution_count": 426,
   "metadata": {
    "id": "Cvr3M-5LPcxu"
   },
   "outputs": [],
   "source": [
    "## Price is left skewed\n",
    "##Room_bath has multiple gauusian peaks\n",
    "## Living measure also left skewed\n",
    "##lot_measure15 normally distributed\n",
    "## ceil_measure is left skewed\n",
    "## Basement is right skewed\n",
    "## living_measure15 is left skewed"
   ]
  },
  {
   "cell_type": "code",
   "execution_count": 427,
   "metadata": {
    "colab": {
     "base_uri": "https://localhost:8080/"
    },
    "id": "ZLFiFYFe5OxS",
    "outputId": "6f4eb246-cbff-4710-82ff-efe7602503bf"
   },
   "outputs": [
    {
     "data": {
      "text/plain": [
       "3     9731\n",
       "4     6849\n",
       "2     2736\n",
       "5     1586\n",
       "6      265\n",
       "1      194\n",
       "7       38\n",
       "0       13\n",
       "8       13\n",
       "9        6\n",
       "10       3\n",
       "33       1\n",
       "11       1\n",
       "Name: room_bed, dtype: int64"
      ]
     },
     "execution_count": 427,
     "metadata": {},
     "output_type": "execute_result"
    }
   ],
   "source": [
    "## Have a look at the discret variables\n",
    "data1['room_bed'].value_counts()"
   ]
  },
  {
   "cell_type": "code",
   "execution_count": 428,
   "metadata": {
    "colab": {
     "base_uri": "https://localhost:8080/",
     "height": 100
    },
    "id": "297qsRudCqgl",
    "outputId": "c2e3cf13-7c06-467d-bfc5-5a4c54e5772e"
   },
   "outputs": [
    {
     "data": {
      "text/html": [
       "<div>\n",
       "<style scoped>\n",
       "    .dataframe tbody tr th:only-of-type {\n",
       "        vertical-align: middle;\n",
       "    }\n",
       "\n",
       "    .dataframe tbody tr th {\n",
       "        vertical-align: top;\n",
       "    }\n",
       "\n",
       "    .dataframe thead th {\n",
       "        text-align: right;\n",
       "    }\n",
       "</style>\n",
       "<table border=\"1\" class=\"dataframe\">\n",
       "  <thead>\n",
       "    <tr style=\"text-align: right;\">\n",
       "      <th></th>\n",
       "      <th>cid</th>\n",
       "      <th>dayhours</th>\n",
       "      <th>price</th>\n",
       "      <th>room_bed</th>\n",
       "      <th>room_bath</th>\n",
       "      <th>living_measure</th>\n",
       "      <th>lot_measure</th>\n",
       "      <th>ceil</th>\n",
       "      <th>coast</th>\n",
       "      <th>sight</th>\n",
       "      <th>...</th>\n",
       "      <th>basement</th>\n",
       "      <th>yr_built</th>\n",
       "      <th>yr_renovated</th>\n",
       "      <th>zipcode</th>\n",
       "      <th>lat</th>\n",
       "      <th>long</th>\n",
       "      <th>living_measure15</th>\n",
       "      <th>lot_measure15</th>\n",
       "      <th>furnished</th>\n",
       "      <th>total_area</th>\n",
       "    </tr>\n",
       "  </thead>\n",
       "  <tbody>\n",
       "    <tr>\n",
       "      <th>750</th>\n",
       "      <td>2402100895</td>\n",
       "      <td>20140625T000000</td>\n",
       "      <td>640000</td>\n",
       "      <td>33</td>\n",
       "      <td>1.75</td>\n",
       "      <td>1620</td>\n",
       "      <td>6000</td>\n",
       "      <td>1.0</td>\n",
       "      <td>0</td>\n",
       "      <td>0</td>\n",
       "      <td>...</td>\n",
       "      <td>580</td>\n",
       "      <td>1947</td>\n",
       "      <td>0</td>\n",
       "      <td>98103</td>\n",
       "      <td>47.6878</td>\n",
       "      <td>-122.331</td>\n",
       "      <td>1330</td>\n",
       "      <td>4700</td>\n",
       "      <td>0</td>\n",
       "      <td>7620</td>\n",
       "    </tr>\n",
       "  </tbody>\n",
       "</table>\n",
       "<p>1 rows × 23 columns</p>\n",
       "</div>"
      ],
      "text/plain": [
       "            cid         dayhours   price  room_bed  room_bath  living_measure  \\\n",
       "750  2402100895  20140625T000000  640000        33       1.75            1620   \n",
       "\n",
       "     lot_measure  ceil  coast  sight  ...  basement  yr_built  yr_renovated  \\\n",
       "750         6000   1.0      0      0  ...       580      1947             0   \n",
       "\n",
       "     zipcode      lat     long  living_measure15  lot_measure15  furnished  \\\n",
       "750    98103  47.6878 -122.331              1330           4700          0   \n",
       "\n",
       "     total_area  \n",
       "750        7620  \n",
       "\n",
       "[1 rows x 23 columns]"
      ]
     },
     "execution_count": 428,
     "metadata": {},
     "output_type": "execute_result"
    }
   ],
   "source": [
    "data1[data1['room_bed']==33]"
   ]
  },
  {
   "cell_type": "code",
   "execution_count": 429,
   "metadata": {
    "colab": {
     "base_uri": "https://localhost:8080/",
     "height": 255
    },
    "id": "stH4Qq6tEsBz",
    "outputId": "e23eb070-0138-4a81-c45a-c8df1522a760"
   },
   "outputs": [
    {
     "data": {
      "text/html": [
       "<div>\n",
       "<style scoped>\n",
       "    .dataframe tbody tr th:only-of-type {\n",
       "        vertical-align: middle;\n",
       "    }\n",
       "\n",
       "    .dataframe tbody tr th {\n",
       "        vertical-align: top;\n",
       "    }\n",
       "\n",
       "    .dataframe thead th {\n",
       "        text-align: right;\n",
       "    }\n",
       "</style>\n",
       "<table border=\"1\" class=\"dataframe\">\n",
       "  <thead>\n",
       "    <tr style=\"text-align: right;\">\n",
       "      <th></th>\n",
       "      <th>cid</th>\n",
       "      <th>dayhours</th>\n",
       "      <th>price</th>\n",
       "      <th>room_bed</th>\n",
       "      <th>room_bath</th>\n",
       "      <th>living_measure</th>\n",
       "      <th>lot_measure</th>\n",
       "      <th>ceil</th>\n",
       "      <th>coast</th>\n",
       "      <th>sight</th>\n",
       "      <th>...</th>\n",
       "      <th>basement</th>\n",
       "      <th>yr_built</th>\n",
       "      <th>yr_renovated</th>\n",
       "      <th>zipcode</th>\n",
       "      <th>lat</th>\n",
       "      <th>long</th>\n",
       "      <th>living_measure15</th>\n",
       "      <th>lot_measure15</th>\n",
       "      <th>furnished</th>\n",
       "      <th>total_area</th>\n",
       "    </tr>\n",
       "  </thead>\n",
       "  <tbody>\n",
       "    <tr>\n",
       "      <th>1745</th>\n",
       "      <td>2902200015</td>\n",
       "      <td>20150106T000000</td>\n",
       "      <td>700000</td>\n",
       "      <td>9</td>\n",
       "      <td>3.0</td>\n",
       "      <td>3680</td>\n",
       "      <td>4400</td>\n",
       "      <td>2.0</td>\n",
       "      <td>0</td>\n",
       "      <td>0</td>\n",
       "      <td>...</td>\n",
       "      <td>850</td>\n",
       "      <td>1908</td>\n",
       "      <td>0</td>\n",
       "      <td>98102</td>\n",
       "      <td>47.6374</td>\n",
       "      <td>-122.324</td>\n",
       "      <td>1960</td>\n",
       "      <td>2450</td>\n",
       "      <td>0</td>\n",
       "      <td>8080</td>\n",
       "    </tr>\n",
       "    <tr>\n",
       "      <th>7396</th>\n",
       "      <td>9822700190</td>\n",
       "      <td>20140808T000000</td>\n",
       "      <td>1280000</td>\n",
       "      <td>9</td>\n",
       "      <td>4.5</td>\n",
       "      <td>3650</td>\n",
       "      <td>5000</td>\n",
       "      <td>2.0</td>\n",
       "      <td>0</td>\n",
       "      <td>0</td>\n",
       "      <td>...</td>\n",
       "      <td>1120</td>\n",
       "      <td>1915</td>\n",
       "      <td>2010</td>\n",
       "      <td>98105</td>\n",
       "      <td>47.6604</td>\n",
       "      <td>-122.289</td>\n",
       "      <td>2510</td>\n",
       "      <td>5000</td>\n",
       "      <td>0</td>\n",
       "      <td>8650</td>\n",
       "    </tr>\n",
       "    <tr>\n",
       "      <th>11950</th>\n",
       "      <td>8823901445</td>\n",
       "      <td>20150313T000000</td>\n",
       "      <td>934000</td>\n",
       "      <td>9</td>\n",
       "      <td>3.0</td>\n",
       "      <td>2820</td>\n",
       "      <td>4480</td>\n",
       "      <td>2.0</td>\n",
       "      <td>0</td>\n",
       "      <td>0</td>\n",
       "      <td>...</td>\n",
       "      <td>940</td>\n",
       "      <td>1918</td>\n",
       "      <td>0</td>\n",
       "      <td>98105</td>\n",
       "      <td>47.6654</td>\n",
       "      <td>-122.307</td>\n",
       "      <td>2460</td>\n",
       "      <td>4400</td>\n",
       "      <td>0</td>\n",
       "      <td>7300</td>\n",
       "    </tr>\n",
       "    <tr>\n",
       "      <th>14687</th>\n",
       "      <td>424049043</td>\n",
       "      <td>20140811T000000</td>\n",
       "      <td>450000</td>\n",
       "      <td>9</td>\n",
       "      <td>7.5</td>\n",
       "      <td>4050</td>\n",
       "      <td>6504</td>\n",
       "      <td>2.0</td>\n",
       "      <td>0</td>\n",
       "      <td>0</td>\n",
       "      <td>...</td>\n",
       "      <td>0</td>\n",
       "      <td>1996</td>\n",
       "      <td>0</td>\n",
       "      <td>98144</td>\n",
       "      <td>47.5923</td>\n",
       "      <td>-122.301</td>\n",
       "      <td>1448</td>\n",
       "      <td>3866</td>\n",
       "      <td>0</td>\n",
       "      <td>10554</td>\n",
       "    </tr>\n",
       "    <tr>\n",
       "      <th>20750</th>\n",
       "      <td>8823900290</td>\n",
       "      <td>20150317T000000</td>\n",
       "      <td>1400000</td>\n",
       "      <td>9</td>\n",
       "      <td>4.0</td>\n",
       "      <td>4620</td>\n",
       "      <td>5508</td>\n",
       "      <td>2.5</td>\n",
       "      <td>0</td>\n",
       "      <td>0</td>\n",
       "      <td>...</td>\n",
       "      <td>750</td>\n",
       "      <td>1915</td>\n",
       "      <td>0</td>\n",
       "      <td>98105</td>\n",
       "      <td>47.6684</td>\n",
       "      <td>-122.309</td>\n",
       "      <td>2710</td>\n",
       "      <td>4320</td>\n",
       "      <td>1</td>\n",
       "      <td>10128</td>\n",
       "    </tr>\n",
       "    <tr>\n",
       "      <th>21036</th>\n",
       "      <td>1997200215</td>\n",
       "      <td>20140507T000000</td>\n",
       "      <td>599999</td>\n",
       "      <td>9</td>\n",
       "      <td>4.5</td>\n",
       "      <td>3830</td>\n",
       "      <td>6988</td>\n",
       "      <td>2.5</td>\n",
       "      <td>0</td>\n",
       "      <td>0</td>\n",
       "      <td>...</td>\n",
       "      <td>1380</td>\n",
       "      <td>1938</td>\n",
       "      <td>0</td>\n",
       "      <td>98103</td>\n",
       "      <td>47.6927</td>\n",
       "      <td>-122.338</td>\n",
       "      <td>1460</td>\n",
       "      <td>6291</td>\n",
       "      <td>0</td>\n",
       "      <td>10818</td>\n",
       "    </tr>\n",
       "  </tbody>\n",
       "</table>\n",
       "<p>6 rows × 23 columns</p>\n",
       "</div>"
      ],
      "text/plain": [
       "              cid         dayhours    price  room_bed  room_bath  \\\n",
       "1745   2902200015  20150106T000000   700000         9        3.0   \n",
       "7396   9822700190  20140808T000000  1280000         9        4.5   \n",
       "11950  8823901445  20150313T000000   934000         9        3.0   \n",
       "14687   424049043  20140811T000000   450000         9        7.5   \n",
       "20750  8823900290  20150317T000000  1400000         9        4.0   \n",
       "21036  1997200215  20140507T000000   599999         9        4.5   \n",
       "\n",
       "       living_measure  lot_measure  ceil  coast  sight  ...  basement  \\\n",
       "1745             3680         4400   2.0      0      0  ...       850   \n",
       "7396             3650         5000   2.0      0      0  ...      1120   \n",
       "11950            2820         4480   2.0      0      0  ...       940   \n",
       "14687            4050         6504   2.0      0      0  ...         0   \n",
       "20750            4620         5508   2.5      0      0  ...       750   \n",
       "21036            3830         6988   2.5      0      0  ...      1380   \n",
       "\n",
       "       yr_built  yr_renovated  zipcode      lat     long  living_measure15  \\\n",
       "1745       1908             0    98102  47.6374 -122.324              1960   \n",
       "7396       1915          2010    98105  47.6604 -122.289              2510   \n",
       "11950      1918             0    98105  47.6654 -122.307              2460   \n",
       "14687      1996             0    98144  47.5923 -122.301              1448   \n",
       "20750      1915             0    98105  47.6684 -122.309              2710   \n",
       "21036      1938             0    98103  47.6927 -122.338              1460   \n",
       "\n",
       "       lot_measure15  furnished  total_area  \n",
       "1745            2450          0        8080  \n",
       "7396            5000          0        8650  \n",
       "11950           4400          0        7300  \n",
       "14687           3866          0       10554  \n",
       "20750           4320          1       10128  \n",
       "21036           6291          0       10818  \n",
       "\n",
       "[6 rows x 23 columns]"
      ]
     },
     "execution_count": 429,
     "metadata": {},
     "output_type": "execute_result"
    }
   ],
   "source": [
    "data1[data1['room_bed']==9]"
   ]
  },
  {
   "cell_type": "code",
   "execution_count": 430,
   "metadata": {
    "colab": {
     "base_uri": "https://localhost:8080/"
    },
    "id": "9sa2nVjcEYSk",
    "outputId": "104c2483-7e89-4428-c2a8-71ba9e8df15c"
   },
   "outputs": [
    {
     "data": {
      "text/plain": [
       "count    21436.000000\n",
       "mean         3.371571\n",
       "std          0.929205\n",
       "min          0.000000\n",
       "25%          3.000000\n",
       "50%          3.000000\n",
       "75%          4.000000\n",
       "max         33.000000\n",
       "Name: room_bed, dtype: float64"
      ]
     },
     "execution_count": 430,
     "metadata": {},
     "output_type": "execute_result"
    }
   ],
   "source": [
    "data1['room_bed'].describe()"
   ]
  },
  {
   "cell_type": "code",
   "execution_count": 431,
   "metadata": {
    "colab": {
     "base_uri": "https://localhost:8080/"
    },
    "id": "0rC-OBlDEjCe",
    "outputId": "72a8630a-de06-4f16-97bb-1eff2217ccff"
   },
   "outputs": [
    {
     "data": {
      "text/plain": [
       "count    2.143600e+04\n",
       "mean     5.411958e+05\n",
       "std      3.677302e+05\n",
       "min      7.500000e+04\n",
       "25%      3.230000e+05\n",
       "50%      4.500000e+05\n",
       "75%      6.450000e+05\n",
       "max      7.700000e+06\n",
       "Name: price, dtype: float64"
      ]
     },
     "execution_count": 431,
     "metadata": {},
     "output_type": "execute_result"
    }
   ],
   "source": [
    "data1['price'].describe()"
   ]
  },
  {
   "cell_type": "code",
   "execution_count": 432,
   "metadata": {
    "id": "o7D4lbYyClXt"
   },
   "outputs": [],
   "source": [
    "### There can't be any 33,11,10,9 rooms and also hence removing it"
   ]
  },
  {
   "cell_type": "code",
   "execution_count": 433,
   "metadata": {
    "colab": {
     "base_uri": "https://localhost:8080/"
    },
    "id": "GOTgHV7wGc-R",
    "outputId": "7215200a-75a5-4a5e-d9de-6027893a4f73"
   },
   "outputs": [
    {
     "data": {
      "text/plain": [
       "(21436, 23)"
      ]
     },
     "execution_count": 433,
     "metadata": {},
     "output_type": "execute_result"
    }
   ],
   "source": [
    "data1.shape"
   ]
  },
  {
   "cell_type": "code",
   "execution_count": 434,
   "metadata": {
    "colab": {
     "base_uri": "https://localhost:8080/"
    },
    "id": "n1V9dbqyGWkL",
    "outputId": "232628a2-9584-4b53-f797-3dcab1834bfb"
   },
   "outputs": [
    {
     "name": "stderr",
     "output_type": "stream",
     "text": [
      "/Library/Frameworks/Python.framework/Versions/3.9/lib/python3.9/site-packages/pandas/core/frame.py:4305: SettingWithCopyWarning: \n",
      "A value is trying to be set on a copy of a slice from a DataFrame\n",
      "\n",
      "See the caveats in the documentation: https://pandas.pydata.org/pandas-docs/stable/user_guide/indexing.html#returning-a-view-versus-a-copy\n",
      "  return super().drop(\n"
     ]
    }
   ],
   "source": [
    "data1.drop(data1[ (data1.room_bed == 33)|((data1.room_bed == 11)|(data1.room_bed == 10)|(data1.room_bed ==9)) ].index, inplace=True)"
   ]
  },
  {
   "cell_type": "code",
   "execution_count": 435,
   "metadata": {
    "colab": {
     "base_uri": "https://localhost:8080/"
    },
    "id": "sp4zpqMAGoU-",
    "outputId": "460fec32-f54b-4387-b9c5-fa40f2b32682"
   },
   "outputs": [
    {
     "data": {
      "text/plain": [
       "(21425, 23)"
      ]
     },
     "execution_count": 435,
     "metadata": {},
     "output_type": "execute_result"
    }
   ],
   "source": [
    "data1.shape"
   ]
  },
  {
   "cell_type": "code",
   "execution_count": 436,
   "metadata": {
    "colab": {
     "base_uri": "https://localhost:8080/",
     "height": 436
    },
    "id": "Ka0t4R8IKIJ2",
    "outputId": "0d2c0812-09a4-45fc-e024-c1a34cd21452"
   },
   "outputs": [
    {
     "name": "stderr",
     "output_type": "stream",
     "text": [
      "/Library/Frameworks/Python.framework/Versions/3.9/lib/python3.9/site-packages/seaborn/_decorators.py:36: FutureWarning: Pass the following variable as a keyword arg: x. From version 0.12, the only valid positional argument will be `data`, and passing other arguments without an explicit keyword will result in an error or misinterpretation.\n",
      "  warnings.warn(\n"
     ]
    },
    {
     "data": {
      "text/plain": [
       "0    19310\n",
       "2      961\n",
       "3      507\n",
       "1      331\n",
       "4      316\n",
       "Name: sight, dtype: int64"
      ]
     },
     "execution_count": 436,
     "metadata": {},
     "output_type": "execute_result"
    },
    {
     "data": {
      "image/png": "[encoded data removed]",
      "text/plain": [
       "<Figure size 432x288 with 1 Axes>"
      ]
     },
     "metadata": {},
     "output_type": "display_data"
    }
   ],
   "source": [
    "## As it is categorical value Let's look at the count plot to see the counts\n",
    "c=data1['sight'].value_counts().sort_values(ascending= False)\n",
    "sns.countplot(data1['sight'])\n",
    "c"
   ]
  },
  {
   "cell_type": "code",
   "execution_count": 437,
   "metadata": {
    "colab": {
     "base_uri": "https://localhost:8080/",
     "height": 384
    },
    "id": "fnTFQIHGKL_u",
    "outputId": "b29527f4-7ddd-4025-8174-a98039d65cc5"
   },
   "outputs": [
    {
     "name": "stderr",
     "output_type": "stream",
     "text": [
      "/Library/Frameworks/Python.framework/Versions/3.9/lib/python3.9/site-packages/seaborn/_decorators.py:36: FutureWarning: Pass the following variable as a keyword arg: x. From version 0.12, the only valid positional argument will be `data`, and passing other arguments without an explicit keyword will result in an error or misinterpretation.\n",
      "  warnings.warn(\n"
     ]
    },
    {
     "data": {
      "text/plain": [
       "0    21262\n",
       "1      163\n",
       "Name: coast, dtype: int64"
      ]
     },
     "execution_count": 437,
     "metadata": {},
     "output_type": "execute_result"
    },
    {
     "data": {
      "image/png": "[encoded data removed]",
      "text/plain": [
       "<Figure size 432x288 with 1 Axes>"
      ]
     },
     "metadata": {},
     "output_type": "display_data"
    }
   ],
   "source": [
    "c=data1['coast'].value_counts().sort_values(ascending= False)\n",
    "sns.countplot(data1['coast']) ## As it is categorical value Let's look at the count plot to see the counts\n",
    "c"
   ]
  },
  {
   "cell_type": "code",
   "execution_count": 438,
   "metadata": {
    "colab": {
     "base_uri": "https://localhost:8080/",
     "height": 350
    },
    "id": "zt4LlSdgKRSY",
    "outputId": "8903cf3a-ecda-46c9-f124-30816ed4023d"
   },
   "outputs": [
    {
     "name": "stderr",
     "output_type": "stream",
     "text": [
      "/Library/Frameworks/Python.framework/Versions/3.9/lib/python3.9/site-packages/seaborn/_decorators.py:36: FutureWarning: Pass the following variable as a keyword arg: x. From version 0.12, the only valid positional argument will be `data`, and passing other arguments without an explicit keyword will result in an error or misinterpretation.\n",
      "  warnings.warn(\n"
     ]
    },
    {
     "data": {
      "text/plain": [
       "<AxesSubplot:xlabel='condition', ylabel='count'>"
      ]
     },
     "execution_count": 438,
     "metadata": {},
     "output_type": "execute_result"
    },
    {
     "data": {
      "image/png": "[encoded data removed]",
      "text/plain": [
       "<Figure size 432x288 with 1 Axes>"
      ]
     },
     "metadata": {},
     "output_type": "display_data"
    }
   ],
   "source": [
    "c=sns.countplot(data1['condition'])\n",
    "## As it is categorical value Let's look at the count plot to see the counts\n",
    "data1['condition'].value_counts().sort_values(ascending= False)\n",
    "c"
   ]
  },
  {
   "cell_type": "code",
   "execution_count": 439,
   "metadata": {
    "colab": {
     "base_uri": "https://localhost:8080/",
     "height": 384
    },
    "id": "UGJEblAiKbFO",
    "outputId": "02e4b3bb-f482-4449-df5f-098fb9cd4c7f"
   },
   "outputs": [
    {
     "name": "stderr",
     "output_type": "stream",
     "text": [
      "/Library/Frameworks/Python.framework/Versions/3.9/lib/python3.9/site-packages/seaborn/_decorators.py:36: FutureWarning: Pass the following variable as a keyword arg: x. From version 0.12, the only valid positional argument will be `data`, and passing other arguments without an explicit keyword will result in an error or misinterpretation.\n",
      "  warnings.warn(\n"
     ]
    },
    {
     "data": {
      "text/plain": [
       "0    17193\n",
       "1     4232\n",
       "Name: furnished, dtype: int64"
      ]
     },
     "execution_count": 439,
     "metadata": {},
     "output_type": "execute_result"
    },
    {
     "data": {
      "image/png": "[encoded data removed]",
      "text/plain": [
       "<Figure size 432x288 with 1 Axes>"
      ]
     },
     "metadata": {},
     "output_type": "display_data"
    }
   ],
   "source": [
    "sns.countplot(data1['furnished'])\n",
    "## As it is categorical value Let's look at the count plot to see the counts\n",
    "data1['furnished'].value_counts().sort_values(ascending= False)"
   ]
  },
  {
   "cell_type": "code",
   "execution_count": 440,
   "metadata": {
    "id": "cKhFHru-XrYN"
   },
   "outputs": [],
   "source": [
    "## Room_bed is discrete variable with few outliers ie. 33,11,10,9\n",
    "## Ceil, coast, sight,condition and funished are discrete variable\n",
    "## Iat(Latitude) and long(longitude) has no importance, & zipcode is sufficient\n",
    "## Yr reinovated and yr built has no significance until and unless its modified "
   ]
  },
  {
   "cell_type": "code",
   "execution_count": 441,
   "metadata": {
    "colab": {
     "base_uri": "https://localhost:8080/"
    },
    "id": "3L5RVd_xND_3",
    "outputId": "e95378e4-33bb-4ccb-a734-4f55b476e64d"
   },
   "outputs": [
    {
     "name": "stderr",
     "output_type": "stream",
     "text": [
      "<ipython-input-441-c3a35ef44dc2>:2: SettingWithCopyWarning: \n",
      "A value is trying to be set on a copy of a slice from a DataFrame.\n",
      "Try using .loc[row_indexer,col_indexer] = value instead\n",
      "\n",
      "See the caveats in the documentation: https://pandas.pydata.org/pandas-docs/stable/user_guide/indexing.html#returning-a-view-versus-a-copy\n",
      "  data1['yr_built']= 2015 - data1['yr_built']\n"
     ]
    }
   ],
   "source": [
    "## Let's modify the yr_built as the no of year of the construction of house till the final year\n",
    "data1['yr_built']= 2015 - data1['yr_built']"
   ]
  },
  {
   "cell_type": "markdown",
   "metadata": {
    "id": "88_f3xkaHhrZ"
   },
   "source": [
    "## Bivariate Analysis"
   ]
  },
  {
   "cell_type": "code",
   "execution_count": 442,
   "metadata": {
    "id": "ycY_Qw8K_6vX"
   },
   "outputs": [],
   "source": [
    "## Bivariate analysis\n",
    "## Target is to find the relation of different variables on the price as well as among the different columns\n",
    "## For discrete data type we will see other types of plot to see the relation to infer the output pattern"
   ]
  },
  {
   "cell_type": "code",
   "execution_count": 443,
   "metadata": {
    "colab": {
     "base_uri": "https://localhost:8080/",
     "height": 291
    },
    "id": "Gpgy5O_pC0pS",
    "outputId": "615643c5-2826-4fdb-e0db-ebc9c1babf9f"
   },
   "outputs": [
    {
     "data": {
      "image/png": "[encoded data removed]",
      "text/plain": [
       "<Figure size 432x288 with 1 Axes>"
      ]
     },
     "metadata": {},
     "output_type": "display_data"
    }
   ],
   "source": [
    "sns.boxplot(x='room_bed',y='price',data=data1)\n",
    "## 33 bed no is obviously outlier dropping that partcular row and we can also see there is no relation between no of room_bed and price\n",
    "data_new=data1[data1['room_bed'] != 33]\n",
    "## Plot indicates as room_bed increases the price also increases"
   ]
  },
  {
   "cell_type": "code",
   "execution_count": 444,
   "metadata": {
    "colab": {
     "base_uri": "https://localhost:8080/",
     "height": 308
    },
    "id": "xxxRnz7IGgxI",
    "outputId": "04bb9496-204f-437b-a3ca-58b75a5117c8"
   },
   "outputs": [
    {
     "data": {
      "text/plain": [
       "<AxesSubplot:xlabel='room_bath', ylabel='price'>"
      ]
     },
     "execution_count": 444,
     "metadata": {},
     "output_type": "execute_result"
    },
    {
     "data": {
      "image/png": "[encoded data removed]",
      "text/plain": [
       "<Figure size 432x288 with 1 Axes>"
      ]
     },
     "metadata": {},
     "output_type": "display_data"
    }
   ],
   "source": [
    "sns.boxplot(x='room_bath',y='price',data=data_new)\n",
    "## The prices increases on increasing the no of room_bath"
   ]
  },
  {
   "cell_type": "code",
   "execution_count": 445,
   "metadata": {
    "colab": {
     "base_uri": "https://localhost:8080/",
     "height": 308
    },
    "id": "DYAbAITXH-dS",
    "outputId": "1d2e8f83-17e5-473c-88d4-cc73589e0ead"
   },
   "outputs": [
    {
     "name": "stdout",
     "output_type": "stream",
     "text": [
      "0.7016709544690531\n"
     ]
    },
    {
     "data": {
      "image/png": "[encoded data removed]",
      "text/plain": [
       "<Figure size 432x288 with 1 Axes>"
      ]
     },
     "metadata": {},
     "output_type": "display_data"
    }
   ],
   "source": [
    "#'living_measure' is a continous variable\n",
    "plt.scatter(data_new['living_measure'], data_new['price'])\n",
    "plt.xlabel('living_measure')\n",
    "plt.ylabel('price')\n",
    "## Hence it can be seen that as living measure increases the price also increases\n",
    "corr1=data_new['living_measure'].corr(data_new['price'])\n",
    "print(corr1)## Hence can be seen high correlation between living_measure and price\n",
    "####The point between 12000 and 14000 seems to be ouliers let's check other feature which are making it on lower price \n",
    "# if it is significant else remove that"
   ]
  },
  {
   "cell_type": "code",
   "execution_count": 446,
   "metadata": {
    "colab": {
     "base_uri": "https://localhost:8080/"
    },
    "id": "pkFVCD5YIu03",
    "outputId": "39fe4be7-5e35-4ce9-9f08-72ff2004101d"
   },
   "outputs": [
    {
     "name": "stdout",
     "output_type": "stream",
     "text": [
      "0.9997647082775909\n"
     ]
    }
   ],
   "source": [
    "## Lot measure and Area are continous we have to calculate correlation of both of them as they both indicate the unit of dimensions in the dataframe\n",
    "## High correlation hence one can be removed in final model building\n",
    "corr2=data_new['lot_measure'].corr(data_new['total_area'])\n",
    "print(corr2)"
   ]
  },
  {
   "cell_type": "code",
   "execution_count": 447,
   "metadata": {},
   "outputs": [
    {
     "name": "stdout",
     "output_type": "stream",
     "text": [
      "0.6050201298669875\n"
     ]
    }
   ],
   "source": [
    "corr2=data_new['ceil_measure'].corr(data_new['price'])\n",
    "print(corr2)"
   ]
  },
  {
   "cell_type": "code",
   "execution_count": 448,
   "metadata": {
    "id": "_RVosmfyMdb8"
   },
   "outputs": [],
   "source": [
    "data_new=data_new.drop(\"lot_measure\",axis=1);##Dropping off the lot measure column"
   ]
  },
  {
   "cell_type": "code",
   "execution_count": 449,
   "metadata": {
    "colab": {
     "base_uri": "https://localhost:8080/",
     "height": 400
    },
    "id": "tGkWH4j886Xm",
    "outputId": "ecb877af-a8c7-4abc-cd04-d60ef0aa5a0b"
   },
   "outputs": [
    {
     "data": {
      "text/plain": [
       "<seaborn.axisgrid.FacetGrid at 0x7f83bd540070>"
      ]
     },
     "execution_count": 449,
     "metadata": {},
     "output_type": "execute_result"
    },
    {
     "data": {
      "image/png": "[encoded data removed]",
      "text/plain": [
       "<Figure size 360x360 with 1 Axes>"
      ]
     },
     "metadata": {},
     "output_type": "display_data"
    }
   ],
   "source": [
    "sns.catplot(x='ceil',y='price',data=data_new)\n",
    "#### There is one value in the price columns where ceil= 2.5, it can be treated as outlier"
   ]
  },
  {
   "cell_type": "code",
   "execution_count": 450,
   "metadata": {
    "colab": {
     "base_uri": "https://localhost:8080/",
     "height": 439
    },
    "id": "2EBtExUOJBFx",
    "outputId": "0a9488ce-89ae-43a0-993f-1b32585fd95c"
   },
   "outputs": [
    {
     "data": {
      "text/html": [
       "<div>\n",
       "<style scoped>\n",
       "    .dataframe tbody tr th:only-of-type {\n",
       "        vertical-align: middle;\n",
       "    }\n",
       "\n",
       "    .dataframe tbody tr th {\n",
       "        vertical-align: top;\n",
       "    }\n",
       "\n",
       "    .dataframe thead th {\n",
       "        text-align: right;\n",
       "    }\n",
       "</style>\n",
       "<table border=\"1\" class=\"dataframe\">\n",
       "  <thead>\n",
       "    <tr style=\"text-align: right;\">\n",
       "      <th></th>\n",
       "      <th>cid</th>\n",
       "      <th>dayhours</th>\n",
       "      <th>price</th>\n",
       "      <th>room_bed</th>\n",
       "      <th>room_bath</th>\n",
       "      <th>living_measure</th>\n",
       "      <th>lot_measure</th>\n",
       "      <th>ceil</th>\n",
       "      <th>coast</th>\n",
       "      <th>sight</th>\n",
       "      <th>...</th>\n",
       "      <th>basement</th>\n",
       "      <th>yr_built</th>\n",
       "      <th>yr_renovated</th>\n",
       "      <th>zipcode</th>\n",
       "      <th>lat</th>\n",
       "      <th>long</th>\n",
       "      <th>living_measure15</th>\n",
       "      <th>lot_measure15</th>\n",
       "      <th>furnished</th>\n",
       "      <th>total_area</th>\n",
       "    </tr>\n",
       "  </thead>\n",
       "  <tbody>\n",
       "    <tr>\n",
       "      <th>146</th>\n",
       "      <td>9528100899</td>\n",
       "      <td>20150428T000000</td>\n",
       "      <td>827000</td>\n",
       "      <td>3</td>\n",
       "      <td>2.50</td>\n",
       "      <td>1850</td>\n",
       "      <td>1330</td>\n",
       "      <td>2.5</td>\n",
       "      <td>0</td>\n",
       "      <td>0</td>\n",
       "      <td>...</td>\n",
       "      <td>290</td>\n",
       "      <td>11</td>\n",
       "      <td>0</td>\n",
       "      <td>98115</td>\n",
       "      <td>47.6831</td>\n",
       "      <td>-122.325</td>\n",
       "      <td>1810</td>\n",
       "      <td>2071</td>\n",
       "      <td>1</td>\n",
       "      <td>3180</td>\n",
       "    </tr>\n",
       "    <tr>\n",
       "      <th>343</th>\n",
       "      <td>6821102317</td>\n",
       "      <td>20141209T000000</td>\n",
       "      <td>535000</td>\n",
       "      <td>3</td>\n",
       "      <td>2.50</td>\n",
       "      <td>1850</td>\n",
       "      <td>1499</td>\n",
       "      <td>2.5</td>\n",
       "      <td>0</td>\n",
       "      <td>0</td>\n",
       "      <td>...</td>\n",
       "      <td>60</td>\n",
       "      <td>10</td>\n",
       "      <td>0</td>\n",
       "      <td>98199</td>\n",
       "      <td>47.6475</td>\n",
       "      <td>-122.396</td>\n",
       "      <td>1770</td>\n",
       "      <td>1539</td>\n",
       "      <td>1</td>\n",
       "      <td>3349</td>\n",
       "    </tr>\n",
       "    <tr>\n",
       "      <th>551</th>\n",
       "      <td>1024049024</td>\n",
       "      <td>20141203T000000</td>\n",
       "      <td>1740000</td>\n",
       "      <td>5</td>\n",
       "      <td>3.50</td>\n",
       "      <td>4870</td>\n",
       "      <td>7700</td>\n",
       "      <td>2.5</td>\n",
       "      <td>0</td>\n",
       "      <td>3</td>\n",
       "      <td>...</td>\n",
       "      <td>1220</td>\n",
       "      <td>86</td>\n",
       "      <td>0</td>\n",
       "      <td>98144</td>\n",
       "      <td>47.5832</td>\n",
       "      <td>-122.290</td>\n",
       "      <td>3220</td>\n",
       "      <td>7700</td>\n",
       "      <td>1</td>\n",
       "      <td>12570</td>\n",
       "    </tr>\n",
       "    <tr>\n",
       "      <th>763</th>\n",
       "      <td>9268851670</td>\n",
       "      <td>20150424T000000</td>\n",
       "      <td>645000</td>\n",
       "      <td>3</td>\n",
       "      <td>2.50</td>\n",
       "      <td>2170</td>\n",
       "      <td>1984</td>\n",
       "      <td>2.5</td>\n",
       "      <td>0</td>\n",
       "      <td>0</td>\n",
       "      <td>...</td>\n",
       "      <td>0</td>\n",
       "      <td>7</td>\n",
       "      <td>0</td>\n",
       "      <td>98027</td>\n",
       "      <td>47.5401</td>\n",
       "      <td>-122.027</td>\n",
       "      <td>2150</td>\n",
       "      <td>1984</td>\n",
       "      <td>0</td>\n",
       "      <td>4154</td>\n",
       "    </tr>\n",
       "    <tr>\n",
       "      <th>897</th>\n",
       "      <td>9831200520</td>\n",
       "      <td>20141006T000000</td>\n",
       "      <td>1440000</td>\n",
       "      <td>4</td>\n",
       "      <td>3.00</td>\n",
       "      <td>3720</td>\n",
       "      <td>5000</td>\n",
       "      <td>2.5</td>\n",
       "      <td>0</td>\n",
       "      <td>0</td>\n",
       "      <td>...</td>\n",
       "      <td>1000</td>\n",
       "      <td>110</td>\n",
       "      <td>0</td>\n",
       "      <td>98102</td>\n",
       "      <td>47.6282</td>\n",
       "      <td>-122.322</td>\n",
       "      <td>2610</td>\n",
       "      <td>5000</td>\n",
       "      <td>1</td>\n",
       "      <td>8720</td>\n",
       "    </tr>\n",
       "    <tr>\n",
       "      <th>...</th>\n",
       "      <td>...</td>\n",
       "      <td>...</td>\n",
       "      <td>...</td>\n",
       "      <td>...</td>\n",
       "      <td>...</td>\n",
       "      <td>...</td>\n",
       "      <td>...</td>\n",
       "      <td>...</td>\n",
       "      <td>...</td>\n",
       "      <td>...</td>\n",
       "      <td>...</td>\n",
       "      <td>...</td>\n",
       "      <td>...</td>\n",
       "      <td>...</td>\n",
       "      <td>...</td>\n",
       "      <td>...</td>\n",
       "      <td>...</td>\n",
       "      <td>...</td>\n",
       "      <td>...</td>\n",
       "      <td>...</td>\n",
       "      <td>...</td>\n",
       "    </tr>\n",
       "    <tr>\n",
       "      <th>21256</th>\n",
       "      <td>4021100095</td>\n",
       "      <td>20150121T000000</td>\n",
       "      <td>290000</td>\n",
       "      <td>4</td>\n",
       "      <td>1.75</td>\n",
       "      <td>1820</td>\n",
       "      <td>22043</td>\n",
       "      <td>2.5</td>\n",
       "      <td>0</td>\n",
       "      <td>0</td>\n",
       "      <td>...</td>\n",
       "      <td>0</td>\n",
       "      <td>97</td>\n",
       "      <td>0</td>\n",
       "      <td>98155</td>\n",
       "      <td>47.7606</td>\n",
       "      <td>-122.280</td>\n",
       "      <td>1880</td>\n",
       "      <td>19961</td>\n",
       "      <td>0</td>\n",
       "      <td>23863</td>\n",
       "    </tr>\n",
       "    <tr>\n",
       "      <th>21272</th>\n",
       "      <td>9268851800</td>\n",
       "      <td>20140505T000000</td>\n",
       "      <td>415000</td>\n",
       "      <td>3</td>\n",
       "      <td>2.25</td>\n",
       "      <td>1620</td>\n",
       "      <td>998</td>\n",
       "      <td>2.5</td>\n",
       "      <td>0</td>\n",
       "      <td>0</td>\n",
       "      <td>...</td>\n",
       "      <td>80</td>\n",
       "      <td>5</td>\n",
       "      <td>0</td>\n",
       "      <td>98027</td>\n",
       "      <td>47.5401</td>\n",
       "      <td>-122.027</td>\n",
       "      <td>1620</td>\n",
       "      <td>1299</td>\n",
       "      <td>0</td>\n",
       "      <td>2618</td>\n",
       "    </tr>\n",
       "    <tr>\n",
       "      <th>21572</th>\n",
       "      <td>8043700105</td>\n",
       "      <td>20150417T000000</td>\n",
       "      <td>2300000</td>\n",
       "      <td>4</td>\n",
       "      <td>4.00</td>\n",
       "      <td>4360</td>\n",
       "      <td>8175</td>\n",
       "      <td>2.5</td>\n",
       "      <td>1</td>\n",
       "      <td>4</td>\n",
       "      <td>...</td>\n",
       "      <td>420</td>\n",
       "      <td>8</td>\n",
       "      <td>0</td>\n",
       "      <td>98008</td>\n",
       "      <td>47.5724</td>\n",
       "      <td>-122.104</td>\n",
       "      <td>2670</td>\n",
       "      <td>8525</td>\n",
       "      <td>1</td>\n",
       "      <td>12535</td>\n",
       "    </tr>\n",
       "    <tr>\n",
       "      <th>21579</th>\n",
       "      <td>4141800215</td>\n",
       "      <td>20141126T000000</td>\n",
       "      <td>1500000</td>\n",
       "      <td>4</td>\n",
       "      <td>3.75</td>\n",
       "      <td>3770</td>\n",
       "      <td>4000</td>\n",
       "      <td>2.5</td>\n",
       "      <td>0</td>\n",
       "      <td>0</td>\n",
       "      <td>...</td>\n",
       "      <td>880</td>\n",
       "      <td>99</td>\n",
       "      <td>0</td>\n",
       "      <td>98122</td>\n",
       "      <td>47.6157</td>\n",
       "      <td>-122.287</td>\n",
       "      <td>2800</td>\n",
       "      <td>5000</td>\n",
       "      <td>1</td>\n",
       "      <td>7770</td>\n",
       "    </tr>\n",
       "    <tr>\n",
       "      <th>21607</th>\n",
       "      <td>7942601435</td>\n",
       "      <td>20150324T000000</td>\n",
       "      <td>835000</td>\n",
       "      <td>6</td>\n",
       "      <td>2.00</td>\n",
       "      <td>3560</td>\n",
       "      <td>5120</td>\n",
       "      <td>2.5</td>\n",
       "      <td>0</td>\n",
       "      <td>2</td>\n",
       "      <td>...</td>\n",
       "      <td>0</td>\n",
       "      <td>115</td>\n",
       "      <td>0</td>\n",
       "      <td>98122</td>\n",
       "      <td>47.6056</td>\n",
       "      <td>-122.311</td>\n",
       "      <td>2130</td>\n",
       "      <td>5120</td>\n",
       "      <td>1</td>\n",
       "      <td>8680</td>\n",
       "    </tr>\n",
       "  </tbody>\n",
       "</table>\n",
       "<p>159 rows × 23 columns</p>\n",
       "</div>"
      ],
      "text/plain": [
       "              cid         dayhours    price  room_bed  room_bath  \\\n",
       "146    9528100899  20150428T000000   827000         3       2.50   \n",
       "343    6821102317  20141209T000000   535000         3       2.50   \n",
       "551    1024049024  20141203T000000  1740000         5       3.50   \n",
       "763    9268851670  20150424T000000   645000         3       2.50   \n",
       "897    9831200520  20141006T000000  1440000         4       3.00   \n",
       "...           ...              ...      ...       ...        ...   \n",
       "21256  4021100095  20150121T000000   290000         4       1.75   \n",
       "21272  9268851800  20140505T000000   415000         3       2.25   \n",
       "21572  8043700105  20150417T000000  2300000         4       4.00   \n",
       "21579  4141800215  20141126T000000  1500000         4       3.75   \n",
       "21607  7942601435  20150324T000000   835000         6       2.00   \n",
       "\n",
       "       living_measure  lot_measure  ceil  coast  sight  ...  basement  \\\n",
       "146              1850         1330   2.5      0      0  ...       290   \n",
       "343              1850         1499   2.5      0      0  ...        60   \n",
       "551              4870         7700   2.5      0      3  ...      1220   \n",
       "763              2170         1984   2.5      0      0  ...         0   \n",
       "897              3720         5000   2.5      0      0  ...      1000   \n",
       "...               ...          ...   ...    ...    ...  ...       ...   \n",
       "21256            1820        22043   2.5      0      0  ...         0   \n",
       "21272            1620          998   2.5      0      0  ...        80   \n",
       "21572            4360         8175   2.5      1      4  ...       420   \n",
       "21579            3770         4000   2.5      0      0  ...       880   \n",
       "21607            3560         5120   2.5      0      2  ...         0   \n",
       "\n",
       "       yr_built  yr_renovated  zipcode      lat     long  living_measure15  \\\n",
       "146          11             0    98115  47.6831 -122.325              1810   \n",
       "343          10             0    98199  47.6475 -122.396              1770   \n",
       "551          86             0    98144  47.5832 -122.290              3220   \n",
       "763           7             0    98027  47.5401 -122.027              2150   \n",
       "897         110             0    98102  47.6282 -122.322              2610   \n",
       "...         ...           ...      ...      ...      ...               ...   \n",
       "21256        97             0    98155  47.7606 -122.280              1880   \n",
       "21272         5             0    98027  47.5401 -122.027              1620   \n",
       "21572         8             0    98008  47.5724 -122.104              2670   \n",
       "21579        99             0    98122  47.6157 -122.287              2800   \n",
       "21607       115             0    98122  47.6056 -122.311              2130   \n",
       "\n",
       "       lot_measure15  furnished  total_area  \n",
       "146             2071          1        3180  \n",
       "343             1539          1        3349  \n",
       "551             7700          1       12570  \n",
       "763             1984          0        4154  \n",
       "897             5000          1        8720  \n",
       "...              ...        ...         ...  \n",
       "21256          19961          0       23863  \n",
       "21272           1299          0        2618  \n",
       "21572           8525          1       12535  \n",
       "21579           5000          1        7770  \n",
       "21607           5120          1        8680  \n",
       "\n",
       "[159 rows x 23 columns]"
      ]
     },
     "execution_count": 450,
     "metadata": {},
     "output_type": "execute_result"
    }
   ],
   "source": [
    "data1[data1['ceil']==2.5]"
   ]
  },
  {
   "cell_type": "code",
   "execution_count": 451,
   "metadata": {
    "colab": {
     "base_uri": "https://localhost:8080/",
     "height": 317
    },
    "id": "0TvppxCaIV6y",
    "outputId": "9e6e78ae-cd5e-4311-e0ab-7bd98e2ac123"
   },
   "outputs": [
    {
     "data": {
      "text/html": [
       "<div>\n",
       "<style scoped>\n",
       "    .dataframe tbody tr th:only-of-type {\n",
       "        vertical-align: middle;\n",
       "    }\n",
       "\n",
       "    .dataframe tbody tr th {\n",
       "        vertical-align: top;\n",
       "    }\n",
       "\n",
       "    .dataframe thead th {\n",
       "        text-align: right;\n",
       "    }\n",
       "</style>\n",
       "<table border=\"1\" class=\"dataframe\">\n",
       "  <thead>\n",
       "    <tr style=\"text-align: right;\">\n",
       "      <th></th>\n",
       "      <th>cid</th>\n",
       "      <th>price</th>\n",
       "      <th>room_bed</th>\n",
       "      <th>room_bath</th>\n",
       "      <th>living_measure</th>\n",
       "      <th>lot_measure</th>\n",
       "      <th>ceil</th>\n",
       "      <th>coast</th>\n",
       "      <th>sight</th>\n",
       "      <th>condition</th>\n",
       "      <th>...</th>\n",
       "      <th>basement</th>\n",
       "      <th>yr_built</th>\n",
       "      <th>yr_renovated</th>\n",
       "      <th>zipcode</th>\n",
       "      <th>lat</th>\n",
       "      <th>long</th>\n",
       "      <th>living_measure15</th>\n",
       "      <th>lot_measure15</th>\n",
       "      <th>furnished</th>\n",
       "      <th>total_area</th>\n",
       "    </tr>\n",
       "  </thead>\n",
       "  <tbody>\n",
       "    <tr>\n",
       "      <th>count</th>\n",
       "      <td>1.590000e+02</td>\n",
       "      <td>1.590000e+02</td>\n",
       "      <td>159.000000</td>\n",
       "      <td>159.00000</td>\n",
       "      <td>159.000000</td>\n",
       "      <td>159.000000</td>\n",
       "      <td>159.0</td>\n",
       "      <td>159.000000</td>\n",
       "      <td>159.000000</td>\n",
       "      <td>159.000000</td>\n",
       "      <td>...</td>\n",
       "      <td>159.000000</td>\n",
       "      <td>159.000000</td>\n",
       "      <td>159.000000</td>\n",
       "      <td>159.000000</td>\n",
       "      <td>159.000000</td>\n",
       "      <td>159.000000</td>\n",
       "      <td>159.000000</td>\n",
       "      <td>159.000000</td>\n",
       "      <td>159.000000</td>\n",
       "      <td>159.000000</td>\n",
       "    </tr>\n",
       "    <tr>\n",
       "      <th>mean</th>\n",
       "      <td>4.567588e+09</td>\n",
       "      <td>1.061788e+06</td>\n",
       "      <td>3.924528</td>\n",
       "      <td>2.81761</td>\n",
       "      <td>3131.849057</td>\n",
       "      <td>17486.905660</td>\n",
       "      <td>2.5</td>\n",
       "      <td>0.012579</td>\n",
       "      <td>0.515723</td>\n",
       "      <td>3.484277</td>\n",
       "      <td>...</td>\n",
       "      <td>346.647799</td>\n",
       "      <td>53.251572</td>\n",
       "      <td>226.314465</td>\n",
       "      <td>98092.358491</td>\n",
       "      <td>47.585403</td>\n",
       "      <td>-122.242912</td>\n",
       "      <td>2353.075472</td>\n",
       "      <td>17267.591195</td>\n",
       "      <td>0.566038</td>\n",
       "      <td>20618.754717</td>\n",
       "    </tr>\n",
       "    <tr>\n",
       "      <th>std</th>\n",
       "      <td>2.916106e+09</td>\n",
       "      <td>8.630544e+05</td>\n",
       "      <td>1.070592</td>\n",
       "      <td>0.87858</td>\n",
       "      <td>1438.181346</td>\n",
       "      <td>41926.403074</td>\n",
       "      <td>0.0</td>\n",
       "      <td>0.111799</td>\n",
       "      <td>1.107257</td>\n",
       "      <td>0.701313</td>\n",
       "      <td>...</td>\n",
       "      <td>541.177585</td>\n",
       "      <td>44.800962</td>\n",
       "      <td>635.422875</td>\n",
       "      <td>51.538026</td>\n",
       "      <td>0.106354</td>\n",
       "      <td>0.134495</td>\n",
       "      <td>735.781859</td>\n",
       "      <td>48222.851820</td>\n",
       "      <td>0.497186</td>\n",
       "      <td>42174.267135</td>\n",
       "    </tr>\n",
       "    <tr>\n",
       "      <th>min</th>\n",
       "      <td>1.200691e+08</td>\n",
       "      <td>2.550000e+05</td>\n",
       "      <td>1.000000</td>\n",
       "      <td>1.00000</td>\n",
       "      <td>990.000000</td>\n",
       "      <td>736.000000</td>\n",
       "      <td>2.5</td>\n",
       "      <td>0.000000</td>\n",
       "      <td>0.000000</td>\n",
       "      <td>3.000000</td>\n",
       "      <td>...</td>\n",
       "      <td>0.000000</td>\n",
       "      <td>1.000000</td>\n",
       "      <td>0.000000</td>\n",
       "      <td>98001.000000</td>\n",
       "      <td>47.196000</td>\n",
       "      <td>-122.408000</td>\n",
       "      <td>1030.000000</td>\n",
       "      <td>1068.000000</td>\n",
       "      <td>0.000000</td>\n",
       "      <td>1726.000000</td>\n",
       "    </tr>\n",
       "    <tr>\n",
       "      <th>25%</th>\n",
       "      <td>1.957201e+09</td>\n",
       "      <td>5.500000e+05</td>\n",
       "      <td>3.000000</td>\n",
       "      <td>2.25000</td>\n",
       "      <td>2165.000000</td>\n",
       "      <td>2880.000000</td>\n",
       "      <td>2.5</td>\n",
       "      <td>0.000000</td>\n",
       "      <td>0.000000</td>\n",
       "      <td>3.000000</td>\n",
       "      <td>...</td>\n",
       "      <td>0.000000</td>\n",
       "      <td>8.500000</td>\n",
       "      <td>0.000000</td>\n",
       "      <td>98040.000000</td>\n",
       "      <td>47.544600</td>\n",
       "      <td>-122.333500</td>\n",
       "      <td>1755.000000</td>\n",
       "      <td>3237.500000</td>\n",
       "      <td>0.000000</td>\n",
       "      <td>5886.000000</td>\n",
       "    </tr>\n",
       "    <tr>\n",
       "      <th>50%</th>\n",
       "      <td>3.751602e+09</td>\n",
       "      <td>7.992000e+05</td>\n",
       "      <td>4.000000</td>\n",
       "      <td>2.50000</td>\n",
       "      <td>2850.000000</td>\n",
       "      <td>5400.000000</td>\n",
       "      <td>2.5</td>\n",
       "      <td>0.000000</td>\n",
       "      <td>0.000000</td>\n",
       "      <td>3.000000</td>\n",
       "      <td>...</td>\n",
       "      <td>0.000000</td>\n",
       "      <td>36.000000</td>\n",
       "      <td>0.000000</td>\n",
       "      <td>98109.000000</td>\n",
       "      <td>47.618100</td>\n",
       "      <td>-122.294000</td>\n",
       "      <td>2240.000000</td>\n",
       "      <td>5352.000000</td>\n",
       "      <td>1.000000</td>\n",
       "      <td>8720.000000</td>\n",
       "    </tr>\n",
       "    <tr>\n",
       "      <th>75%</th>\n",
       "      <td>7.181150e+09</td>\n",
       "      <td>1.285000e+06</td>\n",
       "      <td>4.000000</td>\n",
       "      <td>3.25000</td>\n",
       "      <td>3736.000000</td>\n",
       "      <td>9086.000000</td>\n",
       "      <td>2.5</td>\n",
       "      <td>0.000000</td>\n",
       "      <td>0.000000</td>\n",
       "      <td>4.000000</td>\n",
       "      <td>...</td>\n",
       "      <td>555.000000</td>\n",
       "      <td>105.000000</td>\n",
       "      <td>0.000000</td>\n",
       "      <td>98120.500000</td>\n",
       "      <td>47.644200</td>\n",
       "      <td>-122.144000</td>\n",
       "      <td>2790.000000</td>\n",
       "      <td>7851.000000</td>\n",
       "      <td>1.000000</td>\n",
       "      <td>12838.000000</td>\n",
       "    </tr>\n",
       "    <tr>\n",
       "      <th>max</th>\n",
       "      <td>9.831201e+09</td>\n",
       "      <td>7.700000e+06</td>\n",
       "      <td>7.000000</td>\n",
       "      <td>8.00000</td>\n",
       "      <td>12050.000000</td>\n",
       "      <td>237402.000000</td>\n",
       "      <td>2.5</td>\n",
       "      <td>1.000000</td>\n",
       "      <td>4.000000</td>\n",
       "      <td>5.000000</td>\n",
       "      <td>...</td>\n",
       "      <td>3480.000000</td>\n",
       "      <td>115.000000</td>\n",
       "      <td>2014.000000</td>\n",
       "      <td>98199.000000</td>\n",
       "      <td>47.761300</td>\n",
       "      <td>-121.932000</td>\n",
       "      <td>4470.000000</td>\n",
       "      <td>326097.000000</td>\n",
       "      <td>1.000000</td>\n",
       "      <td>240922.000000</td>\n",
       "    </tr>\n",
       "  </tbody>\n",
       "</table>\n",
       "<p>8 rows × 22 columns</p>\n",
       "</div>"
      ],
      "text/plain": [
       "                cid         price    room_bed  room_bath  living_measure  \\\n",
       "count  1.590000e+02  1.590000e+02  159.000000  159.00000      159.000000   \n",
       "mean   4.567588e+09  1.061788e+06    3.924528    2.81761     3131.849057   \n",
       "std    2.916106e+09  8.630544e+05    1.070592    0.87858     1438.181346   \n",
       "min    1.200691e+08  2.550000e+05    1.000000    1.00000      990.000000   \n",
       "25%    1.957201e+09  5.500000e+05    3.000000    2.25000     2165.000000   \n",
       "50%    3.751602e+09  7.992000e+05    4.000000    2.50000     2850.000000   \n",
       "75%    7.181150e+09  1.285000e+06    4.000000    3.25000     3736.000000   \n",
       "max    9.831201e+09  7.700000e+06    7.000000    8.00000    12050.000000   \n",
       "\n",
       "         lot_measure   ceil       coast       sight   condition  ...  \\\n",
       "count     159.000000  159.0  159.000000  159.000000  159.000000  ...   \n",
       "mean    17486.905660    2.5    0.012579    0.515723    3.484277  ...   \n",
       "std     41926.403074    0.0    0.111799    1.107257    0.701313  ...   \n",
       "min       736.000000    2.5    0.000000    0.000000    3.000000  ...   \n",
       "25%      2880.000000    2.5    0.000000    0.000000    3.000000  ...   \n",
       "50%      5400.000000    2.5    0.000000    0.000000    3.000000  ...   \n",
       "75%      9086.000000    2.5    0.000000    0.000000    4.000000  ...   \n",
       "max    237402.000000    2.5    1.000000    4.000000    5.000000  ...   \n",
       "\n",
       "          basement    yr_built  yr_renovated       zipcode         lat  \\\n",
       "count   159.000000  159.000000    159.000000    159.000000  159.000000   \n",
       "mean    346.647799   53.251572    226.314465  98092.358491   47.585403   \n",
       "std     541.177585   44.800962    635.422875     51.538026    0.106354   \n",
       "min       0.000000    1.000000      0.000000  98001.000000   47.196000   \n",
       "25%       0.000000    8.500000      0.000000  98040.000000   47.544600   \n",
       "50%       0.000000   36.000000      0.000000  98109.000000   47.618100   \n",
       "75%     555.000000  105.000000      0.000000  98120.500000   47.644200   \n",
       "max    3480.000000  115.000000   2014.000000  98199.000000   47.761300   \n",
       "\n",
       "             long  living_measure15  lot_measure15   furnished     total_area  \n",
       "count  159.000000        159.000000     159.000000  159.000000     159.000000  \n",
       "mean  -122.242912       2353.075472   17267.591195    0.566038   20618.754717  \n",
       "std      0.134495        735.781859   48222.851820    0.497186   42174.267135  \n",
       "min   -122.408000       1030.000000    1068.000000    0.000000    1726.000000  \n",
       "25%   -122.333500       1755.000000    3237.500000    0.000000    5886.000000  \n",
       "50%   -122.294000       2240.000000    5352.000000    1.000000    8720.000000  \n",
       "75%   -122.144000       2790.000000    7851.000000    1.000000   12838.000000  \n",
       "max   -121.932000       4470.000000  326097.000000    1.000000  240922.000000  \n",
       "\n",
       "[8 rows x 22 columns]"
      ]
     },
     "execution_count": 451,
     "metadata": {},
     "output_type": "execute_result"
    }
   ],
   "source": [
    "data1[data1['ceil']==2.5].describe()"
   ]
  },
  {
   "cell_type": "code",
   "execution_count": 452,
   "metadata": {
    "colab": {
     "base_uri": "https://localhost:8080/",
     "height": 307
    },
    "id": "qnT4Eks5-xW_",
    "outputId": "901e6307-9b4d-459d-8994-b0f34c7a5a0d"
   },
   "outputs": [
    {
     "data": {
      "text/plain": [
       "<AxesSubplot:xlabel='coast', ylabel='price'>"
      ]
     },
     "execution_count": 452,
     "metadata": {},
     "output_type": "execute_result"
    },
    {
     "data": {
      "image/png": "[encoded data removed]",
      "text/plain": [
       "<Figure size 432x288 with 1 Axes>"
      ]
     },
     "metadata": {},
     "output_type": "display_data"
    }
   ],
   "source": [
    "sns.boxplot(x='coast',y='price',data=data_new)\n",
    "# As coast view is present the price increases"
   ]
  },
  {
   "cell_type": "code",
   "execution_count": 453,
   "metadata": {
    "colab": {
     "base_uri": "https://localhost:8080/",
     "height": 307
    },
    "id": "1yhYMOjo_PwP",
    "outputId": "e0e5183c-3bc5-488c-fb52-ba36850d33c3"
   },
   "outputs": [
    {
     "data": {
      "text/plain": [
       "<AxesSubplot:xlabel='sight', ylabel='price'>"
      ]
     },
     "execution_count": 453,
     "metadata": {},
     "output_type": "execute_result"
    },
    {
     "data": {
      "image/png": "[encoded data removed]",
      "text/plain": [
       "<Figure size 432x288 with 1 Axes>"
      ]
     },
     "metadata": {},
     "output_type": "display_data"
    }
   ],
   "source": [
    "sns.boxplot(x='sight',y='price',data=data_new)\n",
    "#### There are one value which have much high value where sight =0,2,3 and  4\n",
    "##The houses which are viewed maximum no of times has high price range"
   ]
  },
  {
   "cell_type": "code",
   "execution_count": 454,
   "metadata": {
    "colab": {
     "base_uri": "https://localhost:8080/",
     "height": 307
    },
    "id": "0LFr1sXNFLtO",
    "outputId": "3d2d9108-edeb-4c09-9508-8cb7263b9c2a"
   },
   "outputs": [
    {
     "data": {
      "text/plain": [
       "<AxesSubplot:xlabel='condition', ylabel='price'>"
      ]
     },
     "execution_count": 454,
     "metadata": {},
     "output_type": "execute_result"
    },
    {
     "data": {
      "image/png": "[encoded data removed]",
      "text/plain": [
       "<Figure size 432x288 with 1 Axes>"
      ]
     },
     "metadata": {},
     "output_type": "display_data"
    }
   ],
   "source": [
    "sns.boxplot(x='condition',y='price',data=data_new)\n",
    "#### There are one value which have much high value where sight =0,2,3 and  4\n",
    "## Else there is slight positive relation(it seems) as such in the conditions and value,  \n",
    "## As the condition(overall) rating increases the prices also got increased"
   ]
  },
  {
   "cell_type": "code",
   "execution_count": 455,
   "metadata": {
    "colab": {
     "base_uri": "https://localhost:8080/",
     "height": 307
    },
    "id": "o8LKwjf3GZox",
    "outputId": "07a4ffe0-55a4-4cf5-8293-9fcda8942253"
   },
   "outputs": [
    {
     "data": {
      "text/plain": [
       "<AxesSubplot:xlabel='furnished', ylabel='price'>"
      ]
     },
     "execution_count": 455,
     "metadata": {},
     "output_type": "execute_result"
    },
    {
     "data": {
      "image/png": "[encoded data removed]",
      "text/plain": [
       "<Figure size 432x288 with 1 Axes>"
      ]
     },
     "metadata": {},
     "output_type": "display_data"
    }
   ],
   "source": [
    "sns.boxplot(x='furnished',y='price',data=data_new)\n",
    "## The furnished house has more price & clearly depicted in the below figure"
   ]
  },
  {
   "cell_type": "code",
   "execution_count": 456,
   "metadata": {
    "colab": {
     "base_uri": "https://localhost:8080/",
     "height": 313
    },
    "id": "k97nslH0I2vV",
    "outputId": "8ea790cf-73a5-4b13-8890-7eb91adbbf39"
   },
   "outputs": [
    {
     "data": {
      "text/plain": [
       "<AxesSubplot:xlabel='quality', ylabel='price'>"
      ]
     },
     "execution_count": 456,
     "metadata": {},
     "output_type": "execute_result"
    },
    {
     "data": {
      "image/png": "[encoded data removed]",
      "text/plain": [
       "<Figure size 432x288 with 1 Axes>"
      ]
     },
     "metadata": {},
     "output_type": "display_data"
    }
   ],
   "source": [
    "sns.set(color_codes=True)\n",
    "sns.boxplot(x='quality',y='price',data=data_new)\n",
    "## As the quality increases the price also increases"
   ]
  },
  {
   "cell_type": "code",
   "execution_count": 457,
   "metadata": {
    "colab": {
     "base_uri": "https://localhost:8080/",
     "height": 453
    },
    "id": "vKo1OdboaCb4",
    "outputId": "30cacd7e-43e6-4064-807b-9fd8175160e4"
   },
   "outputs": [
    {
     "name": "stderr",
     "output_type": "stream",
     "text": [
      "/Library/Frameworks/Python.framework/Versions/3.9/lib/python3.9/site-packages/seaborn/categorical.py:3714: UserWarning: The `factorplot` function has been renamed to `catplot`. The original name will be removed in a future release. Please update your code. Note that the default `kind` in `factorplot` (`'point'`) has changed `'strip'` in `catplot`.\n",
      "  warnings.warn(msg)\n"
     ]
    },
    {
     "data": {
      "text/plain": [
       "<seaborn.axisgrid.FacetGrid at 0x7f83998491c0>"
      ]
     },
     "execution_count": 457,
     "metadata": {},
     "output_type": "execute_result"
    },
    {
     "data": {
      "image/png": "[encoded data removed]",
      "text/plain": [
       "<Figure size 360x360 with 1 Axes>"
      ]
     },
     "metadata": {},
     "output_type": "display_data"
    }
   ],
   "source": [
    "sns.factorplot(x='zipcode',y='price',data=data_new)\n",
    "## specific zipcode(areas) have high price"
   ]
  },
  {
   "cell_type": "code",
   "execution_count": 458,
   "metadata": {
    "colab": {
     "base_uri": "https://localhost:8080/"
    },
    "id": "fM-ZLKupIFTL",
    "outputId": "3c559fd4-b262-4253-9708-2a5bfe26d491"
   },
   "outputs": [
    {
     "data": {
      "text/plain": [
       "0    November-2014\n",
       "1    December-2014\n",
       "2       April-2015\n",
       "3         May-2014\n",
       "4       April-2015\n",
       "Name: month_year, dtype: object"
      ]
     },
     "execution_count": 458,
     "metadata": {},
     "output_type": "execute_result"
    }
   ],
   "source": [
    "#we will create new data frame that can be used for modeling\n",
    "#We will convert the dayhours to 'month_year' as sale month-year is relevant for analysis\n",
    "house_dfr=data_new.copy() ## In case we needed in the future\n",
    "data_new.dayhours=data_new.dayhours.str.replace('T000000', \"\")\n",
    "data_new.dayhours=pd.to_datetime(data_new.dayhours,format='%Y%m%d')\n",
    "data_new['month_year']=data_new['dayhours'].apply(lambda x: x.strftime('%B-%Y'))\n",
    "data_new['month_year'].head()"
   ]
  },
  {
   "cell_type": "code",
   "execution_count": 459,
   "metadata": {
    "colab": {
     "base_uri": "https://localhost:8080/"
    },
    "id": "9HfsGg9IIFTM",
    "outputId": "1375b265-2f1d-41a0-a246-475d89bfc83b"
   },
   "outputs": [
    {
     "data": {
      "text/plain": [
       "April-2015        2210\n",
       "July-2014         2204\n",
       "June-2014         2164\n",
       "August-2014       1919\n",
       "October-2014      1865\n",
       "March-2015        1852\n",
       "September-2014    1761\n",
       "May-2014          1760\n",
       "December-2014     1453\n",
       "November-2014     1396\n",
       "February-2015     1235\n",
       "January-2015       967\n",
       "May-2015           639\n",
       "Name: month_year, dtype: int64"
      ]
     },
     "execution_count": 459,
     "metadata": {},
     "output_type": "execute_result"
    }
   ],
   "source": [
    "data_new['month_year'].value_counts()"
   ]
  },
  {
   "cell_type": "code",
   "execution_count": 460,
   "metadata": {
    "colab": {
     "base_uri": "https://localhost:8080/",
     "height": 325
    },
    "id": "X0rFgMXYLJrt",
    "outputId": "3444a58b-6fa5-460e-86f4-333c70a95ae6"
   },
   "outputs": [
    {
     "data": {
      "text/plain": [
       "<AxesSubplot:xlabel='month_year', ylabel='price'>"
      ]
     },
     "execution_count": 460,
     "metadata": {},
     "output_type": "execute_result"
    },
    {
     "data": {
      "image/png": "[encoded data removed]",
      "text/plain": [
       "<Figure size 1440x360 with 1 Axes>"
      ]
     },
     "metadata": {},
     "output_type": "display_data"
    }
   ],
   "source": [
    "sns.set(color_codes=True)\n",
    "plt.figure(figsize=(20,5))\n",
    "sns.boxplot(x='month_year',y='price',data=data_new)\n",
    "## There is no relation between price and the time of year it sold"
   ]
  },
  {
   "cell_type": "code",
   "execution_count": 461,
   "metadata": {
    "colab": {
     "base_uri": "https://localhost:8080/",
     "height": 365
    },
    "id": "hp70FgMWMhod",
    "outputId": "227ee597-8a86-4677-83e7-2227bc10d777"
   },
   "outputs": [
    {
     "name": "stderr",
     "output_type": "stream",
     "text": [
      "/Library/Frameworks/Python.framework/Versions/3.9/lib/python3.9/site-packages/seaborn/_decorators.py:36: FutureWarning: Pass the following variable as a keyword arg: x. From version 0.12, the only valid positional argument will be `data`, and passing other arguments without an explicit keyword will result in an error or misinterpretation.\n",
      "  warnings.warn(\n"
     ]
    },
    {
     "data": {
      "text/plain": [
       "<AxesSubplot:xlabel='month_year', ylabel='count'>"
      ]
     },
     "execution_count": 461,
     "metadata": {},
     "output_type": "execute_result"
    },
    {
     "data": {
      "image/png": "[encoded data removed]",
      "text/plain": [
       "<Figure size 1440x360 with 1 Axes>"
      ]
     },
     "metadata": {},
     "output_type": "display_data"
    }
   ],
   "source": [
    "plt.figure(figsize=(20,5))\n",
    "sns.countplot(data_new['month_year'])\n",
    "## The house sold in  may'15 and jan'15 have less frequency to be sold"
   ]
  },
  {
   "cell_type": "code",
   "execution_count": 462,
   "metadata": {
    "colab": {
     "base_uri": "https://localhost:8080/"
    },
    "id": "OXz9hhjoIFTN",
    "outputId": "4399eebd-78a8-4a8b-bb13-b54a1049fbb3"
   },
   "outputs": [
    {
     "data": {
      "text/plain": [
       "month_year\n",
       "April-2015        563229.323982\n",
       "August-2014       537243.750391\n",
       "December-2014     524885.723331\n",
       "February-2015     508730.893927\n",
       "January-2015      526442.150982\n",
       "July-2014         545731.205989\n",
       "June-2014         558900.170980\n",
       "March-2015        542716.876890\n",
       "May-2014          548928.153409\n",
       "May-2015          559461.424100\n",
       "November-2014     523412.287966\n",
       "October-2014      540918.287399\n",
       "September-2014    531460.377626\n",
       "Name: price, dtype: float64"
      ]
     },
     "execution_count": 462,
     "metadata": {},
     "output_type": "execute_result"
    }
   ],
   "source": [
    "data_new.groupby(['month_year'])['price'].agg('mean')\n",
    "## To see if there is a relation between between the month_year and the price\n",
    "## But it seems there is no relation between both\n",
    "#### I think we should drop this month_year column"
   ]
  },
  {
   "cell_type": "code",
   "execution_count": 463,
   "metadata": {
    "colab": {
     "base_uri": "https://localhost:8080/",
     "height": 117
    },
    "id": "gPGuu1tnVeLc",
    "outputId": "8cbc9333-d94b-4816-e76d-051eea0ee3a7"
   },
   "outputs": [
    {
     "data": {
      "text/html": [
       "<div>\n",
       "<style scoped>\n",
       "    .dataframe tbody tr th:only-of-type {\n",
       "        vertical-align: middle;\n",
       "    }\n",
       "\n",
       "    .dataframe tbody tr th {\n",
       "        vertical-align: top;\n",
       "    }\n",
       "\n",
       "    .dataframe thead th {\n",
       "        text-align: right;\n",
       "    }\n",
       "</style>\n",
       "<table border=\"1\" class=\"dataframe\">\n",
       "  <thead>\n",
       "    <tr style=\"text-align: right;\">\n",
       "      <th></th>\n",
       "      <th>cid</th>\n",
       "      <th>dayhours</th>\n",
       "      <th>price</th>\n",
       "      <th>room_bed</th>\n",
       "      <th>room_bath</th>\n",
       "      <th>living_measure</th>\n",
       "      <th>ceil</th>\n",
       "      <th>coast</th>\n",
       "      <th>sight</th>\n",
       "      <th>condition</th>\n",
       "      <th>...</th>\n",
       "      <th>yr_built</th>\n",
       "      <th>yr_renovated</th>\n",
       "      <th>zipcode</th>\n",
       "      <th>lat</th>\n",
       "      <th>long</th>\n",
       "      <th>living_measure15</th>\n",
       "      <th>lot_measure15</th>\n",
       "      <th>furnished</th>\n",
       "      <th>total_area</th>\n",
       "      <th>month_year</th>\n",
       "    </tr>\n",
       "  </thead>\n",
       "  <tbody>\n",
       "    <tr>\n",
       "      <th>0</th>\n",
       "      <td>3034200666</td>\n",
       "      <td>2014-11-07</td>\n",
       "      <td>808100</td>\n",
       "      <td>4</td>\n",
       "      <td>3.25</td>\n",
       "      <td>3020</td>\n",
       "      <td>1.0</td>\n",
       "      <td>0</td>\n",
       "      <td>0</td>\n",
       "      <td>5</td>\n",
       "      <td>...</td>\n",
       "      <td>59</td>\n",
       "      <td>0</td>\n",
       "      <td>98133</td>\n",
       "      <td>47.7174</td>\n",
       "      <td>-122.336</td>\n",
       "      <td>2120</td>\n",
       "      <td>7553</td>\n",
       "      <td>1</td>\n",
       "      <td>16477</td>\n",
       "      <td>November-2014</td>\n",
       "    </tr>\n",
       "  </tbody>\n",
       "</table>\n",
       "<p>1 rows × 23 columns</p>\n",
       "</div>"
      ],
      "text/plain": [
       "          cid   dayhours   price  room_bed  room_bath  living_measure  ceil  \\\n",
       "0  3034200666 2014-11-07  808100         4       3.25            3020   1.0   \n",
       "\n",
       "   coast  sight  condition  ...  yr_built  yr_renovated  zipcode      lat  \\\n",
       "0      0      0          5  ...        59             0    98133  47.7174   \n",
       "\n",
       "      long  living_measure15  lot_measure15  furnished  total_area  \\\n",
       "0 -122.336              2120           7553          1       16477   \n",
       "\n",
       "      month_year  \n",
       "0  November-2014  \n",
       "\n",
       "[1 rows x 23 columns]"
      ]
     },
     "execution_count": 463,
     "metadata": {},
     "output_type": "execute_result"
    }
   ],
   "source": [
    "data_new.head(1)"
   ]
  },
  {
   "cell_type": "code",
   "execution_count": 464,
   "metadata": {
    "colab": {
     "base_uri": "https://localhost:8080/",
     "height": 313
    },
    "id": "DvqW9HmeKq9t",
    "outputId": "3a005124-f9d8-4e67-e70f-5bc5f7fd2d8c"
   },
   "outputs": [
    {
     "data": {
      "text/plain": [
       "-0.05232845907644342"
      ]
     },
     "execution_count": 464,
     "metadata": {},
     "output_type": "execute_result"
    },
    {
     "data": {
      "image/png": "[encoded data removed]",
      "text/plain": [
       "<Figure size 432x288 with 1 Axes>"
      ]
     },
     "metadata": {},
     "output_type": "display_data"
    }
   ],
   "source": [
    "plt.scatter(data_new['yr_built'],data_new['price'])\n",
    "plt.xlabel('yr_built')\n",
    "plt.ylabel('price')\n",
    "corr2=data_new['yr_built'].corr(data_new['price'])\n",
    "corr2"
   ]
  },
  {
   "cell_type": "code",
   "execution_count": 465,
   "metadata": {
    "id": "-AyU8T1dPiSe"
   },
   "outputs": [],
   "source": [
    "data_new=data_new.drop(\"yr_built\",axis=1);##Dropping off the yr_built column as Absolutely no correlation"
   ]
  },
  {
   "cell_type": "code",
   "execution_count": 466,
   "metadata": {
    "colab": {
     "base_uri": "https://localhost:8080/"
    },
    "id": "xrj0AYrLMfUz",
    "outputId": "a00ff3b7-36ea-4841-8134-d1c7c1fdebeb"
   },
   "outputs": [
    {
     "data": {
      "text/plain": [
       "count    21425.000000\n",
       "mean        84.586184\n",
       "std        402.102944\n",
       "min          0.000000\n",
       "25%          0.000000\n",
       "50%          0.000000\n",
       "75%          0.000000\n",
       "max       2015.000000\n",
       "Name: yr_renovated, dtype: float64"
      ]
     },
     "execution_count": 466,
     "metadata": {},
     "output_type": "execute_result"
    }
   ],
   "source": [
    "## Let's watch closely column yr_renovated\n",
    "data_new['yr_renovated'].describe()"
   ]
  },
  {
   "cell_type": "code",
   "execution_count": 467,
   "metadata": {
    "colab": {
     "base_uri": "https://localhost:8080/"
    },
    "id": "A0E7aT3zeh4R",
    "outputId": "56d2dbaa-d6e9-4c73-eb35-505c2ee94088"
   },
   "outputs": [
    {
     "name": "stderr",
     "output_type": "stream",
     "text": [
      "/Library/Frameworks/Python.framework/Versions/3.9/lib/python3.9/site-packages/pandas/core/indexing.py:1637: SettingWithCopyWarning: \n",
      "A value is trying to be set on a copy of a slice from a DataFrame\n",
      "\n",
      "See the caveats in the documentation: https://pandas.pydata.org/pandas-docs/stable/user_guide/indexing.html#returning-a-view-versus-a-copy\n",
      "  self._setitem_single_block(indexer, value, name)\n"
     ]
    }
   ],
   "source": [
    "## Changing column element to 1 if it is renovated else taking it to 0\n",
    "for i in range(1,len(data_new['yr_renovated'])):\n",
    "  if (data_new['yr_renovated'].iloc[i]>0):\n",
    "    data_new['yr_renovated'].iloc[i]=1"
   ]
  },
  {
   "cell_type": "code",
   "execution_count": 468,
   "metadata": {
    "colab": {
     "base_uri": "https://localhost:8080/"
    },
    "id": "mr4Lqnmt25US",
    "outputId": "8138077d-757b-46cb-dbcb-8bfb4d27ba81"
   },
   "outputs": [
    {
     "data": {
      "text/plain": [
       "0    20517\n",
       "1      908\n",
       "Name: yr_renovated, dtype: int64"
      ]
     },
     "execution_count": 468,
     "metadata": {},
     "output_type": "execute_result"
    }
   ],
   "source": [
    "data_new['yr_renovated'].value_counts().head(40)"
   ]
  },
  {
   "cell_type": "code",
   "execution_count": 469,
   "metadata": {
    "colab": {
     "base_uri": "https://localhost:8080/",
     "height": 313
    },
    "id": "KeqRW1BZ4__x",
    "outputId": "4e72fac7-f084-4604-d214-1375a5be167d"
   },
   "outputs": [
    {
     "data": {
      "text/plain": [
       "<AxesSubplot:xlabel='yr_renovated', ylabel='price'>"
      ]
     },
     "execution_count": 469,
     "metadata": {},
     "output_type": "execute_result"
    },
    {
     "data": {
      "image/png": "[encoded data removed]",
      "text/plain": [
       "<Figure size 432x288 with 1 Axes>"
      ]
     },
     "metadata": {},
     "output_type": "display_data"
    }
   ],
   "source": [
    "sns.boxplot(x='yr_renovated',y='price',data=data_new)\n",
    "## There is a slight significance that renovated room has slight high price"
   ]
  },
  {
   "cell_type": "code",
   "execution_count": 470,
   "metadata": {
    "colab": {
     "base_uri": "https://localhost:8080/",
     "height": 285
    },
    "id": "7sdtiROhRTqP",
    "outputId": "d096c3f6-3154-46ea-8c89-8b4cf2f50665"
   },
   "outputs": [
    {
     "data": {
      "text/plain": [
       "<matplotlib.collections.PathCollection at 0x7f839a5c8340>"
      ]
     },
     "execution_count": 470,
     "metadata": {},
     "output_type": "execute_result"
    },
    {
     "data": {
      "image/png": "[encoded data removed]",
      "text/plain": [
       "<Figure size 432x288 with 1 Axes>"
      ]
     },
     "metadata": {},
     "output_type": "display_data"
    }
   ],
   "source": [
    "plt.scatter(data_new['living_measure15'],data_new['lot_measure15'])\n",
    "##There is absolutely no relation"
   ]
  },
  {
   "cell_type": "code",
   "execution_count": 471,
   "metadata": {
    "colab": {
     "base_uri": "https://localhost:8080/",
     "height": 313
    },
    "id": "QTlFsj4LYYXu",
    "outputId": "f229682a-58aa-43ff-8c18-b4d7558c3086"
   },
   "outputs": [
    {
     "data": {
      "text/plain": [
       "0.5842024981379531"
      ]
     },
     "execution_count": 471,
     "metadata": {},
     "output_type": "execute_result"
    },
    {
     "data": {
      "image/png": "[encoded data removed]",
      "text/plain": [
       "<Figure size 432x288 with 1 Axes>"
      ]
     },
     "metadata": {},
     "output_type": "display_data"
    }
   ],
   "source": [
    "plt.scatter(data_new['living_measure15'],data_new['price'])\n",
    "plt.xlabel('Living_measure15')\n",
    "plt.ylabel('Price')\n",
    "## Price increases as living_measure increases\n",
    "corr2=data_new['living_measure15'].corr(data_new['price'])\n",
    "corr2\n",
    "## Price increases as living_measure increases"
   ]
  },
  {
   "cell_type": "code",
   "execution_count": 472,
   "metadata": {
    "colab": {
     "base_uri": "https://localhost:8080/",
     "height": 296
    },
    "id": "fdad1yjhZKEK",
    "outputId": "d3a74b38-6577-487f-c173-d8d682f071fd"
   },
   "outputs": [
    {
     "data": {
      "text/plain": [
       "0.08193161344847939"
      ]
     },
     "execution_count": 472,
     "metadata": {},
     "output_type": "execute_result"
    },
    {
     "data": {
      "image/png": "[encoded data removed]",
      "text/plain": [
       "<Figure size 432x288 with 1 Axes>"
      ]
     },
     "metadata": {},
     "output_type": "display_data"
    }
   ],
   "source": [
    "plt.scatter(data_new['lot_measure15'],data_new['price'])\n",
    "## Price is independent on lot_measure15\n",
    "####Can we drop lot_measure15\n",
    "corr2=data_new['lot_measure15'].corr(data_new['price'])\n",
    "corr2"
   ]
  },
  {
   "cell_type": "code",
   "execution_count": 473,
   "metadata": {
    "id": "bJfROrL-QZPd"
   },
   "outputs": [],
   "source": [
    "data_new=data_new.drop(\"lot_measure15\",axis=1);##Dropping off the lot_measure15 column as Absolutely no correlation"
   ]
  },
  {
   "cell_type": "code",
   "execution_count": 474,
   "metadata": {
    "colab": {
     "base_uri": "https://localhost:8080/",
     "height": 117
    },
    "id": "J4GJetlkWgk3",
    "outputId": "6d25d615-3265-4c2e-ee9c-b64464f01594"
   },
   "outputs": [
    {
     "data": {
      "text/html": [
       "<div>\n",
       "<style scoped>\n",
       "    .dataframe tbody tr th:only-of-type {\n",
       "        vertical-align: middle;\n",
       "    }\n",
       "\n",
       "    .dataframe tbody tr th {\n",
       "        vertical-align: top;\n",
       "    }\n",
       "\n",
       "    .dataframe thead th {\n",
       "        text-align: right;\n",
       "    }\n",
       "</style>\n",
       "<table border=\"1\" class=\"dataframe\">\n",
       "  <thead>\n",
       "    <tr style=\"text-align: right;\">\n",
       "      <th></th>\n",
       "      <th>cid</th>\n",
       "      <th>dayhours</th>\n",
       "      <th>price</th>\n",
       "      <th>room_bed</th>\n",
       "      <th>room_bath</th>\n",
       "      <th>living_measure</th>\n",
       "      <th>ceil</th>\n",
       "      <th>coast</th>\n",
       "      <th>sight</th>\n",
       "      <th>condition</th>\n",
       "      <th>...</th>\n",
       "      <th>ceil_measure</th>\n",
       "      <th>basement</th>\n",
       "      <th>yr_renovated</th>\n",
       "      <th>zipcode</th>\n",
       "      <th>lat</th>\n",
       "      <th>long</th>\n",
       "      <th>living_measure15</th>\n",
       "      <th>furnished</th>\n",
       "      <th>total_area</th>\n",
       "      <th>month_year</th>\n",
       "    </tr>\n",
       "  </thead>\n",
       "  <tbody>\n",
       "    <tr>\n",
       "      <th>0</th>\n",
       "      <td>3034200666</td>\n",
       "      <td>2014-11-07</td>\n",
       "      <td>808100</td>\n",
       "      <td>4</td>\n",
       "      <td>3.25</td>\n",
       "      <td>3020</td>\n",
       "      <td>1.0</td>\n",
       "      <td>0</td>\n",
       "      <td>0</td>\n",
       "      <td>5</td>\n",
       "      <td>...</td>\n",
       "      <td>3020</td>\n",
       "      <td>0</td>\n",
       "      <td>0</td>\n",
       "      <td>98133</td>\n",
       "      <td>47.7174</td>\n",
       "      <td>-122.336</td>\n",
       "      <td>2120</td>\n",
       "      <td>1</td>\n",
       "      <td>16477</td>\n",
       "      <td>November-2014</td>\n",
       "    </tr>\n",
       "  </tbody>\n",
       "</table>\n",
       "<p>1 rows × 21 columns</p>\n",
       "</div>"
      ],
      "text/plain": [
       "          cid   dayhours   price  room_bed  room_bath  living_measure  ceil  \\\n",
       "0  3034200666 2014-11-07  808100         4       3.25            3020   1.0   \n",
       "\n",
       "   coast  sight  condition  ...  ceil_measure  basement  yr_renovated  \\\n",
       "0      0      0          5  ...          3020         0             0   \n",
       "\n",
       "   zipcode      lat     long  living_measure15  furnished  total_area  \\\n",
       "0    98133  47.7174 -122.336              2120          1       16477   \n",
       "\n",
       "      month_year  \n",
       "0  November-2014  \n",
       "\n",
       "[1 rows x 21 columns]"
      ]
     },
     "execution_count": 474,
     "metadata": {},
     "output_type": "execute_result"
    }
   ],
   "source": [
    "data_new.head(1)"
   ]
  },
  {
   "cell_type": "code",
   "execution_count": 475,
   "metadata": {
    "colab": {
     "base_uri": "https://localhost:8080/",
     "height": 296
    },
    "id": "dMO0cbkIdZmO",
    "outputId": "8e50d69e-57ee-49d7-d19a-26515815121d"
   },
   "outputs": [
    {
     "data": {
      "text/plain": [
       "0.7016709544690531"
      ]
     },
     "execution_count": 475,
     "metadata": {},
     "output_type": "execute_result"
    },
    {
     "data": {
      "image/png": "[encoded data removed]",
      "text/plain": [
       "<Figure size 432x288 with 1 Axes>"
      ]
     },
     "metadata": {},
     "output_type": "display_data"
    }
   ],
   "source": [
    "plt.scatter(data_new['living_measure'],data_new['price'])\n",
    "## Price increases as living_measure increases\n",
    "corr2=data_new['living_measure'].corr(data_new['price'])\n",
    "corr2\n",
    "## Price increases as living_measure increases"
   ]
  },
  {
   "cell_type": "code",
   "execution_count": 476,
   "metadata": {},
   "outputs": [
    {
     "data": {
      "text/plain": [
       "Index(['cid', 'dayhours', 'price', 'room_bed', 'room_bath', 'living_measure',\n",
       "       'ceil', 'coast', 'sight', 'condition', 'quality', 'ceil_measure',\n",
       "       'basement', 'yr_renovated', 'zipcode', 'lat', 'long',\n",
       "       'living_measure15', 'furnished', 'total_area', 'month_year'],\n",
       "      dtype='object')"
      ]
     },
     "execution_count": 476,
     "metadata": {},
     "output_type": "execute_result"
    }
   ],
   "source": [
    "data_new.columns"
   ]
  },
  {
   "cell_type": "code",
   "execution_count": 477,
   "metadata": {},
   "outputs": [],
   "source": [
    "q1=data_new.living_measure.describe()['25%'] ## Outlier removal in living_measure\n",
    "q3=data_new.living_measure.describe()['75%']\n",
    "iqr=q3-q1\n",
    "ll=q1-(1.5*iqr)\n",
    "ul=q3+(1.5*iqr)\n",
    "data_new.living_measure=data_new[(data_new.living_measure<ul) & (data_new.living_measure>ll)]\n",
    "#data_new.living_measure.describe().apply(lambda x: format(x, 'f'))"
   ]
  },
  {
   "cell_type": "markdown",
   "metadata": {},
   "source": [
    "q1=data_new.ceil_measure.describe()['25%']\n",
    "q3=data_new.ceil_measure.describe()['75%']\n",
    "iqr=q3-q1\n",
    "ll=q1-(1.5*iqr)\n",
    "ul=q3+(1.5*iqr)\n",
    "data_new.ceil_measure=data_new[(data_new.ceil_measure<ul) & (data_new.ceil_measure>ll)]\n",
    "#data_new.lot_measure15.describe().apply(lambda x: format(x, 'f'))\n",
    "data_new.describe()"
   ]
  },
  {
   "cell_type": "code",
   "execution_count": 478,
   "metadata": {},
   "outputs": [
    {
     "data": {
      "text/html": [
       "<div>\n",
       "<style scoped>\n",
       "    .dataframe tbody tr th:only-of-type {\n",
       "        vertical-align: middle;\n",
       "    }\n",
       "\n",
       "    .dataframe tbody tr th {\n",
       "        vertical-align: top;\n",
       "    }\n",
       "\n",
       "    .dataframe thead th {\n",
       "        text-align: right;\n",
       "    }\n",
       "</style>\n",
       "<table border=\"1\" class=\"dataframe\">\n",
       "  <thead>\n",
       "    <tr style=\"text-align: right;\">\n",
       "      <th></th>\n",
       "      <th>cid</th>\n",
       "      <th>price</th>\n",
       "      <th>room_bed</th>\n",
       "      <th>room_bath</th>\n",
       "      <th>ceil</th>\n",
       "      <th>coast</th>\n",
       "      <th>sight</th>\n",
       "      <th>condition</th>\n",
       "      <th>quality</th>\n",
       "      <th>ceil_measure</th>\n",
       "      <th>basement</th>\n",
       "      <th>yr_renovated</th>\n",
       "      <th>zipcode</th>\n",
       "      <th>lat</th>\n",
       "      <th>long</th>\n",
       "      <th>living_measure15</th>\n",
       "      <th>furnished</th>\n",
       "      <th>total_area</th>\n",
       "    </tr>\n",
       "  </thead>\n",
       "  <tbody>\n",
       "    <tr>\n",
       "      <th>count</th>\n",
       "      <td>2.142500e+04</td>\n",
       "      <td>2.142500e+04</td>\n",
       "      <td>21425.000000</td>\n",
       "      <td>21425.000000</td>\n",
       "      <td>21425.000000</td>\n",
       "      <td>21425.000000</td>\n",
       "      <td>21425.000000</td>\n",
       "      <td>21425.000000</td>\n",
       "      <td>21425.000000</td>\n",
       "      <td>21425.000000</td>\n",
       "      <td>21425.000000</td>\n",
       "      <td>21425.00000</td>\n",
       "      <td>21425.000000</td>\n",
       "      <td>21425.000000</td>\n",
       "      <td>21425.000000</td>\n",
       "      <td>21425.000000</td>\n",
       "      <td>21425.000000</td>\n",
       "      <td>2.142500e+04</td>\n",
       "    </tr>\n",
       "    <tr>\n",
       "      <th>mean</th>\n",
       "      <td>4.580691e+09</td>\n",
       "      <td>5.410543e+05</td>\n",
       "      <td>3.367328</td>\n",
       "      <td>2.116499</td>\n",
       "      <td>1.495986</td>\n",
       "      <td>0.007608</td>\n",
       "      <td>0.235146</td>\n",
       "      <td>3.410408</td>\n",
       "      <td>7.661750</td>\n",
       "      <td>1790.553466</td>\n",
       "      <td>291.428938</td>\n",
       "      <td>0.04238</td>\n",
       "      <td>98077.856149</td>\n",
       "      <td>47.560118</td>\n",
       "      <td>-122.213659</td>\n",
       "      <td>1988.314072</td>\n",
       "      <td>0.197526</td>\n",
       "      <td>1.722210e+04</td>\n",
       "    </tr>\n",
       "    <tr>\n",
       "      <th>std</th>\n",
       "      <td>2.876213e+09</td>\n",
       "      <td>3.677051e+05</td>\n",
       "      <td>0.897291</td>\n",
       "      <td>0.768382</td>\n",
       "      <td>0.540342</td>\n",
       "      <td>0.086893</td>\n",
       "      <td>0.767177</td>\n",
       "      <td>0.650238</td>\n",
       "      <td>1.174229</td>\n",
       "      <td>828.833193</td>\n",
       "      <td>442.526807</td>\n",
       "      <td>0.20146</td>\n",
       "      <td>53.474115</td>\n",
       "      <td>0.138623</td>\n",
       "      <td>0.140913</td>\n",
       "      <td>685.775457</td>\n",
       "      <td>0.398142</td>\n",
       "      <td>4.171683e+04</td>\n",
       "    </tr>\n",
       "    <tr>\n",
       "      <th>min</th>\n",
       "      <td>1.000102e+06</td>\n",
       "      <td>7.500000e+04</td>\n",
       "      <td>0.000000</td>\n",
       "      <td>0.000000</td>\n",
       "      <td>1.000000</td>\n",
       "      <td>0.000000</td>\n",
       "      <td>0.000000</td>\n",
       "      <td>1.000000</td>\n",
       "      <td>1.000000</td>\n",
       "      <td>290.000000</td>\n",
       "      <td>0.000000</td>\n",
       "      <td>0.00000</td>\n",
       "      <td>98001.000000</td>\n",
       "      <td>47.155900</td>\n",
       "      <td>-122.519000</td>\n",
       "      <td>399.000000</td>\n",
       "      <td>0.000000</td>\n",
       "      <td>1.423000e+03</td>\n",
       "    </tr>\n",
       "    <tr>\n",
       "      <th>25%</th>\n",
       "      <td>2.124049e+09</td>\n",
       "      <td>3.230000e+05</td>\n",
       "      <td>3.000000</td>\n",
       "      <td>1.750000</td>\n",
       "      <td>1.000000</td>\n",
       "      <td>0.000000</td>\n",
       "      <td>0.000000</td>\n",
       "      <td>3.000000</td>\n",
       "      <td>7.000000</td>\n",
       "      <td>1200.000000</td>\n",
       "      <td>0.000000</td>\n",
       "      <td>0.00000</td>\n",
       "      <td>98033.000000</td>\n",
       "      <td>47.471100</td>\n",
       "      <td>-122.328000</td>\n",
       "      <td>1490.000000</td>\n",
       "      <td>0.000000</td>\n",
       "      <td>7.030000e+03</td>\n",
       "    </tr>\n",
       "    <tr>\n",
       "      <th>50%</th>\n",
       "      <td>3.904921e+09</td>\n",
       "      <td>4.500000e+05</td>\n",
       "      <td>3.000000</td>\n",
       "      <td>2.250000</td>\n",
       "      <td>1.500000</td>\n",
       "      <td>0.000000</td>\n",
       "      <td>0.000000</td>\n",
       "      <td>3.000000</td>\n",
       "      <td>7.000000</td>\n",
       "      <td>1560.000000</td>\n",
       "      <td>0.000000</td>\n",
       "      <td>0.00000</td>\n",
       "      <td>98065.000000</td>\n",
       "      <td>47.572000</td>\n",
       "      <td>-122.229000</td>\n",
       "      <td>1840.000000</td>\n",
       "      <td>0.000000</td>\n",
       "      <td>9.575000e+03</td>\n",
       "    </tr>\n",
       "    <tr>\n",
       "      <th>75%</th>\n",
       "      <td>7.308600e+09</td>\n",
       "      <td>6.450000e+05</td>\n",
       "      <td>4.000000</td>\n",
       "      <td>2.500000</td>\n",
       "      <td>2.000000</td>\n",
       "      <td>0.000000</td>\n",
       "      <td>0.000000</td>\n",
       "      <td>4.000000</td>\n",
       "      <td>8.000000</td>\n",
       "      <td>2220.000000</td>\n",
       "      <td>560.000000</td>\n",
       "      <td>0.00000</td>\n",
       "      <td>98117.000000</td>\n",
       "      <td>47.678000</td>\n",
       "      <td>-122.124000</td>\n",
       "      <td>2370.000000</td>\n",
       "      <td>0.000000</td>\n",
       "      <td>1.300700e+04</td>\n",
       "    </tr>\n",
       "    <tr>\n",
       "      <th>max</th>\n",
       "      <td>9.900000e+09</td>\n",
       "      <td>7.700000e+06</td>\n",
       "      <td>8.000000</td>\n",
       "      <td>8.000000</td>\n",
       "      <td>3.500000</td>\n",
       "      <td>1.000000</td>\n",
       "      <td>4.000000</td>\n",
       "      <td>5.000000</td>\n",
       "      <td>13.000000</td>\n",
       "      <td>9410.000000</td>\n",
       "      <td>4820.000000</td>\n",
       "      <td>1.00000</td>\n",
       "      <td>98199.000000</td>\n",
       "      <td>47.777600</td>\n",
       "      <td>-121.315000</td>\n",
       "      <td>6210.000000</td>\n",
       "      <td>1.000000</td>\n",
       "      <td>1.652659e+06</td>\n",
       "    </tr>\n",
       "  </tbody>\n",
       "</table>\n",
       "</div>"
      ],
      "text/plain": [
       "                cid         price      room_bed     room_bath          ceil  \\\n",
       "count  2.142500e+04  2.142500e+04  21425.000000  21425.000000  21425.000000   \n",
       "mean   4.580691e+09  5.410543e+05      3.367328      2.116499      1.495986   \n",
       "std    2.876213e+09  3.677051e+05      0.897291      0.768382      0.540342   \n",
       "min    1.000102e+06  7.500000e+04      0.000000      0.000000      1.000000   \n",
       "25%    2.124049e+09  3.230000e+05      3.000000      1.750000      1.000000   \n",
       "50%    3.904921e+09  4.500000e+05      3.000000      2.250000      1.500000   \n",
       "75%    7.308600e+09  6.450000e+05      4.000000      2.500000      2.000000   \n",
       "max    9.900000e+09  7.700000e+06      8.000000      8.000000      3.500000   \n",
       "\n",
       "              coast         sight     condition       quality  ceil_measure  \\\n",
       "count  21425.000000  21425.000000  21425.000000  21425.000000  21425.000000   \n",
       "mean       0.007608      0.235146      3.410408      7.661750   1790.553466   \n",
       "std        0.086893      0.767177      0.650238      1.174229    828.833193   \n",
       "min        0.000000      0.000000      1.000000      1.000000    290.000000   \n",
       "25%        0.000000      0.000000      3.000000      7.000000   1200.000000   \n",
       "50%        0.000000      0.000000      3.000000      7.000000   1560.000000   \n",
       "75%        0.000000      0.000000      4.000000      8.000000   2220.000000   \n",
       "max        1.000000      4.000000      5.000000     13.000000   9410.000000   \n",
       "\n",
       "           basement  yr_renovated       zipcode           lat          long  \\\n",
       "count  21425.000000   21425.00000  21425.000000  21425.000000  21425.000000   \n",
       "mean     291.428938       0.04238  98077.856149     47.560118   -122.213659   \n",
       "std      442.526807       0.20146     53.474115      0.138623      0.140913   \n",
       "min        0.000000       0.00000  98001.000000     47.155900   -122.519000   \n",
       "25%        0.000000       0.00000  98033.000000     47.471100   -122.328000   \n",
       "50%        0.000000       0.00000  98065.000000     47.572000   -122.229000   \n",
       "75%      560.000000       0.00000  98117.000000     47.678000   -122.124000   \n",
       "max     4820.000000       1.00000  98199.000000     47.777600   -121.315000   \n",
       "\n",
       "       living_measure15     furnished    total_area  \n",
       "count      21425.000000  21425.000000  2.142500e+04  \n",
       "mean        1988.314072      0.197526  1.722210e+04  \n",
       "std          685.775457      0.398142  4.171683e+04  \n",
       "min          399.000000      0.000000  1.423000e+03  \n",
       "25%         1490.000000      0.000000  7.030000e+03  \n",
       "50%         1840.000000      0.000000  9.575000e+03  \n",
       "75%         2370.000000      0.000000  1.300700e+04  \n",
       "max         6210.000000      1.000000  1.652659e+06  "
      ]
     },
     "execution_count": 478,
     "metadata": {},
     "output_type": "execute_result"
    }
   ],
   "source": [
    "data_new.describe()"
   ]
  },
  {
   "cell_type": "code",
   "execution_count": 479,
   "metadata": {
    "id": "f9TsAxZhmX55"
   },
   "outputs": [],
   "source": [
    "data_new= data_new.drop(\"cid\",axis=1) # As this column is just for indications"
   ]
  },
  {
   "cell_type": "code",
   "execution_count": 480,
   "metadata": {},
   "outputs": [
    {
     "data": {
      "text/plain": [
       "dayhours              0\n",
       "price                 0\n",
       "room_bed              0\n",
       "room_bath             0\n",
       "living_measure      578\n",
       "ceil                  0\n",
       "coast                 0\n",
       "sight                 0\n",
       "condition             0\n",
       "quality               0\n",
       "ceil_measure          0\n",
       "basement              0\n",
       "yr_renovated          0\n",
       "zipcode               0\n",
       "lat                   0\n",
       "long                  0\n",
       "living_measure15      0\n",
       "furnished             0\n",
       "total_area            0\n",
       "month_year            0\n",
       "dtype: int64"
      ]
     },
     "execution_count": 480,
     "metadata": {},
     "output_type": "execute_result"
    }
   ],
   "source": [
    "data_new.isnull().sum()"
   ]
  },
  {
   "cell_type": "code",
   "execution_count": 481,
   "metadata": {
    "id": "ctEp-4l2hcHp"
   },
   "outputs": [],
   "source": [
    "data_new= data_new.drop(\"dayhours\",axis=1) # As this column has very poor correlation"
   ]
  },
  {
   "cell_type": "code",
   "execution_count": 482,
   "metadata": {},
   "outputs": [],
   "source": [
    "data_new = data_new.dropna(axis = 0, how ='any')"
   ]
  },
  {
   "cell_type": "code",
   "execution_count": 483,
   "metadata": {},
   "outputs": [
    {
     "data": {
      "text/html": [
       "<div>\n",
       "<style scoped>\n",
       "    .dataframe tbody tr th:only-of-type {\n",
       "        vertical-align: middle;\n",
       "    }\n",
       "\n",
       "    .dataframe tbody tr th {\n",
       "        vertical-align: top;\n",
       "    }\n",
       "\n",
       "    .dataframe thead th {\n",
       "        text-align: right;\n",
       "    }\n",
       "</style>\n",
       "<table border=\"1\" class=\"dataframe\">\n",
       "  <thead>\n",
       "    <tr style=\"text-align: right;\">\n",
       "      <th></th>\n",
       "      <th>price</th>\n",
       "      <th>room_bed</th>\n",
       "      <th>room_bath</th>\n",
       "      <th>ceil</th>\n",
       "      <th>coast</th>\n",
       "      <th>sight</th>\n",
       "      <th>condition</th>\n",
       "      <th>quality</th>\n",
       "      <th>ceil_measure</th>\n",
       "      <th>basement</th>\n",
       "      <th>yr_renovated</th>\n",
       "      <th>zipcode</th>\n",
       "      <th>lat</th>\n",
       "      <th>long</th>\n",
       "      <th>living_measure15</th>\n",
       "      <th>furnished</th>\n",
       "      <th>total_area</th>\n",
       "    </tr>\n",
       "  </thead>\n",
       "  <tbody>\n",
       "    <tr>\n",
       "      <th>count</th>\n",
       "      <td>2.084700e+04</td>\n",
       "      <td>20847.000000</td>\n",
       "      <td>20847.000000</td>\n",
       "      <td>20847.000000</td>\n",
       "      <td>20847.000000</td>\n",
       "      <td>20847.000000</td>\n",
       "      <td>20847.000000</td>\n",
       "      <td>20847.000000</td>\n",
       "      <td>20847.000000</td>\n",
       "      <td>20847.000000</td>\n",
       "      <td>20847.000000</td>\n",
       "      <td>20847.000000</td>\n",
       "      <td>20847.000000</td>\n",
       "      <td>20847.000000</td>\n",
       "      <td>20847.000000</td>\n",
       "      <td>20847.000000</td>\n",
       "      <td>2.084700e+04</td>\n",
       "    </tr>\n",
       "    <tr>\n",
       "      <th>mean</th>\n",
       "      <td>5.102916e+05</td>\n",
       "      <td>3.336163</td>\n",
       "      <td>2.070574</td>\n",
       "      <td>1.483955</td>\n",
       "      <td>0.006140</td>\n",
       "      <td>0.208807</td>\n",
       "      <td>3.413441</td>\n",
       "      <td>7.584305</td>\n",
       "      <td>1726.767688</td>\n",
       "      <td>273.018276</td>\n",
       "      <td>0.041589</td>\n",
       "      <td>98078.472538</td>\n",
       "      <td>47.559301</td>\n",
       "      <td>-122.215273</td>\n",
       "      <td>1946.544539</td>\n",
       "      <td>0.176476</td>\n",
       "      <td>1.638814e+04</td>\n",
       "    </tr>\n",
       "    <tr>\n",
       "      <th>std</th>\n",
       "      <td>2.830056e+05</td>\n",
       "      <td>0.877134</td>\n",
       "      <td>0.712437</td>\n",
       "      <td>0.538786</td>\n",
       "      <td>0.078119</td>\n",
       "      <td>0.718916</td>\n",
       "      <td>0.651037</td>\n",
       "      <td>1.077706</td>\n",
       "      <td>724.131590</td>\n",
       "      <td>411.188691</td>\n",
       "      <td>0.199652</td>\n",
       "      <td>53.476069</td>\n",
       "      <td>0.139523</td>\n",
       "      <td>0.140888</td>\n",
       "      <td>630.085972</td>\n",
       "      <td>0.381234</td>\n",
       "      <td>3.982424e+04</td>\n",
       "    </tr>\n",
       "    <tr>\n",
       "      <th>min</th>\n",
       "      <td>7.500000e+04</td>\n",
       "      <td>0.000000</td>\n",
       "      <td>0.000000</td>\n",
       "      <td>1.000000</td>\n",
       "      <td>0.000000</td>\n",
       "      <td>0.000000</td>\n",
       "      <td>1.000000</td>\n",
       "      <td>1.000000</td>\n",
       "      <td>290.000000</td>\n",
       "      <td>0.000000</td>\n",
       "      <td>0.000000</td>\n",
       "      <td>98001.000000</td>\n",
       "      <td>47.155900</td>\n",
       "      <td>-122.519000</td>\n",
       "      <td>399.000000</td>\n",
       "      <td>0.000000</td>\n",
       "      <td>1.423000e+03</td>\n",
       "    </tr>\n",
       "    <tr>\n",
       "      <th>25%</th>\n",
       "      <td>3.200000e+05</td>\n",
       "      <td>3.000000</td>\n",
       "      <td>1.500000</td>\n",
       "      <td>1.000000</td>\n",
       "      <td>0.000000</td>\n",
       "      <td>0.000000</td>\n",
       "      <td>3.000000</td>\n",
       "      <td>7.000000</td>\n",
       "      <td>1180.000000</td>\n",
       "      <td>0.000000</td>\n",
       "      <td>0.000000</td>\n",
       "      <td>98033.000000</td>\n",
       "      <td>47.467250</td>\n",
       "      <td>-122.330000</td>\n",
       "      <td>1480.000000</td>\n",
       "      <td>0.000000</td>\n",
       "      <td>6.950500e+03</td>\n",
       "    </tr>\n",
       "    <tr>\n",
       "      <th>50%</th>\n",
       "      <td>4.450000e+05</td>\n",
       "      <td>3.000000</td>\n",
       "      <td>2.250000</td>\n",
       "      <td>1.000000</td>\n",
       "      <td>0.000000</td>\n",
       "      <td>0.000000</td>\n",
       "      <td>3.000000</td>\n",
       "      <td>7.000000</td>\n",
       "      <td>1540.000000</td>\n",
       "      <td>0.000000</td>\n",
       "      <td>0.000000</td>\n",
       "      <td>98065.000000</td>\n",
       "      <td>47.571000</td>\n",
       "      <td>-122.234000</td>\n",
       "      <td>1820.000000</td>\n",
       "      <td>0.000000</td>\n",
       "      <td>9.455000e+03</td>\n",
       "    </tr>\n",
       "    <tr>\n",
       "      <th>75%</th>\n",
       "      <td>6.250000e+05</td>\n",
       "      <td>4.000000</td>\n",
       "      <td>2.500000</td>\n",
       "      <td>2.000000</td>\n",
       "      <td>0.000000</td>\n",
       "      <td>0.000000</td>\n",
       "      <td>4.000000</td>\n",
       "      <td>8.000000</td>\n",
       "      <td>2142.500000</td>\n",
       "      <td>530.000000</td>\n",
       "      <td>0.000000</td>\n",
       "      <td>98118.000000</td>\n",
       "      <td>47.678800</td>\n",
       "      <td>-122.126500</td>\n",
       "      <td>2320.000000</td>\n",
       "      <td>0.000000</td>\n",
       "      <td>1.260600e+04</td>\n",
       "    </tr>\n",
       "    <tr>\n",
       "      <th>max</th>\n",
       "      <td>3.300000e+06</td>\n",
       "      <td>8.000000</td>\n",
       "      <td>5.750000</td>\n",
       "      <td>3.500000</td>\n",
       "      <td>1.000000</td>\n",
       "      <td>4.000000</td>\n",
       "      <td>5.000000</td>\n",
       "      <td>12.000000</td>\n",
       "      <td>4225.000000</td>\n",
       "      <td>2150.000000</td>\n",
       "      <td>1.000000</td>\n",
       "      <td>98199.000000</td>\n",
       "      <td>47.777600</td>\n",
       "      <td>-121.315000</td>\n",
       "      <td>5790.000000</td>\n",
       "      <td>1.000000</td>\n",
       "      <td>1.652659e+06</td>\n",
       "    </tr>\n",
       "  </tbody>\n",
       "</table>\n",
       "</div>"
      ],
      "text/plain": [
       "              price      room_bed     room_bath          ceil         coast  \\\n",
       "count  2.084700e+04  20847.000000  20847.000000  20847.000000  20847.000000   \n",
       "mean   5.102916e+05      3.336163      2.070574      1.483955      0.006140   \n",
       "std    2.830056e+05      0.877134      0.712437      0.538786      0.078119   \n",
       "min    7.500000e+04      0.000000      0.000000      1.000000      0.000000   \n",
       "25%    3.200000e+05      3.000000      1.500000      1.000000      0.000000   \n",
       "50%    4.450000e+05      3.000000      2.250000      1.000000      0.000000   \n",
       "75%    6.250000e+05      4.000000      2.500000      2.000000      0.000000   \n",
       "max    3.300000e+06      8.000000      5.750000      3.500000      1.000000   \n",
       "\n",
       "              sight     condition       quality  ceil_measure      basement  \\\n",
       "count  20847.000000  20847.000000  20847.000000  20847.000000  20847.000000   \n",
       "mean       0.208807      3.413441      7.584305   1726.767688    273.018276   \n",
       "std        0.718916      0.651037      1.077706    724.131590    411.188691   \n",
       "min        0.000000      1.000000      1.000000    290.000000      0.000000   \n",
       "25%        0.000000      3.000000      7.000000   1180.000000      0.000000   \n",
       "50%        0.000000      3.000000      7.000000   1540.000000      0.000000   \n",
       "75%        0.000000      4.000000      8.000000   2142.500000    530.000000   \n",
       "max        4.000000      5.000000     12.000000   4225.000000   2150.000000   \n",
       "\n",
       "       yr_renovated       zipcode           lat          long  \\\n",
       "count  20847.000000  20847.000000  20847.000000  20847.000000   \n",
       "mean       0.041589  98078.472538     47.559301   -122.215273   \n",
       "std        0.199652     53.476069      0.139523      0.140888   \n",
       "min        0.000000  98001.000000     47.155900   -122.519000   \n",
       "25%        0.000000  98033.000000     47.467250   -122.330000   \n",
       "50%        0.000000  98065.000000     47.571000   -122.234000   \n",
       "75%        0.000000  98118.000000     47.678800   -122.126500   \n",
       "max        1.000000  98199.000000     47.777600   -121.315000   \n",
       "\n",
       "       living_measure15     furnished    total_area  \n",
       "count      20847.000000  20847.000000  2.084700e+04  \n",
       "mean        1946.544539      0.176476  1.638814e+04  \n",
       "std          630.085972      0.381234  3.982424e+04  \n",
       "min          399.000000      0.000000  1.423000e+03  \n",
       "25%         1480.000000      0.000000  6.950500e+03  \n",
       "50%         1820.000000      0.000000  9.455000e+03  \n",
       "75%         2320.000000      0.000000  1.260600e+04  \n",
       "max         5790.000000      1.000000  1.652659e+06  "
      ]
     },
     "execution_count": 483,
     "metadata": {},
     "output_type": "execute_result"
    }
   ],
   "source": [
    "data_new.describe()"
   ]
  },
  {
   "cell_type": "code",
   "execution_count": 484,
   "metadata": {
    "colab": {
     "base_uri": "https://localhost:8080/"
    },
    "id": "lF1dMi3WRHxN",
    "outputId": "34918da3-b1e9-42f9-8163-a036bf3708cd"
   },
   "outputs": [
    {
     "data": {
      "text/plain": [
       "Index(['price', 'room_bed', 'room_bath', 'living_measure', 'ceil', 'coast',\n",
       "       'sight', 'condition', 'quality', 'ceil_measure', 'basement',\n",
       "       'yr_renovated', 'zipcode', 'lat', 'long', 'living_measure15',\n",
       "       'furnished', 'total_area', 'month_year'],\n",
       "      dtype='object')"
      ]
     },
     "execution_count": 484,
     "metadata": {},
     "output_type": "execute_result"
    }
   ],
   "source": [
    "data_new.columns"
   ]
  },
  {
   "cell_type": "code",
   "execution_count": 485,
   "metadata": {},
   "outputs": [
    {
     "data": {
      "text/html": [
       "<div>\n",
       "<style scoped>\n",
       "    .dataframe tbody tr th:only-of-type {\n",
       "        vertical-align: middle;\n",
       "    }\n",
       "\n",
       "    .dataframe tbody tr th {\n",
       "        vertical-align: top;\n",
       "    }\n",
       "\n",
       "    .dataframe thead th {\n",
       "        text-align: right;\n",
       "    }\n",
       "</style>\n",
       "<table border=\"1\" class=\"dataframe\">\n",
       "  <thead>\n",
       "    <tr style=\"text-align: right;\">\n",
       "      <th></th>\n",
       "      <th>price</th>\n",
       "      <th>room_bed</th>\n",
       "      <th>room_bath</th>\n",
       "      <th>living_measure</th>\n",
       "      <th>ceil</th>\n",
       "      <th>coast</th>\n",
       "      <th>sight</th>\n",
       "      <th>condition</th>\n",
       "      <th>quality</th>\n",
       "      <th>ceil_measure</th>\n",
       "      <th>basement</th>\n",
       "      <th>yr_renovated</th>\n",
       "      <th>zipcode</th>\n",
       "      <th>lat</th>\n",
       "      <th>long</th>\n",
       "      <th>living_measure15</th>\n",
       "      <th>furnished</th>\n",
       "      <th>total_area</th>\n",
       "      <th>month_year</th>\n",
       "    </tr>\n",
       "  </thead>\n",
       "  <tbody>\n",
       "    <tr>\n",
       "      <th>0</th>\n",
       "      <td>808100</td>\n",
       "      <td>4</td>\n",
       "      <td>3.25</td>\n",
       "      <td>3034200666.0</td>\n",
       "      <td>1.0</td>\n",
       "      <td>0</td>\n",
       "      <td>0</td>\n",
       "      <td>5</td>\n",
       "      <td>9</td>\n",
       "      <td>3020</td>\n",
       "      <td>0</td>\n",
       "      <td>0</td>\n",
       "      <td>98133</td>\n",
       "      <td>47.7174</td>\n",
       "      <td>-122.336</td>\n",
       "      <td>2120</td>\n",
       "      <td>1</td>\n",
       "      <td>16477</td>\n",
       "      <td>November-2014</td>\n",
       "    </tr>\n",
       "    <tr>\n",
       "      <th>1</th>\n",
       "      <td>277500</td>\n",
       "      <td>4</td>\n",
       "      <td>2.50</td>\n",
       "      <td>8731981640.0</td>\n",
       "      <td>1.0</td>\n",
       "      <td>0</td>\n",
       "      <td>0</td>\n",
       "      <td>3</td>\n",
       "      <td>8</td>\n",
       "      <td>1750</td>\n",
       "      <td>800</td>\n",
       "      <td>0</td>\n",
       "      <td>98023</td>\n",
       "      <td>47.3165</td>\n",
       "      <td>-122.386</td>\n",
       "      <td>2260</td>\n",
       "      <td>0</td>\n",
       "      <td>10050</td>\n",
       "      <td>December-2014</td>\n",
       "    </tr>\n",
       "  </tbody>\n",
       "</table>\n",
       "</div>"
      ],
      "text/plain": [
       "    price  room_bed  room_bath living_measure  ceil  coast  sight  condition  \\\n",
       "0  808100         4       3.25   3034200666.0   1.0      0      0          5   \n",
       "1  277500         4       2.50   8731981640.0   1.0      0      0          3   \n",
       "\n",
       "   quality  ceil_measure  basement  yr_renovated  zipcode      lat     long  \\\n",
       "0        9          3020         0             0    98133  47.7174 -122.336   \n",
       "1        8          1750       800             0    98023  47.3165 -122.386   \n",
       "\n",
       "   living_measure15  furnished  total_area     month_year  \n",
       "0              2120          1       16477  November-2014  \n",
       "1              2260          0       10050  December-2014  "
      ]
     },
     "execution_count": 485,
     "metadata": {},
     "output_type": "execute_result"
    }
   ],
   "source": [
    "data_new.head(2)"
   ]
  },
  {
   "cell_type": "code",
   "execution_count": 486,
   "metadata": {
    "colab": {
     "base_uri": "https://localhost:8080/"
    },
    "id": "t79f3rcNibDi",
    "outputId": "93b9ca20-da55-4167-84a1-b23e67db01fc"
   },
   "outputs": [
    {
     "data": {
      "text/plain": [
       "Index(['cid', 'dayhours', 'price', 'room_bed', 'room_bath', 'living_measure',\n",
       "       'lot_measure', 'ceil', 'coast', 'sight', 'condition', 'quality',\n",
       "       'ceil_measure', 'basement', 'yr_built', 'yr_renovated', 'zipcode',\n",
       "       'lat', 'long', 'living_measure15', 'lot_measure15', 'furnished',\n",
       "       'total_area'],\n",
       "      dtype='object')"
      ]
     },
     "execution_count": 486,
     "metadata": {},
     "output_type": "execute_result"
    }
   ],
   "source": [
    "data.columns"
   ]
  },
  {
   "cell_type": "code",
   "execution_count": 487,
   "metadata": {
    "id": "O1d7OnJbXF0v"
   },
   "outputs": [],
   "source": [
    "##We need to convert month_year column to some specific dummy"
   ]
  },
  {
   "cell_type": "code",
   "execution_count": 488,
   "metadata": {
    "id": "UBiM-jPgMEgZ"
   },
   "outputs": [],
   "source": [
    "#data_new= data_new.drop(\"month_year\",axis=1) # As this column has very poor correlation"
   ]
  },
  {
   "cell_type": "code",
   "execution_count": 489,
   "metadata": {},
   "outputs": [
    {
     "data": {
      "text/html": [
       "<div>\n",
       "<style scoped>\n",
       "    .dataframe tbody tr th:only-of-type {\n",
       "        vertical-align: middle;\n",
       "    }\n",
       "\n",
       "    .dataframe tbody tr th {\n",
       "        vertical-align: top;\n",
       "    }\n",
       "\n",
       "    .dataframe thead th {\n",
       "        text-align: right;\n",
       "    }\n",
       "</style>\n",
       "<table border=\"1\" class=\"dataframe\">\n",
       "  <thead>\n",
       "    <tr style=\"text-align: right;\">\n",
       "      <th></th>\n",
       "      <th>price</th>\n",
       "      <th>room_bed</th>\n",
       "      <th>room_bath</th>\n",
       "      <th>living_measure</th>\n",
       "      <th>ceil</th>\n",
       "      <th>coast</th>\n",
       "      <th>sight</th>\n",
       "      <th>condition</th>\n",
       "      <th>quality</th>\n",
       "      <th>ceil_measure</th>\n",
       "      <th>basement</th>\n",
       "      <th>yr_renovated</th>\n",
       "      <th>zipcode</th>\n",
       "      <th>lat</th>\n",
       "      <th>long</th>\n",
       "      <th>living_measure15</th>\n",
       "      <th>furnished</th>\n",
       "      <th>total_area</th>\n",
       "      <th>month_year</th>\n",
       "    </tr>\n",
       "  </thead>\n",
       "  <tbody>\n",
       "    <tr>\n",
       "      <th>0</th>\n",
       "      <td>808100</td>\n",
       "      <td>4</td>\n",
       "      <td>3.25</td>\n",
       "      <td>3034200666.0</td>\n",
       "      <td>1.0</td>\n",
       "      <td>0</td>\n",
       "      <td>0</td>\n",
       "      <td>5</td>\n",
       "      <td>9</td>\n",
       "      <td>3020</td>\n",
       "      <td>0</td>\n",
       "      <td>0</td>\n",
       "      <td>98133</td>\n",
       "      <td>47.7174</td>\n",
       "      <td>-122.336</td>\n",
       "      <td>2120</td>\n",
       "      <td>1</td>\n",
       "      <td>16477</td>\n",
       "      <td>November-2014</td>\n",
       "    </tr>\n",
       "    <tr>\n",
       "      <th>1</th>\n",
       "      <td>277500</td>\n",
       "      <td>4</td>\n",
       "      <td>2.50</td>\n",
       "      <td>8731981640.0</td>\n",
       "      <td>1.0</td>\n",
       "      <td>0</td>\n",
       "      <td>0</td>\n",
       "      <td>3</td>\n",
       "      <td>8</td>\n",
       "      <td>1750</td>\n",
       "      <td>800</td>\n",
       "      <td>0</td>\n",
       "      <td>98023</td>\n",
       "      <td>47.3165</td>\n",
       "      <td>-122.386</td>\n",
       "      <td>2260</td>\n",
       "      <td>0</td>\n",
       "      <td>10050</td>\n",
       "      <td>December-2014</td>\n",
       "    </tr>\n",
       "  </tbody>\n",
       "</table>\n",
       "</div>"
      ],
      "text/plain": [
       "    price  room_bed  room_bath living_measure  ceil  coast  sight  condition  \\\n",
       "0  808100         4       3.25   3034200666.0   1.0      0      0          5   \n",
       "1  277500         4       2.50   8731981640.0   1.0      0      0          3   \n",
       "\n",
       "   quality  ceil_measure  basement  yr_renovated  zipcode      lat     long  \\\n",
       "0        9          3020         0             0    98133  47.7174 -122.336   \n",
       "1        8          1750       800             0    98023  47.3165 -122.386   \n",
       "\n",
       "   living_measure15  furnished  total_area     month_year  \n",
       "0              2120          1       16477  November-2014  \n",
       "1              2260          0       10050  December-2014  "
      ]
     },
     "execution_count": 489,
     "metadata": {},
     "output_type": "execute_result"
    }
   ],
   "source": [
    "data_new.head(2)"
   ]
  },
  {
   "cell_type": "markdown",
   "metadata": {},
   "source": [
    "from sklearn.preprocessing import LabelEncoder   \n",
    "le = LabelEncoder() \n",
    "data_new['zipcode'] = le.fit_transform(data_new['zipcode']) "
   ]
  },
  {
   "cell_type": "code",
   "execution_count": 490,
   "metadata": {},
   "outputs": [
    {
     "data": {
      "text/html": [
       "<div>\n",
       "<style scoped>\n",
       "    .dataframe tbody tr th:only-of-type {\n",
       "        vertical-align: middle;\n",
       "    }\n",
       "\n",
       "    .dataframe tbody tr th {\n",
       "        vertical-align: top;\n",
       "    }\n",
       "\n",
       "    .dataframe thead th {\n",
       "        text-align: right;\n",
       "    }\n",
       "</style>\n",
       "<table border=\"1\" class=\"dataframe\">\n",
       "  <thead>\n",
       "    <tr style=\"text-align: right;\">\n",
       "      <th></th>\n",
       "      <th>price</th>\n",
       "      <th>room_bed</th>\n",
       "      <th>room_bath</th>\n",
       "      <th>living_measure</th>\n",
       "      <th>ceil</th>\n",
       "      <th>coast</th>\n",
       "      <th>sight</th>\n",
       "      <th>condition</th>\n",
       "      <th>quality</th>\n",
       "      <th>ceil_measure</th>\n",
       "      <th>basement</th>\n",
       "      <th>yr_renovated</th>\n",
       "      <th>zipcode</th>\n",
       "      <th>lat</th>\n",
       "      <th>long</th>\n",
       "      <th>living_measure15</th>\n",
       "      <th>furnished</th>\n",
       "      <th>total_area</th>\n",
       "      <th>month_year</th>\n",
       "    </tr>\n",
       "  </thead>\n",
       "  <tbody>\n",
       "    <tr>\n",
       "      <th>0</th>\n",
       "      <td>808100</td>\n",
       "      <td>4</td>\n",
       "      <td>3.25</td>\n",
       "      <td>3034200666.0</td>\n",
       "      <td>1.0</td>\n",
       "      <td>0</td>\n",
       "      <td>0</td>\n",
       "      <td>5</td>\n",
       "      <td>9</td>\n",
       "      <td>3020</td>\n",
       "      <td>0</td>\n",
       "      <td>0</td>\n",
       "      <td>57.0</td>\n",
       "      <td>47.7174</td>\n",
       "      <td>-122.336</td>\n",
       "      <td>2120</td>\n",
       "      <td>1</td>\n",
       "      <td>16477</td>\n",
       "      <td>November-2014</td>\n",
       "    </tr>\n",
       "    <tr>\n",
       "      <th>1</th>\n",
       "      <td>277500</td>\n",
       "      <td>4</td>\n",
       "      <td>2.50</td>\n",
       "      <td>8731981640.0</td>\n",
       "      <td>1.0</td>\n",
       "      <td>0</td>\n",
       "      <td>0</td>\n",
       "      <td>3</td>\n",
       "      <td>8</td>\n",
       "      <td>1750</td>\n",
       "      <td>800</td>\n",
       "      <td>0</td>\n",
       "      <td>13.0</td>\n",
       "      <td>47.3165</td>\n",
       "      <td>-122.386</td>\n",
       "      <td>2260</td>\n",
       "      <td>0</td>\n",
       "      <td>10050</td>\n",
       "      <td>December-2014</td>\n",
       "    </tr>\n",
       "    <tr>\n",
       "      <th>2</th>\n",
       "      <td>404000</td>\n",
       "      <td>3</td>\n",
       "      <td>2.50</td>\n",
       "      <td>5104530220.0</td>\n",
       "      <td>2.0</td>\n",
       "      <td>0</td>\n",
       "      <td>0</td>\n",
       "      <td>3</td>\n",
       "      <td>8</td>\n",
       "      <td>2370</td>\n",
       "      <td>0</td>\n",
       "      <td>0</td>\n",
       "      <td>23.0</td>\n",
       "      <td>47.3515</td>\n",
       "      <td>-121.999</td>\n",
       "      <td>2370</td>\n",
       "      <td>0</td>\n",
       "      <td>6694</td>\n",
       "      <td>April-2015</td>\n",
       "    </tr>\n",
       "    <tr>\n",
       "      <th>3</th>\n",
       "      <td>300000</td>\n",
       "      <td>2</td>\n",
       "      <td>1.00</td>\n",
       "      <td>6145600285.0</td>\n",
       "      <td>1.0</td>\n",
       "      <td>0</td>\n",
       "      <td>0</td>\n",
       "      <td>4</td>\n",
       "      <td>6</td>\n",
       "      <td>820</td>\n",
       "      <td>0</td>\n",
       "      <td>0</td>\n",
       "      <td>57.0</td>\n",
       "      <td>47.7049</td>\n",
       "      <td>-122.349</td>\n",
       "      <td>1520</td>\n",
       "      <td>0</td>\n",
       "      <td>4664</td>\n",
       "      <td>May-2014</td>\n",
       "    </tr>\n",
       "    <tr>\n",
       "      <th>4</th>\n",
       "      <td>699000</td>\n",
       "      <td>2</td>\n",
       "      <td>1.50</td>\n",
       "      <td>8924100111.0</td>\n",
       "      <td>1.0</td>\n",
       "      <td>0</td>\n",
       "      <td>0</td>\n",
       "      <td>4</td>\n",
       "      <td>8</td>\n",
       "      <td>1400</td>\n",
       "      <td>0</td>\n",
       "      <td>0</td>\n",
       "      <td>49.0</td>\n",
       "      <td>47.6768</td>\n",
       "      <td>-122.269</td>\n",
       "      <td>1900</td>\n",
       "      <td>0</td>\n",
       "      <td>5450</td>\n",
       "      <td>April-2015</td>\n",
       "    </tr>\n",
       "    <tr>\n",
       "      <th>5</th>\n",
       "      <td>585000</td>\n",
       "      <td>3</td>\n",
       "      <td>2.50</td>\n",
       "      <td>5525400430.0</td>\n",
       "      <td>2.0</td>\n",
       "      <td>0</td>\n",
       "      <td>0</td>\n",
       "      <td>4</td>\n",
       "      <td>9</td>\n",
       "      <td>2050</td>\n",
       "      <td>0</td>\n",
       "      <td>0</td>\n",
       "      <td>33.0</td>\n",
       "      <td>47.5279</td>\n",
       "      <td>-122.161</td>\n",
       "      <td>2410</td>\n",
       "      <td>1</td>\n",
       "      <td>13740</td>\n",
       "      <td>July-2014</td>\n",
       "    </tr>\n",
       "    <tr>\n",
       "      <th>6</th>\n",
       "      <td>465000</td>\n",
       "      <td>3</td>\n",
       "      <td>1.75</td>\n",
       "      <td>2419600075.0</td>\n",
       "      <td>1.0</td>\n",
       "      <td>0</td>\n",
       "      <td>0</td>\n",
       "      <td>3</td>\n",
       "      <td>7</td>\n",
       "      <td>1480</td>\n",
       "      <td>0</td>\n",
       "      <td>0</td>\n",
       "      <td>57.0</td>\n",
       "      <td>47.7311</td>\n",
       "      <td>-122.353</td>\n",
       "      <td>1480</td>\n",
       "      <td>0</td>\n",
       "      <td>7840</td>\n",
       "      <td>December-2014</td>\n",
       "    </tr>\n",
       "    <tr>\n",
       "      <th>7</th>\n",
       "      <td>480000</td>\n",
       "      <td>3</td>\n",
       "      <td>1.50</td>\n",
       "      <td>114101161.0</td>\n",
       "      <td>1.0</td>\n",
       "      <td>0</td>\n",
       "      <td>0</td>\n",
       "      <td>4</td>\n",
       "      <td>7</td>\n",
       "      <td>1220</td>\n",
       "      <td>880</td>\n",
       "      <td>0</td>\n",
       "      <td>16.0</td>\n",
       "      <td>47.7592</td>\n",
       "      <td>-122.230</td>\n",
       "      <td>1610</td>\n",
       "      <td>0</td>\n",
       "      <td>69369</td>\n",
       "      <td>August-2014</td>\n",
       "    </tr>\n",
       "    <tr>\n",
       "      <th>8</th>\n",
       "      <td>780000</td>\n",
       "      <td>4</td>\n",
       "      <td>2.00</td>\n",
       "      <td>7011201550.0</td>\n",
       "      <td>1.0</td>\n",
       "      <td>0</td>\n",
       "      <td>2</td>\n",
       "      <td>3</td>\n",
       "      <td>8</td>\n",
       "      <td>1400</td>\n",
       "      <td>1200</td>\n",
       "      <td>0</td>\n",
       "      <td>53.0</td>\n",
       "      <td>47.6370</td>\n",
       "      <td>-122.371</td>\n",
       "      <td>2050</td>\n",
       "      <td>0</td>\n",
       "      <td>7400</td>\n",
       "      <td>July-2014</td>\n",
       "    </tr>\n",
       "    <tr>\n",
       "      <th>9</th>\n",
       "      <td>215000</td>\n",
       "      <td>4</td>\n",
       "      <td>1.00</td>\n",
       "      <td>7203000640.0</td>\n",
       "      <td>1.0</td>\n",
       "      <td>0</td>\n",
       "      <td>0</td>\n",
       "      <td>4</td>\n",
       "      <td>7</td>\n",
       "      <td>1130</td>\n",
       "      <td>0</td>\n",
       "      <td>0</td>\n",
       "      <td>2.0</td>\n",
       "      <td>47.3437</td>\n",
       "      <td>-122.316</td>\n",
       "      <td>1540</td>\n",
       "      <td>0</td>\n",
       "      <td>8530</td>\n",
       "      <td>September-2014</td>\n",
       "    </tr>\n",
       "  </tbody>\n",
       "</table>\n",
       "</div>"
      ],
      "text/plain": [
       "    price  room_bed  room_bath living_measure  ceil  coast  sight  condition  \\\n",
       "0  808100         4       3.25   3034200666.0   1.0      0      0          5   \n",
       "1  277500         4       2.50   8731981640.0   1.0      0      0          3   \n",
       "2  404000         3       2.50   5104530220.0   2.0      0      0          3   \n",
       "3  300000         2       1.00   6145600285.0   1.0      0      0          4   \n",
       "4  699000         2       1.50   8924100111.0   1.0      0      0          4   \n",
       "5  585000         3       2.50   5525400430.0   2.0      0      0          4   \n",
       "6  465000         3       1.75   2419600075.0   1.0      0      0          3   \n",
       "7  480000         3       1.50    114101161.0   1.0      0      0          4   \n",
       "8  780000         4       2.00   7011201550.0   1.0      0      2          3   \n",
       "9  215000         4       1.00   7203000640.0   1.0      0      0          4   \n",
       "\n",
       "   quality  ceil_measure  basement  yr_renovated  zipcode      lat     long  \\\n",
       "0        9          3020         0             0     57.0  47.7174 -122.336   \n",
       "1        8          1750       800             0     13.0  47.3165 -122.386   \n",
       "2        8          2370         0             0     23.0  47.3515 -121.999   \n",
       "3        6           820         0             0     57.0  47.7049 -122.349   \n",
       "4        8          1400         0             0     49.0  47.6768 -122.269   \n",
       "5        9          2050         0             0     33.0  47.5279 -122.161   \n",
       "6        7          1480         0             0     57.0  47.7311 -122.353   \n",
       "7        7          1220       880             0     16.0  47.7592 -122.230   \n",
       "8        8          1400      1200             0     53.0  47.6370 -122.371   \n",
       "9        7          1130         0             0      2.0  47.3437 -122.316   \n",
       "\n",
       "   living_measure15  furnished  total_area      month_year  \n",
       "0              2120          1       16477   November-2014  \n",
       "1              2260          0       10050   December-2014  \n",
       "2              2370          0        6694      April-2015  \n",
       "3              1520          0        4664        May-2014  \n",
       "4              1900          0        5450      April-2015  \n",
       "5              2410          1       13740       July-2014  \n",
       "6              1480          0        7840   December-2014  \n",
       "7              1610          0       69369     August-2014  \n",
       "8              2050          0        7400       July-2014  \n",
       "9              1540          0        8530  September-2014  "
      ]
     },
     "execution_count": 490,
     "metadata": {},
     "output_type": "execute_result"
    }
   ],
   "source": [
    "from sklearn.preprocessing import OrdinalEncoder \n",
    "ord1 = OrdinalEncoder() \n",
    "# fitting encoder \n",
    "ord1.fit([data_new['zipcode']]) \n",
    "# tranforming the column after fitting \n",
    "data_new[\"zipcode\"]= ord1.fit_transform(data_new[[\"zipcode\"]])  \n",
    "data_new.head(10)"
   ]
  },
  {
   "cell_type": "code",
   "execution_count": 491,
   "metadata": {},
   "outputs": [
    {
     "data": {
      "text/plain": [
       "Index(['price', 'room_bed', 'room_bath', 'living_measure', 'ceil', 'coast',\n",
       "       'sight', 'condition', 'quality', 'ceil_measure', 'basement',\n",
       "       'yr_renovated', 'zipcode', 'lat', 'long', 'living_measure15',\n",
       "       'furnished', 'total_area', 'month_year'],\n",
       "      dtype='object')"
      ]
     },
     "execution_count": 491,
     "metadata": {},
     "output_type": "execute_result"
    }
   ],
   "source": [
    "data_new.columns"
   ]
  },
  {
   "cell_type": "code",
   "execution_count": 492,
   "metadata": {},
   "outputs": [
    {
     "data": {
      "text/html": [
       "<div>\n",
       "<style scoped>\n",
       "    .dataframe tbody tr th:only-of-type {\n",
       "        vertical-align: middle;\n",
       "    }\n",
       "\n",
       "    .dataframe tbody tr th {\n",
       "        vertical-align: top;\n",
       "    }\n",
       "\n",
       "    .dataframe thead th {\n",
       "        text-align: right;\n",
       "    }\n",
       "</style>\n",
       "<table border=\"1\" class=\"dataframe\">\n",
       "  <thead>\n",
       "    <tr style=\"text-align: right;\">\n",
       "      <th></th>\n",
       "      <th>price</th>\n",
       "      <th>room_bed</th>\n",
       "      <th>room_bath</th>\n",
       "      <th>living_measure</th>\n",
       "      <th>ceil</th>\n",
       "      <th>coast</th>\n",
       "      <th>sight</th>\n",
       "      <th>condition</th>\n",
       "      <th>quality</th>\n",
       "      <th>ceil_measure</th>\n",
       "      <th>basement</th>\n",
       "      <th>yr_renovated</th>\n",
       "      <th>zipcode</th>\n",
       "      <th>lat</th>\n",
       "      <th>long</th>\n",
       "      <th>living_measure15</th>\n",
       "      <th>furnished</th>\n",
       "      <th>total_area</th>\n",
       "      <th>month_year</th>\n",
       "    </tr>\n",
       "  </thead>\n",
       "  <tbody>\n",
       "    <tr>\n",
       "      <th>0</th>\n",
       "      <td>808100</td>\n",
       "      <td>4</td>\n",
       "      <td>3.25</td>\n",
       "      <td>3034200666.0</td>\n",
       "      <td>1.0</td>\n",
       "      <td>0</td>\n",
       "      <td>0</td>\n",
       "      <td>5</td>\n",
       "      <td>9</td>\n",
       "      <td>3020</td>\n",
       "      <td>0</td>\n",
       "      <td>0</td>\n",
       "      <td>57.0</td>\n",
       "      <td>47.7174</td>\n",
       "      <td>-122.336</td>\n",
       "      <td>2120</td>\n",
       "      <td>1</td>\n",
       "      <td>16477</td>\n",
       "      <td>November-2014</td>\n",
       "    </tr>\n",
       "    <tr>\n",
       "      <th>1</th>\n",
       "      <td>277500</td>\n",
       "      <td>4</td>\n",
       "      <td>2.50</td>\n",
       "      <td>8731981640.0</td>\n",
       "      <td>1.0</td>\n",
       "      <td>0</td>\n",
       "      <td>0</td>\n",
       "      <td>3</td>\n",
       "      <td>8</td>\n",
       "      <td>1750</td>\n",
       "      <td>800</td>\n",
       "      <td>0</td>\n",
       "      <td>13.0</td>\n",
       "      <td>47.3165</td>\n",
       "      <td>-122.386</td>\n",
       "      <td>2260</td>\n",
       "      <td>0</td>\n",
       "      <td>10050</td>\n",
       "      <td>December-2014</td>\n",
       "    </tr>\n",
       "  </tbody>\n",
       "</table>\n",
       "</div>"
      ],
      "text/plain": [
       "    price  room_bed  room_bath living_measure  ceil  coast  sight  condition  \\\n",
       "0  808100         4       3.25   3034200666.0   1.0      0      0          5   \n",
       "1  277500         4       2.50   8731981640.0   1.0      0      0          3   \n",
       "\n",
       "   quality  ceil_measure  basement  yr_renovated  zipcode      lat     long  \\\n",
       "0        9          3020         0             0     57.0  47.7174 -122.336   \n",
       "1        8          1750       800             0     13.0  47.3165 -122.386   \n",
       "\n",
       "   living_measure15  furnished  total_area     month_year  \n",
       "0              2120          1       16477  November-2014  \n",
       "1              2260          0       10050  December-2014  "
      ]
     },
     "execution_count": 492,
     "metadata": {},
     "output_type": "execute_result"
    }
   ],
   "source": [
    "data_new.head(2)"
   ]
  },
  {
   "cell_type": "code",
   "execution_count": 493,
   "metadata": {},
   "outputs": [
    {
     "data": {
      "text/html": [
       "<div>\n",
       "<style scoped>\n",
       "    .dataframe tbody tr th:only-of-type {\n",
       "        vertical-align: middle;\n",
       "    }\n",
       "\n",
       "    .dataframe tbody tr th {\n",
       "        vertical-align: top;\n",
       "    }\n",
       "\n",
       "    .dataframe thead th {\n",
       "        text-align: right;\n",
       "    }\n",
       "</style>\n",
       "<table border=\"1\" class=\"dataframe\">\n",
       "  <thead>\n",
       "    <tr style=\"text-align: right;\">\n",
       "      <th></th>\n",
       "      <th>price</th>\n",
       "      <th>room_bed</th>\n",
       "      <th>room_bath</th>\n",
       "      <th>living_measure</th>\n",
       "      <th>ceil</th>\n",
       "      <th>coast</th>\n",
       "      <th>sight</th>\n",
       "      <th>condition</th>\n",
       "      <th>quality</th>\n",
       "      <th>ceil_measure</th>\n",
       "      <th>basement</th>\n",
       "      <th>yr_renovated</th>\n",
       "      <th>zipcode</th>\n",
       "      <th>lat</th>\n",
       "      <th>long</th>\n",
       "      <th>living_measure15</th>\n",
       "      <th>furnished</th>\n",
       "      <th>total_area</th>\n",
       "      <th>month_year</th>\n",
       "    </tr>\n",
       "  </thead>\n",
       "  <tbody>\n",
       "    <tr>\n",
       "      <th>0</th>\n",
       "      <td>808100</td>\n",
       "      <td>4</td>\n",
       "      <td>3.25</td>\n",
       "      <td>3034200666.0</td>\n",
       "      <td>1.0</td>\n",
       "      <td>0</td>\n",
       "      <td>0</td>\n",
       "      <td>5</td>\n",
       "      <td>9</td>\n",
       "      <td>3020</td>\n",
       "      <td>0</td>\n",
       "      <td>0</td>\n",
       "      <td>57.0</td>\n",
       "      <td>47.7174</td>\n",
       "      <td>-122.336</td>\n",
       "      <td>2120</td>\n",
       "      <td>1</td>\n",
       "      <td>16477</td>\n",
       "      <td>November-2014</td>\n",
       "    </tr>\n",
       "    <tr>\n",
       "      <th>1</th>\n",
       "      <td>277500</td>\n",
       "      <td>4</td>\n",
       "      <td>2.50</td>\n",
       "      <td>8731981640.0</td>\n",
       "      <td>1.0</td>\n",
       "      <td>0</td>\n",
       "      <td>0</td>\n",
       "      <td>3</td>\n",
       "      <td>8</td>\n",
       "      <td>1750</td>\n",
       "      <td>800</td>\n",
       "      <td>0</td>\n",
       "      <td>13.0</td>\n",
       "      <td>47.3165</td>\n",
       "      <td>-122.386</td>\n",
       "      <td>2260</td>\n",
       "      <td>0</td>\n",
       "      <td>10050</td>\n",
       "      <td>December-2014</td>\n",
       "    </tr>\n",
       "  </tbody>\n",
       "</table>\n",
       "</div>"
      ],
      "text/plain": [
       "    price  room_bed  room_bath living_measure  ceil  coast  sight  condition  \\\n",
       "0  808100         4       3.25   3034200666.0   1.0      0      0          5   \n",
       "1  277500         4       2.50   8731981640.0   1.0      0      0          3   \n",
       "\n",
       "   quality  ceil_measure  basement  yr_renovated  zipcode      lat     long  \\\n",
       "0        9          3020         0             0     57.0  47.7174 -122.336   \n",
       "1        8          1750       800             0     13.0  47.3165 -122.386   \n",
       "\n",
       "   living_measure15  furnished  total_area     month_year  \n",
       "0              2120          1       16477  November-2014  \n",
       "1              2260          0       10050  December-2014  "
      ]
     },
     "execution_count": 493,
     "metadata": {},
     "output_type": "execute_result"
    }
   ],
   "source": [
    "data_new.head(2)"
   ]
  },
  {
   "cell_type": "code",
   "execution_count": 494,
   "metadata": {},
   "outputs": [
    {
     "name": "stdout",
     "output_type": "stream",
     "text": [
      "<class 'pandas.core.frame.DataFrame'>\n",
      "Int64Index: 20847 entries, 0 to 21612\n",
      "Data columns (total 19 columns):\n",
      " #   Column            Non-Null Count  Dtype  \n",
      "---  ------            --------------  -----  \n",
      " 0   price             20847 non-null  int64  \n",
      " 1   room_bed          20847 non-null  int64  \n",
      " 2   room_bath         20847 non-null  float64\n",
      " 3   living_measure    20847 non-null  object \n",
      " 4   ceil              20847 non-null  float64\n",
      " 5   coast             20847 non-null  int64  \n",
      " 6   sight             20847 non-null  int64  \n",
      " 7   condition         20847 non-null  int64  \n",
      " 8   quality           20847 non-null  int64  \n",
      " 9   ceil_measure      20847 non-null  int64  \n",
      " 10  basement          20847 non-null  int64  \n",
      " 11  yr_renovated      20847 non-null  int64  \n",
      " 12  zipcode           20847 non-null  float64\n",
      " 13  lat               20847 non-null  float64\n",
      " 14  long              20847 non-null  float64\n",
      " 15  living_measure15  20847 non-null  int64  \n",
      " 16  furnished         20847 non-null  int64  \n",
      " 17  total_area        20847 non-null  int64  \n",
      " 18  month_year        20847 non-null  object \n",
      "dtypes: float64(5), int64(12), object(2)\n",
      "memory usage: 3.2+ MB\n"
     ]
    }
   ],
   "source": [
    "data_new.info()"
   ]
  },
  {
   "cell_type": "code",
   "execution_count": 495,
   "metadata": {},
   "outputs": [],
   "source": [
    "data_new['ceil_measure']=data_new['ceil_measure'].astype('float')"
   ]
  },
  {
   "cell_type": "code",
   "execution_count": 496,
   "metadata": {},
   "outputs": [],
   "source": [
    "data_new['living_measure']=data_new['living_measure'].astype('float')"
   ]
  },
  {
   "cell_type": "code",
   "execution_count": 497,
   "metadata": {},
   "outputs": [
    {
     "name": "stdout",
     "output_type": "stream",
     "text": [
      "<class 'pandas.core.frame.DataFrame'>\n",
      "Int64Index: 20847 entries, 0 to 21612\n",
      "Data columns (total 19 columns):\n",
      " #   Column            Non-Null Count  Dtype  \n",
      "---  ------            --------------  -----  \n",
      " 0   price             20847 non-null  int64  \n",
      " 1   room_bed          20847 non-null  int64  \n",
      " 2   room_bath         20847 non-null  float64\n",
      " 3   living_measure    20847 non-null  float64\n",
      " 4   ceil              20847 non-null  float64\n",
      " 5   coast             20847 non-null  int64  \n",
      " 6   sight             20847 non-null  int64  \n",
      " 7   condition         20847 non-null  int64  \n",
      " 8   quality           20847 non-null  int64  \n",
      " 9   ceil_measure      20847 non-null  float64\n",
      " 10  basement          20847 non-null  int64  \n",
      " 11  yr_renovated      20847 non-null  int64  \n",
      " 12  zipcode           20847 non-null  float64\n",
      " 13  lat               20847 non-null  float64\n",
      " 14  long              20847 non-null  float64\n",
      " 15  living_measure15  20847 non-null  int64  \n",
      " 16  furnished         20847 non-null  int64  \n",
      " 17  total_area        20847 non-null  int64  \n",
      " 18  month_year        20847 non-null  object \n",
      "dtypes: float64(7), int64(11), object(1)\n",
      "memory usage: 3.2+ MB\n"
     ]
    }
   ],
   "source": [
    "data_new.info()"
   ]
  },
  {
   "cell_type": "code",
   "execution_count": 498,
   "metadata": {
    "id": "xJA3X8O3LyDq"
   },
   "outputs": [],
   "source": [
    "x=data_new.drop(['price','month_year','zipcode','ceil'],axis=1)\n",
    "y=data_new['price']"
   ]
  },
  {
   "cell_type": "code",
   "execution_count": 499,
   "metadata": {},
   "outputs": [
    {
     "data": {
      "text/html": [
       "<div>\n",
       "<style scoped>\n",
       "    .dataframe tbody tr th:only-of-type {\n",
       "        vertical-align: middle;\n",
       "    }\n",
       "\n",
       "    .dataframe tbody tr th {\n",
       "        vertical-align: top;\n",
       "    }\n",
       "\n",
       "    .dataframe thead th {\n",
       "        text-align: right;\n",
       "    }\n",
       "</style>\n",
       "<table border=\"1\" class=\"dataframe\">\n",
       "  <thead>\n",
       "    <tr style=\"text-align: right;\">\n",
       "      <th></th>\n",
       "      <th>room_bed</th>\n",
       "      <th>room_bath</th>\n",
       "      <th>living_measure</th>\n",
       "      <th>coast</th>\n",
       "      <th>sight</th>\n",
       "      <th>condition</th>\n",
       "      <th>quality</th>\n",
       "      <th>ceil_measure</th>\n",
       "      <th>basement</th>\n",
       "      <th>yr_renovated</th>\n",
       "      <th>lat</th>\n",
       "      <th>long</th>\n",
       "      <th>living_measure15</th>\n",
       "      <th>furnished</th>\n",
       "      <th>total_area</th>\n",
       "    </tr>\n",
       "  </thead>\n",
       "  <tbody>\n",
       "    <tr>\n",
       "      <th>0</th>\n",
       "      <td>4</td>\n",
       "      <td>3.25</td>\n",
       "      <td>3.034201e+09</td>\n",
       "      <td>0</td>\n",
       "      <td>0</td>\n",
       "      <td>5</td>\n",
       "      <td>9</td>\n",
       "      <td>3020.0</td>\n",
       "      <td>0</td>\n",
       "      <td>0</td>\n",
       "      <td>47.7174</td>\n",
       "      <td>-122.336</td>\n",
       "      <td>2120</td>\n",
       "      <td>1</td>\n",
       "      <td>16477</td>\n",
       "    </tr>\n",
       "    <tr>\n",
       "      <th>1</th>\n",
       "      <td>4</td>\n",
       "      <td>2.50</td>\n",
       "      <td>8.731982e+09</td>\n",
       "      <td>0</td>\n",
       "      <td>0</td>\n",
       "      <td>3</td>\n",
       "      <td>8</td>\n",
       "      <td>1750.0</td>\n",
       "      <td>800</td>\n",
       "      <td>0</td>\n",
       "      <td>47.3165</td>\n",
       "      <td>-122.386</td>\n",
       "      <td>2260</td>\n",
       "      <td>0</td>\n",
       "      <td>10050</td>\n",
       "    </tr>\n",
       "  </tbody>\n",
       "</table>\n",
       "</div>"
      ],
      "text/plain": [
       "   room_bed  room_bath  living_measure  coast  sight  condition  quality  \\\n",
       "0         4       3.25    3.034201e+09      0      0          5        9   \n",
       "1         4       2.50    8.731982e+09      0      0          3        8   \n",
       "\n",
       "   ceil_measure  basement  yr_renovated      lat     long  living_measure15  \\\n",
       "0        3020.0         0             0  47.7174 -122.336              2120   \n",
       "1        1750.0       800             0  47.3165 -122.386              2260   \n",
       "\n",
       "   furnished  total_area  \n",
       "0          1       16477  \n",
       "1          0       10050  "
      ]
     },
     "execution_count": 499,
     "metadata": {},
     "output_type": "execute_result"
    }
   ],
   "source": [
    "x.head(2)"
   ]
  },
  {
   "cell_type": "code",
   "execution_count": 500,
   "metadata": {},
   "outputs": [
    {
     "data": {
      "text/plain": [
       "0    808100\n",
       "1    277500\n",
       "Name: price, dtype: int64"
      ]
     },
     "execution_count": 500,
     "metadata": {},
     "output_type": "execute_result"
    }
   ],
   "source": [
    "y.head(2)"
   ]
  },
  {
   "cell_type": "code",
   "execution_count": 501,
   "metadata": {},
   "outputs": [],
   "source": [
    "#FceFFx=x.drop('ceil_measure',axis=1)"
   ]
  },
  {
   "cell_type": "code",
   "execution_count": 502,
   "metadata": {},
   "outputs": [
    {
     "data": {
      "text/plain": [
       "0        3020\n",
       "1        1750\n",
       "2        2370\n",
       "3         820\n",
       "4        1400\n",
       "         ... \n",
       "21608    2303\n",
       "21609    3490\n",
       "21610    2790\n",
       "21611    1440\n",
       "21612     970\n",
       "Name: ceil_measure, Length: 20847, dtype: int64"
      ]
     },
     "execution_count": 502,
     "metadata": {},
     "output_type": "execute_result"
    }
   ],
   "source": [
    "data_new['ceil_measure'].astype('int')"
   ]
  },
  {
   "cell_type": "code",
   "execution_count": 503,
   "metadata": {},
   "outputs": [],
   "source": [
    "#data_new.drop('ceil_measure',axis=1)"
   ]
  },
  {
   "cell_type": "markdown",
   "metadata": {},
   "source": [
    "# Linear Regression"
   ]
  },
  {
   "cell_type": "code",
   "execution_count": 505,
   "metadata": {},
   "outputs": [],
   "source": [
    "X_train, X_test, y_train, y_test = train_test_split(x, y, test_size=0.30 , random_state=1)"
   ]
  },
  {
   "cell_type": "code",
   "execution_count": 506,
   "metadata": {},
   "outputs": [
    {
     "data": {
      "text/plain": [
       "0.6670413317193988"
      ]
     },
     "execution_count": 506,
     "metadata": {},
     "output_type": "execute_result"
    }
   ],
   "source": [
    "regr1 = LinearRegression()\n",
    "regr1.fit(X_train,y_train)\n",
    "regr1.score(X_test,y_test)"
   ]
  },
  {
   "cell_type": "code",
   "execution_count": 507,
   "metadata": {
    "colab": {
     "base_uri": "https://localhost:8080/"
    },
    "id": "e4Gh0Q39L5nL",
    "outputId": "8c8ef637-db44-4745-83ab-bbecfa47104e"
   },
   "outputs": [
    {
     "name": "stdout",
     "output_type": "stream",
     "text": [
      "0.6613821896503065\n"
     ]
    }
   ],
   "source": [
    "from pandas import read_csv\n",
    "from sklearn.model_selection import KFold\n",
    "from sklearn.model_selection import cross_val_score\n",
    "from sklearn.pipeline import Pipeline\n",
    "from sklearn.pipeline import FeatureUnion\n",
    "from sklearn.linear_model import LinearRegression\n",
    "from sklearn.decomposition import PCA\n",
    "from sklearn.feature_selection import SelectKBest\n",
    "from sklearn.preprocessing import MinMaxScaler\n",
    "from sklearn.svm import SVC\n",
    "features = []\n",
    "features.append(('pca', PCA(n_components=3)))\n",
    "features.append(('select_best', SelectKBest(k=6)))\n",
    "features.append(('Minmaxscalor',MinMaxScaler()))\n",
    "feature_union = FeatureUnion(features)\n",
    "# create pipeline\n",
    "estimators = []\n",
    "estimators.append(('feature_union', feature_union))\n",
    "estimators.append(('linear', LinearRegression()))\n",
    "model = Pipeline(estimators)\n",
    "# evaluate pipeline\n",
    "seed = 7\n",
    "kfold = KFold(n_splits=10)\n",
    "results = cross_val_score(regr1, x, y, cv=kfold)\n",
    "print(results.mean())"
   ]
  },
  {
   "cell_type": "code",
   "execution_count": 508,
   "metadata": {},
   "outputs": [
    {
     "data": {
      "text/plain": [
       "array([-63483595.52747138])"
      ]
     },
     "execution_count": 508,
     "metadata": {},
     "output_type": "execute_result"
    }
   ],
   "source": [
    "regr1.predict([[4,3.25,30,1,0,0,5,9,3020,0,0,57,47,1,2]])"
   ]
  },
  {
   "cell_type": "raw",
   "metadata": {},
   "source": [
    "model.predict([[4,3.25,30,1,0,0,5,9,3020,0,0,57,47,1,2]])"
   ]
  },
  {
   "cell_type": "code",
   "execution_count": 509,
   "metadata": {
    "colab": {
     "base_uri": "https://localhost:8080/"
    },
    "id": "Q1MiPL9h1l33",
    "outputId": "51e245b8-c7ae-4c50-ce29-ed362d9d6459"
   },
   "outputs": [
    {
     "data": {
      "text/plain": [
       "array([0.66843501, 0.6638301 , 0.68479814, 0.62890572, 0.66530194,\n",
       "       0.67150663, 0.65542404, 0.65474074, 0.66289476, 0.65798481])"
      ]
     },
     "execution_count": 509,
     "metadata": {},
     "output_type": "execute_result"
    }
   ],
   "source": [
    "results"
   ]
  },
  {
   "cell_type": "code",
   "execution_count": 510,
   "metadata": {},
   "outputs": [
    {
     "name": "stdout",
     "output_type": "stream",
     "text": [
      "Standard Deviation:  0.013675048991935244\n"
     ]
    }
   ],
   "source": [
    "print('Standard Deviation: ',results.std())"
   ]
  },
  {
   "cell_type": "code",
   "execution_count": 511,
   "metadata": {},
   "outputs": [],
   "source": [
    "a_lg_m=results.mean()\n",
    "a_lg_s=results.std()"
   ]
  },
  {
   "cell_type": "markdown",
   "metadata": {},
   "source": [
    "# Elastic net Regression"
   ]
  },
  {
   "cell_type": "code",
   "execution_count": 512,
   "metadata": {},
   "outputs": [],
   "source": [
    "from sklearn import preprocessing"
   ]
  },
  {
   "cell_type": "code",
   "execution_count": 513,
   "metadata": {
    "id": "4iQxKariW2Oi"
   },
   "outputs": [],
   "source": [
    "from sklearn.model_selection import train_test_split\n",
    "from scipy.stats import zscore"
   ]
  },
  {
   "cell_type": "code",
   "execution_count": 514,
   "metadata": {
    "id": "VEmVYiWnZu79"
   },
   "outputs": [],
   "source": [
    "from sklearn.tree import DecisionTreeClassifier\n",
    "from sklearn.neighbors import KNeighborsClassifier\n",
    "from sklearn.ensemble import RandomForestClassifier"
   ]
  },
  {
   "cell_type": "code",
   "execution_count": 515,
   "metadata": {
    "id": "wukZx5sRZpsP"
   },
   "outputs": [],
   "source": [
    "X_train, X_test, y_train, y_test = train_test_split(x, y, test_size=0.30 , random_state=1)"
   ]
  },
  {
   "cell_type": "code",
   "execution_count": 516,
   "metadata": {},
   "outputs": [
    {
     "data": {
      "text/plain": [
       "0.5235220968226666"
      ]
     },
     "execution_count": 516,
     "metadata": {},
     "output_type": "execute_result"
    }
   ],
   "source": [
    "from sklearn.linear_model import ElasticNet\n",
    "regr = ElasticNet(random_state=2)\n",
    "regr.fit(X_train,y_train)\n",
    "regr.score(X_test,y_test)"
   ]
  },
  {
   "cell_type": "code",
   "execution_count": 517,
   "metadata": {},
   "outputs": [
    {
     "name": "stdout",
     "output_type": "stream",
     "text": [
      "0.5188270151172695\n"
     ]
    }
   ],
   "source": [
    "from pandas import read_csv\n",
    "from sklearn.model_selection import KFold\n",
    "from sklearn.model_selection import cross_val_score\n",
    "from sklearn.pipeline import Pipeline\n",
    "from sklearn.pipeline import FeatureUnion\n",
    "from sklearn.linear_model import LinearRegression\n",
    "from sklearn.linear_model import ElasticNet\n",
    "from sklearn.decomposition import PCA\n",
    "from sklearn.feature_selection import SelectKBest\n",
    "from sklearn.preprocessing import MinMaxScaler\n",
    "from sklearn.svm import SVC\n",
    "features = []\n",
    "features.append(('pca', PCA(n_components=3)))\n",
    "features.append(('select_best', SelectKBest(k=6)))\n",
    "features.append(('Minmaxscalor',MinMaxScaler()))\n",
    "feature_union = FeatureUnion(features)\n",
    "# create pipeline\n",
    "estimators = []\n",
    "estimators.append(('feature_union', feature_union))\n",
    "estimators.append(('linear', ElasticNet()))\n",
    "model = Pipeline(estimators)\n",
    "# evaluate pipeline\n",
    "seed = 7\n",
    "kfold = KFold(n_splits=10)\n",
    "results1 = cross_val_score(regr, x, y, cv=kfold)\n",
    "print(results1.mean())"
   ]
  },
  {
   "cell_type": "code",
   "execution_count": 518,
   "metadata": {},
   "outputs": [
    {
     "data": {
      "text/plain": [
       "array([0.52778158, 0.52414145, 0.54659288, 0.50839416, 0.51496649,\n",
       "       0.52873951, 0.52941394, 0.50902278, 0.50301666, 0.49620069])"
      ]
     },
     "execution_count": 518,
     "metadata": {},
     "output_type": "execute_result"
    }
   ],
   "source": [
    "results1"
   ]
  },
  {
   "cell_type": "code",
   "execution_count": 519,
   "metadata": {},
   "outputs": [],
   "source": [
    "a_el_m=results1.mean()\n",
    "a_el_s=results1.std()"
   ]
  },
  {
   "cell_type": "code",
   "execution_count": 520,
   "metadata": {},
   "outputs": [
    {
     "data": {
      "text/plain": [
       "0.5235220968226666"
      ]
     },
     "execution_count": 520,
     "metadata": {},
     "output_type": "execute_result"
    }
   ],
   "source": [
    "from sklearn.linear_model import ElasticNet\n",
    "regr = ElasticNet(random_state=2)\n",
    "regr.fit(X_train,y_train)\n",
    "regr.score(X_test,y_test)"
   ]
  },
  {
   "cell_type": "code",
   "execution_count": 521,
   "metadata": {},
   "outputs": [
    {
     "data": {
      "text/html": [
       "<div>\n",
       "<style scoped>\n",
       "    .dataframe tbody tr th:only-of-type {\n",
       "        vertical-align: middle;\n",
       "    }\n",
       "\n",
       "    .dataframe tbody tr th {\n",
       "        vertical-align: top;\n",
       "    }\n",
       "\n",
       "    .dataframe thead th {\n",
       "        text-align: right;\n",
       "    }\n",
       "</style>\n",
       "<table border=\"1\" class=\"dataframe\">\n",
       "  <thead>\n",
       "    <tr style=\"text-align: right;\">\n",
       "      <th></th>\n",
       "      <th>room_bed</th>\n",
       "      <th>room_bath</th>\n",
       "      <th>living_measure</th>\n",
       "      <th>coast</th>\n",
       "      <th>sight</th>\n",
       "      <th>condition</th>\n",
       "      <th>quality</th>\n",
       "      <th>ceil_measure</th>\n",
       "      <th>basement</th>\n",
       "      <th>yr_renovated</th>\n",
       "      <th>lat</th>\n",
       "      <th>long</th>\n",
       "      <th>living_measure15</th>\n",
       "      <th>furnished</th>\n",
       "      <th>total_area</th>\n",
       "    </tr>\n",
       "  </thead>\n",
       "  <tbody>\n",
       "    <tr>\n",
       "      <th>0</th>\n",
       "      <td>4</td>\n",
       "      <td>3.25</td>\n",
       "      <td>3.034201e+09</td>\n",
       "      <td>0</td>\n",
       "      <td>0</td>\n",
       "      <td>5</td>\n",
       "      <td>9</td>\n",
       "      <td>3020.0</td>\n",
       "      <td>0</td>\n",
       "      <td>0</td>\n",
       "      <td>47.7174</td>\n",
       "      <td>-122.336</td>\n",
       "      <td>2120</td>\n",
       "      <td>1</td>\n",
       "      <td>16477</td>\n",
       "    </tr>\n",
       "  </tbody>\n",
       "</table>\n",
       "</div>"
      ],
      "text/plain": [
       "   room_bed  room_bath  living_measure  coast  sight  condition  quality  \\\n",
       "0         4       3.25    3.034201e+09      0      0          5        9   \n",
       "\n",
       "   ceil_measure  basement  yr_renovated      lat     long  living_measure15  \\\n",
       "0        3020.0         0             0  47.7174 -122.336              2120   \n",
       "\n",
       "   furnished  total_area  \n",
       "0          1       16477  "
      ]
     },
     "execution_count": 521,
     "metadata": {},
     "output_type": "execute_result"
    }
   ],
   "source": [
    "x.head(1)"
   ]
  },
  {
   "cell_type": "code",
   "execution_count": 522,
   "metadata": {},
   "outputs": [],
   "source": [
    "#regr.predict([[4,3.25,3.03e+09,1,0,0,5,9,3020,0,0,57,47.7174,-122.336,2120,1,16477]])"
   ]
  },
  {
   "cell_type": "code",
   "execution_count": 523,
   "metadata": {},
   "outputs": [
    {
     "data": {
      "text/plain": [
       "0.5163009130079221"
      ]
     },
     "execution_count": 523,
     "metadata": {},
     "output_type": "execute_result"
    }
   ],
   "source": [
    "regr.score(X_train,y_train) ## Train score using Elastic net regressor"
   ]
  },
  {
   "cell_type": "code",
   "execution_count": 524,
   "metadata": {},
   "outputs": [
    {
     "data": {
      "text/plain": [
       "0.5235220968226666"
      ]
     },
     "execution_count": 524,
     "metadata": {},
     "output_type": "execute_result"
    }
   ],
   "source": [
    "regr.score(X_test,y_test) ## Test score using Elastic net regressor"
   ]
  },
  {
   "cell_type": "code",
   "execution_count": 525,
   "metadata": {},
   "outputs": [
    {
     "data": {
      "text/plain": [
       "array([-2555695.12603957])"
      ]
     },
     "execution_count": 525,
     "metadata": {},
     "output_type": "execute_result"
    }
   ],
   "source": [
    "regr.predict([[4,3.25,30,1,0,0,5,9,3020,0,0,57,47,1,2]])"
   ]
  },
  {
   "cell_type": "markdown",
   "metadata": {},
   "source": [
    "x2=regr.predict([[2,3,5,6,7,8,1,3,6,7,8,9,7,6,7,8]])"
   ]
  },
  {
   "cell_type": "code",
   "execution_count": 526,
   "metadata": {},
   "outputs": [
    {
     "data": {
      "text/plain": [
       "array([-1803378.56942998])"
      ]
     },
     "execution_count": 526,
     "metadata": {},
     "output_type": "execute_result"
    }
   ],
   "source": [
    "x2"
   ]
  },
  {
   "cell_type": "code",
   "execution_count": 527,
   "metadata": {},
   "outputs": [
    {
     "data": {
      "text/plain": [
       "['ElasticNet.joblib']"
      ]
     },
     "execution_count": 527,
     "metadata": {},
     "output_type": "execute_result"
    }
   ],
   "source": [
    "from joblib import dump,load\n",
    "dump(regr,'ElasticNet.joblib')"
   ]
  },
  {
   "cell_type": "code",
   "execution_count": 528,
   "metadata": {},
   "outputs": [
    {
     "data": {
      "text/html": [
       "<div>\n",
       "<style scoped>\n",
       "    .dataframe tbody tr th:only-of-type {\n",
       "        vertical-align: middle;\n",
       "    }\n",
       "\n",
       "    .dataframe tbody tr th {\n",
       "        vertical-align: top;\n",
       "    }\n",
       "\n",
       "    .dataframe thead th {\n",
       "        text-align: right;\n",
       "    }\n",
       "</style>\n",
       "<table border=\"1\" class=\"dataframe\">\n",
       "  <thead>\n",
       "    <tr style=\"text-align: right;\">\n",
       "      <th></th>\n",
       "      <th>room_bed</th>\n",
       "      <th>room_bath</th>\n",
       "      <th>living_measure</th>\n",
       "      <th>coast</th>\n",
       "      <th>sight</th>\n",
       "      <th>condition</th>\n",
       "      <th>quality</th>\n",
       "      <th>ceil_measure</th>\n",
       "      <th>basement</th>\n",
       "      <th>yr_renovated</th>\n",
       "      <th>lat</th>\n",
       "      <th>long</th>\n",
       "      <th>living_measure15</th>\n",
       "      <th>furnished</th>\n",
       "      <th>total_area</th>\n",
       "    </tr>\n",
       "  </thead>\n",
       "  <tbody>\n",
       "    <tr>\n",
       "      <th>0</th>\n",
       "      <td>4</td>\n",
       "      <td>3.25</td>\n",
       "      <td>3.034201e+09</td>\n",
       "      <td>0</td>\n",
       "      <td>0</td>\n",
       "      <td>5</td>\n",
       "      <td>9</td>\n",
       "      <td>3020.0</td>\n",
       "      <td>0</td>\n",
       "      <td>0</td>\n",
       "      <td>47.7174</td>\n",
       "      <td>-122.336</td>\n",
       "      <td>2120</td>\n",
       "      <td>1</td>\n",
       "      <td>16477</td>\n",
       "    </tr>\n",
       "    <tr>\n",
       "      <th>1</th>\n",
       "      <td>4</td>\n",
       "      <td>2.50</td>\n",
       "      <td>8.731982e+09</td>\n",
       "      <td>0</td>\n",
       "      <td>0</td>\n",
       "      <td>3</td>\n",
       "      <td>8</td>\n",
       "      <td>1750.0</td>\n",
       "      <td>800</td>\n",
       "      <td>0</td>\n",
       "      <td>47.3165</td>\n",
       "      <td>-122.386</td>\n",
       "      <td>2260</td>\n",
       "      <td>0</td>\n",
       "      <td>10050</td>\n",
       "    </tr>\n",
       "  </tbody>\n",
       "</table>\n",
       "</div>"
      ],
      "text/plain": [
       "   room_bed  room_bath  living_measure  coast  sight  condition  quality  \\\n",
       "0         4       3.25    3.034201e+09      0      0          5        9   \n",
       "1         4       2.50    8.731982e+09      0      0          3        8   \n",
       "\n",
       "   ceil_measure  basement  yr_renovated      lat     long  living_measure15  \\\n",
       "0        3020.0         0             0  47.7174 -122.336              2120   \n",
       "1        1750.0       800             0  47.3165 -122.386              2260   \n",
       "\n",
       "   furnished  total_area  \n",
       "0          1       16477  \n",
       "1          0       10050  "
      ]
     },
     "execution_count": 528,
     "metadata": {},
     "output_type": "execute_result"
    }
   ],
   "source": [
    "x.head(2)"
   ]
  },
  {
   "cell_type": "code",
   "execution_count": 530,
   "metadata": {},
   "outputs": [],
   "source": [
    "a_disp=pd.DataFrame({\"model\":[\"Linear Regression\",\"Elastic net Regression\"],\"mean\":[a_lg_m,a_el_m],\"std_dev\":[a_lg_s,a_el_s]})"
   ]
  },
  {
   "cell_type": "code",
   "execution_count": 531,
   "metadata": {},
   "outputs": [
    {
     "data": {
      "text/html": [
       "<div>\n",
       "<style scoped>\n",
       "    .dataframe tbody tr th:only-of-type {\n",
       "        vertical-align: middle;\n",
       "    }\n",
       "\n",
       "    .dataframe tbody tr th {\n",
       "        vertical-align: top;\n",
       "    }\n",
       "\n",
       "    .dataframe thead th {\n",
       "        text-align: right;\n",
       "    }\n",
       "</style>\n",
       "<table border=\"1\" class=\"dataframe\">\n",
       "  <thead>\n",
       "    <tr style=\"text-align: right;\">\n",
       "      <th></th>\n",
       "      <th>model</th>\n",
       "      <th>mean</th>\n",
       "      <th>std_dev</th>\n",
       "    </tr>\n",
       "  </thead>\n",
       "  <tbody>\n",
       "    <tr>\n",
       "      <th>0</th>\n",
       "      <td>Linear Regression</td>\n",
       "      <td>0.661382</td>\n",
       "      <td>0.013675</td>\n",
       "    </tr>\n",
       "    <tr>\n",
       "      <th>1</th>\n",
       "      <td>Elastic net Regression</td>\n",
       "      <td>0.518827</td>\n",
       "      <td>0.014393</td>\n",
       "    </tr>\n",
       "  </tbody>\n",
       "</table>\n",
       "</div>"
      ],
      "text/plain": [
       "                    model      mean   std_dev\n",
       "0       Linear Regression  0.661382  0.013675\n",
       "1  Elastic net Regression  0.518827  0.014393"
      ]
     },
     "execution_count": 531,
     "metadata": {},
     "output_type": "execute_result"
    }
   ],
   "source": [
    "a_disp"
   ]
  },
  {
   "cell_type": "markdown",
   "metadata": {},
   "source": [
    "# Polynomial Regression"
   ]
  },
  {
   "cell_type": "code",
   "execution_count": 532,
   "metadata": {
    "id": "PYsbuW80Z9nB"
   },
   "outputs": [],
   "source": [
    "from sklearn.preprocessing import PolynomialFeatures"
   ]
  },
  {
   "cell_type": "code",
   "execution_count": 533,
   "metadata": {
    "id": "48brrq1gZ_y-"
   },
   "outputs": [],
   "source": [
    "# from sklearn.preprocessing import PolynomialFeatures\n",
    "poly_reg = PolynomialFeatures(degree=2)\n",
    "X_poly = poly_reg.fit_transform(x)\n",
    "pol_reg = LinearRegression()\n",
    "X_train, X_test, y_train, y_test = train_test_split(X_poly, y, test_size=0.30 , random_state=1)\n",
    "pol_reg.fit(X_train, y_train)\n",
    "y_poly_pred=pol_reg.predict(X_test)\n",
    "#plt.scatter(y,y_poly_pred)"
   ]
  },
  {
   "cell_type": "code",
   "execution_count": 534,
   "metadata": {
    "id": "Ypp4zUnfaCqk"
   },
   "outputs": [],
   "source": [
    "y_poly_pred2=pol_reg.predict(X_train)"
   ]
  },
  {
   "cell_type": "code",
   "execution_count": 535,
   "metadata": {},
   "outputs": [],
   "source": [
    "y_poly_pred=pol_reg.predict(X_test)"
   ]
  },
  {
   "cell_type": "code",
   "execution_count": 536,
   "metadata": {},
   "outputs": [],
   "source": [
    "X_poly1 = poly_reg.fit_transform([[4,3.25,30,1,0,0,5,9,302,1,2,57,47,1,2]])"
   ]
  },
  {
   "cell_type": "code",
   "execution_count": 537,
   "metadata": {},
   "outputs": [
    {
     "data": {
      "text/plain": [
       "array([153677.56878793])"
      ]
     },
     "execution_count": 537,
     "metadata": {},
     "output_type": "execute_result"
    }
   ],
   "source": [
    "pol_reg.predict(X_poly1)"
   ]
  },
  {
   "cell_type": "code",
   "execution_count": 538,
   "metadata": {},
   "outputs": [
    {
     "data": {
      "text/plain": [
       "0.6167204642641169"
      ]
     },
     "execution_count": 538,
     "metadata": {},
     "output_type": "execute_result"
    }
   ],
   "source": [
    "a_poly_sc=pol_reg.score(X_test,y_test) ##Polynomial Regression using test score\n",
    "a_poly_sc"
   ]
  },
  {
   "cell_type": "code",
   "execution_count": 539,
   "metadata": {},
   "outputs": [
    {
     "data": {
      "text/plain": [
       "0.6152588310507182"
      ]
     },
     "execution_count": 539,
     "metadata": {},
     "output_type": "execute_result"
    }
   ],
   "source": [
    "a_poly_sc1=pol_reg.score(X_train,y_train) ##Polynomial Regression using train score\n",
    "a_poly_sc1"
   ]
  },
  {
   "cell_type": "code",
   "execution_count": 540,
   "metadata": {
    "id": "MtCg2UxmaE8S"
   },
   "outputs": [],
   "source": [
    "import numpy as np"
   ]
  },
  {
   "cell_type": "code",
   "execution_count": 541,
   "metadata": {
    "id": "iSQyt_StaHZ9"
   },
   "outputs": [],
   "source": [
    "from sklearn.metrics import mean_squared_error\n",
    "from sklearn.metrics import r2_score"
   ]
  },
  {
   "cell_type": "code",
   "execution_count": 542,
   "metadata": {
    "colab": {
     "base_uri": "https://localhost:8080/"
    },
    "id": "rJ6KkjJCaL2U",
    "outputId": "d13d669c-3b14-4eb2-945a-83ca3df9c7d8"
   },
   "outputs": [
    {
     "name": "stdout",
     "output_type": "stream",
     "text": [
      "179020.66100240027\n",
      "0.6167204642641169\n"
     ]
    }
   ],
   "source": [
    "##Accuracy of test data using polynomial regression\n",
    "rmse1 = np.sqrt(mean_squared_error(y_test,y_poly_pred))\n",
    "r2_1 = r2_score(y_test,y_poly_pred)\n",
    "print(rmse1)\n",
    "print(r2_1)"
   ]
  },
  {
   "cell_type": "code",
   "execution_count": 543,
   "metadata": {
    "colab": {
     "base_uri": "https://localhost:8080/"
    },
    "id": "UhXJT5tAaSn2",
    "outputId": "dfeb0bb9-6294-44e6-f545-0c751a515d8e"
   },
   "outputs": [
    {
     "name": "stdout",
     "output_type": "stream",
     "text": [
      "173871.83068931624\n",
      "0.6152588310507182\n"
     ]
    }
   ],
   "source": [
    "#Trained data\n",
    "rmse_p1 = np.sqrt(mean_squared_error(y_train,y_poly_pred2))\n",
    "r2_p1 = r2_score(y_train,y_poly_pred2)\n",
    "print(rmse_p1)\n",
    "print(r2_p1)"
   ]
  },
  {
   "cell_type": "code",
   "execution_count": 544,
   "metadata": {
    "colab": {
     "base_uri": "https://localhost:8080/"
    },
    "id": "qjvcYupiaTW-",
    "outputId": "6e14499f-8062-497f-881f-c4ad657bbbf2"
   },
   "outputs": [
    {
     "name": "stdout",
     "output_type": "stream",
     "text": [
      "179020.66100240027\n",
      "0.6167204642641169\n"
     ]
    }
   ],
   "source": [
    "rmse_p2 = np.sqrt(mean_squared_error(y_test,y_poly_pred))\n",
    "r2_p2 = r2_score(y_test,y_poly_pred)\n",
    "print(rmse_p2)\n",
    "print(r2_p2)"
   ]
  },
  {
   "cell_type": "code",
   "execution_count": 545,
   "metadata": {},
   "outputs": [
    {
     "data": {
      "text/html": [
       "<div>\n",
       "<style scoped>\n",
       "    .dataframe tbody tr th:only-of-type {\n",
       "        vertical-align: middle;\n",
       "    }\n",
       "\n",
       "    .dataframe tbody tr th {\n",
       "        vertical-align: top;\n",
       "    }\n",
       "\n",
       "    .dataframe thead th {\n",
       "        text-align: right;\n",
       "    }\n",
       "</style>\n",
       "<table border=\"1\" class=\"dataframe\">\n",
       "  <thead>\n",
       "    <tr style=\"text-align: right;\">\n",
       "      <th></th>\n",
       "      <th>model</th>\n",
       "      <th>accuracy_polynomial-regression</th>\n",
       "      <th>rmse_polynomial_regression</th>\n",
       "      <th>r2_score_poly</th>\n",
       "    </tr>\n",
       "  </thead>\n",
       "  <tbody>\n",
       "    <tr>\n",
       "      <th>0</th>\n",
       "      <td>train</td>\n",
       "      <td>0.615259</td>\n",
       "      <td>173871.830689</td>\n",
       "      <td>0.615259</td>\n",
       "    </tr>\n",
       "    <tr>\n",
       "      <th>1</th>\n",
       "      <td>test</td>\n",
       "      <td>0.616720</td>\n",
       "      <td>179020.661002</td>\n",
       "      <td>0.616720</td>\n",
       "    </tr>\n",
       "  </tbody>\n",
       "</table>\n",
       "</div>"
      ],
      "text/plain": [
       "   model  accuracy_polynomial-regression  rmse_polynomial_regression  \\\n",
       "0  train                        0.615259               173871.830689   \n",
       "1   test                        0.616720               179020.661002   \n",
       "\n",
       "   r2_score_poly  \n",
       "0       0.615259  \n",
       "1       0.616720  "
      ]
     },
     "execution_count": 545,
     "metadata": {},
     "output_type": "execute_result"
    }
   ],
   "source": [
    "a_disp2=pd.DataFrame({\"model\":[\"train\",\"test\"],\"accuracy_polynomial-regression\":[a_poly_sc1,a_poly_sc],\"rmse_polynomial_regression\":[rmse_p1,rmse_p2],\"r2_score_poly\":[r2_p1,r2_p2]})\n",
    "a_disp2"
   ]
  },
  {
   "cell_type": "markdown",
   "metadata": {},
   "source": [
    "# Lasso and Ridge Regression"
   ]
  },
  {
   "cell_type": "code",
   "execution_count": 546,
   "metadata": {
    "id": "oJzVs7tgaWqL"
   },
   "outputs": [],
   "source": [
    "from sklearn.linear_model import LinearRegression, Ridge, Lasso"
   ]
  },
  {
   "cell_type": "code",
   "execution_count": 547,
   "metadata": {},
   "outputs": [],
   "source": [
    "X_train, X_test, y_train, y_test = train_test_split(x, y, test_size=0.30 , random_state=1)"
   ]
  },
  {
   "cell_type": "code",
   "execution_count": 548,
   "metadata": {
    "colab": {
     "base_uri": "https://localhost:8080/"
    },
    "id": "4hNGGDyJaZzN",
    "outputId": "dc59561f-0c56-442e-f8e9-6eadfc9cc505"
   },
   "outputs": [
    {
     "name": "stdout",
     "output_type": "stream",
     "text": [
      "Lasso model: [-1.25537080e+04  8.08959789e+03 -8.89208116e-07  3.74928371e+05\n",
      "  5.09569193e+04  5.47338555e+04  5.84180051e+04  1.05672515e+02\n",
      "  1.03299453e+02  1.18960686e+05  6.22421614e+05 -1.92408729e+05\n",
      "  5.67838992e+01  9.15195843e+04  1.43314251e-01]\n",
      "0.6598426032301095\n",
      "0.6670411426780596\n"
     ]
    }
   ],
   "source": [
    "lasso = Lasso(alpha=0.1)\n",
    "lasso.fit(X_train,y_train)\n",
    "print (\"Lasso model:\", (lasso.coef_))\n",
    "accuracy_lr_lasso=lasso.score(X_test,y_test)\n",
    "print(lasso.score(X_train, y_train))\n",
    "print(lasso.score(X_test, y_test))"
   ]
  },
  {
   "cell_type": "code",
   "execution_count": null,
   "metadata": {},
   "outputs": [],
   "source": []
  },
  {
   "cell_type": "code",
   "execution_count": 549,
   "metadata": {},
   "outputs": [
    {
     "data": {
      "text/plain": [
       "array([-62399377.65906502])"
      ]
     },
     "execution_count": 549,
     "metadata": {},
     "output_type": "execute_result"
    }
   ],
   "source": [
    "lasso.predict([[4,3.25,30,1,0,0,5,9,302,1,2,57,47,1,2]])"
   ]
  },
  {
   "cell_type": "code",
   "execution_count": 550,
   "metadata": {},
   "outputs": [
    {
     "name": "stdout",
     "output_type": "stream",
     "text": [
      "163487.6142685178\n",
      "0.6598426032301095\n"
     ]
    }
   ],
   "source": [
    "#Trained data\n",
    "y_train1=lasso.predict(X_train)\n",
    "rmse_l1 = np.sqrt(mean_squared_error(y_train,y_train1))\n",
    "r2_l1 = r2_score(y_train,y_train1)\n",
    "print(rmse_l1)\n",
    "print(r2_l1)"
   ]
  },
  {
   "cell_type": "code",
   "execution_count": 551,
   "metadata": {},
   "outputs": [
    {
     "name": "stdout",
     "output_type": "stream",
     "text": [
      "166855.53839681752\n",
      "0.6670411426780596\n"
     ]
    }
   ],
   "source": [
    "#Test data\n",
    "y_test1=lasso.predict(X_test)\n",
    "rmse_l2 = np.sqrt(mean_squared_error(y_test,y_test1))\n",
    "r2_l2 = r2_score(y_test,y_test1)\n",
    "print(rmse_l2)\n",
    "print(r2_l2)"
   ]
  },
  {
   "cell_type": "code",
   "execution_count": 552,
   "metadata": {},
   "outputs": [
    {
     "data": {
      "text/html": [
       "<div>\n",
       "<style scoped>\n",
       "    .dataframe tbody tr th:only-of-type {\n",
       "        vertical-align: middle;\n",
       "    }\n",
       "\n",
       "    .dataframe tbody tr th {\n",
       "        vertical-align: top;\n",
       "    }\n",
       "\n",
       "    .dataframe thead th {\n",
       "        text-align: right;\n",
       "    }\n",
       "</style>\n",
       "<table border=\"1\" class=\"dataframe\">\n",
       "  <thead>\n",
       "    <tr style=\"text-align: right;\">\n",
       "      <th></th>\n",
       "      <th>model</th>\n",
       "      <th>accuracy_lasso</th>\n",
       "      <th>rmse_lasso</th>\n",
       "    </tr>\n",
       "  </thead>\n",
       "  <tbody>\n",
       "    <tr>\n",
       "      <th>0</th>\n",
       "      <td>train</td>\n",
       "      <td>0.659843</td>\n",
       "      <td>163487.614269</td>\n",
       "    </tr>\n",
       "    <tr>\n",
       "      <th>1</th>\n",
       "      <td>test</td>\n",
       "      <td>0.667041</td>\n",
       "      <td>166855.538397</td>\n",
       "    </tr>\n",
       "  </tbody>\n",
       "</table>\n",
       "</div>"
      ],
      "text/plain": [
       "   model  accuracy_lasso     rmse_lasso\n",
       "0  train        0.659843  163487.614269\n",
       "1   test        0.667041  166855.538397"
      ]
     },
     "execution_count": 552,
     "metadata": {},
     "output_type": "execute_result"
    }
   ],
   "source": [
    "a_disp3=pd.DataFrame({\"model\":[\"train\",\"test\"],\"accuracy_lasso\":[r2_l1,r2_l2],\"rmse_lasso\":[rmse_l1,rmse_l2]})\n",
    "a_disp3"
   ]
  },
  {
   "cell_type": "code",
   "execution_count": 553,
   "metadata": {
    "colab": {
     "base_uri": "https://localhost:8080/"
    },
    "id": "RlIkvsK0acxo",
    "outputId": "0dc41029-d4a1-44a7-c158-ed9197cd1615"
   },
   "outputs": [
    {
     "name": "stdout",
     "output_type": "stream",
     "text": [
      "Ridge model: [-1.25668130e+04  8.07655630e+03 -8.90555750e-07  3.73450875e+05\n",
      "  5.10194308e+04  5.47300253e+04  5.84425413e+04  1.05670793e+02\n",
      "  1.03333971e+02  1.18949632e+05  6.21738025e+05 -1.92261078e+05\n",
      "  5.67707838e+01  9.14899171e+04  1.42980848e-01]\n",
      "0.6598423374612596\n",
      "0.6670248835354944\n"
     ]
    },
    {
     "name": "stderr",
     "output_type": "stream",
     "text": [
      "/Library/Frameworks/Python.framework/Versions/3.9/lib/python3.9/site-packages/sklearn/linear_model/_ridge.py:147: LinAlgWarning: Ill-conditioned matrix (rcond=5.78082e-22): result may not be accurate.\n",
      "  return linalg.solve(A, Xy, sym_pos=True,\n"
     ]
    }
   ],
   "source": [
    "ridge = Ridge(alpha=.3)\n",
    "ridge.fit(X_train,y_train)\n",
    "print (\"Ridge model:\", (ridge.coef_)) \n",
    "print(ridge.score(X_train, y_train))\n",
    "print(ridge.score(X_test, y_test))"
   ]
  },
  {
   "cell_type": "markdown",
   "metadata": {},
   "source": [
    "y_train2=ridge.predict(X_)"
   ]
  },
  {
   "cell_type": "code",
   "execution_count": 555,
   "metadata": {},
   "outputs": [],
   "source": [
    "y_test1=ridge.predict(X_test)"
   ]
  },
  {
   "cell_type": "code",
   "execution_count": 613,
   "metadata": {},
   "outputs": [
    {
     "name": "stdout",
     "output_type": "stream",
     "text": [
      "163487.6781358732\n",
      "0.6598423374612596\n"
     ]
    }
   ],
   "source": [
    "#Train data\n",
    "y_train2=ridge.predict(X_train)\n",
    "rmse_r1 = np.sqrt(mean_squared_error(y_train,y_train2))\n",
    "r2_r1= r2_score(y_train,y_train2)\n",
    "print(rmse_r1)\n",
    "print(r2_r1)"
   ]
  },
  {
   "cell_type": "code",
   "execution_count": 557,
   "metadata": {},
   "outputs": [
    {
     "name": "stdout",
     "output_type": "stream",
     "text": [
      "166859.61231587408\n",
      "0.6670248835354944\n"
     ]
    }
   ],
   "source": [
    "#Test data\n",
    "y_test2=ridge.predict(X_test)\n",
    "rmse_r2 = np.sqrt(mean_squared_error(y_test,y_test2))\n",
    "r2_r2 = r2_score(y_test,y_test2)\n",
    "print(rmse_r2)\n",
    "print(r2_r2)"
   ]
  },
  {
   "cell_type": "code",
   "execution_count": 558,
   "metadata": {},
   "outputs": [
    {
     "data": {
      "text/html": [
       "<div>\n",
       "<style scoped>\n",
       "    .dataframe tbody tr th:only-of-type {\n",
       "        vertical-align: middle;\n",
       "    }\n",
       "\n",
       "    .dataframe tbody tr th {\n",
       "        vertical-align: top;\n",
       "    }\n",
       "\n",
       "    .dataframe thead th {\n",
       "        text-align: right;\n",
       "    }\n",
       "</style>\n",
       "<table border=\"1\" class=\"dataframe\">\n",
       "  <thead>\n",
       "    <tr style=\"text-align: right;\">\n",
       "      <th></th>\n",
       "      <th>model</th>\n",
       "      <th>accuracy_ridge</th>\n",
       "      <th>rmse_ridge</th>\n",
       "    </tr>\n",
       "  </thead>\n",
       "  <tbody>\n",
       "    <tr>\n",
       "      <th>0</th>\n",
       "      <td>train</td>\n",
       "      <td>0.659842</td>\n",
       "      <td>163487.678136</td>\n",
       "    </tr>\n",
       "    <tr>\n",
       "      <th>1</th>\n",
       "      <td>test</td>\n",
       "      <td>0.667025</td>\n",
       "      <td>166859.612316</td>\n",
       "    </tr>\n",
       "  </tbody>\n",
       "</table>\n",
       "</div>"
      ],
      "text/plain": [
       "   model  accuracy_ridge     rmse_ridge\n",
       "0  train        0.659842  163487.678136\n",
       "1   test        0.667025  166859.612316"
      ]
     },
     "execution_count": 558,
     "metadata": {},
     "output_type": "execute_result"
    }
   ],
   "source": [
    "a_disp3=pd.DataFrame({\"model\":[\"train\",\"test\"],\"accuracy_ridge\":[r2_r1,r2_r2],\"rmse_ridge\":[rmse_r1,rmse_r2]})\n",
    "a_disp3"
   ]
  },
  {
   "cell_type": "markdown",
   "metadata": {},
   "source": [
    "# Decision Tree Regressor"
   ]
  },
  {
   "cell_type": "code",
   "execution_count": 559,
   "metadata": {},
   "outputs": [
    {
     "name": "stdout",
     "output_type": "stream",
     "text": [
      "Average accuracy:  0.5188270151172695\n",
      "Standard Deviation:  0.023409122343473587\n"
     ]
    }
   ],
   "source": [
    "from sklearn.model_selection import KFold\n",
    "from sklearn.tree import DecisionTreeRegressor\n",
    "from sklearn.model_selection import cross_val_score\n",
    "num_folds = 18\n",
    "seed = 77\n",
    "kfold = KFold(n_splits=num_folds, random_state=seed,shuffle=True)\n",
    "dt_model = DecisionTreeRegressor()\n",
    "results_d = cross_val_score(dt_model,x, y, cv=kfold)\n",
    "accuracy_dc=np.mean(abs(results1))\n",
    "a_dc_st=results_d.std()\n",
    "print('Average accuracy: ',accuracy_dc)\n",
    "print('Standard Deviation: ',results_d.std())"
   ]
  },
  {
   "cell_type": "code",
   "execution_count": 560,
   "metadata": {},
   "outputs": [],
   "source": [
    "dtr=dt_model"
   ]
  },
  {
   "cell_type": "code",
   "execution_count": 561,
   "metadata": {},
   "outputs": [],
   "source": [
    "a=dtr.fit(X_train,y_train)## Decision fit regressor"
   ]
  },
  {
   "cell_type": "code",
   "execution_count": 562,
   "metadata": {},
   "outputs": [
    {
     "data": {
      "text/plain": [
       "0.7308526982407195"
      ]
     },
     "execution_count": 562,
     "metadata": {},
     "output_type": "execute_result"
    }
   ],
   "source": [
    "a.score(X_test,y_test)## Test score using decision fit regressor"
   ]
  },
  {
   "cell_type": "code",
   "execution_count": 563,
   "metadata": {},
   "outputs": [
    {
     "data": {
      "text/plain": [
       "0.999998990769874"
      ]
     },
     "execution_count": 563,
     "metadata": {},
     "output_type": "execute_result"
    }
   ],
   "source": [
    "a.score(X_train,y_train)## Train score using decision fit regressor"
   ]
  },
  {
   "cell_type": "code",
   "execution_count": 564,
   "metadata": {},
   "outputs": [
    {
     "data": {
      "text/html": [
       "<div>\n",
       "<style scoped>\n",
       "    .dataframe tbody tr th:only-of-type {\n",
       "        vertical-align: middle;\n",
       "    }\n",
       "\n",
       "    .dataframe tbody tr th {\n",
       "        vertical-align: top;\n",
       "    }\n",
       "\n",
       "    .dataframe thead th {\n",
       "        text-align: right;\n",
       "    }\n",
       "</style>\n",
       "<table border=\"1\" class=\"dataframe\">\n",
       "  <thead>\n",
       "    <tr style=\"text-align: right;\">\n",
       "      <th></th>\n",
       "      <th>model</th>\n",
       "      <th>accuracy_ridge</th>\n",
       "      <th>rmse_ridge</th>\n",
       "    </tr>\n",
       "  </thead>\n",
       "  <tbody>\n",
       "    <tr>\n",
       "      <th>0</th>\n",
       "      <td>train</td>\n",
       "      <td>0.659842</td>\n",
       "      <td>163487.678136</td>\n",
       "    </tr>\n",
       "    <tr>\n",
       "      <th>1</th>\n",
       "      <td>test</td>\n",
       "      <td>0.667025</td>\n",
       "      <td>166859.612316</td>\n",
       "    </tr>\n",
       "  </tbody>\n",
       "</table>\n",
       "</div>"
      ],
      "text/plain": [
       "   model  accuracy_ridge     rmse_ridge\n",
       "0  train        0.659842  163487.678136\n",
       "1   test        0.667025  166859.612316"
      ]
     },
     "execution_count": 564,
     "metadata": {},
     "output_type": "execute_result"
    }
   ],
   "source": [
    "a_disp3"
   ]
  },
  {
   "cell_type": "code",
   "execution_count": 565,
   "metadata": {},
   "outputs": [],
   "source": [
    "## On increasing depth then dtr accuracy increases"
   ]
  },
  {
   "cell_type": "markdown",
   "metadata": {},
   "source": [
    "# Ada boost Regressor"
   ]
  },
  {
   "cell_type": "code",
   "execution_count": 566,
   "metadata": {},
   "outputs": [],
   "source": [
    "from sklearn.ensemble import (RandomForestRegressor, GradientBoostingRegressor,AdaBoostRegressor,BaggingRegressor)\n",
    "from sklearn.tree import DecisionTreeRegressor\n",
    "from sklearn.metrics import mean_squared_error\n",
    "from sklearn.metrics import r2_score"
   ]
  },
  {
   "cell_type": "code",
   "execution_count": 567,
   "metadata": {},
   "outputs": [],
   "source": [
    "reg_model2 = AdaBoostRegressor(n_estimators=10, base_estimator=dtr,learning_rate=1) "
   ]
  },
  {
   "cell_type": "code",
   "execution_count": 568,
   "metadata": {
    "id": "gu3dtpA6a0br"
   },
   "outputs": [],
   "source": [
    "ab=reg_model2.fit(X_train,y_train)"
   ]
  },
  {
   "cell_type": "code",
   "execution_count": 569,
   "metadata": {},
   "outputs": [
    {
     "data": {
      "text/plain": [
       "0.847067857348821"
      ]
     },
     "execution_count": 569,
     "metadata": {},
     "output_type": "execute_result"
    }
   ],
   "source": [
    "ab.score(X_test,y_test) ## For ada boost accuracy of x_test and y_test"
   ]
  },
  {
   "cell_type": "code",
   "execution_count": 570,
   "metadata": {},
   "outputs": [
    {
     "data": {
      "text/plain": [
       "0.9988464878644874"
      ]
     },
     "execution_count": 570,
     "metadata": {},
     "output_type": "execute_result"
    }
   ],
   "source": [
    "ab.score(X_train,y_train) ## For ada boost accuracy of x_train and y_train"
   ]
  },
  {
   "cell_type": "code",
   "execution_count": 571,
   "metadata": {
    "colab": {
     "base_uri": "https://localhost:8080/"
    },
    "id": "0FpD2jdua2-o",
    "outputId": "8d1519b9-feb5-4539-e6a5-4810a206e970"
   },
   "outputs": [
    {
     "name": "stdout",
     "output_type": "stream",
     "text": [
      "R2 Value: 0.9988464878644874\n"
     ]
    }
   ],
   "source": [
    "from sklearn import metrics\n",
    "print('R2 Value:',metrics.r2_score(y_train,ab.predict(X_train)))"
   ]
  },
  {
   "cell_type": "code",
   "execution_count": 572,
   "metadata": {},
   "outputs": [
    {
     "name": "stdout",
     "output_type": "stream",
     "text": [
      "Average accuracy:  0.8439981130497913\n",
      "Standard Deviation:  0.014448597618224895\n"
     ]
    }
   ],
   "source": [
    "from sklearn.model_selection import KFold\n",
    "from sklearn.tree import DecisionTreeRegressor\n",
    "from sklearn.model_selection import cross_val_score\n",
    "num_folds = 18\n",
    "seed = 77\n",
    "kfold = KFold(n_splits=num_folds, random_state=seed,shuffle=True)\n",
    "resultsl_g = cross_val_score(ab,x, y, cv=kfold)\n",
    "accuracy_a=np.mean(abs(resultsl_g))\n",
    "a_ad_st=resultsl_g.std()\n",
    "print('Average accuracy: ',accuracy_a)\n",
    "print('Standard Deviation: ',resultsl_g.std())"
   ]
  },
  {
   "cell_type": "markdown",
   "metadata": {},
   "source": [
    "# Gradient boost Regressor"
   ]
  },
  {
   "cell_type": "code",
   "execution_count": 573,
   "metadata": {
    "colab": {
     "base_uri": "https://localhost:8080/"
    },
    "id": "gzAOdm9Na68U",
    "outputId": "0bbf23d0-9512-4a2b-8125-ab318a54b064"
   },
   "outputs": [
    {
     "data": {
      "text/plain": [
       "GradientBoostingRegressor()"
      ]
     },
     "execution_count": 573,
     "metadata": {},
     "output_type": "execute_result"
    }
   ],
   "source": [
    "model=GradientBoostingRegressor() ## Gradient boost regressor\n",
    "model.fit(X_train, y_train)"
   ]
  },
  {
   "cell_type": "code",
   "execution_count": 574,
   "metadata": {},
   "outputs": [
    {
     "data": {
      "text/html": [
       "<div>\n",
       "<style scoped>\n",
       "    .dataframe tbody tr th:only-of-type {\n",
       "        vertical-align: middle;\n",
       "    }\n",
       "\n",
       "    .dataframe tbody tr th {\n",
       "        vertical-align: top;\n",
       "    }\n",
       "\n",
       "    .dataframe thead th {\n",
       "        text-align: right;\n",
       "    }\n",
       "</style>\n",
       "<table border=\"1\" class=\"dataframe\">\n",
       "  <thead>\n",
       "    <tr style=\"text-align: right;\">\n",
       "      <th></th>\n",
       "      <th>room_bed</th>\n",
       "      <th>room_bath</th>\n",
       "      <th>living_measure</th>\n",
       "      <th>coast</th>\n",
       "      <th>sight</th>\n",
       "      <th>condition</th>\n",
       "      <th>quality</th>\n",
       "      <th>ceil_measure</th>\n",
       "      <th>basement</th>\n",
       "      <th>yr_renovated</th>\n",
       "      <th>lat</th>\n",
       "      <th>long</th>\n",
       "      <th>living_measure15</th>\n",
       "      <th>furnished</th>\n",
       "      <th>total_area</th>\n",
       "    </tr>\n",
       "  </thead>\n",
       "  <tbody>\n",
       "    <tr>\n",
       "      <th>0</th>\n",
       "      <td>4</td>\n",
       "      <td>3.25</td>\n",
       "      <td>3.034201e+09</td>\n",
       "      <td>0</td>\n",
       "      <td>0</td>\n",
       "      <td>5</td>\n",
       "      <td>9</td>\n",
       "      <td>3020.0</td>\n",
       "      <td>0</td>\n",
       "      <td>0</td>\n",
       "      <td>47.7174</td>\n",
       "      <td>-122.336</td>\n",
       "      <td>2120</td>\n",
       "      <td>1</td>\n",
       "      <td>16477</td>\n",
       "    </tr>\n",
       "    <tr>\n",
       "      <th>1</th>\n",
       "      <td>4</td>\n",
       "      <td>2.50</td>\n",
       "      <td>8.731982e+09</td>\n",
       "      <td>0</td>\n",
       "      <td>0</td>\n",
       "      <td>3</td>\n",
       "      <td>8</td>\n",
       "      <td>1750.0</td>\n",
       "      <td>800</td>\n",
       "      <td>0</td>\n",
       "      <td>47.3165</td>\n",
       "      <td>-122.386</td>\n",
       "      <td>2260</td>\n",
       "      <td>0</td>\n",
       "      <td>10050</td>\n",
       "    </tr>\n",
       "  </tbody>\n",
       "</table>\n",
       "</div>"
      ],
      "text/plain": [
       "   room_bed  room_bath  living_measure  coast  sight  condition  quality  \\\n",
       "0         4       3.25    3.034201e+09      0      0          5        9   \n",
       "1         4       2.50    8.731982e+09      0      0          3        8   \n",
       "\n",
       "   ceil_measure  basement  yr_renovated      lat     long  living_measure15  \\\n",
       "0        3020.0         0             0  47.7174 -122.336              2120   \n",
       "1        1750.0       800             0  47.3165 -122.386              2260   \n",
       "\n",
       "   furnished  total_area  \n",
       "0          1       16477  \n",
       "1          0       10050  "
      ]
     },
     "execution_count": 574,
     "metadata": {},
     "output_type": "execute_result"
    }
   ],
   "source": [
    "x.head(2)"
   ]
  },
  {
   "cell_type": "code",
   "execution_count": 577,
   "metadata": {},
   "outputs": [
    {
     "data": {
      "text/plain": [
       "array([322978.62913491])"
      ]
     },
     "execution_count": 577,
     "metadata": {},
     "output_type": "execute_result"
    }
   ],
   "source": [
    "model.predict([[4,3.25,30,1,0,0,5,9,302,1,2,57,47,1,2]])"
   ]
  },
  {
   "cell_type": "code",
   "execution_count": 578,
   "metadata": {},
   "outputs": [
    {
     "data": {
      "text/plain": [
       "array([505060.9856498])"
      ]
     },
     "execution_count": 578,
     "metadata": {},
     "output_type": "execute_result"
    }
   ],
   "source": [
    "model.predict([[4,3.25,3.03e+09,1,0,0,5,9,3020,0,0,57,47.7174,1,16477]])"
   ]
  },
  {
   "cell_type": "code",
   "execution_count": 579,
   "metadata": {},
   "outputs": [
    {
     "name": "stdout",
     "output_type": "stream",
     "text": [
      "0.8468728904418492\n"
     ]
    }
   ],
   "source": [
    "print(metrics.r2_score(y_test,pred_y)) # Accuracy of dtr using gradient boost regressor"
   ]
  },
  {
   "cell_type": "code",
   "execution_count": 580,
   "metadata": {},
   "outputs": [
    {
     "data": {
      "text/plain": [
       "0.8401375454112876"
      ]
     },
     "execution_count": 580,
     "metadata": {},
     "output_type": "execute_result"
    }
   ],
   "source": [
    "model.score(X_test,y_test) # Accuracy of dtr of test set using gradient boost regressor"
   ]
  },
  {
   "cell_type": "code",
   "execution_count": 581,
   "metadata": {},
   "outputs": [
    {
     "name": "stdout",
     "output_type": "stream",
     "text": [
      "Average accuracy:  0.8435520769399361\n",
      "Standard Deviation:  0.011471879616033083\n"
     ]
    }
   ],
   "source": [
    "from sklearn.model_selection import KFold\n",
    "from sklearn.tree import DecisionTreeRegressor\n",
    "from sklearn.model_selection import cross_val_score\n",
    "num_folds = 18\n",
    "seed = 77\n",
    "kfold = KFold(n_splits=num_folds, random_state=seed,shuffle=True)\n",
    "dt_model = GradientBoostingRegressor()\n",
    "resultsl_gr = cross_val_score(dt_model,x, y, cv=kfold)\n",
    "accuracy_g=np.mean(abs(resultsl_gr))\n",
    "a_gr_st=resultsl_gr.std()\n",
    "print('Average accuracy: ',accuracy_g)\n",
    "print('Standard Deviation: ',resultsl_gr.std())"
   ]
  },
  {
   "cell_type": "code",
   "execution_count": 582,
   "metadata": {},
   "outputs": [],
   "source": [
    "a_disp3=pd.DataFrame({\"parameters\":['accuracy_mean_kfold','standard deviation_k_fold'],\"Decisition_Tree\":[accuracy_dc,a_dc_st],\"adaboost\":[accuracy_a,a_ad_st],\"Gradient_boost\":[accuracy_g,a_gr_st]})"
   ]
  },
  {
   "cell_type": "code",
   "execution_count": 583,
   "metadata": {},
   "outputs": [
    {
     "data": {
      "text/html": [
       "<div>\n",
       "<style scoped>\n",
       "    .dataframe tbody tr th:only-of-type {\n",
       "        vertical-align: middle;\n",
       "    }\n",
       "\n",
       "    .dataframe tbody tr th {\n",
       "        vertical-align: top;\n",
       "    }\n",
       "\n",
       "    .dataframe thead th {\n",
       "        text-align: right;\n",
       "    }\n",
       "</style>\n",
       "<table border=\"1\" class=\"dataframe\">\n",
       "  <thead>\n",
       "    <tr style=\"text-align: right;\">\n",
       "      <th></th>\n",
       "      <th>parameters</th>\n",
       "      <th>Decisition_Tree</th>\n",
       "      <th>adaboost</th>\n",
       "      <th>Gradient_boost</th>\n",
       "    </tr>\n",
       "  </thead>\n",
       "  <tbody>\n",
       "    <tr>\n",
       "      <th>0</th>\n",
       "      <td>accuracy_mean_kfold</td>\n",
       "      <td>0.518827</td>\n",
       "      <td>0.843998</td>\n",
       "      <td>0.843552</td>\n",
       "    </tr>\n",
       "    <tr>\n",
       "      <th>1</th>\n",
       "      <td>standard deviation_k_fold</td>\n",
       "      <td>0.023409</td>\n",
       "      <td>0.014449</td>\n",
       "      <td>0.011472</td>\n",
       "    </tr>\n",
       "  </tbody>\n",
       "</table>\n",
       "</div>"
      ],
      "text/plain": [
       "                  parameters  Decisition_Tree  adaboost  Gradient_boost\n",
       "0        accuracy_mean_kfold         0.518827  0.843998        0.843552\n",
       "1  standard deviation_k_fold         0.023409  0.014449        0.011472"
      ]
     },
     "execution_count": 583,
     "metadata": {},
     "output_type": "execute_result"
    }
   ],
   "source": [
    "a_disp3"
   ]
  },
  {
   "cell_type": "code",
   "execution_count": 584,
   "metadata": {},
   "outputs": [
    {
     "data": {
      "text/plain": [
       "0.862625426669325"
      ]
     },
     "execution_count": 584,
     "metadata": {},
     "output_type": "execute_result"
    }
   ],
   "source": [
    "model.score(X_train,y_train) # Accuracy of dtr of train set using gradient boost regressor of train dataset"
   ]
  },
  {
   "cell_type": "code",
   "execution_count": 585,
   "metadata": {},
   "outputs": [],
   "source": [
    "from sklearn.ensemble import RandomForestClassifier"
   ]
  },
  {
   "cell_type": "code",
   "execution_count": 586,
   "metadata": {},
   "outputs": [],
   "source": [
    "from sklearn.model_selection import GridSearchCV\n",
    "from sklearn.model_selection import RandomizedSearchCV"
   ]
  },
  {
   "cell_type": "markdown",
   "metadata": {},
   "source": [
    "# Gradient boost regressor after tuning hyper-parameter"
   ]
  },
  {
   "cell_type": "code",
   "execution_count": 587,
   "metadata": {},
   "outputs": [],
   "source": [
    "# build a classifier\n",
    "clf = GradientBoostingRegressor()\n",
    "# specify parameters and distributions to sample from\n",
    "param_dist = {\"criterion\":[\"mse\"],\"min_samples_split\":[10,20,40],\"loss\": ['ls'],\"max_depth\":[2,6,8],\n",
    "             \"min_samples_leaf\":[20,40,100],\"max_leaf_nodes\":[5,20,100]}\n",
    "samples = 5  # number of random samples \n",
    "randomCV = RandomizedSearchCV(clf, param_distributions=param_dist, n_iter=samples) #default cv = 3"
   ]
  },
  {
   "cell_type": "code",
   "execution_count": 588,
   "metadata": {},
   "outputs": [
    {
     "data": {
      "text/plain": [
       "dict_keys(['alpha', 'ccp_alpha', 'criterion', 'init', 'learning_rate', 'loss', 'max_depth', 'max_features', 'max_leaf_nodes', 'min_impurity_decrease', 'min_impurity_split', 'min_samples_leaf', 'min_samples_split', 'min_weight_fraction_leaf', 'n_estimators', 'n_iter_no_change', 'random_state', 'subsample', 'tol', 'validation_fraction', 'verbose', 'warm_start'])"
      ]
     },
     "execution_count": 588,
     "metadata": {},
     "output_type": "execute_result"
    }
   ],
   "source": [
    "clf.get_params().keys()"
   ]
  },
  {
   "cell_type": "code",
   "execution_count": 589,
   "metadata": {},
   "outputs": [
    {
     "data": {
      "text/plain": [
       "RandomizedSearchCV(estimator=GradientBoostingRegressor(), n_iter=5,\n",
       "                   param_distributions={'criterion': ['mse'], 'loss': ['ls'],\n",
       "                                        'max_depth': [2, 6, 8],\n",
       "                                        'max_leaf_nodes': [5, 20, 100],\n",
       "                                        'min_samples_leaf': [20, 40, 100],\n",
       "                                        'min_samples_split': [10, 20, 40]})"
      ]
     },
     "execution_count": 589,
     "metadata": {},
     "output_type": "execute_result"
    }
   ],
   "source": [
    "randomCV.fit(X_train,y_train)"
   ]
  },
  {
   "cell_type": "code",
   "execution_count": 590,
   "metadata": {},
   "outputs": [
    {
     "name": "stdout",
     "output_type": "stream",
     "text": [
      "R-Squared::0.8693311070023408\n",
      "Best Hyperparameters::\n",
      "{'min_samples_split': 40, 'min_samples_leaf': 20, 'max_leaf_nodes': 100, 'max_depth': 6, 'loss': 'ls', 'criterion': 'mse'}\n"
     ]
    }
   ],
   "source": [
    "print(\"R-Squared::{}\".format(randomCV.best_score_))\n",
    "print(\"Best Hyperparameters::\\n{}\".format(randomCV.best_params_))"
   ]
  },
  {
   "cell_type": "markdown",
   "metadata": {},
   "source": [
    "x3=GradientBoostingRegressor(\"min_samples_split\": [10], \"min_samples_leaf\": [40], \"max_leaf_nodes\": 20, 'max_depth': 8, 'loss': 'ls', 'criterion': 'mse')"
   ]
  },
  {
   "cell_type": "code",
   "execution_count": 592,
   "metadata": {},
   "outputs": [],
   "source": [
    "a_dtr_test=randomCV.score(X_test,y_test)"
   ]
  },
  {
   "cell_type": "code",
   "execution_count": 593,
   "metadata": {},
   "outputs": [],
   "source": [
    "a_dtr_train=randomCV.score(X_train,y_train)"
   ]
  },
  {
   "cell_type": "markdown",
   "metadata": {},
   "source": [
    "x1=randomCV.predict([[1,2,3,2,3,4,5,6,7,5,7,8,1,1,1,9]])"
   ]
  },
  {
   "cell_type": "code",
   "execution_count": 594,
   "metadata": {},
   "outputs": [],
   "source": [
    "a_disp4=pd.DataFrame({\"type\":['train','test'],\"accuracy_decision_tree_optimised\":[a_dtr_train,a_dtr_test]})"
   ]
  },
  {
   "cell_type": "code",
   "execution_count": 595,
   "metadata": {},
   "outputs": [
    {
     "data": {
      "text/html": [
       "<div>\n",
       "<style scoped>\n",
       "    .dataframe tbody tr th:only-of-type {\n",
       "        vertical-align: middle;\n",
       "    }\n",
       "\n",
       "    .dataframe tbody tr th {\n",
       "        vertical-align: top;\n",
       "    }\n",
       "\n",
       "    .dataframe thead th {\n",
       "        text-align: right;\n",
       "    }\n",
       "</style>\n",
       "<table border=\"1\" class=\"dataframe\">\n",
       "  <thead>\n",
       "    <tr style=\"text-align: right;\">\n",
       "      <th></th>\n",
       "      <th>type</th>\n",
       "      <th>accuracy_decision_tree_optimised</th>\n",
       "    </tr>\n",
       "  </thead>\n",
       "  <tbody>\n",
       "    <tr>\n",
       "      <th>0</th>\n",
       "      <td>train</td>\n",
       "      <td>0.917981</td>\n",
       "    </tr>\n",
       "    <tr>\n",
       "      <th>1</th>\n",
       "      <td>test</td>\n",
       "      <td>0.877269</td>\n",
       "    </tr>\n",
       "  </tbody>\n",
       "</table>\n",
       "</div>"
      ],
      "text/plain": [
       "    type  accuracy_decision_tree_optimised\n",
       "0  train                          0.917981\n",
       "1   test                          0.877269"
      ]
     },
     "execution_count": 595,
     "metadata": {},
     "output_type": "execute_result"
    }
   ],
   "source": [
    "a_disp4"
   ]
  },
  {
   "cell_type": "code",
   "execution_count": 596,
   "metadata": {},
   "outputs": [
    {
     "name": "stdout",
     "output_type": "stream",
     "text": [
      "Average accuracy:  0.8766278107716122\n",
      "Standard Deviation:  0.006181265493900915\n"
     ]
    }
   ],
   "source": [
    "from sklearn.model_selection import KFold\n",
    "from sklearn.model_selection import cross_val_score\n",
    "num_folds = 5\n",
    "seed = 1\n",
    "kfold = KFold(n_splits=num_folds, random_state=seed,shuffle=True)\n",
    "resultsl_g = cross_val_score(randomCV,x, y, cv=kfold)\n",
    "accuracy_hyp_o=np.mean(abs(resultsl_g))\n",
    "a_op_st=resultsl_g.std()\n",
    "print('Average accuracy: ',accuracy_hyp_o)\n",
    "print('Standard Deviation: ',resultsl_g.std())"
   ]
  },
  {
   "cell_type": "code",
   "execution_count": 598,
   "metadata": {},
   "outputs": [],
   "source": [
    "a_disp3=pd.DataFrame({\"parameters\":['accuracy_mean_kfold','standard deviation_k_fold'],\"Decision_Tree\":[accuracy_dc,a_dc_st],\"adaboost\":[accuracy_a,a_ad_st],\"Gradient_boost\":[accuracy_g,a_gr_st],\"gradient_boost_opt\":[accuracy_hyp_o,a_op_st]})"
   ]
  },
  {
   "cell_type": "code",
   "execution_count": 599,
   "metadata": {},
   "outputs": [
    {
     "data": {
      "text/html": [
       "<div>\n",
       "<style scoped>\n",
       "    .dataframe tbody tr th:only-of-type {\n",
       "        vertical-align: middle;\n",
       "    }\n",
       "\n",
       "    .dataframe tbody tr th {\n",
       "        vertical-align: top;\n",
       "    }\n",
       "\n",
       "    .dataframe thead th {\n",
       "        text-align: right;\n",
       "    }\n",
       "</style>\n",
       "<table border=\"1\" class=\"dataframe\">\n",
       "  <thead>\n",
       "    <tr style=\"text-align: right;\">\n",
       "      <th></th>\n",
       "      <th>parameters</th>\n",
       "      <th>Decision_Tree</th>\n",
       "      <th>adaboost</th>\n",
       "      <th>Gradient_boost</th>\n",
       "      <th>gradient_boost_opt</th>\n",
       "    </tr>\n",
       "  </thead>\n",
       "  <tbody>\n",
       "    <tr>\n",
       "      <th>0</th>\n",
       "      <td>accuracy_mean_kfold</td>\n",
       "      <td>0.518827</td>\n",
       "      <td>0.843998</td>\n",
       "      <td>0.843552</td>\n",
       "      <td>0.876628</td>\n",
       "    </tr>\n",
       "    <tr>\n",
       "      <th>1</th>\n",
       "      <td>standard deviation_k_fold</td>\n",
       "      <td>0.023409</td>\n",
       "      <td>0.014449</td>\n",
       "      <td>0.011472</td>\n",
       "      <td>0.006181</td>\n",
       "    </tr>\n",
       "  </tbody>\n",
       "</table>\n",
       "</div>"
      ],
      "text/plain": [
       "                  parameters  Decision_Tree  adaboost  Gradient_boost  \\\n",
       "0        accuracy_mean_kfold       0.518827  0.843998        0.843552   \n",
       "1  standard deviation_k_fold       0.023409  0.014449        0.011472   \n",
       "\n",
       "   gradient_boost_opt  \n",
       "0            0.876628  \n",
       "1            0.006181  "
      ]
     },
     "execution_count": 599,
     "metadata": {},
     "output_type": "execute_result"
    }
   ],
   "source": [
    "a_disp3"
   ]
  },
  {
   "cell_type": "code",
   "execution_count": 600,
   "metadata": {},
   "outputs": [
    {
     "data": {
      "text/html": [
       "<div>\n",
       "<style scoped>\n",
       "    .dataframe tbody tr th:only-of-type {\n",
       "        vertical-align: middle;\n",
       "    }\n",
       "\n",
       "    .dataframe tbody tr th {\n",
       "        vertical-align: top;\n",
       "    }\n",
       "\n",
       "    .dataframe thead th {\n",
       "        text-align: right;\n",
       "    }\n",
       "</style>\n",
       "<table border=\"1\" class=\"dataframe\">\n",
       "  <thead>\n",
       "    <tr style=\"text-align: right;\">\n",
       "      <th></th>\n",
       "      <th>room_bed</th>\n",
       "      <th>room_bath</th>\n",
       "      <th>living_measure</th>\n",
       "      <th>coast</th>\n",
       "      <th>sight</th>\n",
       "      <th>condition</th>\n",
       "      <th>quality</th>\n",
       "      <th>ceil_measure</th>\n",
       "      <th>basement</th>\n",
       "      <th>yr_renovated</th>\n",
       "      <th>lat</th>\n",
       "      <th>long</th>\n",
       "      <th>living_measure15</th>\n",
       "      <th>furnished</th>\n",
       "      <th>total_area</th>\n",
       "    </tr>\n",
       "  </thead>\n",
       "  <tbody>\n",
       "    <tr>\n",
       "      <th>0</th>\n",
       "      <td>4</td>\n",
       "      <td>3.25</td>\n",
       "      <td>3.034201e+09</td>\n",
       "      <td>0</td>\n",
       "      <td>0</td>\n",
       "      <td>5</td>\n",
       "      <td>9</td>\n",
       "      <td>3020.0</td>\n",
       "      <td>0</td>\n",
       "      <td>0</td>\n",
       "      <td>47.7174</td>\n",
       "      <td>-122.336</td>\n",
       "      <td>2120</td>\n",
       "      <td>1</td>\n",
       "      <td>16477</td>\n",
       "    </tr>\n",
       "    <tr>\n",
       "      <th>1</th>\n",
       "      <td>4</td>\n",
       "      <td>2.50</td>\n",
       "      <td>8.731982e+09</td>\n",
       "      <td>0</td>\n",
       "      <td>0</td>\n",
       "      <td>3</td>\n",
       "      <td>8</td>\n",
       "      <td>1750.0</td>\n",
       "      <td>800</td>\n",
       "      <td>0</td>\n",
       "      <td>47.3165</td>\n",
       "      <td>-122.386</td>\n",
       "      <td>2260</td>\n",
       "      <td>0</td>\n",
       "      <td>10050</td>\n",
       "    </tr>\n",
       "  </tbody>\n",
       "</table>\n",
       "</div>"
      ],
      "text/plain": [
       "   room_bed  room_bath  living_measure  coast  sight  condition  quality  \\\n",
       "0         4       3.25    3.034201e+09      0      0          5        9   \n",
       "1         4       2.50    8.731982e+09      0      0          3        8   \n",
       "\n",
       "   ceil_measure  basement  yr_renovated      lat     long  living_measure15  \\\n",
       "0        3020.0         0             0  47.7174 -122.336              2120   \n",
       "1        1750.0       800             0  47.3165 -122.386              2260   \n",
       "\n",
       "   furnished  total_area  \n",
       "0          1       16477  \n",
       "1          0       10050  "
      ]
     },
     "execution_count": 600,
     "metadata": {},
     "output_type": "execute_result"
    }
   ],
   "source": [
    "x.head(2)"
   ]
  },
  {
   "cell_type": "code",
   "execution_count": 601,
   "metadata": {},
   "outputs": [
    {
     "data": {
      "text/html": [
       "<style type=\"text/css\">\n",
       "    table.dataframe td, table.dataframe th {\n",
       "        border-style: solid;\n",
       "    }\n",
       "</style>\n"
      ],
      "text/plain": [
       "<IPython.core.display.HTML object>"
      ]
     },
     "metadata": {},
     "output_type": "display_data"
    }
   ],
   "source": [
    "%%HTML\n",
    "<style type=\"text/css\">\n",
    "    table.dataframe td, table.dataframe th {\n",
    "        border-style: solid;\n",
    "    }\n",
    "</style>"
   ]
  },
  {
   "cell_type": "code",
   "execution_count": 602,
   "metadata": {
    "scrolled": true
   },
   "outputs": [
    {
     "data": {
      "text/html": [
       "<div>\n",
       "<style scoped>\n",
       "    .dataframe tbody tr th:only-of-type {\n",
       "        vertical-align: middle;\n",
       "    }\n",
       "\n",
       "    .dataframe tbody tr th {\n",
       "        vertical-align: top;\n",
       "    }\n",
       "\n",
       "    .dataframe thead th {\n",
       "        text-align: right;\n",
       "    }\n",
       "</style>\n",
       "<table border=\"1\" class=\"dataframe\">\n",
       "  <thead>\n",
       "    <tr style=\"text-align: right;\">\n",
       "      <th></th>\n",
       "      <th>parameters</th>\n",
       "      <th>Decision_Tree</th>\n",
       "      <th>adaboost</th>\n",
       "      <th>Gradient_boost</th>\n",
       "      <th>gradient_boost_opt</th>\n",
       "    </tr>\n",
       "  </thead>\n",
       "  <tbody>\n",
       "    <tr>\n",
       "      <th>0</th>\n",
       "      <td>accuracy_mean_kfold</td>\n",
       "      <td>0.518827</td>\n",
       "      <td>0.843998</td>\n",
       "      <td>0.843552</td>\n",
       "      <td>0.876628</td>\n",
       "    </tr>\n",
       "    <tr>\n",
       "      <th>1</th>\n",
       "      <td>standard deviation_k_fold</td>\n",
       "      <td>0.023409</td>\n",
       "      <td>0.014449</td>\n",
       "      <td>0.011472</td>\n",
       "      <td>0.006181</td>\n",
       "    </tr>\n",
       "  </tbody>\n",
       "</table>\n",
       "</div>"
      ],
      "text/plain": [
       "                  parameters  Decision_Tree  adaboost  Gradient_boost  \\\n",
       "0        accuracy_mean_kfold       0.518827  0.843998        0.843552   \n",
       "1  standard deviation_k_fold       0.023409  0.014449        0.011472   \n",
       "\n",
       "   gradient_boost_opt  \n",
       "0            0.876628  \n",
       "1            0.006181  "
      ]
     },
     "execution_count": 602,
     "metadata": {},
     "output_type": "execute_result"
    }
   ],
   "source": [
    "a_disp3"
   ]
  },
  {
   "cell_type": "code",
   "execution_count": 603,
   "metadata": {},
   "outputs": [],
   "source": [
    "## The decision tree regressor is being selected as final model as it is giving highest accuracy\n",
    "## among all the other models\n"
   ]
  },
  {
   "cell_type": "code",
   "execution_count": null,
   "metadata": {},
   "outputs": [],
   "source": [
    "model=randomCV()"
   ]
  },
  {
   "cell_type": "code",
   "execution_count": null,
   "metadata": {},
   "outputs": [],
   "source": [
    "randomCV.predict([[1,2,5,7,3,78,900,1,2,3,4,21,12,2,2]])"
   ]
  },
  {
   "cell_type": "code",
   "execution_count": null,
   "metadata": {},
   "outputs": [],
   "source": [
    "pip install gradio"
   ]
  },
  {
   "cell_type": "code",
   "execution_count": 608,
   "metadata": {},
   "outputs": [
    {
     "data": {
      "text/plain": [
       "['randomCV.joblib']"
      ]
     },
     "execution_count": 608,
     "metadata": {},
     "output_type": "execute_result"
    }
   ],
   "source": [
    "from joblib import dump,load\n",
    "dump(clf1,'randomCV.joblib')"
   ]
  },
  {
   "cell_type": "code",
   "execution_count": 612,
   "metadata": {},
   "outputs": [
    {
     "name": "stdout",
     "output_type": "stream",
     "text": [
      "Running locally at: http://127.0.0.1:7889/\n",
      "To create a public link, set `share=True` in `launch()`.\n",
      "Interface loading below...\n"
     ]
    },
    {
     "data": {
      "text/html": [
       "\n",
       "        <iframe\n",
       "            width=\"1000\"\n",
       "            height=\"500\"\n",
       "            src=\"http://127.0.0.1:7889/\"\n",
       "            frameborder=\"0\"\n",
       "            allowfullscreen\n",
       "        ></iframe>\n",
       "        "
      ],
      "text/plain": [
       "<IPython.lib.display.IFrame at 0x7f83bd4e6d90>"
      ]
     },
     "metadata": {},
     "output_type": "display_data"
    },
    {
     "data": {
      "text/plain": [
       "(<Flask 'gradio.networking'>, 'http://127.0.0.1:7889/', None)"
      ]
     },
     "execution_count": 612,
     "metadata": {},
     "output_type": "execute_result"
    },
    {
     "name": "stderr",
     "output_type": "stream",
     "text": [
      "[2021-02-14 17:25:48,410] ERROR in app: Exception on /api/predict/ [POST]\n",
      "Traceback (most recent call last):\n",
      "  File \"/Library/Frameworks/Python.framework/Versions/3.9/lib/python3.9/site-packages/flask/app.py\", line 2447, in wsgi_app\n",
      "    response = self.full_dispatch_request()\n",
      "  File \"/Library/Frameworks/Python.framework/Versions/3.9/lib/python3.9/site-packages/flask/app.py\", line 1952, in full_dispatch_request\n",
      "    rv = self.handle_user_exception(e)\n",
      "  File \"/Library/Frameworks/Python.framework/Versions/3.9/lib/python3.9/site-packages/flask_cors/extension.py\", line 165, in wrapped_function\n",
      "    return cors_after_request(app.make_response(f(*args, **kwargs)))\n",
      "  File \"/Library/Frameworks/Python.framework/Versions/3.9/lib/python3.9/site-packages/flask/app.py\", line 1821, in handle_user_exception\n",
      "    reraise(exc_type, exc_value, tb)\n",
      "  File \"/Library/Frameworks/Python.framework/Versions/3.9/lib/python3.9/site-packages/flask/_compat.py\", line 39, in reraise\n",
      "    raise value\n",
      "  File \"/Library/Frameworks/Python.framework/Versions/3.9/lib/python3.9/site-packages/flask/app.py\", line 1950, in full_dispatch_request\n",
      "    rv = self.dispatch_request()\n",
      "  File \"/Library/Frameworks/Python.framework/Versions/3.9/lib/python3.9/site-packages/flask/app.py\", line 1936, in dispatch_request\n",
      "    return self.view_functions[rule.endpoint](**req.view_args)\n",
      "  File \"/Library/Frameworks/Python.framework/Versions/3.9/lib/python3.9/site-packages/gradio/networking.py\", line 136, in predict\n",
      "    return jsonify(output)\n",
      "  File \"/Library/Frameworks/Python.framework/Versions/3.9/lib/python3.9/site-packages/flask/json/__init__.py\", line 370, in jsonify\n",
      "    dumps(data, indent=indent, separators=separators) + \"\\n\",\n",
      "  File \"/Library/Frameworks/Python.framework/Versions/3.9/lib/python3.9/site-packages/flask/json/__init__.py\", line 211, in dumps\n",
      "    rv = _json.dumps(obj, **kwargs)\n",
      "  File \"/Library/Frameworks/Python.framework/Versions/3.9/lib/python3.9/json/__init__.py\", line 234, in dumps\n",
      "    return cls(\n",
      "  File \"/Library/Frameworks/Python.framework/Versions/3.9/lib/python3.9/json/encoder.py\", line 199, in encode\n",
      "    chunks = self.iterencode(o, _one_shot=True)\n",
      "  File \"/Library/Frameworks/Python.framework/Versions/3.9/lib/python3.9/json/encoder.py\", line 257, in iterencode\n",
      "    return _iterencode(o, 0)\n",
      "  File \"/Library/Frameworks/Python.framework/Versions/3.9/lib/python3.9/site-packages/flask/json/__init__.py\", line 100, in default\n",
      "    return _json.JSONEncoder.default(self, o)\n",
      "  File \"/Library/Frameworks/Python.framework/Versions/3.9/lib/python3.9/json/encoder.py\", line 179, in default\n",
      "    raise TypeError(f'Object of type {o.__class__.__name__} '\n",
      "TypeError: Object of type ndarray is not JSON serializable\n"
     ]
    }
   ],
   "source": [
    "import gradio as gr\n",
    "def greet(room_bed,room_bath,living_measure,coast,sight,condition,quality,ceil_measure,basement,yr_renovated,lat,long,living_measure15,furnished,total_area):\n",
    "    return randomCV.predict([[room_bed,room_bath,living_measure,coast,sight,condition,quality,ceil_measure,basement,yr_renovated,lat,long,living_measure15,furnished,total_area]])\n",
    "iface = gr.Interface(\n",
    " fn=greet,\n",
    " inputs=[\"text\",\"text\",\"text\",\"text\",\"text\",\"text\",\"text\",\"text\",\"text\",\"text\",\"text\",\"text\",\"text\",\"text\",\"text\"],\n",
    " outputs=[\"number\"])\n",
    "iface.launch()"
   ]
  }
 ],
 "metadata": {
  "colab": {
   "collapsed_sections": [],
   "name": "capstone_GL_(1)-3.ipynb",
   "provenance": []
  },
  "kernelspec": {
   "display_name": "Python 3",
   "language": "python",
   "name": "python3"
  },
  "language_info": {
   "codemirror_mode": {
    "name": "ipython",
    "version": 3
   },
   "file_extension": ".py",
   "mimetype": "text/x-python",
   "name": "python",
   "nbconvert_exporter": "python",
   "pygments_lexer": "ipython3",
   "version": "3.9.1"
  }
 },
 "nbformat": 4,
 "nbformat_minor": 1
}
