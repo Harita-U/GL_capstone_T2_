{
  "nbformat": 4,
  "nbformat_minor": 0,
  "metadata": {
    "colab": {
      "name": "capstone_GL (1).ipynb",
      "provenance": [],
      "collapsed_sections": []
    },
    "kernelspec": {
      "display_name": "Python 3",
      "language": "python",
      "name": "python3"
    },
    "language_info": {
      "codemirror_mode": {
        "name": "ipython",
        "version": 3
      },
      "file_extension": ".py",
      "mimetype": "text/x-python",
      "name": "python",
      "nbconvert_exporter": "python",
      "pygments_lexer": "ipython3",
      "version": "3.8.5"
    }
  },
  "cells": [
    {
      "cell_type": "markdown",
      "metadata": {
        "id": "PJKFqTSdPKy5"
      },
      "source": [
        "\r\n",
        "##Problem Definition\r\n",
        " When a person want to sell or buy a house , facing an issue like without knowing the worth of house, house may be sold or bought underestpimate price or over price, to overcome the issue we analyse with availble feature and predict price. \"\r\n",
        " ## Objective\",\r\n",
        "  \"Build model which will predict the house price when required features passed to the model. So we will\"\r\n",
        "\r\n",
        "Find out the significant features from the given features dataset which affects the house price the most\r\n",
        "There are certain set of feature values given in the problem statement. The feature values are given below\r\n",
        "1. cid: a notation for a house \r\n",
        "2. dayhours: Date house was sold \r\n",
        "3. price: Price is prediction target \r\n",
        "4. room_bed: Number of Bedrooms/House\r\n",
        "5. room_bath: Number of bathrooms/bedrooms\r\n",
        "6. living_measure: square footage of the home \r\n",
        "7. lot_measure: quare footage of the lot\r\n",
        "8. ceil: Total floors (levels) in house\r\n",
        "9. coast: House which has a view to a waterfront \r\n",
        "10. sight: Has been viewed \r\n",
        "11. condition: How good the condition is (Overall) \r\n",
        "12. quality: grade given to the housing unit, based on grading system \r\n",
        "13. ceil_measure: square footage of house apart from basement \r\n",
        "14. basement_measure: square footage of the basement \r\n",
        "15. yr_built: Built Year \r\n",
        "16. yr_renovated: Year when house was renovated \r\n",
        "17. zipcode: zip \r\n",
        "18. lat: Latitude coordinate \r\n",
        "19. long: Longitude coordinate \r\n",
        "20. living_measure15: Living room area in 2015(implies-- some renovations) This might or might not have affected the lotsize area \r\n",
        "21. lot_measure15: lotSize area in 2015(implies-- some renovations) \r\n",
        "22. furnished: Based on the quality of room \r\n",
        "23. Total_area: Measure of both living and lot \r\n",
        "\r\n",
        "\r\n",
        "*The model is useful for the users/owners who want to see the flat. So according to the data provided we have to build the model to give the seller fair idea(not much not less) of the price to sell the flat.*\r\n"
      ]
    },
    {
      "cell_type": "code",
      "metadata": {
        "id": "LE4CydEfOo-r"
      },
      "source": [
        "import pandas as pd\r\n",
        "import numpy as np\r\n",
        "import seaborn as sns\r\n",
        "import matplotlib.pyplot as plt"
      ],
      "execution_count": 19,
      "outputs": []
    },
    {
      "cell_type": "code",
      "metadata": {
        "id": "XxO_jnNu9SkA"
      },
      "source": [
        "data=pd.read_csv('innercity.csv')"
      ],
      "execution_count": 20,
      "outputs": []
    },
    {
      "cell_type": "code",
      "metadata": {
        "colab": {
          "base_uri": "https://localhost:8080/",
          "height": 224
        },
        "id": "cO_oV-HuE8Qe",
        "outputId": "0d3309c2-b869-4e3e-df3c-23b5d3aef4b4"
      },
      "source": [
        "data.head(5)"
      ],
      "execution_count": 21,
      "outputs": [
        {
          "output_type": "execute_result",
          "data": {
            "text/html": [
              "<div>\n",
              "<style scoped>\n",
              "    .dataframe tbody tr th:only-of-type {\n",
              "        vertical-align: middle;\n",
              "    }\n",
              "\n",
              "    .dataframe tbody tr th {\n",
              "        vertical-align: top;\n",
              "    }\n",
              "\n",
              "    .dataframe thead th {\n",
              "        text-align: right;\n",
              "    }\n",
              "</style>\n",
              "<table border=\"1\" class=\"dataframe\">\n",
              "  <thead>\n",
              "    <tr style=\"text-align: right;\">\n",
              "      <th></th>\n",
              "      <th>cid</th>\n",
              "      <th>dayhours</th>\n",
              "      <th>price</th>\n",
              "      <th>room_bed</th>\n",
              "      <th>room_bath</th>\n",
              "      <th>living_measure</th>\n",
              "      <th>lot_measure</th>\n",
              "      <th>ceil</th>\n",
              "      <th>coast</th>\n",
              "      <th>sight</th>\n",
              "      <th>condition</th>\n",
              "      <th>quality</th>\n",
              "      <th>ceil_measure</th>\n",
              "      <th>basement</th>\n",
              "      <th>yr_built</th>\n",
              "      <th>yr_renovated</th>\n",
              "      <th>zipcode</th>\n",
              "      <th>lat</th>\n",
              "      <th>long</th>\n",
              "      <th>living_measure15</th>\n",
              "      <th>lot_measure15</th>\n",
              "      <th>furnished</th>\n",
              "      <th>total_area</th>\n",
              "    </tr>\n",
              "  </thead>\n",
              "  <tbody>\n",
              "    <tr>\n",
              "      <th>0</th>\n",
              "      <td>3034200666</td>\n",
              "      <td>20141107T000000</td>\n",
              "      <td>808100</td>\n",
              "      <td>4</td>\n",
              "      <td>3.25</td>\n",
              "      <td>3020</td>\n",
              "      <td>13457</td>\n",
              "      <td>1.0</td>\n",
              "      <td>0</td>\n",
              "      <td>0</td>\n",
              "      <td>5</td>\n",
              "      <td>9</td>\n",
              "      <td>3020</td>\n",
              "      <td>0</td>\n",
              "      <td>1956</td>\n",
              "      <td>0</td>\n",
              "      <td>98133</td>\n",
              "      <td>47.7174</td>\n",
              "      <td>-122.336</td>\n",
              "      <td>2120</td>\n",
              "      <td>7553</td>\n",
              "      <td>1</td>\n",
              "      <td>16477</td>\n",
              "    </tr>\n",
              "    <tr>\n",
              "      <th>1</th>\n",
              "      <td>8731981640</td>\n",
              "      <td>20141204T000000</td>\n",
              "      <td>277500</td>\n",
              "      <td>4</td>\n",
              "      <td>2.50</td>\n",
              "      <td>2550</td>\n",
              "      <td>7500</td>\n",
              "      <td>1.0</td>\n",
              "      <td>0</td>\n",
              "      <td>0</td>\n",
              "      <td>3</td>\n",
              "      <td>8</td>\n",
              "      <td>1750</td>\n",
              "      <td>800</td>\n",
              "      <td>1976</td>\n",
              "      <td>0</td>\n",
              "      <td>98023</td>\n",
              "      <td>47.3165</td>\n",
              "      <td>-122.386</td>\n",
              "      <td>2260</td>\n",
              "      <td>8800</td>\n",
              "      <td>0</td>\n",
              "      <td>10050</td>\n",
              "    </tr>\n",
              "    <tr>\n",
              "      <th>2</th>\n",
              "      <td>5104530220</td>\n",
              "      <td>20150420T000000</td>\n",
              "      <td>404000</td>\n",
              "      <td>3</td>\n",
              "      <td>2.50</td>\n",
              "      <td>2370</td>\n",
              "      <td>4324</td>\n",
              "      <td>2.0</td>\n",
              "      <td>0</td>\n",
              "      <td>0</td>\n",
              "      <td>3</td>\n",
              "      <td>8</td>\n",
              "      <td>2370</td>\n",
              "      <td>0</td>\n",
              "      <td>2006</td>\n",
              "      <td>0</td>\n",
              "      <td>98038</td>\n",
              "      <td>47.3515</td>\n",
              "      <td>-121.999</td>\n",
              "      <td>2370</td>\n",
              "      <td>4348</td>\n",
              "      <td>0</td>\n",
              "      <td>6694</td>\n",
              "    </tr>\n",
              "    <tr>\n",
              "      <th>3</th>\n",
              "      <td>6145600285</td>\n",
              "      <td>20140529T000000</td>\n",
              "      <td>300000</td>\n",
              "      <td>2</td>\n",
              "      <td>1.00</td>\n",
              "      <td>820</td>\n",
              "      <td>3844</td>\n",
              "      <td>1.0</td>\n",
              "      <td>0</td>\n",
              "      <td>0</td>\n",
              "      <td>4</td>\n",
              "      <td>6</td>\n",
              "      <td>820</td>\n",
              "      <td>0</td>\n",
              "      <td>1916</td>\n",
              "      <td>0</td>\n",
              "      <td>98133</td>\n",
              "      <td>47.7049</td>\n",
              "      <td>-122.349</td>\n",
              "      <td>1520</td>\n",
              "      <td>3844</td>\n",
              "      <td>0</td>\n",
              "      <td>4664</td>\n",
              "    </tr>\n",
              "    <tr>\n",
              "      <th>4</th>\n",
              "      <td>8924100111</td>\n",
              "      <td>20150424T000000</td>\n",
              "      <td>699000</td>\n",
              "      <td>2</td>\n",
              "      <td>1.50</td>\n",
              "      <td>1400</td>\n",
              "      <td>4050</td>\n",
              "      <td>1.0</td>\n",
              "      <td>0</td>\n",
              "      <td>0</td>\n",
              "      <td>4</td>\n",
              "      <td>8</td>\n",
              "      <td>1400</td>\n",
              "      <td>0</td>\n",
              "      <td>1954</td>\n",
              "      <td>0</td>\n",
              "      <td>98115</td>\n",
              "      <td>47.6768</td>\n",
              "      <td>-122.269</td>\n",
              "      <td>1900</td>\n",
              "      <td>5940</td>\n",
              "      <td>0</td>\n",
              "      <td>5450</td>\n",
              "    </tr>\n",
              "  </tbody>\n",
              "</table>\n",
              "</div>"
            ],
            "text/plain": [
              "          cid         dayhours   price  ...  lot_measure15  furnished  total_area\n",
              "0  3034200666  20141107T000000  808100  ...           7553          1       16477\n",
              "1  8731981640  20141204T000000  277500  ...           8800          0       10050\n",
              "2  5104530220  20150420T000000  404000  ...           4348          0        6694\n",
              "3  6145600285  20140529T000000  300000  ...           3844          0        4664\n",
              "4  8924100111  20150424T000000  699000  ...           5940          0        5450\n",
              "\n",
              "[5 rows x 23 columns]"
            ]
          },
          "metadata": {
            "tags": []
          },
          "execution_count": 21
        }
      ]
    },
    {
      "cell_type": "code",
      "metadata": {
        "colab": {
          "base_uri": "https://localhost:8080/"
        },
        "id": "y-xvGX6ycaiw",
        "outputId": "659f1061-5125-4013-aaa0-8a84d26ca0c8"
      },
      "source": [
        "# Size of the data set\r\n",
        "data.shape"
      ],
      "execution_count": 22,
      "outputs": [
        {
          "output_type": "execute_result",
          "data": {
            "text/plain": [
              "(21613, 23)"
            ]
          },
          "metadata": {
            "tags": []
          },
          "execution_count": 22
        }
      ]
    },
    {
      "cell_type": "code",
      "metadata": {
        "colab": {
          "base_uri": "https://localhost:8080/"
        },
        "id": "QqmoaPDrIFSe",
        "outputId": "459a6383-3762-4877-8e73-01c410d4a13e"
      },
      "source": [
        "# let's check whether our dataset have any null/missing values\n",
        "data.isnull().sum()"
      ],
      "execution_count": 23,
      "outputs": [
        {
          "output_type": "execute_result",
          "data": {
            "text/plain": [
              "cid                 0\n",
              "dayhours            0\n",
              "price               0\n",
              "room_bed            0\n",
              "room_bath           0\n",
              "living_measure      0\n",
              "lot_measure         0\n",
              "ceil                0\n",
              "coast               0\n",
              "sight               0\n",
              "condition           0\n",
              "quality             0\n",
              "ceil_measure        0\n",
              "basement            0\n",
              "yr_built            0\n",
              "yr_renovated        0\n",
              "zipcode             0\n",
              "lat                 0\n",
              "long                0\n",
              "living_measure15    0\n",
              "lot_measure15       0\n",
              "furnished           0\n",
              "total_area          0\n",
              "dtype: int64"
            ]
          },
          "metadata": {
            "tags": []
          },
          "execution_count": 23
        }
      ]
    },
    {
      "cell_type": "code",
      "metadata": {
        "colab": {
          "base_uri": "https://localhost:8080/"
        },
        "id": "8VsEDznLInxs",
        "outputId": "6186575c-0338-47ff-c2d5-a49954ca5492"
      },
      "source": [
        "##  Know more about the data\r\n",
        "data.info()"
      ],
      "execution_count": 24,
      "outputs": [
        {
          "output_type": "stream",
          "text": [
            "<class 'pandas.core.frame.DataFrame'>\n",
            "RangeIndex: 21613 entries, 0 to 21612\n",
            "Data columns (total 23 columns):\n",
            " #   Column            Non-Null Count  Dtype  \n",
            "---  ------            --------------  -----  \n",
            " 0   cid               21613 non-null  int64  \n",
            " 1   dayhours          21613 non-null  object \n",
            " 2   price             21613 non-null  int64  \n",
            " 3   room_bed          21613 non-null  int64  \n",
            " 4   room_bath         21613 non-null  float64\n",
            " 5   living_measure    21613 non-null  int64  \n",
            " 6   lot_measure       21613 non-null  int64  \n",
            " 7   ceil              21613 non-null  float64\n",
            " 8   coast             21613 non-null  int64  \n",
            " 9   sight             21613 non-null  int64  \n",
            " 10  condition         21613 non-null  int64  \n",
            " 11  quality           21613 non-null  int64  \n",
            " 12  ceil_measure      21613 non-null  int64  \n",
            " 13  basement          21613 non-null  int64  \n",
            " 14  yr_built          21613 non-null  int64  \n",
            " 15  yr_renovated      21613 non-null  int64  \n",
            " 16  zipcode           21613 non-null  int64  \n",
            " 17  lat               21613 non-null  float64\n",
            " 18  long              21613 non-null  float64\n",
            " 19  living_measure15  21613 non-null  int64  \n",
            " 20  lot_measure15     21613 non-null  int64  \n",
            " 21  furnished         21613 non-null  int64  \n",
            " 22  total_area        21613 non-null  int64  \n",
            "dtypes: float64(4), int64(18), object(1)\n",
            "memory usage: 3.8+ MB\n"
          ],
          "name": "stdout"
        }
      ]
    },
    {
      "cell_type": "code",
      "metadata": {
        "id": "A4E4wQSWaTAY"
      },
      "source": [
        "## Finding out the duplicates in the cid column\r\n",
        "dups= data.pivot_table(index=['cid'], aggfunc = 'size') # Checking the repition of elements"
      ],
      "execution_count": 25,
      "outputs": []
    },
    {
      "cell_type": "code",
      "metadata": {
        "colab": {
          "base_uri": "https://localhost:8080/",
          "height": 162
        },
        "id": "rr-vSTfbpnxL",
        "outputId": "881b043c-1751-4f36-a96a-b431a4e7d287"
      },
      "source": [
        "data[data['cid']==795000620]\r\n",
        "## before dropping duplicates the frequency of the cid=795000620"
      ],
      "execution_count": 26,
      "outputs": [
        {
          "output_type": "execute_result",
          "data": {
            "text/html": [
              "<div>\n",
              "<style scoped>\n",
              "    .dataframe tbody tr th:only-of-type {\n",
              "        vertical-align: middle;\n",
              "    }\n",
              "\n",
              "    .dataframe tbody tr th {\n",
              "        vertical-align: top;\n",
              "    }\n",
              "\n",
              "    .dataframe thead th {\n",
              "        text-align: right;\n",
              "    }\n",
              "</style>\n",
              "<table border=\"1\" class=\"dataframe\">\n",
              "  <thead>\n",
              "    <tr style=\"text-align: right;\">\n",
              "      <th></th>\n",
              "      <th>cid</th>\n",
              "      <th>dayhours</th>\n",
              "      <th>price</th>\n",
              "      <th>room_bed</th>\n",
              "      <th>room_bath</th>\n",
              "      <th>living_measure</th>\n",
              "      <th>lot_measure</th>\n",
              "      <th>ceil</th>\n",
              "      <th>coast</th>\n",
              "      <th>sight</th>\n",
              "      <th>condition</th>\n",
              "      <th>quality</th>\n",
              "      <th>ceil_measure</th>\n",
              "      <th>basement</th>\n",
              "      <th>yr_built</th>\n",
              "      <th>yr_renovated</th>\n",
              "      <th>zipcode</th>\n",
              "      <th>lat</th>\n",
              "      <th>long</th>\n",
              "      <th>living_measure15</th>\n",
              "      <th>lot_measure15</th>\n",
              "      <th>furnished</th>\n",
              "      <th>total_area</th>\n",
              "    </tr>\n",
              "  </thead>\n",
              "  <tbody>\n",
              "    <tr>\n",
              "      <th>1634</th>\n",
              "      <td>795000620</td>\n",
              "      <td>20140924T000000</td>\n",
              "      <td>115000</td>\n",
              "      <td>3</td>\n",
              "      <td>1.0</td>\n",
              "      <td>1080</td>\n",
              "      <td>6250</td>\n",
              "      <td>1.0</td>\n",
              "      <td>0</td>\n",
              "      <td>0</td>\n",
              "      <td>2</td>\n",
              "      <td>5</td>\n",
              "      <td>1080</td>\n",
              "      <td>0</td>\n",
              "      <td>1950</td>\n",
              "      <td>0</td>\n",
              "      <td>98168</td>\n",
              "      <td>47.5045</td>\n",
              "      <td>-122.33</td>\n",
              "      <td>1070</td>\n",
              "      <td>6250</td>\n",
              "      <td>0</td>\n",
              "      <td>7330</td>\n",
              "    </tr>\n",
              "    <tr>\n",
              "      <th>15184</th>\n",
              "      <td>795000620</td>\n",
              "      <td>20141215T000000</td>\n",
              "      <td>124000</td>\n",
              "      <td>3</td>\n",
              "      <td>1.0</td>\n",
              "      <td>1080</td>\n",
              "      <td>6250</td>\n",
              "      <td>1.0</td>\n",
              "      <td>0</td>\n",
              "      <td>0</td>\n",
              "      <td>2</td>\n",
              "      <td>5</td>\n",
              "      <td>1080</td>\n",
              "      <td>0</td>\n",
              "      <td>1950</td>\n",
              "      <td>0</td>\n",
              "      <td>98168</td>\n",
              "      <td>47.5045</td>\n",
              "      <td>-122.33</td>\n",
              "      <td>1070</td>\n",
              "      <td>6250</td>\n",
              "      <td>0</td>\n",
              "      <td>7330</td>\n",
              "    </tr>\n",
              "    <tr>\n",
              "      <th>20544</th>\n",
              "      <td>795000620</td>\n",
              "      <td>20150311T000000</td>\n",
              "      <td>157000</td>\n",
              "      <td>3</td>\n",
              "      <td>1.0</td>\n",
              "      <td>1080</td>\n",
              "      <td>6250</td>\n",
              "      <td>1.0</td>\n",
              "      <td>0</td>\n",
              "      <td>0</td>\n",
              "      <td>2</td>\n",
              "      <td>5</td>\n",
              "      <td>1080</td>\n",
              "      <td>0</td>\n",
              "      <td>1950</td>\n",
              "      <td>0</td>\n",
              "      <td>98168</td>\n",
              "      <td>47.5045</td>\n",
              "      <td>-122.33</td>\n",
              "      <td>1070</td>\n",
              "      <td>6250</td>\n",
              "      <td>0</td>\n",
              "      <td>7330</td>\n",
              "    </tr>\n",
              "  </tbody>\n",
              "</table>\n",
              "</div>"
            ],
            "text/plain": [
              "             cid         dayhours   price  ...  lot_measure15  furnished  total_area\n",
              "1634   795000620  20140924T000000  115000  ...           6250          0        7330\n",
              "15184  795000620  20141215T000000  124000  ...           6250          0        7330\n",
              "20544  795000620  20150311T000000  157000  ...           6250          0        7330\n",
              "\n",
              "[3 rows x 23 columns]"
            ]
          },
          "metadata": {
            "tags": []
          },
          "execution_count": 26
        }
      ]
    },
    {
      "cell_type": "code",
      "metadata": {
        "colab": {
          "base_uri": "https://localhost:8080/"
        },
        "id": "E-EL3N5tIFS-",
        "outputId": "c9c1a78c-cd67-47ad-ace5-cd9dab956179"
      },
      "source": [
        "#cid - CID is appearing muliple times, it seems data contains house which is sold multiple times\n",
        "cid_count=data.cid.value_counts()\n",
        "cid_count[cid_count>1].shape"
      ],
      "execution_count": 27,
      "outputs": [
        {
          "output_type": "execute_result",
          "data": {
            "text/plain": [
              "(176,)"
            ]
          },
          "metadata": {
            "tags": []
          },
          "execution_count": 27
        }
      ]
    },
    {
      "cell_type": "code",
      "metadata": {
        "id": "rh8hbxdluA19"
      },
      "source": [
        "data1= data.drop_duplicates(subset=['cid'])"
      ],
      "execution_count": 28,
      "outputs": []
    },
    {
      "cell_type": "code",
      "metadata": {
        "colab": {
          "base_uri": "https://localhost:8080/",
          "height": 134
        },
        "id": "xwIjgIN2KRjG",
        "outputId": "9e140ae7-8a34-4fbc-a994-30b229d4342d"
      },
      "source": [
        "data1[data['cid']==795000620]\r\n",
        "## To check that it drops the elements in the cid columns, Hence it remove the botton two rows"
      ],
      "execution_count": 29,
      "outputs": [
        {
          "output_type": "stream",
          "text": [
            "/usr/local/lib/python3.6/dist-packages/ipykernel_launcher.py:1: UserWarning: Boolean Series key will be reindexed to match DataFrame index.\n",
            "  \"\"\"Entry point for launching an IPython kernel.\n"
          ],
          "name": "stderr"
        },
        {
          "output_type": "execute_result",
          "data": {
            "text/html": [
              "<div>\n",
              "<style scoped>\n",
              "    .dataframe tbody tr th:only-of-type {\n",
              "        vertical-align: middle;\n",
              "    }\n",
              "\n",
              "    .dataframe tbody tr th {\n",
              "        vertical-align: top;\n",
              "    }\n",
              "\n",
              "    .dataframe thead th {\n",
              "        text-align: right;\n",
              "    }\n",
              "</style>\n",
              "<table border=\"1\" class=\"dataframe\">\n",
              "  <thead>\n",
              "    <tr style=\"text-align: right;\">\n",
              "      <th></th>\n",
              "      <th>cid</th>\n",
              "      <th>dayhours</th>\n",
              "      <th>price</th>\n",
              "      <th>room_bed</th>\n",
              "      <th>room_bath</th>\n",
              "      <th>living_measure</th>\n",
              "      <th>lot_measure</th>\n",
              "      <th>ceil</th>\n",
              "      <th>coast</th>\n",
              "      <th>sight</th>\n",
              "      <th>condition</th>\n",
              "      <th>quality</th>\n",
              "      <th>ceil_measure</th>\n",
              "      <th>basement</th>\n",
              "      <th>yr_built</th>\n",
              "      <th>yr_renovated</th>\n",
              "      <th>zipcode</th>\n",
              "      <th>lat</th>\n",
              "      <th>long</th>\n",
              "      <th>living_measure15</th>\n",
              "      <th>lot_measure15</th>\n",
              "      <th>furnished</th>\n",
              "      <th>total_area</th>\n",
              "    </tr>\n",
              "  </thead>\n",
              "  <tbody>\n",
              "    <tr>\n",
              "      <th>1634</th>\n",
              "      <td>795000620</td>\n",
              "      <td>20140924T000000</td>\n",
              "      <td>115000</td>\n",
              "      <td>3</td>\n",
              "      <td>1.0</td>\n",
              "      <td>1080</td>\n",
              "      <td>6250</td>\n",
              "      <td>1.0</td>\n",
              "      <td>0</td>\n",
              "      <td>0</td>\n",
              "      <td>2</td>\n",
              "      <td>5</td>\n",
              "      <td>1080</td>\n",
              "      <td>0</td>\n",
              "      <td>1950</td>\n",
              "      <td>0</td>\n",
              "      <td>98168</td>\n",
              "      <td>47.5045</td>\n",
              "      <td>-122.33</td>\n",
              "      <td>1070</td>\n",
              "      <td>6250</td>\n",
              "      <td>0</td>\n",
              "      <td>7330</td>\n",
              "    </tr>\n",
              "  </tbody>\n",
              "</table>\n",
              "</div>"
            ],
            "text/plain": [
              "            cid         dayhours   price  ...  lot_measure15  furnished  total_area\n",
              "1634  795000620  20140924T000000  115000  ...           6250          0        7330\n",
              "\n",
              "[1 rows x 23 columns]"
            ]
          },
          "metadata": {
            "tags": []
          },
          "execution_count": 29
        }
      ]
    },
    {
      "cell_type": "code",
      "metadata": {
        "colab": {
          "base_uri": "https://localhost:8080/"
        },
        "id": "_5ZU0I48uF-o",
        "outputId": "e0d07cb1-a72e-4a67-b6cf-c11fc006fb14"
      },
      "source": [
        "data1.shape ## As you check that duplicates rows are removed"
      ],
      "execution_count": 30,
      "outputs": [
        {
          "output_type": "execute_result",
          "data": {
            "text/plain": [
              "(21436, 23)"
            ]
          },
          "metadata": {
            "tags": []
          },
          "execution_count": 30
        }
      ]
    },
    {
      "cell_type": "code",
      "metadata": {
        "id": "GI3Fq8uVLcVX"
      },
      "source": [
        "## Univariate Analysis"
      ],
      "execution_count": 31,
      "outputs": []
    },
    {
      "cell_type": "code",
      "metadata": {
        "colab": {
          "base_uri": "https://localhost:8080/"
        },
        "id": "YDCRxSNqMb7g",
        "outputId": "a88d1333-4f6d-46f2-ab7e-c3704c4cbf0b"
      },
      "source": [
        "data1.columns"
      ],
      "execution_count": 32,
      "outputs": [
        {
          "output_type": "execute_result",
          "data": {
            "text/plain": [
              "Index(['cid', 'dayhours', 'price', 'room_bed', 'room_bath', 'living_measure',\n",
              "       'lot_measure', 'ceil', 'coast', 'sight', 'condition', 'quality',\n",
              "       'ceil_measure', 'basement', 'yr_built', 'yr_renovated', 'zipcode',\n",
              "       'lat', 'long', 'living_measure15', 'lot_measure15', 'furnished',\n",
              "       'total_area'],\n",
              "      dtype='object')"
            ]
          },
          "metadata": {
            "tags": []
          },
          "execution_count": 32
        }
      ]
    },
    {
      "cell_type": "code",
      "metadata": {
        "colab": {
          "base_uri": "https://localhost:8080/",
          "height": 1000
        },
        "id": "J6Oy4VVxMQzb",
        "outputId": "93a59d5e-08d5-4ca5-ebf6-4dce4b7f291d"
      },
      "source": [
        "## Just to have fast glimpse of min, max range we are having this quick look by using univariate box plot\r\n",
        "# size of plots to make it uniform throughout our analysis in the notebook\r\n",
        "# It will give clear picture of no of outliers in system and the limit range\r\n",
        "## Ceil, coast, sight,condition and funished are discrete variable\r\n",
        "columns=['price','living_measure','lot_measure','ceil_measure','basement','living_measure15','total_area']\r\n",
        "plotSizeX = 12\r\n",
        "plotSizeY = 6\r\n",
        "# let's boxplot all the numerical columns and see if there any outliers\r\n",
        "for i in columns:\r\n",
        "    data.iloc[:, 1:].boxplot(column=i)\r\n",
        "    plt.show()"
      ],
      "execution_count": 124,
      "outputs": [
        {
          "output_type": "display_data",
          "data": {
            "image/png": "[encoded data removed]",
            "text/plain": [
              "<Figure size 432x288 with 1 Axes>"
            ]
          },
          "metadata": {
            "tags": []
          }
        },
        {
          "output_type": "display_data",
          "data": {
            "image/png": "[encoded data removed]",
            "text/plain": [
              "<Figure size 432x288 with 1 Axes>"
            ]
          },
          "metadata": {
            "tags": []
          }
        },
        {
          "output_type": "display_data",
          "data": {
            "image/png": "[encoded data removed]",
            "text/plain": [
              "<Figure size 432x288 with 1 Axes>"
            ]
          },
          "metadata": {
            "tags": []
          }
        },
        {
          "output_type": "display_data",
          "data": {
            "image/png": "[encoded data removed]",
            "text/plain": [
              "<Figure size 432x288 with 1 Axes>"
            ]
          },
          "metadata": {
            "tags": []
          }
        },
        {
          "output_type": "display_data",
          "data": {
            "image/png": "[encoded data removed]",
            "text/plain": [
              "<Figure size 432x288 with 1 Axes>"
            ]
          },
          "metadata": {
            "tags": []
          }
        },
        {
          "output_type": "display_data",
          "data": {
            "image/png": "[encoded data removed]",
            "text/plain": [
              "<Figure size 432x288 with 1 Axes>"
            ]
          },
          "metadata": {
            "tags": []
          }
        },
        {
          "output_type": "display_data",
          "data": {
            "image/png": "[encoded data removed]",
            "text/plain": [
              "<Figure size 432x288 with 1 Axes>"
            ]
          },
          "metadata": {
            "tags": []
          }
        }
      ]
    },
    {
      "cell_type": "code",
      "metadata": {
        "colab": {
          "base_uri": "https://localhost:8080/",
          "height": 1000
        },
        "id": "pP53YT__GxzH",
        "outputId": "4fb36da8-6678-4419-9df7-c9b4fdcc2718"
      },
      "source": [
        "## Have a look at the dist plot in the continous variables\r\n",
        "fig, ax= plt.subplots(5, 2, figsize=(25, 20))\r\n",
        "sns.distplot(data1['price'],ax=ax[0][0])\r\n",
        "sns.distplot(data1['price'],ax=ax[0][1])\r\n",
        "sns.distplot(data1['room_bath'],ax=ax[1][0])\r\n",
        "sns.distplot(data1['living_measure'],ax=ax[1][1])\r\n",
        "sns.distplot(data1['lot_measure15'],ax=ax[2][0])\r\n",
        "sns.distplot(data1['ceil_measure'],ax=ax[2][1])\r\n",
        "sns.distplot(data1['basement'],ax=ax[3][0])\r\n",
        "sns.distplot(data1['living_measure15'],ax=ax[3][1])\r\n",
        "sns.distplot(data1['lot_measure15'],ax=ax[4][0])\r\n",
        "sns.distplot(data1['total_area'],ax=ax[4][1])"
      ],
      "execution_count": 34,
      "outputs": [
        {
          "output_type": "stream",
          "text": [
            "/usr/local/lib/python3.6/dist-packages/seaborn/distributions.py:2557: FutureWarning: `distplot` is a deprecated function and will be removed in a future version. Please adapt your code to use either `displot` (a figure-level function with similar flexibility) or `histplot` (an axes-level function for histograms).\n",
            "  warnings.warn(msg, FutureWarning)\n",
            "/usr/local/lib/python3.6/dist-packages/seaborn/distributions.py:2557: FutureWarning: `distplot` is a deprecated function and will be removed in a future version. Please adapt your code to use either `displot` (a figure-level function with similar flexibility) or `histplot` (an axes-level function for histograms).\n",
            "  warnings.warn(msg, FutureWarning)\n",
            "/usr/local/lib/python3.6/dist-packages/seaborn/distributions.py:2557: FutureWarning: `distplot` is a deprecated function and will be removed in a future version. Please adapt your code to use either `displot` (a figure-level function with similar flexibility) or `histplot` (an axes-level function for histograms).\n",
            "  warnings.warn(msg, FutureWarning)\n",
            "/usr/local/lib/python3.6/dist-packages/seaborn/distributions.py:2557: FutureWarning: `distplot` is a deprecated function and will be removed in a future version. Please adapt your code to use either `displot` (a figure-level function with similar flexibility) or `histplot` (an axes-level function for histograms).\n",
            "  warnings.warn(msg, FutureWarning)\n",
            "/usr/local/lib/python3.6/dist-packages/seaborn/distributions.py:2557: FutureWarning: `distplot` is a deprecated function and will be removed in a future version. Please adapt your code to use either `displot` (a figure-level function with similar flexibility) or `histplot` (an axes-level function for histograms).\n",
            "  warnings.warn(msg, FutureWarning)\n",
            "/usr/local/lib/python3.6/dist-packages/seaborn/distributions.py:2557: FutureWarning: `distplot` is a deprecated function and will be removed in a future version. Please adapt your code to use either `displot` (a figure-level function with similar flexibility) or `histplot` (an axes-level function for histograms).\n",
            "  warnings.warn(msg, FutureWarning)\n",
            "/usr/local/lib/python3.6/dist-packages/seaborn/distributions.py:2557: FutureWarning: `distplot` is a deprecated function and will be removed in a future version. Please adapt your code to use either `displot` (a figure-level function with similar flexibility) or `histplot` (an axes-level function for histograms).\n",
            "  warnings.warn(msg, FutureWarning)\n",
            "/usr/local/lib/python3.6/dist-packages/seaborn/distributions.py:2557: FutureWarning: `distplot` is a deprecated function and will be removed in a future version. Please adapt your code to use either `displot` (a figure-level function with similar flexibility) or `histplot` (an axes-level function for histograms).\n",
            "  warnings.warn(msg, FutureWarning)\n",
            "/usr/local/lib/python3.6/dist-packages/seaborn/distributions.py:2557: FutureWarning: `distplot` is a deprecated function and will be removed in a future version. Please adapt your code to use either `displot` (a figure-level function with similar flexibility) or `histplot` (an axes-level function for histograms).\n",
            "  warnings.warn(msg, FutureWarning)\n",
            "/usr/local/lib/python3.6/dist-packages/seaborn/distributions.py:2557: FutureWarning: `distplot` is a deprecated function and will be removed in a future version. Please adapt your code to use either `displot` (a figure-level function with similar flexibility) or `histplot` (an axes-level function for histograms).\n",
            "  warnings.warn(msg, FutureWarning)\n"
          ],
          "name": "stderr"
        },
        {
          "output_type": "execute_result",
          "data": {
            "text/plain": [
              "<matplotlib.axes._subplots.AxesSubplot at 0x7f22ed3da438>"
            ]
          },
          "metadata": {
            "tags": []
          },
          "execution_count": 34
        },
        {
          "output_type": "display_data",
          "data": {
            "image/png": "[encoded data removed]",
            "text/plain": [
              "<Figure size 1800x1440 with 10 Axes>"
            ]
          },
          "metadata": {
            "tags": [],
            "needs_background": "light"
          }
        }
      ]
    },
    {
      "cell_type": "code",
      "metadata": {
        "id": "Cvr3M-5LPcxu"
      },
      "source": [
        "## Price is left skewed\n",
        "##Room_bath has multiple gauusian peaks\n",
        "## Living measure also left skewed\n",
        "##lot_measure15 normally distributed\n",
        "## ceil_measure is left skewed\n",
        "## Basement is right skewed\n",
        "## living_measure15 is left skewed"
      ],
      "execution_count": null,
      "outputs": []
    },
    {
      "cell_type": "code",
      "metadata": {
        "colab": {
          "base_uri": "https://localhost:8080/"
        },
        "id": "ZLFiFYFe5OxS",
        "outputId": "cd6d1de4-81a5-4f62-f38e-b582e82ad743"
      },
      "source": [
        "## Have a look at the discret variables\r\n",
        "data1['room_bed'].value_counts()"
      ],
      "execution_count": 35,
      "outputs": [
        {
          "output_type": "execute_result",
          "data": {
            "text/plain": [
              "3     9731\n",
              "4     6849\n",
              "2     2736\n",
              "5     1586\n",
              "6      265\n",
              "1      194\n",
              "7       38\n",
              "8       13\n",
              "0       13\n",
              "9        6\n",
              "10       3\n",
              "11       1\n",
              "33       1\n",
              "Name: room_bed, dtype: int64"
            ]
          },
          "metadata": {
            "tags": []
          },
          "execution_count": 35
        }
      ]
    },
    {
      "cell_type": "code",
      "metadata": {
        "colab": {
          "base_uri": "https://localhost:8080/",
          "height": 100
        },
        "id": "297qsRudCqgl",
        "outputId": "ef6cb802-de6e-48de-95ca-28e8b6868555"
      },
      "source": [
        "data1[data1['room_bed']==33]"
      ],
      "execution_count": 79,
      "outputs": [
        {
          "output_type": "execute_result",
          "data": {
            "text/html": [
              "<div>\n",
              "<style scoped>\n",
              "    .dataframe tbody tr th:only-of-type {\n",
              "        vertical-align: middle;\n",
              "    }\n",
              "\n",
              "    .dataframe tbody tr th {\n",
              "        vertical-align: top;\n",
              "    }\n",
              "\n",
              "    .dataframe thead th {\n",
              "        text-align: right;\n",
              "    }\n",
              "</style>\n",
              "<table border=\"1\" class=\"dataframe\">\n",
              "  <thead>\n",
              "    <tr style=\"text-align: right;\">\n",
              "      <th></th>\n",
              "      <th>cid</th>\n",
              "      <th>dayhours</th>\n",
              "      <th>price</th>\n",
              "      <th>room_bed</th>\n",
              "      <th>room_bath</th>\n",
              "      <th>living_measure</th>\n",
              "      <th>lot_measure</th>\n",
              "      <th>ceil</th>\n",
              "      <th>coast</th>\n",
              "      <th>sight</th>\n",
              "      <th>condition</th>\n",
              "      <th>quality</th>\n",
              "      <th>ceil_measure</th>\n",
              "      <th>basement</th>\n",
              "      <th>yr_built</th>\n",
              "      <th>yr_renovated</th>\n",
              "      <th>zipcode</th>\n",
              "      <th>lat</th>\n",
              "      <th>long</th>\n",
              "      <th>living_measure15</th>\n",
              "      <th>lot_measure15</th>\n",
              "      <th>furnished</th>\n",
              "      <th>total_area</th>\n",
              "    </tr>\n",
              "  </thead>\n",
              "  <tbody>\n",
              "    <tr>\n",
              "      <th>750</th>\n",
              "      <td>2402100895</td>\n",
              "      <td>20140625T000000</td>\n",
              "      <td>640000</td>\n",
              "      <td>33</td>\n",
              "      <td>1.75</td>\n",
              "      <td>1620</td>\n",
              "      <td>6000</td>\n",
              "      <td>1.0</td>\n",
              "      <td>0</td>\n",
              "      <td>0</td>\n",
              "      <td>5</td>\n",
              "      <td>7</td>\n",
              "      <td>1040</td>\n",
              "      <td>580</td>\n",
              "      <td>68</td>\n",
              "      <td>0</td>\n",
              "      <td>98103</td>\n",
              "      <td>47.6878</td>\n",
              "      <td>-122.331</td>\n",
              "      <td>1330</td>\n",
              "      <td>4700</td>\n",
              "      <td>0</td>\n",
              "      <td>7620</td>\n",
              "    </tr>\n",
              "  </tbody>\n",
              "</table>\n",
              "</div>"
            ],
            "text/plain": [
              "            cid         dayhours   price  ...  lot_measure15  furnished  total_area\n",
              "750  2402100895  20140625T000000  640000  ...           4700          0        7620\n",
              "\n",
              "[1 rows x 23 columns]"
            ]
          },
          "metadata": {
            "tags": []
          },
          "execution_count": 79
        }
      ]
    },
    {
      "cell_type": "code",
      "metadata": {
        "colab": {
          "base_uri": "https://localhost:8080/",
          "height": 255
        },
        "id": "stH4Qq6tEsBz",
        "outputId": "216dc540-78b2-437d-a9f6-113d61505a25"
      },
      "source": [
        "data1[data1['room_bed']==9]"
      ],
      "execution_count": 88,
      "outputs": [
        {
          "output_type": "execute_result",
          "data": {
            "text/html": [
              "<div>\n",
              "<style scoped>\n",
              "    .dataframe tbody tr th:only-of-type {\n",
              "        vertical-align: middle;\n",
              "    }\n",
              "\n",
              "    .dataframe tbody tr th {\n",
              "        vertical-align: top;\n",
              "    }\n",
              "\n",
              "    .dataframe thead th {\n",
              "        text-align: right;\n",
              "    }\n",
              "</style>\n",
              "<table border=\"1\" class=\"dataframe\">\n",
              "  <thead>\n",
              "    <tr style=\"text-align: right;\">\n",
              "      <th></th>\n",
              "      <th>cid</th>\n",
              "      <th>dayhours</th>\n",
              "      <th>price</th>\n",
              "      <th>room_bed</th>\n",
              "      <th>room_bath</th>\n",
              "      <th>living_measure</th>\n",
              "      <th>lot_measure</th>\n",
              "      <th>ceil</th>\n",
              "      <th>coast</th>\n",
              "      <th>sight</th>\n",
              "      <th>condition</th>\n",
              "      <th>quality</th>\n",
              "      <th>ceil_measure</th>\n",
              "      <th>basement</th>\n",
              "      <th>yr_built</th>\n",
              "      <th>yr_renovated</th>\n",
              "      <th>zipcode</th>\n",
              "      <th>lat</th>\n",
              "      <th>long</th>\n",
              "      <th>living_measure15</th>\n",
              "      <th>lot_measure15</th>\n",
              "      <th>furnished</th>\n",
              "      <th>total_area</th>\n",
              "    </tr>\n",
              "  </thead>\n",
              "  <tbody>\n",
              "    <tr>\n",
              "      <th>1745</th>\n",
              "      <td>2902200015</td>\n",
              "      <td>20150106T000000</td>\n",
              "      <td>700000</td>\n",
              "      <td>9</td>\n",
              "      <td>3.0</td>\n",
              "      <td>3680</td>\n",
              "      <td>4400</td>\n",
              "      <td>2.0</td>\n",
              "      <td>0</td>\n",
              "      <td>0</td>\n",
              "      <td>3</td>\n",
              "      <td>7</td>\n",
              "      <td>2830</td>\n",
              "      <td>850</td>\n",
              "      <td>107</td>\n",
              "      <td>0</td>\n",
              "      <td>98102</td>\n",
              "      <td>47.6374</td>\n",
              "      <td>-122.324</td>\n",
              "      <td>1960</td>\n",
              "      <td>2450</td>\n",
              "      <td>0</td>\n",
              "      <td>8080</td>\n",
              "    </tr>\n",
              "    <tr>\n",
              "      <th>7396</th>\n",
              "      <td>9822700190</td>\n",
              "      <td>20140808T000000</td>\n",
              "      <td>1280000</td>\n",
              "      <td>9</td>\n",
              "      <td>4.5</td>\n",
              "      <td>3650</td>\n",
              "      <td>5000</td>\n",
              "      <td>2.0</td>\n",
              "      <td>0</td>\n",
              "      <td>0</td>\n",
              "      <td>3</td>\n",
              "      <td>8</td>\n",
              "      <td>2530</td>\n",
              "      <td>1120</td>\n",
              "      <td>100</td>\n",
              "      <td>2010</td>\n",
              "      <td>98105</td>\n",
              "      <td>47.6604</td>\n",
              "      <td>-122.289</td>\n",
              "      <td>2510</td>\n",
              "      <td>5000</td>\n",
              "      <td>0</td>\n",
              "      <td>8650</td>\n",
              "    </tr>\n",
              "    <tr>\n",
              "      <th>11950</th>\n",
              "      <td>8823901445</td>\n",
              "      <td>20150313T000000</td>\n",
              "      <td>934000</td>\n",
              "      <td>9</td>\n",
              "      <td>3.0</td>\n",
              "      <td>2820</td>\n",
              "      <td>4480</td>\n",
              "      <td>2.0</td>\n",
              "      <td>0</td>\n",
              "      <td>0</td>\n",
              "      <td>3</td>\n",
              "      <td>7</td>\n",
              "      <td>1880</td>\n",
              "      <td>940</td>\n",
              "      <td>97</td>\n",
              "      <td>0</td>\n",
              "      <td>98105</td>\n",
              "      <td>47.6654</td>\n",
              "      <td>-122.307</td>\n",
              "      <td>2460</td>\n",
              "      <td>4400</td>\n",
              "      <td>0</td>\n",
              "      <td>7300</td>\n",
              "    </tr>\n",
              "    <tr>\n",
              "      <th>14687</th>\n",
              "      <td>424049043</td>\n",
              "      <td>20140811T000000</td>\n",
              "      <td>450000</td>\n",
              "      <td>9</td>\n",
              "      <td>7.5</td>\n",
              "      <td>4050</td>\n",
              "      <td>6504</td>\n",
              "      <td>2.0</td>\n",
              "      <td>0</td>\n",
              "      <td>0</td>\n",
              "      <td>3</td>\n",
              "      <td>7</td>\n",
              "      <td>4050</td>\n",
              "      <td>0</td>\n",
              "      <td>19</td>\n",
              "      <td>0</td>\n",
              "      <td>98144</td>\n",
              "      <td>47.5923</td>\n",
              "      <td>-122.301</td>\n",
              "      <td>1448</td>\n",
              "      <td>3866</td>\n",
              "      <td>0</td>\n",
              "      <td>10554</td>\n",
              "    </tr>\n",
              "    <tr>\n",
              "      <th>20750</th>\n",
              "      <td>8823900290</td>\n",
              "      <td>20150317T000000</td>\n",
              "      <td>1400000</td>\n",
              "      <td>9</td>\n",
              "      <td>4.0</td>\n",
              "      <td>4620</td>\n",
              "      <td>5508</td>\n",
              "      <td>2.5</td>\n",
              "      <td>0</td>\n",
              "      <td>0</td>\n",
              "      <td>3</td>\n",
              "      <td>11</td>\n",
              "      <td>3870</td>\n",
              "      <td>750</td>\n",
              "      <td>100</td>\n",
              "      <td>0</td>\n",
              "      <td>98105</td>\n",
              "      <td>47.6684</td>\n",
              "      <td>-122.309</td>\n",
              "      <td>2710</td>\n",
              "      <td>4320</td>\n",
              "      <td>1</td>\n",
              "      <td>10128</td>\n",
              "    </tr>\n",
              "    <tr>\n",
              "      <th>21036</th>\n",
              "      <td>1997200215</td>\n",
              "      <td>20140507T000000</td>\n",
              "      <td>599999</td>\n",
              "      <td>9</td>\n",
              "      <td>4.5</td>\n",
              "      <td>3830</td>\n",
              "      <td>6988</td>\n",
              "      <td>2.5</td>\n",
              "      <td>0</td>\n",
              "      <td>0</td>\n",
              "      <td>3</td>\n",
              "      <td>7</td>\n",
              "      <td>2450</td>\n",
              "      <td>1380</td>\n",
              "      <td>77</td>\n",
              "      <td>0</td>\n",
              "      <td>98103</td>\n",
              "      <td>47.6927</td>\n",
              "      <td>-122.338</td>\n",
              "      <td>1460</td>\n",
              "      <td>6291</td>\n",
              "      <td>0</td>\n",
              "      <td>10818</td>\n",
              "    </tr>\n",
              "  </tbody>\n",
              "</table>\n",
              "</div>"
            ],
            "text/plain": [
              "              cid         dayhours  ...  furnished  total_area\n",
              "1745   2902200015  20150106T000000  ...          0        8080\n",
              "7396   9822700190  20140808T000000  ...          0        8650\n",
              "11950  8823901445  20150313T000000  ...          0        7300\n",
              "14687   424049043  20140811T000000  ...          0       10554\n",
              "20750  8823900290  20150317T000000  ...          1       10128\n",
              "21036  1997200215  20140507T000000  ...          0       10818\n",
              "\n",
              "[6 rows x 23 columns]"
            ]
          },
          "metadata": {
            "tags": []
          },
          "execution_count": 88
        }
      ]
    },
    {
      "cell_type": "code",
      "metadata": {
        "colab": {
          "base_uri": "https://localhost:8080/"
        },
        "id": "9sa2nVjcEYSk",
        "outputId": "248c55c3-e969-476b-d2b7-b1c4ee1dd582"
      },
      "source": [
        "data1['room_bed'].describe()"
      ],
      "execution_count": 80,
      "outputs": [
        {
          "output_type": "execute_result",
          "data": {
            "text/plain": [
              "count    21436.000000\n",
              "mean         3.371571\n",
              "std          0.929205\n",
              "min          0.000000\n",
              "25%          3.000000\n",
              "50%          3.000000\n",
              "75%          4.000000\n",
              "max         33.000000\n",
              "Name: room_bed, dtype: float64"
            ]
          },
          "metadata": {
            "tags": []
          },
          "execution_count": 80
        }
      ]
    },
    {
      "cell_type": "code",
      "metadata": {
        "colab": {
          "base_uri": "https://localhost:8080/"
        },
        "id": "0rC-OBlDEjCe",
        "outputId": "a66246a0-1272-44be-9088-51a225d91a0e"
      },
      "source": [
        "data1['price'].describe()"
      ],
      "execution_count": 81,
      "outputs": [
        {
          "output_type": "execute_result",
          "data": {
            "text/plain": [
              "count    2.143600e+04\n",
              "mean     5.411958e+05\n",
              "std      3.677302e+05\n",
              "min      7.500000e+04\n",
              "25%      3.230000e+05\n",
              "50%      4.500000e+05\n",
              "75%      6.450000e+05\n",
              "max      7.700000e+06\n",
              "Name: price, dtype: float64"
            ]
          },
          "metadata": {
            "tags": []
          },
          "execution_count": 81
        }
      ]
    },
    {
      "cell_type": "code",
      "metadata": {
        "id": "o7D4lbYyClXt"
      },
      "source": [
        "### There can't be any 33,11,10,9 rooms and also hence removing it"
      ],
      "execution_count": 37,
      "outputs": []
    },
    {
      "cell_type": "code",
      "metadata": {
        "colab": {
          "base_uri": "https://localhost:8080/"
        },
        "id": "GOTgHV7wGc-R",
        "outputId": "c6846c31-91a3-4071-a5e8-9b41807c06b4"
      },
      "source": [
        "data1.shape"
      ],
      "execution_count": 90,
      "outputs": [
        {
          "output_type": "execute_result",
          "data": {
            "text/plain": [
              "(21436, 23)"
            ]
          },
          "metadata": {
            "tags": []
          },
          "execution_count": 90
        }
      ]
    },
    {
      "cell_type": "code",
      "metadata": {
        "colab": {
          "base_uri": "https://localhost:8080/"
        },
        "id": "n1V9dbqyGWkL",
        "outputId": "c976b634-8677-42e8-ae31-9a2a7cf8708b"
      },
      "source": [
        "data1.drop(data1[ (data1.room_bed == 33)|((data1.room_bed == 11)|(data1.room_bed == 10)|(data1.room_bed ==9)) ].index, inplace=True)"
      ],
      "execution_count": 95,
      "outputs": [
        {
          "output_type": "stream",
          "text": [
            "/usr/local/lib/python3.6/dist-packages/pandas/core/frame.py:4174: SettingWithCopyWarning: \n",
            "A value is trying to be set on a copy of a slice from a DataFrame\n",
            "\n",
            "See the caveats in the documentation: https://pandas.pydata.org/pandas-docs/stable/user_guide/indexing.html#returning-a-view-versus-a-copy\n",
            "  errors=errors,\n"
          ],
          "name": "stderr"
        }
      ]
    },
    {
      "cell_type": "code",
      "metadata": {
        "colab": {
          "base_uri": "https://localhost:8080/"
        },
        "id": "sp4zpqMAGoU-",
        "outputId": "7b7553c9-84d1-4ead-db14-dcb74956d673"
      },
      "source": [
        "data1.shape"
      ],
      "execution_count": 96,
      "outputs": [
        {
          "output_type": "execute_result",
          "data": {
            "text/plain": [
              "(21425, 23)"
            ]
          },
          "metadata": {
            "tags": []
          },
          "execution_count": 96
        }
      ]
    },
    {
      "cell_type": "code",
      "metadata": {
        "colab": {
          "base_uri": "https://localhost:8080/",
          "height": 436
        },
        "id": "Ka0t4R8IKIJ2",
        "outputId": "5e536784-4e43-4262-9cc6-607e4d7b01ae"
      },
      "source": [
        "## As it is categorical value Let's look at the count plot to see the counts\r\n",
        "c=data1['sight'].value_counts().sort_values(ascending= False)\r\n",
        "sns.countplot(data1['sight'])\r\n",
        "c"
      ],
      "execution_count": 38,
      "outputs": [
        {
          "output_type": "stream",
          "text": [
            "/usr/local/lib/python3.6/dist-packages/seaborn/_decorators.py:43: FutureWarning: Pass the following variable as a keyword arg: x. From version 0.12, the only valid positional argument will be `data`, and passing other arguments without an explicit keyword will result in an error or misinterpretation.\n",
            "  FutureWarning\n"
          ],
          "name": "stderr"
        },
        {
          "output_type": "execute_result",
          "data": {
            "text/plain": [
              "0    19320\n",
              "2      962\n",
              "3      507\n",
              "1      331\n",
              "4      316\n",
              "Name: sight, dtype: int64"
            ]
          },
          "metadata": {
            "tags": []
          },
          "execution_count": 38
        },
        {
          "output_type": "display_data",
          "data": {
            "image/png": "[encoded data removed]",
            "text/plain": [
              "<Figure size 432x288 with 1 Axes>"
            ]
          },
          "metadata": {
            "tags": [],
            "needs_background": "light"
          }
        }
      ]
    },
    {
      "cell_type": "code",
      "metadata": {
        "colab": {
          "base_uri": "https://localhost:8080/",
          "height": 384
        },
        "id": "fnTFQIHGKL_u",
        "outputId": "c480953c-d96d-471b-fa58-94e84acebda0"
      },
      "source": [
        "c=data1['coast'].value_counts().sort_values(ascending= False)\r\n",
        "sns.countplot(data1['coast']) ## As it is categorical value Let's look at the count plot to see the counts\r\n",
        "c"
      ],
      "execution_count": 39,
      "outputs": [
        {
          "output_type": "stream",
          "text": [
            "/usr/local/lib/python3.6/dist-packages/seaborn/_decorators.py:43: FutureWarning: Pass the following variable as a keyword arg: x. From version 0.12, the only valid positional argument will be `data`, and passing other arguments without an explicit keyword will result in an error or misinterpretation.\n",
            "  FutureWarning\n"
          ],
          "name": "stderr"
        },
        {
          "output_type": "execute_result",
          "data": {
            "text/plain": [
              "0    21273\n",
              "1      163\n",
              "Name: coast, dtype: int64"
            ]
          },
          "metadata": {
            "tags": []
          },
          "execution_count": 39
        },
        {
          "output_type": "display_data",
          "data": {
            "image/png": "[encoded data removed]",
            "text/plain": [
              "<Figure size 432x288 with 1 Axes>"
            ]
          },
          "metadata": {
            "tags": [],
            "needs_background": "light"
          }
        }
      ]
    },
    {
      "cell_type": "code",
      "metadata": {
        "colab": {
          "base_uri": "https://localhost:8080/",
          "height": 350
        },
        "id": "zt4LlSdgKRSY",
        "outputId": "2dea4c24-94cc-4f9a-dffd-aa92f19c5151"
      },
      "source": [
        "c=sns.countplot(data1['condition'])\r\n",
        "## As it is categorical value Let's look at the count plot to see the counts\r\n",
        "data1['condition'].value_counts().sort_values(ascending= False)\r\n",
        "c"
      ],
      "execution_count": 40,
      "outputs": [
        {
          "output_type": "stream",
          "text": [
            "/usr/local/lib/python3.6/dist-packages/seaborn/_decorators.py:43: FutureWarning: Pass the following variable as a keyword arg: x. From version 0.12, the only valid positional argument will be `data`, and passing other arguments without an explicit keyword will result in an error or misinterpretation.\n",
            "  FutureWarning\n"
          ],
          "name": "stderr"
        },
        {
          "output_type": "execute_result",
          "data": {
            "text/plain": [
              "<matplotlib.axes._subplots.AxesSubplot at 0x7f22ed1fec18>"
            ]
          },
          "metadata": {
            "tags": []
          },
          "execution_count": 40
        },
        {
          "output_type": "display_data",
          "data": {
            "image/png": "[encoded data removed]",
            "text/plain": [
              "<Figure size 432x288 with 1 Axes>"
            ]
          },
          "metadata": {
            "tags": [],
            "needs_background": "light"
          }
        }
      ]
    },
    {
      "cell_type": "code",
      "metadata": {
        "colab": {
          "base_uri": "https://localhost:8080/",
          "height": 384
        },
        "id": "UGJEblAiKbFO",
        "outputId": "fa9ab5c1-aff5-42a1-8a35-13b97e70ee8d"
      },
      "source": [
        "sns.countplot(data1['furnished'])\r\n",
        "## As it is categorical value Let's look at the count plot to see the counts\r\n",
        "data1['furnished'].value_counts().sort_values(ascending= False)"
      ],
      "execution_count": 41,
      "outputs": [
        {
          "output_type": "stream",
          "text": [
            "/usr/local/lib/python3.6/dist-packages/seaborn/_decorators.py:43: FutureWarning: Pass the following variable as a keyword arg: x. From version 0.12, the only valid positional argument will be `data`, and passing other arguments without an explicit keyword will result in an error or misinterpretation.\n",
            "  FutureWarning\n"
          ],
          "name": "stderr"
        },
        {
          "output_type": "execute_result",
          "data": {
            "text/plain": [
              "0    17202\n",
              "1     4234\n",
              "Name: furnished, dtype: int64"
            ]
          },
          "metadata": {
            "tags": []
          },
          "execution_count": 41
        },
        {
          "output_type": "display_data",
          "data": {
            "image/png": "[encoded data removed]",
            "text/plain": [
              "<Figure size 432x288 with 1 Axes>"
            ]
          },
          "metadata": {
            "tags": [],
            "needs_background": "light"
          }
        }
      ]
    },
    {
      "cell_type": "code",
      "metadata": {
        "id": "cKhFHru-XrYN"
      },
      "source": [
        "## Room_bed is discrete variable with few outliers ie. 33,11,10,9\r\n",
        "## Ceil, coast, sight,condition and funished are discrete variable\r\n",
        "## Iat(Latitude) and long(longitude) has no importance, & zipcode is sufficient\r\n",
        "## Yr reinovated and yr built has no significance until and unless its modified "
      ],
      "execution_count": 42,
      "outputs": []
    },
    {
      "cell_type": "code",
      "metadata": {
        "id": "3L5RVd_xND_3",
        "colab": {
          "base_uri": "https://localhost:8080/"
        },
        "outputId": "956f05e2-c891-4a4f-8db7-745b8483b4d2"
      },
      "source": [
        "## Let's modify the yr_built as the no of year of the construction of house till the final year\r\n",
        "data1['yr_built']= 2015 - data1['yr_built']"
      ],
      "execution_count": 43,
      "outputs": [
        {
          "output_type": "stream",
          "text": [
            "/usr/local/lib/python3.6/dist-packages/ipykernel_launcher.py:2: SettingWithCopyWarning: \n",
            "A value is trying to be set on a copy of a slice from a DataFrame.\n",
            "Try using .loc[row_indexer,col_indexer] = value instead\n",
            "\n",
            "See the caveats in the documentation: https://pandas.pydata.org/pandas-docs/stable/user_guide/indexing.html#returning-a-view-versus-a-copy\n",
            "  \n"
          ],
          "name": "stderr"
        }
      ]
    },
    {
      "cell_type": "markdown",
      "metadata": {
        "id": "88_f3xkaHhrZ"
      },
      "source": [
        "## Bivariate Analysis"
      ]
    },
    {
      "cell_type": "code",
      "metadata": {
        "id": "ycY_Qw8K_6vX"
      },
      "source": [
        "## Bivariate analysis\r\n",
        "## Target is to find the relation of different variables on the price as well as among the different columns\r\n",
        "## For discrete data type we will see other types of plot to see the relation to infer the output pattern"
      ],
      "execution_count": 44,
      "outputs": []
    },
    {
      "cell_type": "code",
      "metadata": {
        "colab": {
          "base_uri": "https://localhost:8080/",
          "height": 291
        },
        "id": "Gpgy5O_pC0pS",
        "outputId": "157f4e9e-e78d-422c-cd85-57402ba0a859"
      },
      "source": [
        "sns.boxplot(x='room_bed',y='price',data=data1)\r\n",
        "## 33 bed no is obviously outlier dropping that partcular row and we can also see there is no relation between no of room_bed and price\r\n",
        "data_new=data1[data1['room_bed'] != 33]\r\n",
        "## Plot indicates as room_bed increases the price also increases"
      ],
      "execution_count": 45,
      "outputs": [
        {
          "output_type": "display_data",
          "data": {
            "image/png": "[encoded data removed]",
            "text/plain": [
              "<Figure size 432x288 with 1 Axes>"
            ]
          },
          "metadata": {
            "tags": [],
            "needs_background": "light"
          }
        }
      ]
    },
    {
      "cell_type": "code",
      "metadata": {
        "colab": {
          "base_uri": "https://localhost:8080/",
          "height": 308
        },
        "id": "xxxRnz7IGgxI",
        "outputId": "a554c843-32c6-4805-94c5-68015eada1aa"
      },
      "source": [
        "sns.boxplot(x='room_bath',y='price',data=data_new)\r\n",
        "## The prices increases on increasing the no of room_bath"
      ],
      "execution_count": 46,
      "outputs": [
        {
          "output_type": "execute_result",
          "data": {
            "text/plain": [
              "<matplotlib.axes._subplots.AxesSubplot at 0x7f22ed2b1c18>"
            ]
          },
          "metadata": {
            "tags": []
          },
          "execution_count": 46
        },
        {
          "output_type": "display_data",
          "data": {
            "image/png": "[encoded data removed]",
            "text/plain": [
              "<Figure size 432x288 with 1 Axes>"
            ]
          },
          "metadata": {
            "tags": [],
            "needs_background": "light"
          }
        }
      ]
    },
    {
      "cell_type": "code",
      "metadata": {
        "colab": {
          "base_uri": "https://localhost:8080/",
          "height": 308
        },
        "id": "DYAbAITXH-dS",
        "outputId": "e7b2c046-6017-4521-db2e-905110c453cd"
      },
      "source": [
        "#'living_measure' is a continous variable\r\n",
        "plt.scatter(data_new['living_measure'], data_new['price'])\r\n",
        "plt.xlabel('living_measure')\r\n",
        "plt.ylabel('price')\r\n",
        "## Hence it can be seen that as living measure increases the price also increases\r\n",
        "corr1=data_new['living_measure'].corr(data_new['price'])\r\n",
        "print(corr1)## Hence can be seen high correlation between living_measure and price\r\n",
        "####The point between 12000 and 14000 seems to be ouliers let's check other feature which are making it on lower price \r\n",
        "# if it is significant else remove that"
      ],
      "execution_count": 47,
      "outputs": [
        {
          "output_type": "stream",
          "text": [
            "0.7016507541567069\n"
          ],
          "name": "stdout"
        },
        {
          "output_type": "display_data",
          "data": {
            "image/png": "[encoded data removed]",
            "text/plain": [
              "<Figure size 432x288 with 1 Axes>"
            ]
          },
          "metadata": {
            "tags": [],
            "needs_background": "light"
          }
        }
      ]
    },
    {
      "cell_type": "code",
      "metadata": {
        "colab": {
          "base_uri": "https://localhost:8080/"
        },
        "id": "pkFVCD5YIu03",
        "outputId": "7d610312-e8f6-494c-b88d-2355c4c80945"
      },
      "source": [
        "## Lot measure and Area are continous we have to calculate correlation of both of them as they both indicate the unit of dimensions in the dataframe\r\n",
        "## High correlation hence one can be removed in final model building\r\n",
        "corr2=data_new['lot_measure'].corr(data_new['total_area'])\r\n",
        "print(corr2)"
      ],
      "execution_count": 48,
      "outputs": [
        {
          "output_type": "stream",
          "text": [
            "0.9997643083555376\n"
          ],
          "name": "stdout"
        }
      ]
    },
    {
      "cell_type": "code",
      "metadata": {
        "id": "_RVosmfyMdb8"
      },
      "source": [
        "data_new=data_new.drop(\"lot_measure\",axis=1);##Dropping off the lot measure column"
      ],
      "execution_count": 49,
      "outputs": []
    },
    {
      "cell_type": "code",
      "metadata": {
        "colab": {
          "base_uri": "https://localhost:8080/",
          "height": 400
        },
        "id": "tGkWH4j886Xm",
        "outputId": "4135de9f-8b04-4d1f-b0f9-4a76bbf8f27f"
      },
      "source": [
        "sns.catplot(x='ceil',y='price',data=data_new)\r\n",
        "#### There is one value in the price columns where ceil= 2.5, it can be treated as outlier"
      ],
      "execution_count": 100,
      "outputs": [
        {
          "output_type": "execute_result",
          "data": {
            "text/plain": [
              "<seaborn.axisgrid.FacetGrid at 0x7f22ec6b35f8>"
            ]
          },
          "metadata": {
            "tags": []
          },
          "execution_count": 100
        },
        {
          "output_type": "display_data",
          "data": {
            "image/png": "[encoded data removed]",
            "text/plain": [
              "<Figure size 360x360 with 1 Axes>"
            ]
          },
          "metadata": {
            "tags": [],
            "needs_background": "light"
          }
        }
      ]
    },
    {
      "cell_type": "code",
      "metadata": {
        "colab": {
          "base_uri": "https://localhost:8080/",
          "height": 439
        },
        "id": "2EBtExUOJBFx",
        "outputId": "02a87ce1-6c9d-4bc1-f0db-e0a3d4460aae"
      },
      "source": [
        "data1[data1['ceil']==2.5]"
      ],
      "execution_count": 105,
      "outputs": [
        {
          "output_type": "execute_result",
          "data": {
            "text/html": [
              "<div>\n",
              "<style scoped>\n",
              "    .dataframe tbody tr th:only-of-type {\n",
              "        vertical-align: middle;\n",
              "    }\n",
              "\n",
              "    .dataframe tbody tr th {\n",
              "        vertical-align: top;\n",
              "    }\n",
              "\n",
              "    .dataframe thead th {\n",
              "        text-align: right;\n",
              "    }\n",
              "</style>\n",
              "<table border=\"1\" class=\"dataframe\">\n",
              "  <thead>\n",
              "    <tr style=\"text-align: right;\">\n",
              "      <th></th>\n",
              "      <th>cid</th>\n",
              "      <th>dayhours</th>\n",
              "      <th>price</th>\n",
              "      <th>room_bed</th>\n",
              "      <th>room_bath</th>\n",
              "      <th>living_measure</th>\n",
              "      <th>lot_measure</th>\n",
              "      <th>ceil</th>\n",
              "      <th>coast</th>\n",
              "      <th>sight</th>\n",
              "      <th>condition</th>\n",
              "      <th>quality</th>\n",
              "      <th>ceil_measure</th>\n",
              "      <th>basement</th>\n",
              "      <th>yr_built</th>\n",
              "      <th>yr_renovated</th>\n",
              "      <th>zipcode</th>\n",
              "      <th>lat</th>\n",
              "      <th>long</th>\n",
              "      <th>living_measure15</th>\n",
              "      <th>lot_measure15</th>\n",
              "      <th>furnished</th>\n",
              "      <th>total_area</th>\n",
              "    </tr>\n",
              "  </thead>\n",
              "  <tbody>\n",
              "    <tr>\n",
              "      <th>146</th>\n",
              "      <td>9528100899</td>\n",
              "      <td>20150428T000000</td>\n",
              "      <td>827000</td>\n",
              "      <td>3</td>\n",
              "      <td>2.50</td>\n",
              "      <td>1850</td>\n",
              "      <td>1330</td>\n",
              "      <td>2.5</td>\n",
              "      <td>0</td>\n",
              "      <td>0</td>\n",
              "      <td>3</td>\n",
              "      <td>9</td>\n",
              "      <td>1560</td>\n",
              "      <td>290</td>\n",
              "      <td>11</td>\n",
              "      <td>0</td>\n",
              "      <td>98115</td>\n",
              "      <td>47.6831</td>\n",
              "      <td>-122.325</td>\n",
              "      <td>1810</td>\n",
              "      <td>2071</td>\n",
              "      <td>1</td>\n",
              "      <td>3180</td>\n",
              "    </tr>\n",
              "    <tr>\n",
              "      <th>343</th>\n",
              "      <td>6821102317</td>\n",
              "      <td>20141209T000000</td>\n",
              "      <td>535000</td>\n",
              "      <td>3</td>\n",
              "      <td>2.50</td>\n",
              "      <td>1850</td>\n",
              "      <td>1499</td>\n",
              "      <td>2.5</td>\n",
              "      <td>0</td>\n",
              "      <td>0</td>\n",
              "      <td>3</td>\n",
              "      <td>9</td>\n",
              "      <td>1790</td>\n",
              "      <td>60</td>\n",
              "      <td>10</td>\n",
              "      <td>0</td>\n",
              "      <td>98199</td>\n",
              "      <td>47.6475</td>\n",
              "      <td>-122.396</td>\n",
              "      <td>1770</td>\n",
              "      <td>1539</td>\n",
              "      <td>1</td>\n",
              "      <td>3349</td>\n",
              "    </tr>\n",
              "    <tr>\n",
              "      <th>551</th>\n",
              "      <td>1024049024</td>\n",
              "      <td>20141203T000000</td>\n",
              "      <td>1740000</td>\n",
              "      <td>5</td>\n",
              "      <td>3.50</td>\n",
              "      <td>4870</td>\n",
              "      <td>7700</td>\n",
              "      <td>2.5</td>\n",
              "      <td>0</td>\n",
              "      <td>3</td>\n",
              "      <td>5</td>\n",
              "      <td>10</td>\n",
              "      <td>3650</td>\n",
              "      <td>1220</td>\n",
              "      <td>86</td>\n",
              "      <td>0</td>\n",
              "      <td>98144</td>\n",
              "      <td>47.5832</td>\n",
              "      <td>-122.290</td>\n",
              "      <td>3220</td>\n",
              "      <td>7700</td>\n",
              "      <td>1</td>\n",
              "      <td>12570</td>\n",
              "    </tr>\n",
              "    <tr>\n",
              "      <th>763</th>\n",
              "      <td>9268851670</td>\n",
              "      <td>20150424T000000</td>\n",
              "      <td>645000</td>\n",
              "      <td>3</td>\n",
              "      <td>2.50</td>\n",
              "      <td>2170</td>\n",
              "      <td>1984</td>\n",
              "      <td>2.5</td>\n",
              "      <td>0</td>\n",
              "      <td>0</td>\n",
              "      <td>3</td>\n",
              "      <td>8</td>\n",
              "      <td>2170</td>\n",
              "      <td>0</td>\n",
              "      <td>7</td>\n",
              "      <td>0</td>\n",
              "      <td>98027</td>\n",
              "      <td>47.5401</td>\n",
              "      <td>-122.027</td>\n",
              "      <td>2150</td>\n",
              "      <td>1984</td>\n",
              "      <td>0</td>\n",
              "      <td>4154</td>\n",
              "    </tr>\n",
              "    <tr>\n",
              "      <th>897</th>\n",
              "      <td>9831200520</td>\n",
              "      <td>20141006T000000</td>\n",
              "      <td>1440000</td>\n",
              "      <td>4</td>\n",
              "      <td>3.00</td>\n",
              "      <td>3720</td>\n",
              "      <td>5000</td>\n",
              "      <td>2.5</td>\n",
              "      <td>0</td>\n",
              "      <td>0</td>\n",
              "      <td>5</td>\n",
              "      <td>9</td>\n",
              "      <td>2720</td>\n",
              "      <td>1000</td>\n",
              "      <td>110</td>\n",
              "      <td>0</td>\n",
              "      <td>98102</td>\n",
              "      <td>47.6282</td>\n",
              "      <td>-122.322</td>\n",
              "      <td>2610</td>\n",
              "      <td>5000</td>\n",
              "      <td>1</td>\n",
              "      <td>8720</td>\n",
              "    </tr>\n",
              "    <tr>\n",
              "      <th>...</th>\n",
              "      <td>...</td>\n",
              "      <td>...</td>\n",
              "      <td>...</td>\n",
              "      <td>...</td>\n",
              "      <td>...</td>\n",
              "      <td>...</td>\n",
              "      <td>...</td>\n",
              "      <td>...</td>\n",
              "      <td>...</td>\n",
              "      <td>...</td>\n",
              "      <td>...</td>\n",
              "      <td>...</td>\n",
              "      <td>...</td>\n",
              "      <td>...</td>\n",
              "      <td>...</td>\n",
              "      <td>...</td>\n",
              "      <td>...</td>\n",
              "      <td>...</td>\n",
              "      <td>...</td>\n",
              "      <td>...</td>\n",
              "      <td>...</td>\n",
              "      <td>...</td>\n",
              "      <td>...</td>\n",
              "    </tr>\n",
              "    <tr>\n",
              "      <th>21256</th>\n",
              "      <td>4021100095</td>\n",
              "      <td>20150121T000000</td>\n",
              "      <td>290000</td>\n",
              "      <td>4</td>\n",
              "      <td>1.75</td>\n",
              "      <td>1820</td>\n",
              "      <td>22043</td>\n",
              "      <td>2.5</td>\n",
              "      <td>0</td>\n",
              "      <td>0</td>\n",
              "      <td>4</td>\n",
              "      <td>7</td>\n",
              "      <td>1820</td>\n",
              "      <td>0</td>\n",
              "      <td>97</td>\n",
              "      <td>0</td>\n",
              "      <td>98155</td>\n",
              "      <td>47.7606</td>\n",
              "      <td>-122.280</td>\n",
              "      <td>1880</td>\n",
              "      <td>19961</td>\n",
              "      <td>0</td>\n",
              "      <td>23863</td>\n",
              "    </tr>\n",
              "    <tr>\n",
              "      <th>21272</th>\n",
              "      <td>9268851800</td>\n",
              "      <td>20140505T000000</td>\n",
              "      <td>415000</td>\n",
              "      <td>3</td>\n",
              "      <td>2.25</td>\n",
              "      <td>1620</td>\n",
              "      <td>998</td>\n",
              "      <td>2.5</td>\n",
              "      <td>0</td>\n",
              "      <td>0</td>\n",
              "      <td>3</td>\n",
              "      <td>8</td>\n",
              "      <td>1540</td>\n",
              "      <td>80</td>\n",
              "      <td>5</td>\n",
              "      <td>0</td>\n",
              "      <td>98027</td>\n",
              "      <td>47.5401</td>\n",
              "      <td>-122.027</td>\n",
              "      <td>1620</td>\n",
              "      <td>1299</td>\n",
              "      <td>0</td>\n",
              "      <td>2618</td>\n",
              "    </tr>\n",
              "    <tr>\n",
              "      <th>21572</th>\n",
              "      <td>8043700105</td>\n",
              "      <td>20150417T000000</td>\n",
              "      <td>2300000</td>\n",
              "      <td>4</td>\n",
              "      <td>4.00</td>\n",
              "      <td>4360</td>\n",
              "      <td>8175</td>\n",
              "      <td>2.5</td>\n",
              "      <td>1</td>\n",
              "      <td>4</td>\n",
              "      <td>3</td>\n",
              "      <td>10</td>\n",
              "      <td>3940</td>\n",
              "      <td>420</td>\n",
              "      <td>8</td>\n",
              "      <td>0</td>\n",
              "      <td>98008</td>\n",
              "      <td>47.5724</td>\n",
              "      <td>-122.104</td>\n",
              "      <td>2670</td>\n",
              "      <td>8525</td>\n",
              "      <td>1</td>\n",
              "      <td>12535</td>\n",
              "    </tr>\n",
              "    <tr>\n",
              "      <th>21579</th>\n",
              "      <td>4141800215</td>\n",
              "      <td>20141126T000000</td>\n",
              "      <td>1500000</td>\n",
              "      <td>4</td>\n",
              "      <td>3.75</td>\n",
              "      <td>3770</td>\n",
              "      <td>4000</td>\n",
              "      <td>2.5</td>\n",
              "      <td>0</td>\n",
              "      <td>0</td>\n",
              "      <td>5</td>\n",
              "      <td>9</td>\n",
              "      <td>2890</td>\n",
              "      <td>880</td>\n",
              "      <td>99</td>\n",
              "      <td>0</td>\n",
              "      <td>98122</td>\n",
              "      <td>47.6157</td>\n",
              "      <td>-122.287</td>\n",
              "      <td>2800</td>\n",
              "      <td>5000</td>\n",
              "      <td>1</td>\n",
              "      <td>7770</td>\n",
              "    </tr>\n",
              "    <tr>\n",
              "      <th>21607</th>\n",
              "      <td>7942601435</td>\n",
              "      <td>20150324T000000</td>\n",
              "      <td>835000</td>\n",
              "      <td>6</td>\n",
              "      <td>2.00</td>\n",
              "      <td>3560</td>\n",
              "      <td>5120</td>\n",
              "      <td>2.5</td>\n",
              "      <td>0</td>\n",
              "      <td>2</td>\n",
              "      <td>3</td>\n",
              "      <td>9</td>\n",
              "      <td>3560</td>\n",
              "      <td>0</td>\n",
              "      <td>115</td>\n",
              "      <td>0</td>\n",
              "      <td>98122</td>\n",
              "      <td>47.6056</td>\n",
              "      <td>-122.311</td>\n",
              "      <td>2130</td>\n",
              "      <td>5120</td>\n",
              "      <td>1</td>\n",
              "      <td>8680</td>\n",
              "    </tr>\n",
              "  </tbody>\n",
              "</table>\n",
              "<p>159 rows × 23 columns</p>\n",
              "</div>"
            ],
            "text/plain": [
              "              cid         dayhours  ...  furnished  total_area\n",
              "146    9528100899  20150428T000000  ...          1        3180\n",
              "343    6821102317  20141209T000000  ...          1        3349\n",
              "551    1024049024  20141203T000000  ...          1       12570\n",
              "763    9268851670  20150424T000000  ...          0        4154\n",
              "897    9831200520  20141006T000000  ...          1        8720\n",
              "...           ...              ...  ...        ...         ...\n",
              "21256  4021100095  20150121T000000  ...          0       23863\n",
              "21272  9268851800  20140505T000000  ...          0        2618\n",
              "21572  8043700105  20150417T000000  ...          1       12535\n",
              "21579  4141800215  20141126T000000  ...          1        7770\n",
              "21607  7942601435  20150324T000000  ...          1        8680\n",
              "\n",
              "[159 rows x 23 columns]"
            ]
          },
          "metadata": {
            "tags": []
          },
          "execution_count": 105
        }
      ]
    },
    {
      "cell_type": "code",
      "metadata": {
        "colab": {
          "base_uri": "https://localhost:8080/",
          "height": 317
        },
        "id": "0TvppxCaIV6y",
        "outputId": "6b39adcd-b397-4d39-8705-daddc503c139"
      },
      "source": [
        "data1[data1['ceil']==2.5].describe()"
      ],
      "execution_count": 102,
      "outputs": [
        {
          "output_type": "execute_result",
          "data": {
            "text/html": [
              "<div>\n",
              "<style scoped>\n",
              "    .dataframe tbody tr th:only-of-type {\n",
              "        vertical-align: middle;\n",
              "    }\n",
              "\n",
              "    .dataframe tbody tr th {\n",
              "        vertical-align: top;\n",
              "    }\n",
              "\n",
              "    .dataframe thead th {\n",
              "        text-align: right;\n",
              "    }\n",
              "</style>\n",
              "<table border=\"1\" class=\"dataframe\">\n",
              "  <thead>\n",
              "    <tr style=\"text-align: right;\">\n",
              "      <th></th>\n",
              "      <th>cid</th>\n",
              "      <th>price</th>\n",
              "      <th>room_bed</th>\n",
              "      <th>room_bath</th>\n",
              "      <th>living_measure</th>\n",
              "      <th>lot_measure</th>\n",
              "      <th>ceil</th>\n",
              "      <th>coast</th>\n",
              "      <th>sight</th>\n",
              "      <th>condition</th>\n",
              "      <th>quality</th>\n",
              "      <th>ceil_measure</th>\n",
              "      <th>basement</th>\n",
              "      <th>yr_built</th>\n",
              "      <th>yr_renovated</th>\n",
              "      <th>zipcode</th>\n",
              "      <th>lat</th>\n",
              "      <th>long</th>\n",
              "      <th>living_measure15</th>\n",
              "      <th>lot_measure15</th>\n",
              "      <th>furnished</th>\n",
              "      <th>total_area</th>\n",
              "    </tr>\n",
              "  </thead>\n",
              "  <tbody>\n",
              "    <tr>\n",
              "      <th>count</th>\n",
              "      <td>1.590000e+02</td>\n",
              "      <td>1.590000e+02</td>\n",
              "      <td>159.000000</td>\n",
              "      <td>159.00000</td>\n",
              "      <td>159.000000</td>\n",
              "      <td>159.000000</td>\n",
              "      <td>159.0</td>\n",
              "      <td>159.000000</td>\n",
              "      <td>159.000000</td>\n",
              "      <td>159.000000</td>\n",
              "      <td>159.000000</td>\n",
              "      <td>159.000000</td>\n",
              "      <td>159.000000</td>\n",
              "      <td>159.000000</td>\n",
              "      <td>159.000000</td>\n",
              "      <td>159.000000</td>\n",
              "      <td>159.000000</td>\n",
              "      <td>159.000000</td>\n",
              "      <td>159.000000</td>\n",
              "      <td>159.000000</td>\n",
              "      <td>159.000000</td>\n",
              "      <td>159.000000</td>\n",
              "    </tr>\n",
              "    <tr>\n",
              "      <th>mean</th>\n",
              "      <td>4.567588e+09</td>\n",
              "      <td>1.061788e+06</td>\n",
              "      <td>3.924528</td>\n",
              "      <td>2.81761</td>\n",
              "      <td>3131.849057</td>\n",
              "      <td>17486.905660</td>\n",
              "      <td>2.5</td>\n",
              "      <td>0.012579</td>\n",
              "      <td>0.515723</td>\n",
              "      <td>3.484277</td>\n",
              "      <td>8.893082</td>\n",
              "      <td>2785.201258</td>\n",
              "      <td>346.647799</td>\n",
              "      <td>53.251572</td>\n",
              "      <td>226.314465</td>\n",
              "      <td>98092.358491</td>\n",
              "      <td>47.585403</td>\n",
              "      <td>-122.242912</td>\n",
              "      <td>2353.075472</td>\n",
              "      <td>17267.591195</td>\n",
              "      <td>0.566038</td>\n",
              "      <td>20618.754717</td>\n",
              "    </tr>\n",
              "    <tr>\n",
              "      <th>std</th>\n",
              "      <td>2.916106e+09</td>\n",
              "      <td>8.630544e+05</td>\n",
              "      <td>1.070592</td>\n",
              "      <td>0.87858</td>\n",
              "      <td>1438.181346</td>\n",
              "      <td>41926.403074</td>\n",
              "      <td>0.0</td>\n",
              "      <td>0.111799</td>\n",
              "      <td>1.107257</td>\n",
              "      <td>0.701313</td>\n",
              "      <td>1.305253</td>\n",
              "      <td>1100.522631</td>\n",
              "      <td>541.177585</td>\n",
              "      <td>44.800962</td>\n",
              "      <td>635.422875</td>\n",
              "      <td>51.538026</td>\n",
              "      <td>0.106354</td>\n",
              "      <td>0.134495</td>\n",
              "      <td>735.781859</td>\n",
              "      <td>48222.851820</td>\n",
              "      <td>0.497186</td>\n",
              "      <td>42174.267135</td>\n",
              "    </tr>\n",
              "    <tr>\n",
              "      <th>min</th>\n",
              "      <td>1.200691e+08</td>\n",
              "      <td>2.550000e+05</td>\n",
              "      <td>1.000000</td>\n",
              "      <td>1.00000</td>\n",
              "      <td>990.000000</td>\n",
              "      <td>736.000000</td>\n",
              "      <td>2.5</td>\n",
              "      <td>0.000000</td>\n",
              "      <td>0.000000</td>\n",
              "      <td>3.000000</td>\n",
              "      <td>6.000000</td>\n",
              "      <td>880.000000</td>\n",
              "      <td>0.000000</td>\n",
              "      <td>1.000000</td>\n",
              "      <td>0.000000</td>\n",
              "      <td>98001.000000</td>\n",
              "      <td>47.196000</td>\n",
              "      <td>-122.408000</td>\n",
              "      <td>1030.000000</td>\n",
              "      <td>1068.000000</td>\n",
              "      <td>0.000000</td>\n",
              "      <td>1726.000000</td>\n",
              "    </tr>\n",
              "    <tr>\n",
              "      <th>25%</th>\n",
              "      <td>1.957201e+09</td>\n",
              "      <td>5.500000e+05</td>\n",
              "      <td>3.000000</td>\n",
              "      <td>2.25000</td>\n",
              "      <td>2165.000000</td>\n",
              "      <td>2880.000000</td>\n",
              "      <td>2.5</td>\n",
              "      <td>0.000000</td>\n",
              "      <td>0.000000</td>\n",
              "      <td>3.000000</td>\n",
              "      <td>8.000000</td>\n",
              "      <td>1960.000000</td>\n",
              "      <td>0.000000</td>\n",
              "      <td>8.500000</td>\n",
              "      <td>0.000000</td>\n",
              "      <td>98040.000000</td>\n",
              "      <td>47.544600</td>\n",
              "      <td>-122.333500</td>\n",
              "      <td>1755.000000</td>\n",
              "      <td>3237.500000</td>\n",
              "      <td>0.000000</td>\n",
              "      <td>5886.000000</td>\n",
              "    </tr>\n",
              "    <tr>\n",
              "      <th>50%</th>\n",
              "      <td>3.751602e+09</td>\n",
              "      <td>7.992000e+05</td>\n",
              "      <td>4.000000</td>\n",
              "      <td>2.50000</td>\n",
              "      <td>2850.000000</td>\n",
              "      <td>5400.000000</td>\n",
              "      <td>2.5</td>\n",
              "      <td>0.000000</td>\n",
              "      <td>0.000000</td>\n",
              "      <td>3.000000</td>\n",
              "      <td>9.000000</td>\n",
              "      <td>2710.000000</td>\n",
              "      <td>0.000000</td>\n",
              "      <td>36.000000</td>\n",
              "      <td>0.000000</td>\n",
              "      <td>98109.000000</td>\n",
              "      <td>47.618100</td>\n",
              "      <td>-122.294000</td>\n",
              "      <td>2240.000000</td>\n",
              "      <td>5352.000000</td>\n",
              "      <td>1.000000</td>\n",
              "      <td>8720.000000</td>\n",
              "    </tr>\n",
              "    <tr>\n",
              "      <th>75%</th>\n",
              "      <td>7.181150e+09</td>\n",
              "      <td>1.285000e+06</td>\n",
              "      <td>4.000000</td>\n",
              "      <td>3.25000</td>\n",
              "      <td>3736.000000</td>\n",
              "      <td>9086.000000</td>\n",
              "      <td>2.5</td>\n",
              "      <td>0.000000</td>\n",
              "      <td>0.000000</td>\n",
              "      <td>4.000000</td>\n",
              "      <td>10.000000</td>\n",
              "      <td>3405.000000</td>\n",
              "      <td>555.000000</td>\n",
              "      <td>105.000000</td>\n",
              "      <td>0.000000</td>\n",
              "      <td>98120.500000</td>\n",
              "      <td>47.644200</td>\n",
              "      <td>-122.144000</td>\n",
              "      <td>2790.000000</td>\n",
              "      <td>7851.000000</td>\n",
              "      <td>1.000000</td>\n",
              "      <td>12838.000000</td>\n",
              "    </tr>\n",
              "    <tr>\n",
              "      <th>max</th>\n",
              "      <td>9.831201e+09</td>\n",
              "      <td>7.700000e+06</td>\n",
              "      <td>7.000000</td>\n",
              "      <td>8.00000</td>\n",
              "      <td>12050.000000</td>\n",
              "      <td>237402.000000</td>\n",
              "      <td>2.5</td>\n",
              "      <td>1.000000</td>\n",
              "      <td>4.000000</td>\n",
              "      <td>5.000000</td>\n",
              "      <td>13.000000</td>\n",
              "      <td>8570.000000</td>\n",
              "      <td>3480.000000</td>\n",
              "      <td>115.000000</td>\n",
              "      <td>2014.000000</td>\n",
              "      <td>98199.000000</td>\n",
              "      <td>47.761300</td>\n",
              "      <td>-121.932000</td>\n",
              "      <td>4470.000000</td>\n",
              "      <td>326097.000000</td>\n",
              "      <td>1.000000</td>\n",
              "      <td>240922.000000</td>\n",
              "    </tr>\n",
              "  </tbody>\n",
              "</table>\n",
              "</div>"
            ],
            "text/plain": [
              "                cid         price  ...   furnished     total_area\n",
              "count  1.590000e+02  1.590000e+02  ...  159.000000     159.000000\n",
              "mean   4.567588e+09  1.061788e+06  ...    0.566038   20618.754717\n",
              "std    2.916106e+09  8.630544e+05  ...    0.497186   42174.267135\n",
              "min    1.200691e+08  2.550000e+05  ...    0.000000    1726.000000\n",
              "25%    1.957201e+09  5.500000e+05  ...    0.000000    5886.000000\n",
              "50%    3.751602e+09  7.992000e+05  ...    1.000000    8720.000000\n",
              "75%    7.181150e+09  1.285000e+06  ...    1.000000   12838.000000\n",
              "max    9.831201e+09  7.700000e+06  ...    1.000000  240922.000000\n",
              "\n",
              "[8 rows x 22 columns]"
            ]
          },
          "metadata": {
            "tags": []
          },
          "execution_count": 102
        }
      ]
    },
    {
      "cell_type": "code",
      "metadata": {
        "colab": {
          "base_uri": "https://localhost:8080/",
          "height": 307
        },
        "id": "qnT4Eks5-xW_",
        "outputId": "70b189ea-e132-4502-d43e-046f9f669108"
      },
      "source": [
        "sns.boxplot(x='coast',y='price',data=data_new)\r\n",
        "# As coast view is present the price increases"
      ],
      "execution_count": 106,
      "outputs": [
        {
          "output_type": "execute_result",
          "data": {
            "text/plain": [
              "<matplotlib.axes._subplots.AxesSubplot at 0x7f22ebf13d68>"
            ]
          },
          "metadata": {
            "tags": []
          },
          "execution_count": 106
        },
        {
          "output_type": "display_data",
          "data": {
            "image/png": "[encoded data removed]",
            "text/plain": [
              "<Figure size 432x288 with 1 Axes>"
            ]
          },
          "metadata": {
            "tags": [],
            "needs_background": "light"
          }
        }
      ]
    },
    {
      "cell_type": "code",
      "metadata": {
        "colab": {
          "base_uri": "https://localhost:8080/",
          "height": 307
        },
        "id": "1yhYMOjo_PwP",
        "outputId": "8e597600-f2e5-4641-c57a-4b7980fa9e67"
      },
      "source": [
        "sns.boxplot(x='sight',y='price',data=data_new)\r\n",
        "#### There are one value which have much high value where sight =0,2,3 and  4\r\n",
        "##The houses which are viewed maximum no of times has high price range"
      ],
      "execution_count": 52,
      "outputs": [
        {
          "output_type": "execute_result",
          "data": {
            "text/plain": [
              "<matplotlib.axes._subplots.AxesSubplot at 0x7f22ec5ace10>"
            ]
          },
          "metadata": {
            "tags": []
          },
          "execution_count": 52
        },
        {
          "output_type": "display_data",
          "data": {
            "image/png": "[encoded data removed]",
            "text/plain": [
              "<Figure size 432x288 with 1 Axes>"
            ]
          },
          "metadata": {
            "tags": [],
            "needs_background": "light"
          }
        }
      ]
    },
    {
      "cell_type": "code",
      "metadata": {
        "colab": {
          "base_uri": "https://localhost:8080/",
          "height": 307
        },
        "id": "0LFr1sXNFLtO",
        "outputId": "22084d51-41ba-4a51-8962-514ea27ed76f"
      },
      "source": [
        "sns.boxplot(x='condition',y='price',data=data_new)\r\n",
        "#### There are one value which have much high value where sight =0,2,3 and  4\r\n",
        "## Else there is slight positive relation(it seems) as such in the conditions and value,  \r\n",
        "## As the condition(overall) rating increases the prices also got increased"
      ],
      "execution_count": 53,
      "outputs": [
        {
          "output_type": "execute_result",
          "data": {
            "text/plain": [
              "<matplotlib.axes._subplots.AxesSubplot at 0x7f22eccadc88>"
            ]
          },
          "metadata": {
            "tags": []
          },
          "execution_count": 53
        },
        {
          "output_type": "display_data",
          "data": {
            "image/png": "[encoded data removed]",
            "text/plain": [
              "<Figure size 432x288 with 1 Axes>"
            ]
          },
          "metadata": {
            "tags": [],
            "needs_background": "light"
          }
        }
      ]
    },
    {
      "cell_type": "code",
      "metadata": {
        "colab": {
          "base_uri": "https://localhost:8080/",
          "height": 307
        },
        "id": "o8LKwjf3GZox",
        "outputId": "50d35f6e-c8b2-467c-dff7-b1b0d2460b2c"
      },
      "source": [
        "sns.boxplot(x='furnished',y='price',data=data_new)\n",
        "## The furnished house has more price & clearly depicted in the below figure"
      ],
      "execution_count": 54,
      "outputs": [
        {
          "output_type": "execute_result",
          "data": {
            "text/plain": [
              "<matplotlib.axes._subplots.AxesSubplot at 0x7f22ecb7e8d0>"
            ]
          },
          "metadata": {
            "tags": []
          },
          "execution_count": 54
        },
        {
          "output_type": "display_data",
          "data": {
            "image/png": "[encoded data removed]",
            "text/plain": [
              "<Figure size 432x288 with 1 Axes>"
            ]
          },
          "metadata": {
            "tags": [],
            "needs_background": "light"
          }
        }
      ]
    },
    {
      "cell_type": "code",
      "metadata": {
        "colab": {
          "base_uri": "https://localhost:8080/"
        },
        "id": "k97nslH0I2vV",
        "outputId": "9c8db2f9-db45-41a2-ac2a-41d52801a9ca"
      },
      "source": [
        "sns.set(color_codes=True)\r\n",
        "sns.boxplot(x='quality',y='price',data=data_new)\r\n",
        "## As the quality increases the price also increases"
      ],
      "execution_count": null,
      "outputs": [
        {
          "output_type": "execute_result",
          "data": {
            "text/plain": [
              "<matplotlib.axes._subplots.AxesSubplot at 0x7f22eb8062b0>"
            ]
          },
          "metadata": {
            "tags": []
          },
          "execution_count": 114
        }
      ]
    },
    {
      "cell_type": "code",
      "metadata": {
        "colab": {
          "base_uri": "https://localhost:8080/",
          "height": 453
        },
        "id": "vKo1OdboaCb4",
        "outputId": "af08aed2-8d83-4334-874b-d0af3388ba64"
      },
      "source": [
        "sns.factorplot(x='zipcode',y='price',data=data_new)\n",
        "## specific zipcode(areas) have high price"
      ],
      "execution_count": 135,
      "outputs": [
        {
          "output_type": "stream",
          "text": [
            "/usr/local/lib/python3.6/dist-packages/seaborn/categorical.py:3714: UserWarning: The `factorplot` function has been renamed to `catplot`. The original name will be removed in a future release. Please update your code. Note that the default `kind` in `factorplot` (`'point'`) has changed `'strip'` in `catplot`.\n",
            "  warnings.warn(msg)\n"
          ],
          "name": "stderr"
        },
        {
          "output_type": "execute_result",
          "data": {
            "text/plain": [
              "<seaborn.axisgrid.FacetGrid at 0x7f22eaac1be0>"
            ]
          },
          "metadata": {
            "tags": []
          },
          "execution_count": 135
        },
        {
          "output_type": "display_data",
          "data": {
            "image/png": "[encoded data removed]",
            "text/plain": [
              "<Figure size 360x360 with 1 Axes>"
            ]
          },
          "metadata": {
            "tags": []
          }
        }
      ]
    },
    {
      "cell_type": "code",
      "metadata": {
        "id": "fM-ZLKupIFTL",
        "colab": {
          "base_uri": "https://localhost:8080/"
        },
        "outputId": "522e8bed-2204-42b8-a1e8-ec657422bc85"
      },
      "source": [
        "#we will create new data frame that can be used for modeling\n",
        "#We will convert the dayhours to 'month_year' as sale month-year is relevant for analysis\n",
        "house_dfr=data_new.copy() ## In case we needed in the future\n",
        "data_new.dayhours=data_new.dayhours.str.replace('T000000', \"\")\n",
        "data_new.dayhours=pd.to_datetime(data_new.dayhours,format='%Y%m%d')\n",
        "data_new['month_year']=data_new['dayhours'].apply(lambda x: x.strftime('%B-%Y'))\n",
        "data_new['month_year'].head()"
      ],
      "execution_count": 56,
      "outputs": [
        {
          "output_type": "execute_result",
          "data": {
            "text/plain": [
              "0    November-2014\n",
              "1    December-2014\n",
              "2       April-2015\n",
              "3         May-2014\n",
              "4       April-2015\n",
              "Name: month_year, dtype: object"
            ]
          },
          "metadata": {
            "tags": []
          },
          "execution_count": 56
        }
      ]
    },
    {
      "cell_type": "code",
      "metadata": {
        "id": "9HfsGg9IIFTM",
        "colab": {
          "base_uri": "https://localhost:8080/"
        },
        "outputId": "5cd517d9-cfe5-4be6-ef52-69aceff94d23"
      },
      "source": [
        "data_new['month_year'].value_counts()"
      ],
      "execution_count": 57,
      "outputs": [
        {
          "output_type": "execute_result",
          "data": {
            "text/plain": [
              "April-2015        2210\n",
              "July-2014         2204\n",
              "June-2014         2164\n",
              "August-2014       1923\n",
              "October-2014      1866\n",
              "March-2015        1854\n",
              "September-2014    1761\n",
              "May-2014          1761\n",
              "December-2014     1454\n",
              "November-2014     1396\n",
              "February-2015     1235\n",
              "January-2015       968\n",
              "May-2015           639\n",
              "Name: month_year, dtype: int64"
            ]
          },
          "metadata": {
            "tags": []
          },
          "execution_count": 57
        }
      ]
    },
    {
      "cell_type": "code",
      "metadata": {
        "colab": {
          "base_uri": "https://localhost:8080/",
          "height": 367
        },
        "id": "X0rFgMXYLJrt",
        "outputId": "6ca3847f-6d78-44b3-8e19-e7083fb750d2"
      },
      "source": [
        "sns.set(color_codes=True)\n",
        "plt.figure(figsize=(20,5))\n",
        "sns.boxplot(x='month_year',y='price',data=data_new)\n",
        "## There is no relation between price and the time of year it sold"
      ],
      "execution_count": 116,
      "outputs": [
        {
          "output_type": "execute_result",
          "data": {
            "text/plain": [
              "<matplotlib.axes._subplots.AxesSubplot at 0x7f22eb84da58>"
            ]
          },
          "metadata": {
            "tags": []
          },
          "execution_count": 116
        },
        {
          "output_type": "display_data",
          "data": {
            "image/png": "[encoded data removed]",
            "text/plain": [
              "<Figure size 1440x360 with 1 Axes>"
            ]
          },
          "metadata": {
            "tags": []
          }
        }
      ]
    },
    {
      "cell_type": "code",
      "metadata": {
        "colab": {
          "base_uri": "https://localhost:8080/",
          "height": 410
        },
        "id": "hp70FgMWMhod",
        "outputId": "6cb19ba0-b79f-48fc-f369-d0e5dbb0e81f"
      },
      "source": [
        "plt.figure(figsize=(20,5))\n",
        "sns.countplot(data_new['month_year'])\n",
        "## The house sold in  may'15 and jan'15 have less frequency to be sold"
      ],
      "execution_count": 121,
      "outputs": [
        {
          "output_type": "stream",
          "text": [
            "/usr/local/lib/python3.6/dist-packages/seaborn/_decorators.py:43: FutureWarning: Pass the following variable as a keyword arg: x. From version 0.12, the only valid positional argument will be `data`, and passing other arguments without an explicit keyword will result in an error or misinterpretation.\n",
            "  FutureWarning\n"
          ],
          "name": "stderr"
        },
        {
          "output_type": "execute_result",
          "data": {
            "text/plain": [
              "<matplotlib.axes._subplots.AxesSubplot at 0x7f22eb46ecf8>"
            ]
          },
          "metadata": {
            "tags": []
          },
          "execution_count": 121
        },
        {
          "output_type": "display_data",
          "data": {
            "image/png": "[encoded data removed]",
            "text/plain": [
              "<Figure size 1440x360 with 1 Axes>"
            ]
          },
          "metadata": {
            "tags": []
          }
        }
      ]
    },
    {
      "cell_type": "code",
      "metadata": {
        "id": "OXz9hhjoIFTN",
        "colab": {
          "base_uri": "https://localhost:8080/"
        },
        "outputId": "d3246ac9-d419-4f00-890e-79da8471e6c1"
      },
      "source": [
        "data_new.groupby(['month_year'])['price'].agg('mean')\r\n",
        "## To see if there is a relation between between the month_year and the price\r\n",
        "## But it seems there is no relation between both\r\n",
        "#### I think we should drop this month_year column"
      ],
      "execution_count": 58,
      "outputs": [
        {
          "output_type": "execute_result",
          "data": {
            "text/plain": [
              "month_year\n",
              "April-2015        563229.323982\n",
              "August-2014       537894.309412\n",
              "December-2014     524978.649243\n",
              "February-2015     508730.893927\n",
              "January-2015      526621.446281\n",
              "July-2014         545731.205989\n",
              "June-2014         558900.170980\n",
              "March-2015        543390.321467\n",
              "May-2014          548957.154458\n",
              "May-2015          559461.424100\n",
              "November-2014     523412.287966\n",
              "October-2014      540976.744909\n",
              "September-2014    531460.377626\n",
              "Name: price, dtype: float64"
            ]
          },
          "metadata": {
            "tags": []
          },
          "execution_count": 58
        }
      ]
    },
    {
      "cell_type": "code",
      "metadata": {
        "colab": {
          "base_uri": "https://localhost:8080/",
          "height": 117
        },
        "id": "gPGuu1tnVeLc",
        "outputId": "c47204af-986a-499c-ad75-1a036ad3680b"
      },
      "source": [
        "data_new.head(1)"
      ],
      "execution_count": 59,
      "outputs": [
        {
          "output_type": "execute_result",
          "data": {
            "text/html": [
              "<div>\n",
              "<style scoped>\n",
              "    .dataframe tbody tr th:only-of-type {\n",
              "        vertical-align: middle;\n",
              "    }\n",
              "\n",
              "    .dataframe tbody tr th {\n",
              "        vertical-align: top;\n",
              "    }\n",
              "\n",
              "    .dataframe thead th {\n",
              "        text-align: right;\n",
              "    }\n",
              "</style>\n",
              "<table border=\"1\" class=\"dataframe\">\n",
              "  <thead>\n",
              "    <tr style=\"text-align: right;\">\n",
              "      <th></th>\n",
              "      <th>cid</th>\n",
              "      <th>dayhours</th>\n",
              "      <th>price</th>\n",
              "      <th>room_bed</th>\n",
              "      <th>room_bath</th>\n",
              "      <th>living_measure</th>\n",
              "      <th>ceil</th>\n",
              "      <th>coast</th>\n",
              "      <th>sight</th>\n",
              "      <th>condition</th>\n",
              "      <th>quality</th>\n",
              "      <th>ceil_measure</th>\n",
              "      <th>basement</th>\n",
              "      <th>yr_built</th>\n",
              "      <th>yr_renovated</th>\n",
              "      <th>zipcode</th>\n",
              "      <th>lat</th>\n",
              "      <th>long</th>\n",
              "      <th>living_measure15</th>\n",
              "      <th>lot_measure15</th>\n",
              "      <th>furnished</th>\n",
              "      <th>total_area</th>\n",
              "      <th>month_year</th>\n",
              "    </tr>\n",
              "  </thead>\n",
              "  <tbody>\n",
              "    <tr>\n",
              "      <th>0</th>\n",
              "      <td>3034200666</td>\n",
              "      <td>2014-11-07</td>\n",
              "      <td>808100</td>\n",
              "      <td>4</td>\n",
              "      <td>3.25</td>\n",
              "      <td>3020</td>\n",
              "      <td>1.0</td>\n",
              "      <td>0</td>\n",
              "      <td>0</td>\n",
              "      <td>5</td>\n",
              "      <td>9</td>\n",
              "      <td>3020</td>\n",
              "      <td>0</td>\n",
              "      <td>59</td>\n",
              "      <td>0</td>\n",
              "      <td>98133</td>\n",
              "      <td>47.7174</td>\n",
              "      <td>-122.336</td>\n",
              "      <td>2120</td>\n",
              "      <td>7553</td>\n",
              "      <td>1</td>\n",
              "      <td>16477</td>\n",
              "      <td>November-2014</td>\n",
              "    </tr>\n",
              "  </tbody>\n",
              "</table>\n",
              "</div>"
            ],
            "text/plain": [
              "          cid   dayhours   price  ...  furnished  total_area     month_year\n",
              "0  3034200666 2014-11-07  808100  ...          1       16477  November-2014\n",
              "\n",
              "[1 rows x 23 columns]"
            ]
          },
          "metadata": {
            "tags": []
          },
          "execution_count": 59
        }
      ]
    },
    {
      "cell_type": "code",
      "metadata": {
        "colab": {
          "base_uri": "https://localhost:8080/",
          "height": 308
        },
        "id": "DvqW9HmeKq9t",
        "outputId": "8d2be6b0-de48-457e-b4a9-d01658ac50bb"
      },
      "source": [
        "plt.scatter(data_new['yr_built'],data_new['price'])\r\n",
        "plt.xlabel('yr_built')\r\n",
        "plt.ylabel('price')\r\n",
        "corr2=data_new['yr_built'].corr(data_new['price'])\r\n",
        "corr2"
      ],
      "execution_count": 60,
      "outputs": [
        {
          "output_type": "execute_result",
          "data": {
            "text/plain": [
              "-0.05180691505711565"
            ]
          },
          "metadata": {
            "tags": []
          },
          "execution_count": 60
        },
        {
          "output_type": "display_data",
          "data": {
            "image/png": "[encoded data removed]",
            "text/plain": [
              "<Figure size 432x288 with 1 Axes>"
            ]
          },
          "metadata": {
            "tags": [],
            "needs_background": "light"
          }
        }
      ]
    },
    {
      "cell_type": "code",
      "metadata": {
        "id": "-AyU8T1dPiSe"
      },
      "source": [
        "data_new=data_new.drop(\"yr_built\",axis=1);##Dropping off the yr_built column as Absolutely no correlation"
      ],
      "execution_count": 61,
      "outputs": []
    },
    {
      "cell_type": "code",
      "metadata": {
        "colab": {
          "base_uri": "https://localhost:8080/"
        },
        "id": "xrj0AYrLMfUz",
        "outputId": "a6355c96-cf3a-4ff9-96ca-9b83e6378462"
      },
      "source": [
        "## Let's watch closely column yr_renovated\r\n",
        "data_new['yr_renovated'].describe()"
      ],
      "execution_count": 62,
      "outputs": [
        {
          "output_type": "execute_result",
          "data": {
            "text/plain": [
              "count    21435.000000\n",
              "mean        84.733753\n",
              "std        402.439983\n",
              "min          0.000000\n",
              "25%          0.000000\n",
              "50%          0.000000\n",
              "75%          0.000000\n",
              "max       2015.000000\n",
              "Name: yr_renovated, dtype: float64"
            ]
          },
          "metadata": {
            "tags": []
          },
          "execution_count": 62
        }
      ]
    },
    {
      "cell_type": "code",
      "metadata": {
        "colab": {
          "base_uri": "https://localhost:8080/"
        },
        "id": "A0E7aT3zeh4R",
        "outputId": "cc07612a-b9cc-4708-8cfd-cb7f713a9a53"
      },
      "source": [
        "## Changing column element to 1 if it is renovated else taking it to 0\r\n",
        "for i in range(1,len(data_new['yr_renovated'])):\r\n",
        "  if (data_new['yr_renovated'].iloc[i]>0):\r\n",
        "    data_new['yr_renovated'].iloc[i]=1"
      ],
      "execution_count": 63,
      "outputs": [
        {
          "output_type": "stream",
          "text": [
            "/usr/local/lib/python3.6/dist-packages/pandas/core/indexing.py:670: SettingWithCopyWarning: \n",
            "A value is trying to be set on a copy of a slice from a DataFrame\n",
            "\n",
            "See the caveats in the documentation: https://pandas.pydata.org/pandas-docs/stable/user_guide/indexing.html#returning-a-view-versus-a-copy\n",
            "  iloc._setitem_with_indexer(indexer, value)\n"
          ],
          "name": "stderr"
        }
      ]
    },
    {
      "cell_type": "code",
      "metadata": {
        "colab": {
          "base_uri": "https://localhost:8080/"
        },
        "id": "mr4Lqnmt25US",
        "outputId": "13665c9a-aac1-44e4-a703-800c33a3cfd3"
      },
      "source": [
        "data_new['yr_renovated'].value_counts().head(40)"
      ],
      "execution_count": 64,
      "outputs": [
        {
          "output_type": "execute_result",
          "data": {
            "text/plain": [
              "0    20525\n",
              "1      910\n",
              "Name: yr_renovated, dtype: int64"
            ]
          },
          "metadata": {
            "tags": []
          },
          "execution_count": 64
        }
      ]
    },
    {
      "cell_type": "code",
      "metadata": {
        "colab": {
          "base_uri": "https://localhost:8080/",
          "height": 308
        },
        "id": "KeqRW1BZ4__x",
        "outputId": "9f6a9a35-3373-4a05-a7a8-dd54d7575e16"
      },
      "source": [
        "sns.boxplot(x='yr_renovated',y='price',data=data_new)\r\n",
        "## There is a slight significance that renovated room has slight high price"
      ],
      "execution_count": 65,
      "outputs": [
        {
          "output_type": "execute_result",
          "data": {
            "text/plain": [
              "<matplotlib.axes._subplots.AxesSubplot at 0x7f22ece33e48>"
            ]
          },
          "metadata": {
            "tags": []
          },
          "execution_count": 65
        },
        {
          "output_type": "display_data",
          "data": {
            "image/png": "[encoded data removed]",
            "text/plain": [
              "<Figure size 432x288 with 1 Axes>"
            ]
          },
          "metadata": {
            "tags": [],
            "needs_background": "light"
          }
        }
      ]
    },
    {
      "cell_type": "code",
      "metadata": {
        "colab": {
          "base_uri": "https://localhost:8080/",
          "height": 282
        },
        "id": "7sdtiROhRTqP",
        "outputId": "76b63fea-4d87-4c4e-ea5b-d0cc0a05eff1"
      },
      "source": [
        "plt.scatter(data_new['living_measure15'],data_new['lot_measure15'])\r\n",
        "##There is absolutely no relation"
      ],
      "execution_count": 66,
      "outputs": [
        {
          "output_type": "execute_result",
          "data": {
            "text/plain": [
              "<matplotlib.collections.PathCollection at 0x7f22ed25a860>"
            ]
          },
          "metadata": {
            "tags": []
          },
          "execution_count": 66
        },
        {
          "output_type": "display_data",
          "data": {
            "image/png": "[encoded data removed]",
            "text/plain": [
              "<Figure size 432x288 with 1 Axes>"
            ]
          },
          "metadata": {
            "tags": [],
            "needs_background": "light"
          }
        }
      ]
    },
    {
      "cell_type": "code",
      "metadata": {
        "colab": {
          "base_uri": "https://localhost:8080/",
          "height": 308
        },
        "id": "QTlFsj4LYYXu",
        "outputId": "92bca7b9-5c9a-45d7-c830-f0f98ed6074a"
      },
      "source": [
        "plt.scatter(data_new['living_measure15'],data_new['price'])\r\n",
        "plt.xlabel('Living_measure15')\r\n",
        "plt.ylabel('Price')\r\n",
        "## Price increases as living_measure increases\r\n",
        "corr2=data_new['living_measure15'].corr(data_new['price'])\r\n",
        "corr2\r\n",
        "## Price increases as living_measure increases"
      ],
      "execution_count": 67,
      "outputs": [
        {
          "output_type": "execute_result",
          "data": {
            "text/plain": [
              "0.584247209924371"
            ]
          },
          "metadata": {
            "tags": []
          },
          "execution_count": 67
        },
        {
          "output_type": "display_data",
          "data": {
            "image/png": "[encoded data removed]",
            "text/plain": [
              "<Figure size 432x288 with 1 Axes>"
            ]
          },
          "metadata": {
            "tags": [],
            "needs_background": "light"
          }
        }
      ]
    },
    {
      "cell_type": "code",
      "metadata": {
        "colab": {
          "base_uri": "https://localhost:8080/",
          "height": 293
        },
        "id": "fdad1yjhZKEK",
        "outputId": "8b4a1047-7c12-415c-f1fb-015813773e05"
      },
      "source": [
        "plt.scatter(data_new['lot_measure15'],data_new['price'])\r\n",
        "## Price is independent on lot_measure15\r\n",
        "####Can we drop lot_measure15\r\n",
        "corr2=data_new['lot_measure15'].corr(data_new['price'])\r\n",
        "corr2"
      ],
      "execution_count": 68,
      "outputs": [
        {
          "output_type": "execute_result",
          "data": {
            "text/plain": [
              "0.08181101198562439"
            ]
          },
          "metadata": {
            "tags": []
          },
          "execution_count": 68
        },
        {
          "output_type": "display_data",
          "data": {
            "image/png": "[encoded data removed]",
            "text/plain": [
              "<Figure size 432x288 with 1 Axes>"
            ]
          },
          "metadata": {
            "tags": [],
            "needs_background": "light"
          }
        }
      ]
    },
    {
      "cell_type": "code",
      "metadata": {
        "id": "bJfROrL-QZPd"
      },
      "source": [
        "data_new=data_new.drop(\"lot_measure15\",axis=1);##Dropping off the lot_measure15 column as Absolutely no correlation"
      ],
      "execution_count": 69,
      "outputs": []
    },
    {
      "cell_type": "code",
      "metadata": {
        "colab": {
          "base_uri": "https://localhost:8080/",
          "height": 117
        },
        "id": "J4GJetlkWgk3",
        "outputId": "484e675c-7b64-420d-ca71-a053c15e9fe2"
      },
      "source": [
        "data_new.head(1)"
      ],
      "execution_count": 70,
      "outputs": [
        {
          "output_type": "execute_result",
          "data": {
            "text/html": [
              "<div>\n",
              "<style scoped>\n",
              "    .dataframe tbody tr th:only-of-type {\n",
              "        vertical-align: middle;\n",
              "    }\n",
              "\n",
              "    .dataframe tbody tr th {\n",
              "        vertical-align: top;\n",
              "    }\n",
              "\n",
              "    .dataframe thead th {\n",
              "        text-align: right;\n",
              "    }\n",
              "</style>\n",
              "<table border=\"1\" class=\"dataframe\">\n",
              "  <thead>\n",
              "    <tr style=\"text-align: right;\">\n",
              "      <th></th>\n",
              "      <th>cid</th>\n",
              "      <th>dayhours</th>\n",
              "      <th>price</th>\n",
              "      <th>room_bed</th>\n",
              "      <th>room_bath</th>\n",
              "      <th>living_measure</th>\n",
              "      <th>ceil</th>\n",
              "      <th>coast</th>\n",
              "      <th>sight</th>\n",
              "      <th>condition</th>\n",
              "      <th>quality</th>\n",
              "      <th>ceil_measure</th>\n",
              "      <th>basement</th>\n",
              "      <th>yr_renovated</th>\n",
              "      <th>zipcode</th>\n",
              "      <th>lat</th>\n",
              "      <th>long</th>\n",
              "      <th>living_measure15</th>\n",
              "      <th>furnished</th>\n",
              "      <th>total_area</th>\n",
              "      <th>month_year</th>\n",
              "    </tr>\n",
              "  </thead>\n",
              "  <tbody>\n",
              "    <tr>\n",
              "      <th>0</th>\n",
              "      <td>3034200666</td>\n",
              "      <td>2014-11-07</td>\n",
              "      <td>808100</td>\n",
              "      <td>4</td>\n",
              "      <td>3.25</td>\n",
              "      <td>3020</td>\n",
              "      <td>1.0</td>\n",
              "      <td>0</td>\n",
              "      <td>0</td>\n",
              "      <td>5</td>\n",
              "      <td>9</td>\n",
              "      <td>3020</td>\n",
              "      <td>0</td>\n",
              "      <td>0</td>\n",
              "      <td>98133</td>\n",
              "      <td>47.7174</td>\n",
              "      <td>-122.336</td>\n",
              "      <td>2120</td>\n",
              "      <td>1</td>\n",
              "      <td>16477</td>\n",
              "      <td>November-2014</td>\n",
              "    </tr>\n",
              "  </tbody>\n",
              "</table>\n",
              "</div>"
            ],
            "text/plain": [
              "          cid   dayhours   price  ...  furnished  total_area     month_year\n",
              "0  3034200666 2014-11-07  808100  ...          1       16477  November-2014\n",
              "\n",
              "[1 rows x 21 columns]"
            ]
          },
          "metadata": {
            "tags": []
          },
          "execution_count": 70
        }
      ]
    },
    {
      "cell_type": "code",
      "metadata": {
        "colab": {
          "base_uri": "https://localhost:8080/",
          "height": 293
        },
        "id": "dMO0cbkIdZmO",
        "outputId": "938c2059-899b-4be9-9e29-a3ce872084b9"
      },
      "source": [
        "plt.scatter(data_new['living_measure'],data_new['price'])\r\n",
        "## Price increases as living_measure increases\r\n",
        "corr2=data_new['living_measure'].corr(data_new['price'])\r\n",
        "corr2\r\n",
        "## Price increases as living_measure increases"
      ],
      "execution_count": 71,
      "outputs": [
        {
          "output_type": "execute_result",
          "data": {
            "text/plain": [
              "0.7016507541567069"
            ]
          },
          "metadata": {
            "tags": []
          },
          "execution_count": 71
        },
        {
          "output_type": "display_data",
          "data": {
            "image/png": "[encoded data removed]",
            "text/plain": [
              "<Figure size 432x288 with 1 Axes>"
            ]
          },
          "metadata": {
            "tags": [],
            "needs_background": "light"
          }
        }
      ]
    },
    {
      "cell_type": "code",
      "metadata": {
        "colab": {
          "base_uri": "https://localhost:8080/",
          "height": 306
        },
        "id": "AQq12ZHedqia",
        "outputId": "0c837a3d-c5ac-4f94-c40a-d9a5e446cc24"
      },
      "source": [
        "plt.scatter(data_new['total_area'],data_new['price'])\r\n",
        "## Price increases as living_measure increases\r\n",
        "corr2=data_new['total_area'].corr(data_new['price'])\r\n",
        "corr2\r\n",
        "## Price increases as living_measure increases"
      ],
      "execution_count": 72,
      "outputs": [
        {
          "output_type": "execute_result",
          "data": {
            "text/plain": [
              "0.10378080093107722"
            ]
          },
          "metadata": {
            "tags": []
          },
          "execution_count": 72
        },
        {
          "output_type": "display_data",
          "data": {
            "image/png": "[encoded data removed]",
            "text/plain": [
              "<Figure size 432x288 with 1 Axes>"
            ]
          },
          "metadata": {
            "tags": [],
            "needs_background": "light"
          }
        }
      ]
    },
    {
      "cell_type": "code",
      "metadata": {
        "id": "hKvILLEAIFTP"
      },
      "source": [
        "## Drop the cid coloum in furthur analysis as its just a significant for identifications\n",
        "data_new= data_new.drop(\"lat\",axis=1)\n",
        "data_new= data_new.drop(\"long\",axis=1)"
      ],
      "execution_count": 73,
      "outputs": []
    },
    {
      "cell_type": "code",
      "metadata": {
        "id": "f9TsAxZhmX55"
      },
      "source": [
        "data_new= data_new.drop(\"cid\",axis=1) # As this column is just for indications"
      ],
      "execution_count": 74,
      "outputs": []
    },
    {
      "cell_type": "code",
      "metadata": {
        "id": "ctEp-4l2hcHp"
      },
      "source": [
        "data_new= data_new.drop(\"dayhours\",axis=1) # As this column has very poor correlation"
      ],
      "execution_count": 75,
      "outputs": []
    },
    {
      "cell_type": "code",
      "metadata": {
        "colab": {
          "base_uri": "https://localhost:8080/"
        },
        "id": "lF1dMi3WRHxN",
        "outputId": "cb89ebe5-e39d-44de-8097-ff038ec307b6"
      },
      "source": [
        "data_new.columns"
      ],
      "execution_count": 76,
      "outputs": [
        {
          "output_type": "execute_result",
          "data": {
            "text/plain": [
              "Index(['price', 'room_bed', 'room_bath', 'living_measure', 'ceil', 'coast',\n",
              "       'sight', 'condition', 'quality', 'ceil_measure', 'basement',\n",
              "       'yr_renovated', 'zipcode', 'living_measure15', 'furnished',\n",
              "       'total_area', 'month_year'],\n",
              "      dtype='object')"
            ]
          },
          "metadata": {
            "tags": []
          },
          "execution_count": 76
        }
      ]
    },
    {
      "cell_type": "code",
      "metadata": {
        "colab": {
          "base_uri": "https://localhost:8080/"
        },
        "id": "t79f3rcNibDi",
        "outputId": "e4be5e3b-c7d1-4b64-f371-a7fbcfba4c05"
      },
      "source": [
        "data.columns"
      ],
      "execution_count": 77,
      "outputs": [
        {
          "output_type": "execute_result",
          "data": {
            "text/plain": [
              "Index(['cid', 'dayhours', 'price', 'room_bed', 'room_bath', 'living_measure',\n",
              "       'lot_measure', 'ceil', 'coast', 'sight', 'condition', 'quality',\n",
              "       'ceil_measure', 'basement', 'yr_built', 'yr_renovated', 'zipcode',\n",
              "       'lat', 'long', 'living_measure15', 'lot_measure15', 'furnished',\n",
              "       'total_area'],\n",
              "      dtype='object')"
            ]
          },
          "metadata": {
            "tags": []
          },
          "execution_count": 77
        }
      ]
    },
    {
      "cell_type": "code",
      "metadata": {
        "id": "O1d7OnJbXF0v"
      },
      "source": [
        "##We need to convert month_year column to some specific dummy"
      ],
      "execution_count": 78,
      "outputs": []
    }
  ]
}